{
 "cells": [
  {
   "cell_type": "code",
   "execution_count": 1,
   "metadata": {
    "collapsed": true
   },
   "outputs": [],
   "source": [
    "import collections\n",
    "import warnings\n",
    "\n",
    "import torch\n",
    "from matplotlib import pyplot as plt\n",
    "from sklearn.metrics import mean_squared_error\n",
    "from scipy.stats import pearsonr\n",
    "from scipy import stats\n",
    "import torchvision\n",
    "from sklearn.metrics import r2_score\n",
    "import heapq\n",
    "import ast\n",
    "import pandas as pd\n",
    "from catboost import Pool, CatBoostRegressor\n",
    "from sklearn.model_selection import train_test_split\n",
    "import numpy as np\n",
    "from sklearn import linear_model\n",
    "from statistics import mean\n",
    "from sklearn.metrics import r2_score\n",
    "import textacy\n",
    "from textacy.extract.triples import expand_noun, expand_verb\n",
    "from torch import optim\n",
    "from torch.optim import AdamW\n",
    "import spacy\n",
    "pd.set_option('display.width', None)\n",
    "pd.set_option('display.max_colwidth', None)\n",
    "pd.set_option('display.max_columns', None)\n",
    "pd.set_option('display.max_rows', None)\n",
    "pd.options.mode.chained_assignment = None\n",
    "import math\n",
    "import pandas as pd\n",
    "from tqdm import tqdm\n",
    "from statistics import mean\n",
    "\n",
    "from matplotlib import rcParams\n",
    "import seaborn as sns\n",
    "sns.set(style='whitegrid', palette='muted', font_scale=1.2)\n",
    "HAPPY_COLORS_PALETTE = [\"#01BEFE\", \"#FFDD00\", \"#FF7D00\", \"#FF006D\", \"#ADFF02\", \"#8F00FF\"]\n",
    "sns.set_palette(sns.color_palette(HAPPY_COLORS_PALETTE))\n",
    "rcParams['figure.figsize'] = 12, 8\n",
    "sns.set(font_scale=2)"
   ]
  },
  {
   "cell_type": "code",
   "execution_count": 245,
   "metadata": {
    "collapsed": false,
    "pycharm": {
     "name": "#%%\n"
    }
   },
   "outputs": [],
   "source": [
    "# Loading HP data and SentiArt table.\n",
    "\n",
    "data=pd.read_csv('/Users/alexcrystal/PycharmProjects/pythonProject/thesis/data/HP_val_ratings.txt')\n",
    "data = data.drop(columns=['Satz_Pos_Buch_Neu', 'Kapitel'])\n",
    "data['valence_mean_z'] = data['valence_mean_z'].str.replace(',','.').astype(float).values"
   ]
  },
  {
   "cell_type": "code",
   "execution_count": 246,
   "metadata": {},
   "outputs": [],
   "source": [
    "\n",
    "# data['valence_mean_z'] = data['valence_mean_z'].fillna('0')\n",
    "\n",
    "#data['valence_mean_z'] = data['valence_mean_z'].str.replace(',','.').astype(float).values\n",
    "new_data=data[data.Satz.str.contains('(Harry)|(Potter)')].reset_index(drop=True)\n",
    "\n",
    "TC = '/Users/alexcrystal/PycharmProjects/pythonProject/thesis/SentiArt/120kSentiArt_DE.xlsx'\n",
    "sa = pd.read_excel(TC, engine='openpyxl')"
   ]
  },
  {
   "cell_type": "code",
   "execution_count": 247,
   "metadata": {},
   "outputs": [],
   "source": [
    "data_char=data[data.Satz.str.contains('Cedric|Dumbledore|Harry|Hagrid|Hermine|'\n",
    "                                     'Lockhart|Lupin|McGonagall|Ron|Snape|'\n",
    "                                  'Voldemort|Salazar|Malfoy|Lucius|Grindelwald'\n",
    "                                  '|Filch|Bellatrix|Bartemius|Crabbe|'\n",
    "                                  'Augustus')]\n",
    "data_char = data_char.loc[data_char['Satz'].str.len() <= 60] # selecting only short sentences"
   ]
  },
  {
   "cell_type": "code",
   "execution_count": 248,
   "metadata": {},
   "outputs": [
    {
     "data": {
      "text/plain": [
       "(1336, 2)"
      ]
     },
     "execution_count": 248,
     "metadata": {},
     "output_type": "execute_result"
    }
   ],
   "source": [
    "data_char.shape"
   ]
  },
  {
   "cell_type": "code",
   "execution_count": 249,
   "metadata": {},
   "outputs": [],
   "source": [
    "ind = [8506, 1269, 890, 10418, 10414, 10341] # indecies of the test sentences with the high or low valence values."
   ]
  },
  {
   "cell_type": "code",
   "execution_count": 250,
   "metadata": {},
   "outputs": [],
   "source": [
    "# Search a word in the SentiArt table\n",
    "\n",
    "def lookup(word, sa):\n",
    "    k = str(word)\n",
    "    res = sa.query('word in @k').AAPz.values\n",
    "    if res.size>0:\n",
    "        return res[0]\n",
    "    # else: return 0"
   ]
  },
  {
   "cell_type": "code",
   "execution_count": 162,
   "metadata": {},
   "outputs": [],
   "source": [
    "nlp = spacy.load(\"de_core_news_lg\")"
   ]
  },
  {
   "cell_type": "code",
   "execution_count": 189,
   "metadata": {},
   "outputs": [
    {
     "name": "stderr",
     "output_type": "stream",
     "text": [
      "100%|██████████| 11154/11154 [00:57<00:00, 195.47it/s]\n"
     ]
    }
   ],
   "source": [
    "tqdm.pandas()\n",
    "sentences=[b for b in data['Satz'].progress_apply(nlp)]"
   ]
  },
  {
   "cell_type": "code",
   "execution_count": 190,
   "metadata": {},
   "outputs": [
    {
     "name": "stderr",
     "output_type": "stream",
     "text": [
      "100%|██████████| 1336/1336 [00:05<00:00, 266.04it/s]\n"
     ]
    }
   ],
   "source": [
    "sentences_char=[b for b in data_char['Satz'].progress_apply(nlp)]"
   ]
  },
  {
   "cell_type": "markdown",
   "metadata": {},
   "source": [
    "# Average of SentiArt's embeddings"
   ]
  },
  {
   "cell_type": "code",
   "execution_count": 197,
   "metadata": {},
   "outputs": [
    {
     "name": "stderr",
     "output_type": "stream",
     "text": [
      "100%|██████████| 11154/11154 [19:04<00:00,  9.75it/s]\n"
     ]
    }
   ],
   "source": [
    "# for all the sentences\n",
    "valences = [[lookup(x, sa) for x in sent if lookup(x, sa) is not None] for sent in tqdm(sentences)]"
   ]
  },
  {
   "cell_type": "code",
   "execution_count": 198,
   "metadata": {},
   "outputs": [
    {
     "data": {
      "text/plain": [
       "31"
      ]
     },
     "execution_count": 198,
     "metadata": {},
     "output_type": "execute_result"
    }
   ],
   "source": [
    "k=0\n",
    "for s in valences:\n",
    "    if len(s)==0:\n",
    "        k+=1\n",
    "        #valences.pop(s)\n",
    "        s.append(0)\n",
    "k"
   ]
  },
  {
   "cell_type": "code",
   "execution_count": 199,
   "metadata": {},
   "outputs": [],
   "source": [
    "valences_avg = [np.mean(x) for x in valences]"
   ]
  },
  {
   "cell_type": "code",
   "execution_count": 200,
   "metadata": {},
   "outputs": [
    {
     "data": {
      "text/plain": [
       "-0.075"
      ]
     },
     "execution_count": 200,
     "metadata": {},
     "output_type": "execute_result"
    }
   ],
   "source": [
    "round(r2_score(data.valence_mean_z, valences_avg), 3)"
   ]
  },
  {
   "cell_type": "markdown",
   "metadata": {},
   "source": [
    "### Average for only the sentences with characters"
   ]
  },
  {
   "cell_type": "code",
   "execution_count": 378,
   "metadata": {},
   "outputs": [
    {
     "name": "stderr",
     "output_type": "stream",
     "text": [
      "100%|██████████| 1336/1336 [01:05<00:00, 20.49it/s]\n"
     ]
    }
   ],
   "source": [
    "valences_char = [[lookup(x, sa) for x in sent if lookup(x, sa) is not None] for sent in tqdm(sentences_char)]\n",
    "for s in valences_char:\n",
    "    if len(s)==0:\n",
    "        s.append(0)\n",
    "valences_char_avg = [np.mean(x) for x in valences_char]"
   ]
  },
  {
   "cell_type": "code",
   "execution_count": 63,
   "metadata": {},
   "outputs": [
    {
     "data": {
      "text/plain": [
       "0.009"
      ]
     },
     "execution_count": 63,
     "metadata": {},
     "output_type": "execute_result"
    }
   ],
   "source": [
    "round(r2_score(data_char.valence_mean_z, valences_char_avg), 3)"
   ]
  },
  {
   "cell_type": "markdown",
   "metadata": {},
   "source": [
    "### Adding chars' valence into the table"
   ]
  },
  {
   "cell_type": "code",
   "execution_count": 251,
   "metadata": {},
   "outputs": [],
   "source": [
    "char = ['Cedric','Dumbledore','Harry','Hagrid','Hermine',\n",
    "        'Lockhart','Lupin','McGonagall','Ron','Snape',\n",
    "        'Voldemort','Salazar','Malfoy', 'Lucius', 'Grindelwald',\n",
    "        'Filch','Bellatrix','Bartemius','Crabbe', 'Augustus']\n",
    "\n",
    "# Adding the valence values for characters\n",
    "senti = sa.copy()\n",
    "senti = senti.iloc[:, :3]\n",
    "char = pd.DataFrame.from_dict(data={'word': char, 'AAPz':[1.0, 2.0, 2.5, 2.0, 2.0,\n",
    "                                                                          1.0, 1.0, 2.0, 2.0, 1.7,\n",
    "                                                                          -2.5, -2.0, -1.5, -2.0, -2.0,\n",
    "                                                                          -1.5, -1.7, -1.0, -1.0, -1.0]})\n",
    "senti = senti.append(char, ignore_index=True)"
   ]
  },
  {
   "cell_type": "code",
   "execution_count": 252,
   "metadata": {},
   "outputs": [
    {
     "data": {
      "text/html": [
       "<div>\n",
       "<style scoped>\n",
       "    .dataframe tbody tr th:only-of-type {\n",
       "        vertical-align: middle;\n",
       "    }\n",
       "\n",
       "    .dataframe tbody tr th {\n",
       "        vertical-align: top;\n",
       "    }\n",
       "\n",
       "    .dataframe thead th {\n",
       "        text-align: right;\n",
       "    }\n",
       "</style>\n",
       "<table border=\"1\" class=\"dataframe\">\n",
       "  <thead>\n",
       "    <tr style=\"text-align: right;\">\n",
       "      <th></th>\n",
       "      <th>word</th>\n",
       "      <th>wordLC</th>\n",
       "      <th>AAPz</th>\n",
       "    </tr>\n",
       "  </thead>\n",
       "  <tbody>\n",
       "    <tr>\n",
       "      <th>0</th>\n",
       "      <td>Aachen</td>\n",
       "      <td>aachen</td>\n",
       "      <td>0.6557</td>\n",
       "    </tr>\n",
       "    <tr>\n",
       "      <th>1</th>\n",
       "      <td>Aal</td>\n",
       "      <td>aal</td>\n",
       "      <td>0.3076</td>\n",
       "    </tr>\n",
       "    <tr>\n",
       "      <th>2</th>\n",
       "      <td>Aale</td>\n",
       "      <td>aale</td>\n",
       "      <td>0.0619</td>\n",
       "    </tr>\n",
       "    <tr>\n",
       "      <th>3</th>\n",
       "      <td>Aas</td>\n",
       "      <td>aas</td>\n",
       "      <td>-1.0440</td>\n",
       "    </tr>\n",
       "    <tr>\n",
       "      <th>4</th>\n",
       "      <td>Aasfresser</td>\n",
       "      <td>aasfresser</td>\n",
       "      <td>-1.5150</td>\n",
       "    </tr>\n",
       "  </tbody>\n",
       "</table>\n",
       "</div>"
      ],
      "text/plain": [
       "         word      wordLC    AAPz\n",
       "0      Aachen      aachen  0.6557\n",
       "1         Aal         aal  0.3076\n",
       "2        Aale        aale  0.0619\n",
       "3         Aas         aas -1.0440\n",
       "4  Aasfresser  aasfresser -1.5150"
      ]
     },
     "execution_count": 252,
     "metadata": {},
     "output_type": "execute_result"
    }
   ],
   "source": [
    "senti.head()"
   ]
  },
  {
   "cell_type": "code",
   "execution_count": 191,
   "metadata": {},
   "outputs": [
    {
     "name": "stderr",
     "output_type": "stream",
     "text": [
      "100%|██████████| 11154/11154 [18:53<00:00,  9.84it/s]\n"
     ]
    }
   ],
   "source": [
    "valences_ca = [[lookup(x, senti) for x in sent if lookup(x, senti) is not None] for sent in tqdm(sentences)]"
   ]
  },
  {
   "cell_type": "code",
   "execution_count": 382,
   "metadata": {},
   "outputs": [
    {
     "name": "stderr",
     "output_type": "stream",
     "text": [
      "100%|██████████| 1336/1336 [01:13<00:00, 18.10it/s]\n"
     ]
    }
   ],
   "source": [
    "valences_added_selected = [[lookup(x, senti) for x in sent if lookup(x, senti) is not None] for sent in tqdm(sentences_char)]\n",
    "for s in valences_added_selected:\n",
    "    if len(s)==0:\n",
    "        s.append(0)"
   ]
  },
  {
   "cell_type": "code",
   "execution_count": 195,
   "metadata": {},
   "outputs": [],
   "source": [
    "for s in valences_ca:\n",
    "    if len(s)==0:\n",
    "        s.append(0)\n",
    "\n",
    "valences_ca_avg = [np.mean(x) for x in valences_ca]        "
   ]
  },
  {
   "cell_type": "code",
   "execution_count": 196,
   "metadata": {},
   "outputs": [
    {
     "data": {
      "text/plain": [
       "-0.22"
      ]
     },
     "execution_count": 196,
     "metadata": {},
     "output_type": "execute_result"
    }
   ],
   "source": [
    "round(r2_score(data.valence_mean_z, valences_ca_avg), 3)"
   ]
  },
  {
   "cell_type": "markdown",
   "metadata": {},
   "source": [
    "# CatBoost + SentiArt without additional features"
   ]
  },
  {
   "cell_type": "markdown",
   "metadata": {},
   "source": [
    "### The whole data"
   ]
  },
  {
   "cell_type": "code",
   "execution_count": 385,
   "metadata": {},
   "outputs": [],
   "source": [
    "X = pd.DataFrame(data=valences)\n",
    "y = data.valence_mean_z"
   ]
  },
  {
   "cell_type": "code",
   "execution_count": 386,
   "metadata": {},
   "outputs": [],
   "source": [
    "X_train, X_test, y_train, y_test = train_test_split(\n",
    "    X, y, test_size=0.2, random_state=42)"
   ]
  },
  {
   "cell_type": "code",
   "execution_count": 387,
   "metadata": {},
   "outputs": [
    {
     "name": "stdout",
     "output_type": "stream",
     "text": [
      "R^2 score:  0.079\n"
     ]
    }
   ],
   "source": [
    "\n",
    "model = CatBoostRegressor(verbose=False)\n",
    "#train the model\n",
    "model.fit(X_train.astype(float),y_train.astype(float))\n",
    "# make the predictions\n",
    "preds = model.predict(X_test.fillna(0).values)\n",
    "r2 = round(r2_score(y_test, model.predict(X_test)), 3)\n",
    "print('R^2 score: ', r2)\n"
   ]
  },
  {
   "cell_type": "markdown",
   "metadata": {},
   "source": [
    "### Only sentences with the characters"
   ]
  },
  {
   "cell_type": "code",
   "execution_count": 388,
   "metadata": {},
   "outputs": [
    {
     "name": "stdout",
     "output_type": "stream",
     "text": [
      "R^2 score:  -0.127\n"
     ]
    }
   ],
   "source": [
    "X = pd.DataFrame(data=valences_char)\n",
    "y = data_char.valence_mean_z\n",
    "\n",
    "X_train, X_test, y_train, y_test = train_test_split(\n",
    "    X, y, test_size=0.2, random_state=42)\n",
    "\n",
    "\n",
    "model = CatBoostRegressor(verbose=False)\n",
    "#train the model\n",
    "model.fit(X_train.astype(float),y_train.astype(float))\n",
    "# make the predictions\n",
    "preds = model.predict(X_test.fillna(0).values)\n",
    "r2 = round(r2_score(y_test, model.predict(X_test)), 3)\n",
    "print('R^2 score: ', r2)\n"
   ]
  },
  {
   "cell_type": "markdown",
   "metadata": {},
   "source": [
    "## With added characters' valence values"
   ]
  },
  {
   "cell_type": "code",
   "execution_count": 389,
   "metadata": {},
   "outputs": [],
   "source": [
    "X = pd.DataFrame(data=valences_ca)\n",
    "y = data.valence_mean_z\n",
    "\n",
    "X_train, X_test, y_train, y_test = train_test_split(\n",
    "    X, y, test_size=0.2, random_state=42)"
   ]
  },
  {
   "cell_type": "code",
   "execution_count": 390,
   "metadata": {},
   "outputs": [
    {
     "name": "stdout",
     "output_type": "stream",
     "text": [
      "R^2 score:  0.086\n"
     ]
    }
   ],
   "source": [
    "\n",
    "model = CatBoostRegressor(verbose=False)\n",
    "#train the model\n",
    "model.fit(X_train.astype(float),y_train.astype(float))\n",
    "# make the predictions\n",
    "preds = model.predict(X_test.fillna(0).values)\n",
    "r2 = round(r2_score(y_test, model.predict(X_test)), 3)\n",
    "print('R^2 score: ', r2)\n"
   ]
  },
  {
   "cell_type": "markdown",
   "metadata": {},
   "source": [
    "### Only sentences with the characters and added valence for them"
   ]
  },
  {
   "cell_type": "code",
   "execution_count": 391,
   "metadata": {},
   "outputs": [],
   "source": [
    "X = pd.DataFrame(data=valences_added_selected)\n",
    "y = data_char.valence_mean_z\n",
    "\n",
    "X_train, X_test, y_train, y_test = train_test_split(\n",
    "    X, y, test_size=0.2, random_state=42)"
   ]
  },
  {
   "cell_type": "code",
   "execution_count": 392,
   "metadata": {},
   "outputs": [
    {
     "name": "stdout",
     "output_type": "stream",
     "text": [
      "R^2 score:  -0.058\n"
     ]
    }
   ],
   "source": [
    "\n",
    "model = CatBoostRegressor(verbose=False)\n",
    "#train the model\n",
    "model.fit(X_train.astype(float),y_train.astype(float))\n",
    "# make the predictions\n",
    "preds = model.predict(X_test.fillna(0).values)\n",
    "r2 = round(r2_score(y_test, model.predict(X_test)), 3)\n",
    "print('R^2 score: ', r2)\n"
   ]
  },
  {
   "cell_type": "markdown",
   "metadata": {},
   "source": [
    "# Adding the additional features"
   ]
  },
  {
   "cell_type": "code",
   "execution_count": 253,
   "metadata": {
    "collapsed": false,
    "pycharm": {
     "name": "#%%\n"
    }
   },
   "outputs": [],
   "source": [
    "# Loading features computed in Jacobs 2019 paper and preprocessing them.\n",
    "\n",
    "jd = pd.read_csv('data/HP_SA_11155_sents_Alexey.txt')\n",
    "jd = jd.drop(index=25)\n",
    "jd = jd.reset_index(drop=True)\n",
    "jd.index = data.index\n",
    "jd_char = jd[jd.Satz.str.contains('Cedric|Dumbledore|Harry|Hagrid|Hermine|'\n",
    "                                     'Lockhart|Lupin|McGonagall|Ron|Snape|'\n",
    "                                  'Voldemort|Salazar|Malfoy|Lucius|Grindelwald'\n",
    "                                  '|Filch|Bellatrix|Bartemius|Crabbe|'\n",
    "                                  'Augustus')] # selecting only the sentences with the characters\n",
    "jd_char = jd_char.loc[jd['Satz'].str.len() <= 60] # selecting only short sentences\n"
   ]
  },
  {
   "cell_type": "code",
   "execution_count": 254,
   "metadata": {},
   "outputs": [
    {
     "data": {
      "text/plain": [
       "(11154, 78)"
      ]
     },
     "execution_count": 254,
     "metadata": {},
     "output_type": "execute_result"
    }
   ],
   "source": [
    "jd.shape"
   ]
  },
  {
   "cell_type": "code",
   "execution_count": 255,
   "metadata": {},
   "outputs": [
    {
     "name": "stdout",
     "output_type": "stream",
     "text": [
      "Failed on the column:  Column 1\n",
      "Failed on the column:  phrase_dens\n",
      "Failed on the column:  word_rep\n",
      "Failed on the column:  nword\n",
      "Failed on the column:  ncw\n",
      "Failed on the column:  pat-ncw\n",
      "Failed on the column:  nchar\n",
      "Failed on the column:  Satz_Pos_Chapter_NEU\n",
      "Failed on the column:  Satz\n"
     ]
    },
    {
     "data": {
      "text/plain": [
       "(11154, 61)"
      ]
     },
     "execution_count": 255,
     "metadata": {},
     "output_type": "execute_result"
    }
   ],
   "source": [
    "dataj = jd.drop(columns=['sent', 'APall', 'posmx', 'posmn',\n",
    "                         'charnames', 'stoks', 'chunks', 'chunkap',\n",
    "                         'chunkaps', 'spacytags', 'patterntags', 'nullsent',\n",
    "                         'Kapitel', 'N Rows',\n",
    "                         'Std Mean(Valenz_Rating_Satz)', 'Std Mean(Arousal_Rating_Satz)', 'Std Dev(Arousal_Rating_Satz)',\n",
    "                         'Std Dev(Valenz_Rating_Satz)'])\n",
    "for column in dataj.columns:\n",
    "    try:\n",
    "        dataj[column] = dataj[column].str.replace(',','.').astype(float) # translating numeric features to float\n",
    "    except:\n",
    "        print('Failed on the column: ', column) # that's fine\n",
    "        pass\n",
    "dataj['valence'] = data.T[dataj.T.columns].T.valence_mean_z.astype(float) # getting the valence\n",
    "dataj.shape"
   ]
  },
  {
   "cell_type": "code",
   "execution_count": 256,
   "metadata": {
    "collapsed": false,
    "pycharm": {
     "name": "#%%\n"
    }
   },
   "outputs": [
    {
     "name": "stdout",
     "output_type": "stream",
     "text": [
      "Failed on the column:  Column 1\n",
      "Failed on the column:  phrase_dens\n",
      "Failed on the column:  word_rep\n",
      "Failed on the column:  nword\n",
      "Failed on the column:  ncw\n",
      "Failed on the column:  pat-ncw\n",
      "Failed on the column:  nchar\n",
      "Failed on the column:  Satz_Pos_Chapter_NEU\n",
      "Failed on the column:  Satz\n"
     ]
    },
    {
     "data": {
      "text/plain": [
       "(1336, 61)"
      ]
     },
     "execution_count": 256,
     "metadata": {},
     "output_type": "execute_result"
    }
   ],
   "source": [
    "dataj_char = jd_char.drop(columns=['sent', 'APall', 'posmx', 'posmn',\n",
    "                         'charnames', 'stoks', 'chunks', 'chunkap',\n",
    "                         'chunkaps', 'spacytags', 'patterntags', 'nullsent',\n",
    "                         'Kapitel', 'N Rows',\n",
    "                         'Std Mean(Valenz_Rating_Satz)', 'Std Mean(Arousal_Rating_Satz)', 'Std Dev(Arousal_Rating_Satz)',\n",
    "                         'Std Dev(Valenz_Rating_Satz)'])\n",
    "for column in dataj_char.columns:\n",
    "    try:\n",
    "        dataj_char[column] = dataj_char[column].str.replace(',','.').astype(float) # translating numeric features to float\n",
    "    except:\n",
    "        print('Failed on the column: ', column) # that's fine\n",
    "        pass\n",
    "dataj_char['valence'] = data_char.T[dataj_char.T.columns].T.valence_mean_z.astype(float) # getting the valence\n",
    "dataj_char.shape"
   ]
  },
  {
   "cell_type": "markdown",
   "metadata": {},
   "source": [
    "## WITHOUT SENTIART and with index"
   ]
  },
  {
   "cell_type": "code",
   "execution_count": 66,
   "metadata": {},
   "outputs": [
    {
     "name": "stdout",
     "output_type": "stream",
     "text": [
      "R^2 score:  1.0\n"
     ]
    },
    {
     "data": {
      "text/html": [
       "<div>\n",
       "<style scoped>\n",
       "    .dataframe tbody tr th:only-of-type {\n",
       "        vertical-align: middle;\n",
       "    }\n",
       "\n",
       "    .dataframe tbody tr th {\n",
       "        vertical-align: top;\n",
       "    }\n",
       "\n",
       "    .dataframe thead th {\n",
       "        text-align: right;\n",
       "    }\n",
       "</style>\n",
       "<table border=\"1\" class=\"dataframe\">\n",
       "  <thead>\n",
       "    <tr style=\"text-align: right;\">\n",
       "      <th></th>\n",
       "      <th>Feature Id</th>\n",
       "      <th>Importances</th>\n",
       "    </tr>\n",
       "  </thead>\n",
       "  <tbody>\n",
       "    <tr>\n",
       "      <th>0</th>\n",
       "      <td>Std Mean(Valenz_Rating_Satz)</td>\n",
       "      <td>99.354878</td>\n",
       "    </tr>\n",
       "    <tr>\n",
       "      <th>1</th>\n",
       "      <td>Std Mean(Arousal_Rating_Satz)</td>\n",
       "      <td>0.156466</td>\n",
       "    </tr>\n",
       "    <tr>\n",
       "      <th>2</th>\n",
       "      <td>cwovlp</td>\n",
       "      <td>0.074440</td>\n",
       "    </tr>\n",
       "    <tr>\n",
       "      <th>3</th>\n",
       "      <td>ON</td>\n",
       "      <td>0.047512</td>\n",
       "    </tr>\n",
       "    <tr>\n",
       "      <th>4</th>\n",
       "      <td>aapsh</td>\n",
       "      <td>0.036990</td>\n",
       "    </tr>\n",
       "  </tbody>\n",
       "</table>\n",
       "</div>"
      ],
      "text/plain": [
       "                      Feature Id  Importances\n",
       "0   Std Mean(Valenz_Rating_Satz)    99.354878\n",
       "1  Std Mean(Arousal_Rating_Satz)     0.156466\n",
       "2                         cwovlp     0.074440\n",
       "3                             ON     0.047512\n",
       "4                          aapsh     0.036990"
      ]
     },
     "execution_count": 66,
     "metadata": {},
     "output_type": "execute_result"
    }
   ],
   "source": [
    "X = pd.DataFrame(data=dataj.drop(columns=['Satz', 'valence']))\n",
    "y = dataj.valence\n",
    "\n",
    "X_train, X_test, y_train, y_test = train_test_split(\n",
    "    X, y, test_size=0.2, random_state=42)\n",
    "\n",
    "model = CatBoostRegressor(verbose=False)\n",
    "#train the model\n",
    "model.fit(X_train.astype(float),y_train.astype(float))\n",
    "# make the predictions\n",
    "preds = model.predict(X_test.fillna(0).values)\n",
    "r2 = round(r2_score(y_test, model.predict(X_test)), 3)\n",
    "print('R^2 score: ', r2)\n",
    "\n",
    "from catboost import Pool\n",
    "model.get_feature_importance(data=Pool(X_test, y_test),\n",
    "                       prettified=True,\n",
    "                       thread_count=-1,\n",
    "                       verbose=False).head()"
   ]
  },
  {
   "cell_type": "code",
   "execution_count": 396,
   "metadata": {},
   "outputs": [
    {
     "name": "stdout",
     "output_type": "stream",
     "text": [
      "R^2 score:  0.405\n"
     ]
    },
    {
     "data": {
      "text/html": [
       "<div>\n",
       "<style scoped>\n",
       "    .dataframe tbody tr th:only-of-type {\n",
       "        vertical-align: middle;\n",
       "    }\n",
       "\n",
       "    .dataframe tbody tr th {\n",
       "        vertical-align: top;\n",
       "    }\n",
       "\n",
       "    .dataframe thead th {\n",
       "        text-align: right;\n",
       "    }\n",
       "</style>\n",
       "<table border=\"1\" class=\"dataframe\">\n",
       "  <thead>\n",
       "    <tr style=\"text-align: right;\">\n",
       "      <th></th>\n",
       "      <th>Feature Id</th>\n",
       "      <th>Importances</th>\n",
       "    </tr>\n",
       "  </thead>\n",
       "  <tbody>\n",
       "    <tr>\n",
       "      <th>0</th>\n",
       "      <td>Column 1</td>\n",
       "      <td>25.250683</td>\n",
       "    </tr>\n",
       "    <tr>\n",
       "      <th>1</th>\n",
       "      <td>Satz_Pos_Chapter_NEU</td>\n",
       "      <td>9.573694</td>\n",
       "    </tr>\n",
       "    <tr>\n",
       "      <th>2</th>\n",
       "      <td>chunksu</td>\n",
       "      <td>4.744822</td>\n",
       "    </tr>\n",
       "    <tr>\n",
       "      <th>3</th>\n",
       "      <td>aapsh</td>\n",
       "      <td>3.226605</td>\n",
       "    </tr>\n",
       "    <tr>\n",
       "      <th>4</th>\n",
       "      <td>arosh</td>\n",
       "      <td>2.586981</td>\n",
       "    </tr>\n",
       "  </tbody>\n",
       "</table>\n",
       "</div>"
      ],
      "text/plain": [
       "             Feature Id  Importances\n",
       "0              Column 1    25.250683\n",
       "1  Satz_Pos_Chapter_NEU     9.573694\n",
       "2               chunksu     4.744822\n",
       "3                 aapsh     3.226605\n",
       "4                 arosh     2.586981"
      ]
     },
     "execution_count": 396,
     "metadata": {},
     "output_type": "execute_result"
    }
   ],
   "source": [
    "X = pd.DataFrame(data=dataj.drop(columns=['Satz', 'valence']))\n",
    "y = dataj.valence\n",
    "\n",
    "X_train, X_test, y_train, y_test = train_test_split(\n",
    "    X, y, test_size=0.2, random_state=42)\n",
    "\n",
    "model = CatBoostRegressor(verbose=False)\n",
    "#train the model\n",
    "model.fit(X_train.astype(float),y_train.astype(float))\n",
    "# make the predictions\n",
    "preds = model.predict(X_test.fillna(0).values)\n",
    "r2 = round(r2_score(y_test, model.predict(X_test)), 3)\n",
    "print('R^2 score: ', r2)\n",
    "\n",
    "from catboost import Pool\n",
    "model.get_feature_importance(data=Pool(X_test, y_test),\n",
    "                       prettified=True,\n",
    "                       thread_count=-1,\n",
    "                       verbose=False).head()"
   ]
  },
  {
   "cell_type": "code",
   "execution_count": 175,
   "metadata": {},
   "outputs": [
    {
     "name": "stdout",
     "output_type": "stream",
     "text": [
      "R^2 score:  0.274\n"
     ]
    },
    {
     "data": {
      "text/html": [
       "<div>\n",
       "<style scoped>\n",
       "    .dataframe tbody tr th:only-of-type {\n",
       "        vertical-align: middle;\n",
       "    }\n",
       "\n",
       "    .dataframe tbody tr th {\n",
       "        vertical-align: top;\n",
       "    }\n",
       "\n",
       "    .dataframe thead th {\n",
       "        text-align: right;\n",
       "    }\n",
       "</style>\n",
       "<table border=\"1\" class=\"dataframe\">\n",
       "  <thead>\n",
       "    <tr style=\"text-align: right;\">\n",
       "      <th></th>\n",
       "      <th>Feature Id</th>\n",
       "      <th>Importances</th>\n",
       "    </tr>\n",
       "  </thead>\n",
       "  <tbody>\n",
       "    <tr>\n",
       "      <th>0</th>\n",
       "      <td>Column 1</td>\n",
       "      <td>17.330773</td>\n",
       "    </tr>\n",
       "    <tr>\n",
       "      <th>1</th>\n",
       "      <td>chunksu</td>\n",
       "      <td>4.463677</td>\n",
       "    </tr>\n",
       "    <tr>\n",
       "      <th>2</th>\n",
       "      <td>ansum</td>\n",
       "      <td>4.377684</td>\n",
       "    </tr>\n",
       "    <tr>\n",
       "      <th>3</th>\n",
       "      <td>Satz_Pos_Chapter_NEU</td>\n",
       "      <td>3.983405</td>\n",
       "    </tr>\n",
       "    <tr>\n",
       "      <th>4</th>\n",
       "      <td>chunkm</td>\n",
       "      <td>2.995993</td>\n",
       "    </tr>\n",
       "  </tbody>\n",
       "</table>\n",
       "</div>"
      ],
      "text/plain": [
       "             Feature Id  Importances\n",
       "0              Column 1    17.330773\n",
       "1               chunksu     4.463677\n",
       "2                 ansum     4.377684\n",
       "3  Satz_Pos_Chapter_NEU     3.983405\n",
       "4                chunkm     2.995993"
      ]
     },
     "execution_count": 175,
     "metadata": {},
     "output_type": "execute_result"
    }
   ],
   "source": [
    "# Selected sentences with chars\n",
    "\n",
    "X = pd.DataFrame(data=dataj_char.drop(columns=['Satz', 'valence']))\n",
    "y = dataj_char.valence\n",
    "\n",
    "X_train, X_test, y_train, y_test = train_test_split(\n",
    "    X, y, test_size=0.2, random_state=42)\n",
    "\n",
    "model = CatBoostRegressor(verbose=False)\n",
    "#train the model\n",
    "model.fit(X_train.astype(float),y_train.astype(float))\n",
    "# make the predictions\n",
    "preds = model.predict(X_test.fillna(0).values)\n",
    "r2 = round(r2_score(y_test, model.predict(X_test)), 3)\n",
    "print('R^2 score: ', r2)\n",
    "\n",
    "from catboost import Pool\n",
    "model.get_feature_importance(data=Pool(X_test, y_test),\n",
    "                       prettified=True,\n",
    "                       thread_count=-1,\n",
    "                       verbose=False).head()"
   ]
  },
  {
   "cell_type": "markdown",
   "metadata": {},
   "source": [
    "## Without added valence, WITH SENTIART AND WITH INDEX"
   ]
  },
  {
   "cell_type": "code",
   "execution_count": 159,
   "metadata": {},
   "outputs": [
    {
     "name": "stdout",
     "output_type": "stream",
     "text": [
      "R^2 score:  0.38\n"
     ]
    },
    {
     "data": {
      "text/html": [
       "<div>\n",
       "<style scoped>\n",
       "    .dataframe tbody tr th:only-of-type {\n",
       "        vertical-align: middle;\n",
       "    }\n",
       "\n",
       "    .dataframe tbody tr th {\n",
       "        vertical-align: top;\n",
       "    }\n",
       "\n",
       "    .dataframe thead th {\n",
       "        text-align: right;\n",
       "    }\n",
       "</style>\n",
       "<table border=\"1\" class=\"dataframe\">\n",
       "  <thead>\n",
       "    <tr style=\"text-align: right;\">\n",
       "      <th></th>\n",
       "      <th>Feature Id</th>\n",
       "      <th>Importances</th>\n",
       "    </tr>\n",
       "  </thead>\n",
       "  <tbody>\n",
       "    <tr>\n",
       "      <th>0</th>\n",
       "      <td>Column 1</td>\n",
       "      <td>24.669377</td>\n",
       "    </tr>\n",
       "    <tr>\n",
       "      <th>1</th>\n",
       "      <td>Satz_Pos_Chapter_NEU</td>\n",
       "      <td>8.641531</td>\n",
       "    </tr>\n",
       "    <tr>\n",
       "      <th>2</th>\n",
       "      <td>chunksu</td>\n",
       "      <td>4.253163</td>\n",
       "    </tr>\n",
       "    <tr>\n",
       "      <th>3</th>\n",
       "      <td>aapsh</td>\n",
       "      <td>2.734783</td>\n",
       "    </tr>\n",
       "    <tr>\n",
       "      <th>4</th>\n",
       "      <td>arosh</td>\n",
       "      <td>2.573383</td>\n",
       "    </tr>\n",
       "  </tbody>\n",
       "</table>\n",
       "</div>"
      ],
      "text/plain": [
       "             Feature Id  Importances\n",
       "0              Column 1    24.669377\n",
       "1  Satz_Pos_Chapter_NEU     8.641531\n",
       "2               chunksu     4.253163\n",
       "3                 aapsh     2.734783\n",
       "4                 arosh     2.573383"
      ]
     },
     "execution_count": 159,
     "metadata": {},
     "output_type": "execute_result"
    }
   ],
   "source": [
    "df_senti = pd.DataFrame(data=valences)\n",
    "d = dataj.drop(columns=['Satz', 'valence']).copy()\n",
    "d = d.merge(df_senti, left_index=True, right_index=True, how='left')\n",
    "\n",
    "X = d.copy()\n",
    "y = dataj.valence\n",
    "X_train, X_test, y_train, y_test = train_test_split(\n",
    "    X, y, test_size=0.2, random_state=42)\n",
    "\n",
    "model = CatBoostRegressor(verbose=False)\n",
    "#train the model\n",
    "model.fit(X_train.astype(float),y_train.astype(float))\n",
    "# make the predictions\n",
    "preds = model.predict(X_test.fillna(0).values)\n",
    "r2 = round(r2_score(y_test, model.predict(X_test)), 3)\n",
    "print('R^2 score: ', r2)\n",
    "\n",
    "from catboost import Pool\n",
    "model.get_feature_importance(data=Pool(X_test, y_test),\n",
    "                       prettified=True,\n",
    "                       thread_count=-1,\n",
    "                       verbose=False).head()"
   ]
  },
  {
   "cell_type": "code",
   "execution_count": 179,
   "metadata": {},
   "outputs": [
    {
     "name": "stdout",
     "output_type": "stream",
     "text": [
      "R^2 score:  0.258\n"
     ]
    },
    {
     "data": {
      "text/html": [
       "<div>\n",
       "<style scoped>\n",
       "    .dataframe tbody tr th:only-of-type {\n",
       "        vertical-align: middle;\n",
       "    }\n",
       "\n",
       "    .dataframe tbody tr th {\n",
       "        vertical-align: top;\n",
       "    }\n",
       "\n",
       "    .dataframe thead th {\n",
       "        text-align: right;\n",
       "    }\n",
       "</style>\n",
       "<table border=\"1\" class=\"dataframe\">\n",
       "  <thead>\n",
       "    <tr style=\"text-align: right;\">\n",
       "      <th></th>\n",
       "      <th>Feature Id</th>\n",
       "      <th>Importances</th>\n",
       "    </tr>\n",
       "  </thead>\n",
       "  <tbody>\n",
       "    <tr>\n",
       "      <th>0</th>\n",
       "      <td>Column 1</td>\n",
       "      <td>16.793729</td>\n",
       "    </tr>\n",
       "    <tr>\n",
       "      <th>1</th>\n",
       "      <td>chunksu</td>\n",
       "      <td>3.748566</td>\n",
       "    </tr>\n",
       "    <tr>\n",
       "      <th>2</th>\n",
       "      <td>Satz_Pos_Chapter_NEU</td>\n",
       "      <td>3.573996</td>\n",
       "    </tr>\n",
       "    <tr>\n",
       "      <th>3</th>\n",
       "      <td>chunkm</td>\n",
       "      <td>2.781489</td>\n",
       "    </tr>\n",
       "    <tr>\n",
       "      <th>4</th>\n",
       "      <td>posmnv</td>\n",
       "      <td>2.719879</td>\n",
       "    </tr>\n",
       "  </tbody>\n",
       "</table>\n",
       "</div>"
      ],
      "text/plain": [
       "             Feature Id  Importances\n",
       "0              Column 1    16.793729\n",
       "1               chunksu     3.748566\n",
       "2  Satz_Pos_Chapter_NEU     3.573996\n",
       "3                chunkm     2.781489\n",
       "4                posmnv     2.719879"
      ]
     },
     "execution_count": 179,
     "metadata": {},
     "output_type": "execute_result"
    }
   ],
   "source": [
    "# For the selected sentences\n",
    "\n",
    "df_senti = pd.DataFrame(data=valences)\n",
    "d = dataj_char.drop(columns=['Satz', 'valence']).copy()\n",
    "d = d.merge(df_senti, left_index=True, right_index=True, how='left')\n",
    "\n",
    "X = d.copy()\n",
    "y = dataj_char.valence\n",
    "X_train, X_test, y_train, y_test = train_test_split(\n",
    "    X, y, test_size=0.2, random_state=42)\n",
    "\n",
    "model = CatBoostRegressor(verbose=False)\n",
    "#train the model\n",
    "model.fit(X_train.astype(float),y_train.astype(float))\n",
    "# make the predictions\n",
    "preds = model.predict(X_test.fillna(0).values)\n",
    "r2 = round(r2_score(y_test, model.predict(X_test)), 3)\n",
    "print('R^2 score: ', r2)\n",
    "\n",
    "from catboost import Pool\n",
    "model.get_feature_importance(data=Pool(X_test, y_test),\n",
    "                       prettified=True,\n",
    "                       thread_count=-1,\n",
    "                       verbose=False).head()"
   ]
  },
  {
   "cell_type": "markdown",
   "metadata": {},
   "source": [
    "## WITH ADDED VALENCE, WITH SENTIART, WITH INDEX"
   ]
  },
  {
   "cell_type": "code",
   "execution_count": 158,
   "metadata": {},
   "outputs": [
    {
     "name": "stdout",
     "output_type": "stream",
     "text": [
      "R^2 score:  0.385\n"
     ]
    },
    {
     "data": {
      "text/html": [
       "<div>\n",
       "<style scoped>\n",
       "    .dataframe tbody tr th:only-of-type {\n",
       "        vertical-align: middle;\n",
       "    }\n",
       "\n",
       "    .dataframe tbody tr th {\n",
       "        vertical-align: top;\n",
       "    }\n",
       "\n",
       "    .dataframe thead th {\n",
       "        text-align: right;\n",
       "    }\n",
       "</style>\n",
       "<table border=\"1\" class=\"dataframe\">\n",
       "  <thead>\n",
       "    <tr style=\"text-align: right;\">\n",
       "      <th></th>\n",
       "      <th>Feature Id</th>\n",
       "      <th>Importances</th>\n",
       "    </tr>\n",
       "  </thead>\n",
       "  <tbody>\n",
       "    <tr>\n",
       "      <th>0</th>\n",
       "      <td>Column 1</td>\n",
       "      <td>24.842176</td>\n",
       "    </tr>\n",
       "    <tr>\n",
       "      <th>1</th>\n",
       "      <td>Satz_Pos_Chapter_NEU</td>\n",
       "      <td>8.765935</td>\n",
       "    </tr>\n",
       "    <tr>\n",
       "      <th>2</th>\n",
       "      <td>chunksu</td>\n",
       "      <td>3.961281</td>\n",
       "    </tr>\n",
       "    <tr>\n",
       "      <th>3</th>\n",
       "      <td>aapsh</td>\n",
       "      <td>2.754700</td>\n",
       "    </tr>\n",
       "    <tr>\n",
       "      <th>4</th>\n",
       "      <td>arosh</td>\n",
       "      <td>2.587020</td>\n",
       "    </tr>\n",
       "  </tbody>\n",
       "</table>\n",
       "</div>"
      ],
      "text/plain": [
       "             Feature Id  Importances\n",
       "0              Column 1    24.842176\n",
       "1  Satz_Pos_Chapter_NEU     8.765935\n",
       "2               chunksu     3.961281\n",
       "3                 aapsh     2.754700\n",
       "4                 arosh     2.587020"
      ]
     },
     "execution_count": 158,
     "metadata": {},
     "output_type": "execute_result"
    }
   ],
   "source": [
    "df_senti = pd.DataFrame(data=valences_ca)\n",
    "d = dataj.drop(columns=['Satz', 'valence']).copy()\n",
    "d = d.merge(df_senti, left_index=True, right_index=True, how='left')\n",
    "\n",
    "X = d.copy()\n",
    "y = dataj.valence\n",
    "X_train, X_test, y_train, y_test = train_test_split(\n",
    "    X, y, test_size=0.2, random_state=42)\n",
    "\n",
    "model = CatBoostRegressor(verbose=False)\n",
    "#train the model\n",
    "model.fit(X_train.astype(float),y_train.astype(float))\n",
    "# make the predictions\n",
    "preds = model.predict(X_test.fillna(0).values)\n",
    "r2 = round(r2_score(y_test, model.predict(X_test)), 3)\n",
    "print('R^2 score: ', r2)\n",
    "\n",
    "from catboost import Pool\n",
    "model.get_feature_importance(data=Pool(X_test, y_test),\n",
    "                       prettified=True,\n",
    "                       thread_count=-1,\n",
    "                       verbose=False).head()"
   ]
  },
  {
   "cell_type": "code",
   "execution_count": 182,
   "metadata": {},
   "outputs": [
    {
     "name": "stdout",
     "output_type": "stream",
     "text": [
      "R^2 score:  0.297\n"
     ]
    },
    {
     "data": {
      "text/html": [
       "<div>\n",
       "<style scoped>\n",
       "    .dataframe tbody tr th:only-of-type {\n",
       "        vertical-align: middle;\n",
       "    }\n",
       "\n",
       "    .dataframe tbody tr th {\n",
       "        vertical-align: top;\n",
       "    }\n",
       "\n",
       "    .dataframe thead th {\n",
       "        text-align: right;\n",
       "    }\n",
       "</style>\n",
       "<table border=\"1\" class=\"dataframe\">\n",
       "  <thead>\n",
       "    <tr style=\"text-align: right;\">\n",
       "      <th></th>\n",
       "      <th>Feature Id</th>\n",
       "      <th>Importances</th>\n",
       "    </tr>\n",
       "  </thead>\n",
       "  <tbody>\n",
       "    <tr>\n",
       "      <th>0</th>\n",
       "      <td>Column 1</td>\n",
       "      <td>16.314993</td>\n",
       "    </tr>\n",
       "    <tr>\n",
       "      <th>1</th>\n",
       "      <td>chunksu</td>\n",
       "      <td>3.958422</td>\n",
       "    </tr>\n",
       "    <tr>\n",
       "      <th>2</th>\n",
       "      <td>Satz_Pos_Chapter_NEU</td>\n",
       "      <td>3.574742</td>\n",
       "    </tr>\n",
       "    <tr>\n",
       "      <th>3</th>\n",
       "      <td>ansum</td>\n",
       "      <td>3.201933</td>\n",
       "    </tr>\n",
       "    <tr>\n",
       "      <th>4</th>\n",
       "      <td>chunkm</td>\n",
       "      <td>2.908541</td>\n",
       "    </tr>\n",
       "  </tbody>\n",
       "</table>\n",
       "</div>"
      ],
      "text/plain": [
       "             Feature Id  Importances\n",
       "0              Column 1    16.314993\n",
       "1               chunksu     3.958422\n",
       "2  Satz_Pos_Chapter_NEU     3.574742\n",
       "3                 ansum     3.201933\n",
       "4                chunkm     2.908541"
      ]
     },
     "execution_count": 182,
     "metadata": {},
     "output_type": "execute_result"
    }
   ],
   "source": [
    "# For the selected sentences\n",
    "\n",
    "df_senti = pd.DataFrame(data=valences_ca)\n",
    "d = dataj_char.drop(columns=['Satz', 'valence']).copy()\n",
    "d = d.merge(df_senti, left_index=True, right_index=True, how='left')\n",
    "\n",
    "X = d.copy()\n",
    "y = dataj_char.valence\n",
    "X_train, X_test, y_train, y_test = train_test_split(\n",
    "    X, y, test_size=0.2, random_state=42)\n",
    "\n",
    "model = CatBoostRegressor(verbose=False)\n",
    "#train the model\n",
    "model.fit(X_train.astype(float),y_train.astype(float))\n",
    "# make the predictions\n",
    "preds = model.predict(X_test.fillna(0).values)\n",
    "r2 = round(r2_score(y_test, model.predict(X_test)), 3)\n",
    "print('R^2 score: ', r2)\n",
    "\n",
    "from catboost import Pool\n",
    "model.get_feature_importance(data=Pool(X_test, y_test),\n",
    "                       prettified=True,\n",
    "                       thread_count=-1,\n",
    "                       verbose=False).head()"
   ]
  },
  {
   "cell_type": "markdown",
   "metadata": {},
   "source": [
    "## WITHOUT SENTIART and WITHOUT INDEX"
   ]
  },
  {
   "cell_type": "code",
   "execution_count": 157,
   "metadata": {},
   "outputs": [
    {
     "name": "stdout",
     "output_type": "stream",
     "text": [
      "R^2 score:  0.353\n"
     ]
    },
    {
     "data": {
      "text/html": [
       "<div>\n",
       "<style scoped>\n",
       "    .dataframe tbody tr th:only-of-type {\n",
       "        vertical-align: middle;\n",
       "    }\n",
       "\n",
       "    .dataframe tbody tr th {\n",
       "        vertical-align: top;\n",
       "    }\n",
       "\n",
       "    .dataframe thead th {\n",
       "        text-align: right;\n",
       "    }\n",
       "</style>\n",
       "<table border=\"1\" class=\"dataframe\">\n",
       "  <thead>\n",
       "    <tr style=\"text-align: right;\">\n",
       "      <th></th>\n",
       "      <th>Feature Id</th>\n",
       "      <th>Importances</th>\n",
       "    </tr>\n",
       "  </thead>\n",
       "  <tbody>\n",
       "    <tr>\n",
       "      <th>0</th>\n",
       "      <td>aapsh</td>\n",
       "      <td>10.147724</td>\n",
       "    </tr>\n",
       "    <tr>\n",
       "      <th>1</th>\n",
       "      <td>arosh</td>\n",
       "      <td>8.326192</td>\n",
       "    </tr>\n",
       "    <tr>\n",
       "      <th>2</th>\n",
       "      <td>Satz_Pos_Chapter_NEU</td>\n",
       "      <td>7.879809</td>\n",
       "    </tr>\n",
       "    <tr>\n",
       "      <th>3</th>\n",
       "      <td>surpsh</td>\n",
       "      <td>6.023894</td>\n",
       "    </tr>\n",
       "    <tr>\n",
       "      <th>4</th>\n",
       "      <td>chunksu</td>\n",
       "      <td>5.725547</td>\n",
       "    </tr>\n",
       "  </tbody>\n",
       "</table>\n",
       "</div>"
      ],
      "text/plain": [
       "             Feature Id  Importances\n",
       "0                 aapsh    10.147724\n",
       "1                 arosh     8.326192\n",
       "2  Satz_Pos_Chapter_NEU     7.879809\n",
       "3                surpsh     6.023894\n",
       "4               chunksu     5.725547"
      ]
     },
     "execution_count": 157,
     "metadata": {},
     "output_type": "execute_result"
    }
   ],
   "source": [
    "X = pd.DataFrame(data=dataj.drop(columns=['Satz', 'valence', 'Column 1']))\n",
    "y = dataj.valence\n",
    "\n",
    "X_train, X_test, y_train, y_test = train_test_split(\n",
    "    X, y, test_size=0.2, random_state=42)\n",
    "\n",
    "model = CatBoostRegressor(verbose=False)\n",
    "#train the model\n",
    "model.fit(X_train.astype(float),y_train.astype(float))\n",
    "# make the predictions\n",
    "preds = model.predict(X_test.fillna(0).values)\n",
    "r2 = round(r2_score(y_test, model.predict(X_test)), 3)\n",
    "print('R^2 score: ', r2)\n",
    "\n",
    "from catboost import Pool\n",
    "model.get_feature_importance(data=Pool(X_test, y_test),\n",
    "                       prettified=True,\n",
    "                       thread_count=-1,\n",
    "                       verbose=False).head()"
   ]
  },
  {
   "cell_type": "code",
   "execution_count": 174,
   "metadata": {},
   "outputs": [
    {
     "name": "stdout",
     "output_type": "stream",
     "text": [
      "R^2 score:  0.213\n"
     ]
    },
    {
     "data": {
      "text/html": [
       "<div>\n",
       "<style scoped>\n",
       "    .dataframe tbody tr th:only-of-type {\n",
       "        vertical-align: middle;\n",
       "    }\n",
       "\n",
       "    .dataframe tbody tr th {\n",
       "        vertical-align: top;\n",
       "    }\n",
       "\n",
       "    .dataframe thead th {\n",
       "        text-align: right;\n",
       "    }\n",
       "</style>\n",
       "<table border=\"1\" class=\"dataframe\">\n",
       "  <thead>\n",
       "    <tr style=\"text-align: right;\">\n",
       "      <th></th>\n",
       "      <th>Feature Id</th>\n",
       "      <th>Importances</th>\n",
       "    </tr>\n",
       "  </thead>\n",
       "  <tbody>\n",
       "    <tr>\n",
       "      <th>0</th>\n",
       "      <td>arosh</td>\n",
       "      <td>9.840409</td>\n",
       "    </tr>\n",
       "    <tr>\n",
       "      <th>1</th>\n",
       "      <td>chunksu</td>\n",
       "      <td>3.943920</td>\n",
       "    </tr>\n",
       "    <tr>\n",
       "      <th>2</th>\n",
       "      <td>aapsh</td>\n",
       "      <td>3.878448</td>\n",
       "    </tr>\n",
       "    <tr>\n",
       "      <th>3</th>\n",
       "      <td>Satz_Pos_Chapter_NEU</td>\n",
       "      <td>3.840508</td>\n",
       "    </tr>\n",
       "    <tr>\n",
       "      <th>4</th>\n",
       "      <td>surpsh</td>\n",
       "      <td>3.614623</td>\n",
       "    </tr>\n",
       "  </tbody>\n",
       "</table>\n",
       "</div>"
      ],
      "text/plain": [
       "             Feature Id  Importances\n",
       "0                 arosh     9.840409\n",
       "1               chunksu     3.943920\n",
       "2                 aapsh     3.878448\n",
       "3  Satz_Pos_Chapter_NEU     3.840508\n",
       "4                surpsh     3.614623"
      ]
     },
     "execution_count": 174,
     "metadata": {},
     "output_type": "execute_result"
    }
   ],
   "source": [
    "# Selected sentences with chars\n",
    "\n",
    "X = pd.DataFrame(data=dataj_char.drop(columns=['Satz', 'valence', 'Column 1']))\n",
    "y = dataj_char.valence\n",
    "\n",
    "X_train, X_test, y_train, y_test = train_test_split(\n",
    "    X, y, test_size=0.2, random_state=42)\n",
    "\n",
    "model = CatBoostRegressor(verbose=False)\n",
    "#train the model\n",
    "model.fit(X_train.astype(float),y_train.astype(float))\n",
    "# make the predictions\n",
    "preds = model.predict(X_test.fillna(0).values)\n",
    "r2 = round(r2_score(y_test, model.predict(X_test)), 3)\n",
    "print('R^2 score: ', r2)\n",
    "\n",
    "from catboost import Pool\n",
    "model.get_feature_importance(data=Pool(X_test, y_test),\n",
    "                       prettified=True,\n",
    "                       thread_count=-1,\n",
    "                       verbose=False).head()"
   ]
  },
  {
   "cell_type": "markdown",
   "metadata": {},
   "source": [
    "## WITH SENTIART WITHOUT ADDED VALENCE AND WITHOUT INDEX"
   ]
  },
  {
   "cell_type": "code",
   "execution_count": 156,
   "metadata": {},
   "outputs": [
    {
     "name": "stdout",
     "output_type": "stream",
     "text": [
      "R^2 score:  0.342\n"
     ]
    },
    {
     "data": {
      "text/html": [
       "<div>\n",
       "<style scoped>\n",
       "    .dataframe tbody tr th:only-of-type {\n",
       "        vertical-align: middle;\n",
       "    }\n",
       "\n",
       "    .dataframe tbody tr th {\n",
       "        vertical-align: top;\n",
       "    }\n",
       "\n",
       "    .dataframe thead th {\n",
       "        text-align: right;\n",
       "    }\n",
       "</style>\n",
       "<table border=\"1\" class=\"dataframe\">\n",
       "  <thead>\n",
       "    <tr style=\"text-align: right;\">\n",
       "      <th></th>\n",
       "      <th>Feature Id</th>\n",
       "      <th>Importances</th>\n",
       "    </tr>\n",
       "  </thead>\n",
       "  <tbody>\n",
       "    <tr>\n",
       "      <th>0</th>\n",
       "      <td>arosh</td>\n",
       "      <td>9.367230</td>\n",
       "    </tr>\n",
       "    <tr>\n",
       "      <th>1</th>\n",
       "      <td>aapsh</td>\n",
       "      <td>8.888612</td>\n",
       "    </tr>\n",
       "    <tr>\n",
       "      <th>2</th>\n",
       "      <td>Satz_Pos_Chapter_NEU</td>\n",
       "      <td>7.643486</td>\n",
       "    </tr>\n",
       "    <tr>\n",
       "      <th>3</th>\n",
       "      <td>surpsh</td>\n",
       "      <td>5.362814</td>\n",
       "    </tr>\n",
       "    <tr>\n",
       "      <th>4</th>\n",
       "      <td>chunksu</td>\n",
       "      <td>5.259073</td>\n",
       "    </tr>\n",
       "  </tbody>\n",
       "</table>\n",
       "</div>"
      ],
      "text/plain": [
       "             Feature Id  Importances\n",
       "0                 arosh     9.367230\n",
       "1                 aapsh     8.888612\n",
       "2  Satz_Pos_Chapter_NEU     7.643486\n",
       "3                surpsh     5.362814\n",
       "4               chunksu     5.259073"
      ]
     },
     "execution_count": 156,
     "metadata": {},
     "output_type": "execute_result"
    }
   ],
   "source": [
    "df_senti = pd.DataFrame(data=valences)\n",
    "d = dataj.drop(columns=['Satz', 'valence', 'Column 1']).copy()\n",
    "d = d.merge(df_senti, left_index=True, right_index=True, how='left')\n",
    "\n",
    "X = d.copy()\n",
    "y = dataj.valence\n",
    "X_train, X_test, y_train, y_test = train_test_split(\n",
    "    X, y, test_size=0.2, random_state=42)\n",
    "\n",
    "model = CatBoostRegressor(verbose=False)\n",
    "#train the model\n",
    "model.fit(X_train.astype(float),y_train.astype(float))\n",
    "# make the predictions\n",
    "preds = model.predict(X_test.fillna(0).values)\n",
    "r2 = round(r2_score(y_test, model.predict(X_test)), 3)\n",
    "print('R^2 score: ', r2)\n",
    "\n",
    "from catboost import Pool\n",
    "model.get_feature_importance(data=Pool(X_test, y_test),\n",
    "                       prettified=True,\n",
    "                       thread_count=-1,\n",
    "                       verbose=False).head()"
   ]
  },
  {
   "cell_type": "code",
   "execution_count": 178,
   "metadata": {},
   "outputs": [
    {
     "name": "stdout",
     "output_type": "stream",
     "text": [
      "R^2 score:  0.216\n"
     ]
    },
    {
     "data": {
      "text/html": [
       "<div>\n",
       "<style scoped>\n",
       "    .dataframe tbody tr th:only-of-type {\n",
       "        vertical-align: middle;\n",
       "    }\n",
       "\n",
       "    .dataframe tbody tr th {\n",
       "        vertical-align: top;\n",
       "    }\n",
       "\n",
       "    .dataframe thead th {\n",
       "        text-align: right;\n",
       "    }\n",
       "</style>\n",
       "<table border=\"1\" class=\"dataframe\">\n",
       "  <thead>\n",
       "    <tr style=\"text-align: right;\">\n",
       "      <th></th>\n",
       "      <th>Feature Id</th>\n",
       "      <th>Importances</th>\n",
       "    </tr>\n",
       "  </thead>\n",
       "  <tbody>\n",
       "    <tr>\n",
       "      <th>0</th>\n",
       "      <td>arosh</td>\n",
       "      <td>9.715628</td>\n",
       "    </tr>\n",
       "    <tr>\n",
       "      <th>1</th>\n",
       "      <td>ansum</td>\n",
       "      <td>4.545946</td>\n",
       "    </tr>\n",
       "    <tr>\n",
       "      <th>2</th>\n",
       "      <td>aapsh</td>\n",
       "      <td>3.942291</td>\n",
       "    </tr>\n",
       "    <tr>\n",
       "      <th>3</th>\n",
       "      <td>surpsh</td>\n",
       "      <td>3.784363</td>\n",
       "    </tr>\n",
       "    <tr>\n",
       "      <th>4</th>\n",
       "      <td>chunksu</td>\n",
       "      <td>3.721054</td>\n",
       "    </tr>\n",
       "  </tbody>\n",
       "</table>\n",
       "</div>"
      ],
      "text/plain": [
       "  Feature Id  Importances\n",
       "0      arosh     9.715628\n",
       "1      ansum     4.545946\n",
       "2      aapsh     3.942291\n",
       "3     surpsh     3.784363\n",
       "4    chunksu     3.721054"
      ]
     },
     "execution_count": 178,
     "metadata": {},
     "output_type": "execute_result"
    }
   ],
   "source": [
    "# Selected sentences with chars\n",
    "\n",
    "df_senti = pd.DataFrame(data=valences)\n",
    "d = dataj_char.drop(columns=['Satz', 'valence', 'Column 1']).copy()\n",
    "d = d.merge(df_senti, left_index=True, right_index=True, how='left')\n",
    "X = d.copy()\n",
    "y = dataj_char.valence\n",
    "X_train, X_test, y_train, y_test = train_test_split(\n",
    "    X, y, test_size=0.2, random_state=42)\n",
    "\n",
    "model = CatBoostRegressor(verbose=False)\n",
    "#train the model\n",
    "model.fit(X_train.astype(float),y_train.astype(float))\n",
    "# make the predictions\n",
    "preds = model.predict(X_test.fillna(0).values)\n",
    "r2 = round(r2_score(y_test, model.predict(X_test)), 3)\n",
    "print('R^2 score: ', r2)\n",
    "\n",
    "from catboost import Pool\n",
    "model.get_feature_importance(data=Pool(X_test, y_test),\n",
    "                       prettified=True,\n",
    "                       thread_count=-1,\n",
    "                       verbose=False).head()"
   ]
  },
  {
   "cell_type": "markdown",
   "metadata": {},
   "source": [
    "## WITH SENTIART WITH ADDED VALENCE AND WITHOUT INDEX"
   ]
  },
  {
   "cell_type": "code",
   "execution_count": 257,
   "metadata": {},
   "outputs": [
    {
     "name": "stdout",
     "output_type": "stream",
     "text": [
      "R^2 score:  0.336\n"
     ]
    }
   ],
   "source": [
    "df_senti = pd.DataFrame(data=valences_ca) # valences_ca\n",
    "d = dataj.drop(columns=['Satz', 'valence', 'Column 1']).copy()\n",
    "d = d.merge(df_senti, left_index=True, right_index=True, how='left')\n",
    "\n",
    "X = d.copy()\n",
    "y = dataj.valence\n",
    "X_train, X_test, y_train, y_test = train_test_split(\n",
    "    X, y, test_size=0.2, random_state=42)\n",
    "\n",
    "model = CatBoostRegressor(verbose=False)\n",
    "#train the model\n",
    "model.fit(X_train.astype(float),y_train.astype(float))\n",
    "# make the predictions\n",
    "preds = model.predict(X_test.fillna(0).values)\n",
    "r2 = round(r2_score(y_test, model.predict(X_test)), 3)\n",
    "print('R^2 score: ', r2)\n",
    "\n",
    "from catboost import Pool\n",
    "fi = pd.DataFrame(model.get_feature_importance(data=Pool(X_test, y_test),\n",
    "                       prettified=True,\n",
    "                       thread_count=-1,\n",
    "                       verbose=False))"
   ]
  },
  {
   "cell_type": "code",
   "execution_count": 224,
   "metadata": {},
   "outputs": [
    {
     "data": {
      "text/html": [
       "<div>\n",
       "<style scoped>\n",
       "    .dataframe tbody tr th:only-of-type {\n",
       "        vertical-align: middle;\n",
       "    }\n",
       "\n",
       "    .dataframe tbody tr th {\n",
       "        vertical-align: top;\n",
       "    }\n",
       "\n",
       "    .dataframe thead th {\n",
       "        text-align: right;\n",
       "    }\n",
       "</style>\n",
       "<table border=\"1\" class=\"dataframe\">\n",
       "  <thead>\n",
       "    <tr style=\"text-align: right;\">\n",
       "      <th></th>\n",
       "      <th>Feature Id</th>\n",
       "      <th>Importances</th>\n",
       "    </tr>\n",
       "  </thead>\n",
       "  <tbody>\n",
       "    <tr>\n",
       "      <th>0</th>\n",
       "      <td>arosh</td>\n",
       "      <td>8.932</td>\n",
       "    </tr>\n",
       "    <tr>\n",
       "      <th>1</th>\n",
       "      <td>aapsh</td>\n",
       "      <td>8.626</td>\n",
       "    </tr>\n",
       "    <tr>\n",
       "      <th>2</th>\n",
       "      <td>Satz_Pos_Chapter_NEU</td>\n",
       "      <td>7.167</td>\n",
       "    </tr>\n",
       "    <tr>\n",
       "      <th>3</th>\n",
       "      <td>surpsh</td>\n",
       "      <td>5.882</td>\n",
       "    </tr>\n",
       "    <tr>\n",
       "      <th>4</th>\n",
       "      <td>chunksu</td>\n",
       "      <td>5.521</td>\n",
       "    </tr>\n",
       "  </tbody>\n",
       "</table>\n",
       "</div>"
      ],
      "text/plain": [
       "             Feature Id  Importances\n",
       "0                 arosh        8.932\n",
       "1                 aapsh        8.626\n",
       "2  Satz_Pos_Chapter_NEU        7.167\n",
       "3                surpsh        5.882\n",
       "4               chunksu        5.521"
      ]
     },
     "execution_count": 224,
     "metadata": {},
     "output_type": "execute_result"
    }
   ],
   "source": [
    "fi['Importances'] = fi['Importances'].round(3)\n",
    "fi.head()"
   ]
  },
  {
   "cell_type": "code",
   "execution_count": 225,
   "metadata": {},
   "outputs": [],
   "source": [
    "fi.to_csv('feature_importance.csv')"
   ]
  },
  {
   "cell_type": "code",
   "execution_count": 228,
   "metadata": {},
   "outputs": [],
   "source": [
    "nfi = fi.loc[:77, :]"
   ]
  },
  {
   "cell_type": "code",
   "execution_count": 242,
   "metadata": {},
   "outputs": [],
   "source": [
    "s = pd.concat([fi.loc[:67, :], fi.loc[68:, :].reset_index(drop=True)], axis=1, ignore_index=True)\n",
    "s.columns = ['Feature', 'Importance', 'Feature', 'Importance']\n",
    "s.to_csv('feature_importance.csv')"
   ]
  },
  {
   "cell_type": "code",
   "execution_count": 243,
   "metadata": {},
   "outputs": [
    {
     "name": "stdout",
     "output_type": "stream",
     "text": [
      "R^2 score:  0.256\n"
     ]
    }
   ],
   "source": [
    "# For the selected sentences\n",
    "\n",
    "df_senti = pd.DataFrame(data=valences_ca)\n",
    "d = dataj_char.drop(columns=['Satz', 'valence', 'Column 1']).copy()\n",
    "d = d.merge(df_senti, left_index=True, right_index=True, how='left')\n",
    "X = d.copy()\n",
    "y = dataj_char.valence\n",
    "X_train, X_test, y_train, y_test = train_test_split(\n",
    "    X, y, test_size=0.2, random_state=42)\n",
    "\n",
    "model = CatBoostRegressor(verbose=False)\n",
    "#train the model\n",
    "model.fit(X_train.astype(float),y_train.astype(float))\n",
    "# make the predictions\n",
    "preds = model.predict(X_test.fillna(0).values)\n",
    "r2 = round(r2_score(y_test, model.predict(X_test)), 3)\n",
    "print('R^2 score: ', r2)\n",
    "\n",
    "# from catboost import Pool\n",
    "# model.get_feature_importance(data=Pool(X_test, y_test),\n",
    "#                        prettified=True,\n",
    "#                        thread_count=-1,\n",
    "#                        verbose=False)"
   ]
  },
  {
   "cell_type": "markdown",
   "metadata": {},
   "source": [
    "## Step 3"
   ]
  },
  {
   "cell_type": "code",
   "execution_count": 142,
   "metadata": {},
   "outputs": [
    {
     "data": {
      "text/html": [
       "<div>\n",
       "<style scoped>\n",
       "    .dataframe tbody tr th:only-of-type {\n",
       "        vertical-align: middle;\n",
       "    }\n",
       "\n",
       "    .dataframe tbody tr th {\n",
       "        vertical-align: top;\n",
       "    }\n",
       "\n",
       "    .dataframe thead th {\n",
       "        text-align: right;\n",
       "    }\n",
       "</style>\n",
       "<table border=\"1\" class=\"dataframe\">\n",
       "  <thead>\n",
       "    <tr style=\"text-align: right;\">\n",
       "      <th></th>\n",
       "      <th>Satz</th>\n",
       "      <th>valence</th>\n",
       "    </tr>\n",
       "  </thead>\n",
       "  <tbody>\n",
       "    <tr>\n",
       "      <th>8506</th>\n",
       "      <td>\"Harry, das ist eine phantastische Nachricht!</td>\n",
       "      <td>2.25</td>\n",
       "    </tr>\n",
       "    <tr>\n",
       "      <th>1269</th>\n",
       "      <td>\"Wunderbar\", sagte Dumbledore strahlend.</td>\n",
       "      <td>1.90</td>\n",
       "    </tr>\n",
       "    <tr>\n",
       "      <th>890</th>\n",
       "      <td>\"Hagrid wird sich freuen\", sagte Dumbledore lächelnd.</td>\n",
       "      <td>1.85</td>\n",
       "    </tr>\n",
       "  </tbody>\n",
       "</table>\n",
       "</div>"
      ],
      "text/plain": [
       "                                                       Satz  valence\n",
       "8506          \"Harry, das ist eine phantastische Nachricht!     2.25\n",
       "1269               \"Wunderbar\", sagte Dumbledore strahlend.     1.90\n",
       "890   \"Hagrid wird sich freuen\", sagte Dumbledore lächelnd.     1.85"
      ]
     },
     "execution_count": 142,
     "metadata": {},
     "output_type": "execute_result"
    }
   ],
   "source": [
    "dataj_char[['Satz', 'valence']].nlargest(3, 'valence')"
   ]
  },
  {
   "cell_type": "code",
   "execution_count": 143,
   "metadata": {},
   "outputs": [
    {
     "data": {
      "text/html": [
       "<div>\n",
       "<style scoped>\n",
       "    .dataframe tbody tr th:only-of-type {\n",
       "        vertical-align: middle;\n",
       "    }\n",
       "\n",
       "    .dataframe tbody tr th {\n",
       "        vertical-align: top;\n",
       "    }\n",
       "\n",
       "    .dataframe thead th {\n",
       "        text-align: right;\n",
       "    }\n",
       "</style>\n",
       "<table border=\"1\" class=\"dataframe\">\n",
       "  <thead>\n",
       "    <tr style=\"text-align: right;\">\n",
       "      <th></th>\n",
       "      <th>Satz</th>\n",
       "      <th>valence</th>\n",
       "    </tr>\n",
       "  </thead>\n",
       "  <tbody>\n",
       "    <tr>\n",
       "      <th>10418</th>\n",
       "      <td>Snape hat ihn getötet ...\"</td>\n",
       "      <td>-2.60</td>\n",
       "    </tr>\n",
       "    <tr>\n",
       "      <th>10414</th>\n",
       "      <td>\"Snape hat ... Dumbledore umgebracht.\"</td>\n",
       "      <td>-2.55</td>\n",
       "    </tr>\n",
       "    <tr>\n",
       "      <th>10341</th>\n",
       "      <td>Hagrids Hütte stand in Flammen.</td>\n",
       "      <td>-2.30</td>\n",
       "    </tr>\n",
       "  </tbody>\n",
       "</table>\n",
       "</div>"
      ],
      "text/plain": [
       "                                         Satz  valence\n",
       "10418              Snape hat ihn getötet ...\"    -2.60\n",
       "10414  \"Snape hat ... Dumbledore umgebracht.\"    -2.55\n",
       "10341         Hagrids Hütte stand in Flammen.    -2.30"
      ]
     },
     "execution_count": 143,
     "metadata": {},
     "output_type": "execute_result"
    }
   ],
   "source": [
    "dataj_char[['Satz', 'valence']].nsmallest(3, 'valence')"
   ]
  },
  {
   "cell_type": "code",
   "execution_count": 258,
   "metadata": {},
   "outputs": [],
   "source": [
    "dataj_c = dataj_char.drop('Column 1', axis=1)"
   ]
  },
  {
   "cell_type": "code",
   "execution_count": 259,
   "metadata": {},
   "outputs": [],
   "source": [
    "ind = [8506, 1269, 890, 10418, 10414, 10341]"
   ]
  },
  {
   "cell_type": "code",
   "execution_count": 260,
   "metadata": {
    "collapsed": false,
    "pycharm": {
     "name": "#%%\n"
    }
   },
   "outputs": [],
   "source": [
    "df_senti = pd.read_csv('data/sentiart_full_with_char.csv')\n",
    "df_senti = df_senti.drop(columns='Unnamed: 0')\n",
    "df_senti = df_senti.T[data_char.index].T\n",
    "d = dataj_c.drop(columns=['valence', 'Satz']).copy()\n",
    "d = d.merge(df_senti.loc[:, :'10'], left_index=True, right_index=True, how='left')\n",
    "#d = d.merge(df_senti, left_index=True, right_index=True, how='left')\n",
    "X = d.copy()\n",
    "y = dataj_c.valence"
   ]
  },
  {
   "cell_type": "code",
   "execution_count": 261,
   "metadata": {},
   "outputs": [
    {
     "data": {
      "text/plain": [
       "(1336, 69)"
      ]
     },
     "execution_count": 261,
     "metadata": {},
     "output_type": "execute_result"
    }
   ],
   "source": [
    "X.shape"
   ]
  },
  {
   "cell_type": "code",
   "execution_count": 262,
   "metadata": {},
   "outputs": [
    {
     "data": {
      "image/png": "[encoded data removed]",
      "text/plain": [
       "<Figure size 864x576 with 1 Axes>"
      ]
     },
     "metadata": {},
     "output_type": "display_data"
    }
   ],
   "source": [
    "HAPPY_COLORS_PALETTE = [\"#01BEFE\", \"#FFDD00\", \"#FF7D00\", \"#FF006D\", \"#ADFF02\", \"#8F00FF\"]\n",
    "sns.set_palette(sns.color_palette(HAPPY_COLORS_PALETTE))\n",
    "%matplotlib inline\n",
    "sns.set_style('whitegrid')\n",
    "rcParams['figure.figsize'] = 12, 8\n",
    "ax = sns.barplot(x = df_senti.loc[:, '0':'15'].columns, y = df_senti.loc[:, '0':'15'].count(),\n",
    "                 errcolor=\".2\", edgecolor=\".2\", linewidth=2.5)\n",
    "ax.set(xlabel='The number of the SentiArt column', ylabel='Values count')\n",
    "plt.show()"
   ]
  },
  {
   "cell_type": "code",
   "execution_count": 263,
   "metadata": {
    "collapsed": false,
    "pycharm": {
     "name": "#%%\n"
    }
   },
   "outputs": [],
   "source": [
    "# Making train/test sets making sure that we have specific sentences in the test set. \n",
    "\n",
    "def tt_split(X, y, ind):\n",
    "    X_train, X_test, y_train, y_test = train_test_split(\n",
    "    X, y, test_size=0.2, random_state=42)\n",
    "    X_test = pd.concat([X_test, X.T[[x for x in dataj_c.index if x in ind]].T], axis=0)\n",
    "    y_test = pd.concat([y_test, dataj_c['valence'].T[[x for x in dataj_c.index if x in ind]].T], axis=0)\n",
    "    X_train = X_train.drop(ind, axis=0)\n",
    "    y_train = y_train.drop(ind, axis=0)\n",
    "    return X_train, X_test, y_train, y_test\n",
    "    \n",
    "X_train, X_test, y_train, y_test = tt_split(X, y, ind)"
   ]
  },
  {
   "cell_type": "code",
   "execution_count": 264,
   "metadata": {},
   "outputs": [
    {
     "data": {
      "text/plain": [
       "(274, 69)"
      ]
     },
     "execution_count": 264,
     "metadata": {},
     "output_type": "execute_result"
    }
   ],
   "source": [
    "X_test.shape"
   ]
  },
  {
   "cell_type": "code",
   "execution_count": 265,
   "metadata": {},
   "outputs": [
    {
     "name": "stdout",
     "output_type": "stream",
     "text": [
      "X_train:  False\n",
      "X_test:  True\n",
      "X_train:  False\n",
      "X_test:  True\n",
      "X_train:  False\n",
      "X_test:  True\n",
      "X_train:  False\n",
      "X_test:  True\n",
      "X_train:  False\n",
      "X_test:  True\n",
      "X_train:  False\n",
      "X_test:  True\n"
     ]
    }
   ],
   "source": [
    "# Checking if the sentences we added exist only in the train set.\n",
    "\n",
    "for i in ind:\n",
    "    print(\"X_train: \", i in X_train.index)\n",
    "    print(\"X_test: \", i in X_test.index)"
   ]
  },
  {
   "cell_type": "code",
   "execution_count": 266,
   "metadata": {
    "collapsed": false,
    "pycharm": {
     "name": "#%%\n"
    }
   },
   "outputs": [
    {
     "name": "stdout",
     "output_type": "stream",
     "text": [
      "                                               Satz  valence\n",
      "8506  \"Harry, das ist eine phantastische Nachricht!     2.25 | Predicted: 0.095\n",
      "                                          Satz  valence\n",
      "1269  \"Wunderbar\", sagte Dumbledore strahlend.      1.9 | Predicted: 1.001\n",
      "                                                      Satz  valence\n",
      "890  \"Hagrid wird sich freuen\", sagte Dumbledore lächelnd.     1.85 | Predicted: 0.377\n",
      "                             Satz  valence\n",
      "10418  Snape hat ihn getötet ...\"     -2.6 | Predicted: -1.209\n",
      "                                         Satz  valence\n",
      "10414  \"Snape hat ... Dumbledore umgebracht.\"    -2.55 | Predicted: -1.19\n",
      "                                  Satz  valence\n",
      "10341  Hagrids Hütte stand in Flammen.     -2.3 | Predicted: -0.509\n",
      "R^2 score:  0.284\n"
     ]
    }
   ],
   "source": [
    "\n",
    "model = CatBoostRegressor(verbose=False)\n",
    "#train the model\n",
    "model.fit(X_train,y_train)\n",
    "# make the predictions\n",
    "preds = model.predict(X_test.values)\n",
    "p = pd.DataFrame(data=preds, index = X_test.index)\n",
    "r2 = round(r2_score(y_test, p.values), 3)\n",
    "for i in ind:\n",
    "    print(dataj_c.loc[[i], ['Satz', 'valence']], '| Predicted:', round(p.loc[i, :].values[0], 3))\n",
    "print('R^2 score: ', r2)\n"
   ]
  },
  {
   "cell_type": "markdown",
   "metadata": {},
   "source": [
    "## Step 4"
   ]
  },
  {
   "cell_type": "code",
   "execution_count": 267,
   "metadata": {
    "collapsed": false,
    "pycharm": {
     "name": "#%%\n"
    }
   },
   "outputs": [],
   "source": [
    "valence_shifters = ['kaum', 'nicht', 'niemals', 'nie', 'kein', 'nein', 'aber']\n",
    "\n",
    "good = ['Cedric', 'Dumbledore', 'Harry', 'Hagrid', 'Hermine', 'Lockhart', 'Lupin',\n",
    "        'McGonagall', 'Ron', 'Snape']\n",
    "bad = ['Voldemort', 'Salazar', 'Malfoy', 'Lucius', 'Grindelwald', 'Filch',\n",
    "       'Bellatrix', 'Bartemius', 'Crabbe', 'Augustus']"
   ]
  },
  {
   "cell_type": "code",
   "execution_count": 268,
   "metadata": {},
   "outputs": [],
   "source": [
    "def apply_shifters(w1, w2, w3, w4):\n",
    "    X_valence_shifters = X.copy()\n",
    "\n",
    "    X_valence_shifters['g'] = 0\n",
    "    X_valence_shifters['b'] = 0\n",
    "    k=0\n",
    "    for i in X_valence_shifters.index:\n",
    "            for shifter in valence_shifters:\n",
    "                if shifter in data_char.loc[i, 'Satz'].lower():\n",
    "                    for g in good:\n",
    "                        if g in data.loc[i, 'Satz']:\n",
    "                            X_valence_shifters.loc[i, 'g'] = 1\n",
    "                            X_valence_shifters.loc[i, 'AAPz'] *= w1\n",
    "                            X_valence_shifters.loc[i, 'sad_z'] *= w2\n",
    "                \n",
    "                    for b in bad:\n",
    "                        if b in data.loc[i, 'Satz']:\n",
    "                            k+=1\n",
    "                            X_valence_shifters.loc[i, 'b'] = 1\n",
    "                            X_valence_shifters.loc[i, 'AAPz'] *= w3\n",
    "                            X_valence_shifters.loc[i, 'sad_z'] *= w4\n",
    "    X_train, X_test, y_train, y_test = tt_split(X_valence_shifters, y, ind)\n",
    "\n",
    "    model = CatBoostRegressor(verbose=False, thread_count=8)\n",
    "    model.fit(X_train,y_train)\n",
    "\n",
    "    preds = model.predict(X_test.values)\n",
    "\n",
    "    p = pd.DataFrame(data=preds, index = X_test.index)\n",
    "    r2 = round(r2_score(y_test, p.values), 3)\n",
    "    sent = []\n",
    "    r = []\n",
    "    for i in ind:\n",
    "        sent.append(dataj_c.loc[i, 'Satz'])\n",
    "        r.append(round(p.loc[i, :].values[0], 3))\n",
    "    return X_valence_shifters, {'R^2:', r2}, dict(zip(sent, r)), [w1, w2, w3, w4]"
   ]
  },
  {
   "cell_type": "code",
   "execution_count": 184,
   "metadata": {},
   "outputs": [
    {
     "data": {
      "application/vnd.jupyter.widget-view+json": {
       "model_id": "903a1f26254a43cea466163e6c707993",
       "version_major": 2,
       "version_minor": 0
      },
      "text/plain": [
       "  0%|          | 0/8 [00:00<?, ?it/s]"
      ]
     },
     "metadata": {},
     "output_type": "display_data"
    },
    {
     "data": {
      "application/vnd.jupyter.widget-view+json": {
       "model_id": "9f93d0f99dbc4516a84d9ddb4a34b02f",
       "version_major": 2,
       "version_minor": 0
      },
      "text/plain": [
       "  0%|          | 0/8 [00:00<?, ?it/s]"
      ]
     },
     "metadata": {},
     "output_type": "display_data"
    },
    {
     "data": {
      "application/vnd.jupyter.widget-view+json": {
       "model_id": "1a165916db2f4ad18b4f194610fae6f9",
       "version_major": 2,
       "version_minor": 0
      },
      "text/plain": [
       "  0%|          | 0/8 [00:00<?, ?it/s]"
      ]
     },
     "metadata": {},
     "output_type": "display_data"
    },
    {
     "data": {
      "application/vnd.jupyter.widget-view+json": {
       "model_id": "d8347bd1aff841968b8fd9290b8d2611",
       "version_major": 2,
       "version_minor": 0
      },
      "text/plain": [
       "  0%|          | 0/8 [00:00<?, ?it/s]"
      ]
     },
     "metadata": {},
     "output_type": "display_data"
    },
    {
     "data": {
      "application/vnd.jupyter.widget-view+json": {
       "model_id": "b029592d570247f8bf99ce35d6674251",
       "version_major": 2,
       "version_minor": 0
      },
      "text/plain": [
       "  0%|          | 0/8 [00:00<?, ?it/s]"
      ]
     },
     "metadata": {},
     "output_type": "display_data"
    },
    {
     "name": "stderr",
     "output_type": "stream",
     "text": [
      " 50%|█████     | 4/8 [1:19:21<1:19:21, 1190.40s/it]\n",
      "  0%|          | 0/8 [12:43:37<?, ?it/s]\n"
     ]
    },
    {
     "data": {
      "application/vnd.jupyter.widget-view+json": {
       "model_id": "549e2e0cdae647fa8ca8f715f8d18923",
       "version_major": 2,
       "version_minor": 0
      },
      "text/plain": [
       "  0%|          | 0/8 [00:00<?, ?it/s]"
      ]
     },
     "metadata": {},
     "output_type": "display_data"
    },
    {
     "data": {
      "application/vnd.jupyter.widget-view+json": {
       "model_id": "fdc0c633404447d4b7fa0c95bb33fd63",
       "version_major": 2,
       "version_minor": 0
      },
      "text/plain": [
       "  0%|          | 0/8 [00:00<?, ?it/s]"
      ]
     },
     "metadata": {},
     "output_type": "display_data"
    },
    {
     "data": {
      "application/vnd.jupyter.widget-view+json": {
       "model_id": "d8ea3f70aced4007b1fb287f8d678514",
       "version_major": 2,
       "version_minor": 0
      },
      "text/plain": [
       "  0%|          | 0/8 [00:00<?, ?it/s]"
      ]
     },
     "metadata": {},
     "output_type": "display_data"
    },
    {
     "data": {
      "application/vnd.jupyter.widget-view+json": {
       "model_id": "0e0080da2c444c0297e1a03aa2da5ed5",
       "version_major": 2,
       "version_minor": 0
      },
      "text/plain": [
       "  0%|          | 0/8 [00:00<?, ?it/s]"
      ]
     },
     "metadata": {},
     "output_type": "display_data"
    },
    {
     "data": {
      "application/vnd.jupyter.widget-view+json": {
       "model_id": "b93ef10b35484a7aac2c287653c777e5",
       "version_major": 2,
       "version_minor": 0
      },
      "text/plain": [
       "  0%|          | 0/8 [00:00<?, ?it/s]"
      ]
     },
     "metadata": {},
     "output_type": "display_data"
    },
    {
     "data": {
      "application/vnd.jupyter.widget-view+json": {
       "model_id": "2d8e5f24d2c446c785dcde6fdc17ce16",
       "version_major": 2,
       "version_minor": 0
      },
      "text/plain": [
       "  0%|          | 0/8 [00:00<?, ?it/s]"
      ]
     },
     "metadata": {},
     "output_type": "display_data"
    },
    {
     "data": {
      "application/vnd.jupyter.widget-view+json": {
       "model_id": "d22c6160fa544475b88db133dc74808a",
       "version_major": 2,
       "version_minor": 0
      },
      "text/plain": [
       "  0%|          | 0/8 [00:00<?, ?it/s]"
      ]
     },
     "metadata": {},
     "output_type": "display_data"
    },
    {
     "data": {
      "application/vnd.jupyter.widget-view+json": {
       "model_id": "7456ec08914d4ed69a2099713f616c04",
       "version_major": 2,
       "version_minor": 0
      },
      "text/plain": [
       "  0%|          | 0/8 [00:00<?, ?it/s]"
      ]
     },
     "metadata": {},
     "output_type": "display_data"
    },
    {
     "data": {
      "application/vnd.jupyter.widget-view+json": {
       "model_id": "e4e01cecfcf74c46b71c41af7e5b1e05",
       "version_major": 2,
       "version_minor": 0
      },
      "text/plain": [
       "  0%|          | 0/8 [00:00<?, ?it/s]"
      ]
     },
     "metadata": {},
     "output_type": "display_data"
    },
    {
     "data": {
      "application/vnd.jupyter.widget-view+json": {
       "model_id": "1615f1dcc6c942f3b9680aea63246e8f",
       "version_major": 2,
       "version_minor": 0
      },
      "text/plain": [
       "  0%|          | 0/8 [00:00<?, ?it/s]"
      ]
     },
     "metadata": {},
     "output_type": "display_data"
    },
    {
     "data": {
      "application/vnd.jupyter.widget-view+json": {
       "model_id": "c5da44ac16c2491381ec6c4ff416217f",
       "version_major": 2,
       "version_minor": 0
      },
      "text/plain": [
       "  0%|          | 0/8 [00:00<?, ?it/s]"
      ]
     },
     "metadata": {},
     "output_type": "display_data"
    },
    {
     "data": {
      "application/vnd.jupyter.widget-view+json": {
       "model_id": "4cdd557509ab4d448003590430969f3e",
       "version_major": 2,
       "version_minor": 0
      },
      "text/plain": [
       "  0%|          | 0/8 [00:00<?, ?it/s]"
      ]
     },
     "metadata": {},
     "output_type": "display_data"
    },
    {
     "data": {
      "application/vnd.jupyter.widget-view+json": {
       "model_id": "85bc8764c17443e08788b96a9e2cc6ee",
       "version_major": 2,
       "version_minor": 0
      },
      "text/plain": [
       "  0%|          | 0/8 [00:00<?, ?it/s]"
      ]
     },
     "metadata": {},
     "output_type": "display_data"
    },
    {
     "data": {
      "application/vnd.jupyter.widget-view+json": {
       "model_id": "164f73a508eb4f37995399d038a9f209",
       "version_major": 2,
       "version_minor": 0
      },
      "text/plain": [
       "  0%|          | 0/8 [00:00<?, ?it/s]"
      ]
     },
     "metadata": {},
     "output_type": "display_data"
    },
    {
     "data": {
      "application/vnd.jupyter.widget-view+json": {
       "model_id": "ee01c7851beb4e24ac0c5618a159d838",
       "version_major": 2,
       "version_minor": 0
      },
      "text/plain": [
       "  0%|          | 0/8 [00:00<?, ?it/s]"
      ]
     },
     "metadata": {},
     "output_type": "display_data"
    },
    {
     "data": {
      "application/vnd.jupyter.widget-view+json": {
       "model_id": "bdaa0f35eaf34890ba92e98f41229479",
       "version_major": 2,
       "version_minor": 0
      },
      "text/plain": [
       "  0%|          | 0/8 [00:00<?, ?it/s]"
      ]
     },
     "metadata": {},
     "output_type": "display_data"
    },
    {
     "data": {
      "application/vnd.jupyter.widget-view+json": {
       "model_id": "1669651059a2495598c13d7151fb0f46",
       "version_major": 2,
       "version_minor": 0
      },
      "text/plain": [
       "  0%|          | 0/8 [00:00<?, ?it/s]"
      ]
     },
     "metadata": {},
     "output_type": "display_data"
    },
    {
     "data": {
      "application/vnd.jupyter.widget-view+json": {
       "model_id": "7ca5e01cb0044ddeb798cf7fccc1395f",
       "version_major": 2,
       "version_minor": 0
      },
      "text/plain": [
       "  0%|          | 0/8 [00:00<?, ?it/s]"
      ]
     },
     "metadata": {},
     "output_type": "display_data"
    },
    {
     "data": {
      "application/vnd.jupyter.widget-view+json": {
       "model_id": "165646538cd94298a74e90ff0e7355ae",
       "version_major": 2,
       "version_minor": 0
      },
      "text/plain": [
       "  0%|          | 0/8 [00:00<?, ?it/s]"
      ]
     },
     "metadata": {},
     "output_type": "display_data"
    },
    {
     "data": {
      "application/vnd.jupyter.widget-view+json": {
       "model_id": "887e276095854a5b9a4091cbbff6f0bf",
       "version_major": 2,
       "version_minor": 0
      },
      "text/plain": [
       "  0%|          | 0/8 [00:00<?, ?it/s]"
      ]
     },
     "metadata": {},
     "output_type": "display_data"
    },
    {
     "data": {
      "application/vnd.jupyter.widget-view+json": {
       "model_id": "9e49cfe5e9b841f795150906792a31c8",
       "version_major": 2,
       "version_minor": 0
      },
      "text/plain": [
       "  0%|          | 0/8 [00:00<?, ?it/s]"
      ]
     },
     "metadata": {},
     "output_type": "display_data"
    },
    {
     "data": {
      "application/vnd.jupyter.widget-view+json": {
       "model_id": "70bd2c66c3f64ee7974b4a512883d4a0",
       "version_major": 2,
       "version_minor": 0
      },
      "text/plain": [
       "  0%|          | 0/8 [00:00<?, ?it/s]"
      ]
     },
     "metadata": {},
     "output_type": "display_data"
    },
    {
     "data": {
      "application/vnd.jupyter.widget-view+json": {
       "model_id": "43a368970f0944f29dabe9e16bbf0ccf",
       "version_major": 2,
       "version_minor": 0
      },
      "text/plain": [
       "  0%|          | 0/8 [00:00<?, ?it/s]"
      ]
     },
     "metadata": {},
     "output_type": "display_data"
    },
    {
     "data": {
      "application/vnd.jupyter.widget-view+json": {
       "model_id": "560cb06275014c1d93210a5a3ca38e9d",
       "version_major": 2,
       "version_minor": 0
      },
      "text/plain": [
       "  0%|          | 0/8 [00:00<?, ?it/s]"
      ]
     },
     "metadata": {},
     "output_type": "display_data"
    },
    {
     "data": {
      "application/vnd.jupyter.widget-view+json": {
       "model_id": "a00e5d1dbf98477facc24d98a7124f1f",
       "version_major": 2,
       "version_minor": 0
      },
      "text/plain": [
       "  0%|          | 0/8 [00:00<?, ?it/s]"
      ]
     },
     "metadata": {},
     "output_type": "display_data"
    },
    {
     "data": {
      "application/vnd.jupyter.widget-view+json": {
       "model_id": "a795e5b262f945138edfcf4f2fd648ac",
       "version_major": 2,
       "version_minor": 0
      },
      "text/plain": [
       "  0%|          | 0/8 [00:00<?, ?it/s]"
      ]
     },
     "metadata": {},
     "output_type": "display_data"
    },
    {
     "data": {
      "application/vnd.jupyter.widget-view+json": {
       "model_id": "f66ffb57244b469ebf7a36764761a887",
       "version_major": 2,
       "version_minor": 0
      },
      "text/plain": [
       "  0%|          | 0/8 [00:00<?, ?it/s]"
      ]
     },
     "metadata": {},
     "output_type": "display_data"
    },
    {
     "data": {
      "application/vnd.jupyter.widget-view+json": {
       "model_id": "25e50c5ffd7042819c05f8ed6d2ad952",
       "version_major": 2,
       "version_minor": 0
      },
      "text/plain": [
       "  0%|          | 0/8 [00:00<?, ?it/s]"
      ]
     },
     "metadata": {},
     "output_type": "display_data"
    },
    {
     "data": {
      "application/vnd.jupyter.widget-view+json": {
       "model_id": "a1d6d724c4ef4d4f905612cab997a153",
       "version_major": 2,
       "version_minor": 0
      },
      "text/plain": [
       "  0%|          | 0/8 [00:00<?, ?it/s]"
      ]
     },
     "metadata": {},
     "output_type": "display_data"
    },
    {
     "data": {
      "application/vnd.jupyter.widget-view+json": {
       "model_id": "df4f8697f6c94776bba91b726c3b5f28",
       "version_major": 2,
       "version_minor": 0
      },
      "text/plain": [
       "  0%|          | 0/8 [00:00<?, ?it/s]"
      ]
     },
     "metadata": {},
     "output_type": "display_data"
    },
    {
     "data": {
      "application/vnd.jupyter.widget-view+json": {
       "model_id": "a73f64eeb7184e05a8d5ab64f677b507",
       "version_major": 2,
       "version_minor": 0
      },
      "text/plain": [
       "  0%|          | 0/8 [00:00<?, ?it/s]"
      ]
     },
     "metadata": {},
     "output_type": "display_data"
    },
    {
     "data": {
      "application/vnd.jupyter.widget-view+json": {
       "model_id": "c6b356c01bfa4f8fbb117d57bbdc3742",
       "version_major": 2,
       "version_minor": 0
      },
      "text/plain": [
       "  0%|          | 0/8 [00:00<?, ?it/s]"
      ]
     },
     "metadata": {},
     "output_type": "display_data"
    },
    {
     "data": {
      "application/vnd.jupyter.widget-view+json": {
       "model_id": "d2466b0c5b8040dfa4d5d2d8d385b136",
       "version_major": 2,
       "version_minor": 0
      },
      "text/plain": [
       "  0%|          | 0/8 [00:00<?, ?it/s]"
      ]
     },
     "metadata": {},
     "output_type": "display_data"
    },
    {
     "data": {
      "application/vnd.jupyter.widget-view+json": {
       "model_id": "3a2c7d81a96745d6a53b58128a50e10e",
       "version_major": 2,
       "version_minor": 0
      },
      "text/plain": [
       "  0%|          | 0/8 [00:00<?, ?it/s]"
      ]
     },
     "metadata": {},
     "output_type": "display_data"
    },
    {
     "data": {
      "application/vnd.jupyter.widget-view+json": {
       "model_id": "0477432758864279a51344fda6e15e11",
       "version_major": 2,
       "version_minor": 0
      },
      "text/plain": [
       "  0%|          | 0/8 [00:00<?, ?it/s]"
      ]
     },
     "metadata": {},
     "output_type": "display_data"
    },
    {
     "data": {
      "application/vnd.jupyter.widget-view+json": {
       "model_id": "2129daef0be94de696affabb2d0c56a9",
       "version_major": 2,
       "version_minor": 0
      },
      "text/plain": [
       "  0%|          | 0/8 [00:00<?, ?it/s]"
      ]
     },
     "metadata": {},
     "output_type": "display_data"
    },
    {
     "data": {
      "application/vnd.jupyter.widget-view+json": {
       "model_id": "cbd87df4f238445592356c019e5e550b",
       "version_major": 2,
       "version_minor": 0
      },
      "text/plain": [
       "  0%|          | 0/8 [00:00<?, ?it/s]"
      ]
     },
     "metadata": {},
     "output_type": "display_data"
    },
    {
     "data": {
      "application/vnd.jupyter.widget-view+json": {
       "model_id": "ad14ec58e3174b8f9b217f9d2a074b80",
       "version_major": 2,
       "version_minor": 0
      },
      "text/plain": [
       "  0%|          | 0/8 [00:00<?, ?it/s]"
      ]
     },
     "metadata": {},
     "output_type": "display_data"
    },
    {
     "data": {
      "application/vnd.jupyter.widget-view+json": {
       "model_id": "233881f8e4e2449c95f530d3212d8d55",
       "version_major": 2,
       "version_minor": 0
      },
      "text/plain": [
       "  0%|          | 0/8 [00:00<?, ?it/s]"
      ]
     },
     "metadata": {},
     "output_type": "display_data"
    },
    {
     "data": {
      "application/vnd.jupyter.widget-view+json": {
       "model_id": "777455ed5bb24fe1a2fddf00fbc92711",
       "version_major": 2,
       "version_minor": 0
      },
      "text/plain": [
       "  0%|          | 0/8 [00:00<?, ?it/s]"
      ]
     },
     "metadata": {},
     "output_type": "display_data"
    },
    {
     "data": {
      "application/vnd.jupyter.widget-view+json": {
       "model_id": "c19df90d6144479592e5e7ed5436cdf7",
       "version_major": 2,
       "version_minor": 0
      },
      "text/plain": [
       "  0%|          | 0/8 [00:00<?, ?it/s]"
      ]
     },
     "metadata": {},
     "output_type": "display_data"
    },
    {
     "data": {
      "application/vnd.jupyter.widget-view+json": {
       "model_id": "ac5abefd1eaf4ade8a80db4a07bacaf6",
       "version_major": 2,
       "version_minor": 0
      },
      "text/plain": [
       "  0%|          | 0/8 [00:00<?, ?it/s]"
      ]
     },
     "metadata": {},
     "output_type": "display_data"
    },
    {
     "data": {
      "application/vnd.jupyter.widget-view+json": {
       "model_id": "0fcbe71ce27b40b6803b4a4ec408d7a8",
       "version_major": 2,
       "version_minor": 0
      },
      "text/plain": [
       "  0%|          | 0/8 [00:00<?, ?it/s]"
      ]
     },
     "metadata": {},
     "output_type": "display_data"
    },
    {
     "data": {
      "application/vnd.jupyter.widget-view+json": {
       "model_id": "e691b817919b498a9811fbc76b417a5d",
       "version_major": 2,
       "version_minor": 0
      },
      "text/plain": [
       "  0%|          | 0/8 [00:00<?, ?it/s]"
      ]
     },
     "metadata": {},
     "output_type": "display_data"
    },
    {
     "data": {
      "application/vnd.jupyter.widget-view+json": {
       "model_id": "22d1e7e250c84daab22502d426017d9b",
       "version_major": 2,
       "version_minor": 0
      },
      "text/plain": [
       "  0%|          | 0/8 [00:00<?, ?it/s]"
      ]
     },
     "metadata": {},
     "output_type": "display_data"
    },
    {
     "data": {
      "application/vnd.jupyter.widget-view+json": {
       "model_id": "656ecc4856b7454fb7dcfdbabbc25a5c",
       "version_major": 2,
       "version_minor": 0
      },
      "text/plain": [
       "  0%|          | 0/8 [00:00<?, ?it/s]"
      ]
     },
     "metadata": {},
     "output_type": "display_data"
    },
    {
     "data": {
      "application/vnd.jupyter.widget-view+json": {
       "model_id": "70b64db28642448bae8cf9ee5fcbc2cc",
       "version_major": 2,
       "version_minor": 0
      },
      "text/plain": [
       "  0%|          | 0/8 [00:00<?, ?it/s]"
      ]
     },
     "metadata": {},
     "output_type": "display_data"
    },
    {
     "data": {
      "application/vnd.jupyter.widget-view+json": {
       "model_id": "42e0a63eede5404fb3f1753a0596ab83",
       "version_major": 2,
       "version_minor": 0
      },
      "text/plain": [
       "  0%|          | 0/8 [00:00<?, ?it/s]"
      ]
     },
     "metadata": {},
     "output_type": "display_data"
    },
    {
     "data": {
      "application/vnd.jupyter.widget-view+json": {
       "model_id": "0c3488fa1b3e4beb8d98539d9bd0d836",
       "version_major": 2,
       "version_minor": 0
      },
      "text/plain": [
       "  0%|          | 0/8 [00:00<?, ?it/s]"
      ]
     },
     "metadata": {},
     "output_type": "display_data"
    },
    {
     "data": {
      "application/vnd.jupyter.widget-view+json": {
       "model_id": "396a3f2b428149c093297d50e7040874",
       "version_major": 2,
       "version_minor": 0
      },
      "text/plain": [
       "  0%|          | 0/8 [00:00<?, ?it/s]"
      ]
     },
     "metadata": {},
     "output_type": "display_data"
    },
    {
     "data": {
      "application/vnd.jupyter.widget-view+json": {
       "model_id": "51fcc32773804fdd92b2c328ca1ec83e",
       "version_major": 2,
       "version_minor": 0
      },
      "text/plain": [
       "  0%|          | 0/8 [00:00<?, ?it/s]"
      ]
     },
     "metadata": {},
     "output_type": "display_data"
    },
    {
     "data": {
      "application/vnd.jupyter.widget-view+json": {
       "model_id": "b20ca65ed5f640f39482505706bac13b",
       "version_major": 2,
       "version_minor": 0
      },
      "text/plain": [
       "  0%|          | 0/8 [00:00<?, ?it/s]"
      ]
     },
     "metadata": {},
     "output_type": "display_data"
    },
    {
     "data": {
      "application/vnd.jupyter.widget-view+json": {
       "model_id": "2c23af27fc2f43f9a05c2bdadae8be91",
       "version_major": 2,
       "version_minor": 0
      },
      "text/plain": [
       "  0%|          | 0/8 [00:00<?, ?it/s]"
      ]
     },
     "metadata": {},
     "output_type": "display_data"
    },
    {
     "data": {
      "application/vnd.jupyter.widget-view+json": {
       "model_id": "1716f608d12847bbb590f280994dc264",
       "version_major": 2,
       "version_minor": 0
      },
      "text/plain": [
       "  0%|          | 0/8 [00:00<?, ?it/s]"
      ]
     },
     "metadata": {},
     "output_type": "display_data"
    },
    {
     "data": {
      "application/vnd.jupyter.widget-view+json": {
       "model_id": "6b57d4752402496b91d069d548302e45",
       "version_major": 2,
       "version_minor": 0
      },
      "text/plain": [
       "  0%|          | 0/8 [00:00<?, ?it/s]"
      ]
     },
     "metadata": {},
     "output_type": "display_data"
    },
    {
     "data": {
      "application/vnd.jupyter.widget-view+json": {
       "model_id": "bf684dc0d6c3416785b451c016fb80b8",
       "version_major": 2,
       "version_minor": 0
      },
      "text/plain": [
       "  0%|          | 0/8 [00:00<?, ?it/s]"
      ]
     },
     "metadata": {},
     "output_type": "display_data"
    },
    {
     "data": {
      "application/vnd.jupyter.widget-view+json": {
       "model_id": "d3142328eabf4bdfaa69949829329595",
       "version_major": 2,
       "version_minor": 0
      },
      "text/plain": [
       "  0%|          | 0/8 [00:00<?, ?it/s]"
      ]
     },
     "metadata": {},
     "output_type": "display_data"
    },
    {
     "data": {
      "application/vnd.jupyter.widget-view+json": {
       "model_id": "1bfa6d08680246f6a99dfdd179f4c757",
       "version_major": 2,
       "version_minor": 0
      },
      "text/plain": [
       "  0%|          | 0/8 [00:00<?, ?it/s]"
      ]
     },
     "metadata": {},
     "output_type": "display_data"
    },
    {
     "data": {
      "application/vnd.jupyter.widget-view+json": {
       "model_id": "37b02ba3d1f241e6adabe337163047a4",
       "version_major": 2,
       "version_minor": 0
      },
      "text/plain": [
       "  0%|          | 0/8 [00:00<?, ?it/s]"
      ]
     },
     "metadata": {},
     "output_type": "display_data"
    },
    {
     "data": {
      "application/vnd.jupyter.widget-view+json": {
       "model_id": "cef741b67c7348159d9bbb2877ec6e2b",
       "version_major": 2,
       "version_minor": 0
      },
      "text/plain": [
       "  0%|          | 0/8 [00:00<?, ?it/s]"
      ]
     },
     "metadata": {},
     "output_type": "display_data"
    },
    {
     "data": {
      "application/vnd.jupyter.widget-view+json": {
       "model_id": "63ebba1f68c34f79af527296a13fbf34",
       "version_major": 2,
       "version_minor": 0
      },
      "text/plain": [
       "  0%|          | 0/8 [00:00<?, ?it/s]"
      ]
     },
     "metadata": {},
     "output_type": "display_data"
    },
    {
     "data": {
      "application/vnd.jupyter.widget-view+json": {
       "model_id": "56bd81e48ab641e9a9cabce73ecfbb9a",
       "version_major": 2,
       "version_minor": 0
      },
      "text/plain": [
       "  0%|          | 0/8 [00:00<?, ?it/s]"
      ]
     },
     "metadata": {},
     "output_type": "display_data"
    },
    {
     "data": {
      "application/vnd.jupyter.widget-view+json": {
       "model_id": "11ac4f9f87884afa9db5e38ff6da4add",
       "version_major": 2,
       "version_minor": 0
      },
      "text/plain": [
       "  0%|          | 0/8 [00:00<?, ?it/s]"
      ]
     },
     "metadata": {},
     "output_type": "display_data"
    },
    {
     "data": {
      "application/vnd.jupyter.widget-view+json": {
       "model_id": "af30281cddff4d0095718fbe02bfd8b8",
       "version_major": 2,
       "version_minor": 0
      },
      "text/plain": [
       "  0%|          | 0/8 [00:00<?, ?it/s]"
      ]
     },
     "metadata": {},
     "output_type": "display_data"
    },
    {
     "data": {
      "application/vnd.jupyter.widget-view+json": {
       "model_id": "298e484adf50477b84d2a743a235bacc",
       "version_major": 2,
       "version_minor": 0
      },
      "text/plain": [
       "  0%|          | 0/8 [00:00<?, ?it/s]"
      ]
     },
     "metadata": {},
     "output_type": "display_data"
    },
    {
     "data": {
      "application/vnd.jupyter.widget-view+json": {
       "model_id": "807fa1c1f60146b190cf3d82f6e2d385",
       "version_major": 2,
       "version_minor": 0
      },
      "text/plain": [
       "  0%|          | 0/8 [00:00<?, ?it/s]"
      ]
     },
     "metadata": {},
     "output_type": "display_data"
    },
    {
     "data": {
      "application/vnd.jupyter.widget-view+json": {
       "model_id": "a0a88c2bdb5947dabb080d69c6650bd4",
       "version_major": 2,
       "version_minor": 0
      },
      "text/plain": [
       "  0%|          | 0/8 [00:00<?, ?it/s]"
      ]
     },
     "metadata": {},
     "output_type": "display_data"
    },
    {
     "data": {
      "application/vnd.jupyter.widget-view+json": {
       "model_id": "088c1a75766b452d8a352a5162cdf6f8",
       "version_major": 2,
       "version_minor": 0
      },
      "text/plain": [
       "  0%|          | 0/8 [00:00<?, ?it/s]"
      ]
     },
     "metadata": {},
     "output_type": "display_data"
    }
   ],
   "source": [
    "res = [apply_shifters(w1, w2, w3, w4) \\\n",
    "     for w1 in tqdm(np.arange(-2, 2, .5)) for w2 in tqdm(np.arange(-2, 2, .5), leave=False) for w3 in tqdm(np.arange(-2, 2, .5), leave=False) \\\n",
    "     for w4 in np.arange(-2, 2, .5)]"
   ]
  },
  {
   "cell_type": "code",
   "execution_count": 177,
   "metadata": {},
   "outputs": [
    {
     "data": {
      "application/vnd.jupyter.widget-view+json": {
       "model_id": "aea73acace4e46a7afd37ea3d19e35d6",
       "version_major": 2,
       "version_minor": 0
      },
      "text/plain": [
       "  0%|          | 0/8 [00:00<?, ?it/s]"
      ]
     },
     "metadata": {},
     "output_type": "display_data"
    },
    {
     "name": "stderr",
     "output_type": "stream",
     "text": [
      "Custom logger is already specified. Specify more than one logger at same time is not thread safe."
     ]
    }
   ],
   "source": [
    "from tqdm.notebook import tqdm\n",
    "\n",
    "res = [apply_shifters(w2, w3, w5) \\\n",
    "     for w2 in tqdm(np.arange(-2, 2, .5)) for w3 in np.arange(-2, 2, .5) \\\n",
    "     for w5 in np.arange(-2, 2, .5)]"
   ]
  },
  {
   "cell_type": "code",
   "execution_count": 186,
   "metadata": {},
   "outputs": [
    {
     "name": "stdout",
     "output_type": "stream",
     "text": [
      "({0.324, 'R^2:'}, {'\"Harry, das ist eine phantastische Nachricht!': 0.156, '\"Wunderbar\", sagte Dumbledore strahlend.': 1.018, '\"Hagrid wird sich freuen\", sagte Dumbledore lächelnd.': 0.341, 'Snape hat ihn getötet ...\"': -1.397, '\"Snape hat ... Dumbledore umgebracht.\"': -1.432, 'Hagrids Hütte stand in Flammen.': -0.485}, [0.5, -0.5, -1.5, 1.5])\n"
     ]
    }
   ],
   "source": [
    "values = []\n",
    "for i in range(len(res)):\n",
    "    values.append(list(res[i][0]))\n",
    "max(values)\n",
    "\n",
    "for i in sorted(range(len(values)), key=lambda i: values[i])[-1:]:\n",
    "    print(res[i])"
   ]
  },
  {
   "cell_type": "code",
   "execution_count": 269,
   "metadata": {},
   "outputs": [],
   "source": [
    "new_X, _, _, _ = apply_shifters(0.5, -0.5, -1.5, 1.5)"
   ]
  },
  {
   "cell_type": "code",
   "execution_count": 270,
   "metadata": {},
   "outputs": [
    {
     "name": "stdout",
     "output_type": "stream",
     "text": [
      "                                               Satz  valence\n",
      "8506  \"Harry, das ist eine phantastische Nachricht!     2.25 | Predicted: 0.156\n",
      "                                          Satz  valence\n",
      "1269  \"Wunderbar\", sagte Dumbledore strahlend.      1.9 | Predicted: 1.018\n",
      "                                                      Satz  valence\n",
      "890  \"Hagrid wird sich freuen\", sagte Dumbledore lächelnd.     1.85 | Predicted: 0.341\n",
      "                             Satz  valence\n",
      "10418  Snape hat ihn getötet ...\"     -2.6 | Predicted: -1.397\n",
      "                                         Satz  valence\n",
      "10414  \"Snape hat ... Dumbledore umgebracht.\"    -2.55 | Predicted: -1.432\n",
      "                                  Satz  valence\n",
      "10341  Hagrids Hütte stand in Flammen.     -2.3 | Predicted: -0.485\n",
      "R^2 score:  0.324\n"
     ]
    }
   ],
   "source": [
    "X_train, X_test, y_train, y_test = tt_split(new_X, y, ind)\n",
    "\n",
    "model = CatBoostRegressor(verbose=False)\n",
    "model.fit(X_train,y_train)\n",
    "\n",
    "preds = model.predict(X_test.values)\n",
    "\n",
    "p = pd.DataFrame(data=preds, index = X_test.index)\n",
    "r2 = round(r2_score(y_test, p.values), 3)\n",
    "for i in ind:\n",
    "    print(dataj_c.loc[[i], ['Satz', 'valence']], '| Predicted:', round(p.loc[i, :].values[0], 3))\n",
    "print('R^2 score: ', r2)"
   ]
  },
  {
   "cell_type": "code",
   "execution_count": 39,
   "metadata": {},
   "outputs": [
    {
     "data": {
      "text/html": [
       "<div>\n",
       "<style scoped>\n",
       "    .dataframe tbody tr th:only-of-type {\n",
       "        vertical-align: middle;\n",
       "    }\n",
       "\n",
       "    .dataframe tbody tr th {\n",
       "        vertical-align: top;\n",
       "    }\n",
       "\n",
       "    .dataframe thead th {\n",
       "        text-align: right;\n",
       "    }\n",
       "</style>\n",
       "<table border=\"1\" class=\"dataframe\">\n",
       "  <thead>\n",
       "    <tr style=\"text-align: right;\">\n",
       "      <th></th>\n",
       "      <th>AAPz</th>\n",
       "      <th>sad_z</th>\n",
       "      <th>fear_z</th>\n",
       "    </tr>\n",
       "  </thead>\n",
       "  <tbody>\n",
       "    <tr>\n",
       "      <th>0</th>\n",
       "      <td>0.1918</td>\n",
       "      <td>-0.2280</td>\n",
       "      <td>0.3733</td>\n",
       "    </tr>\n",
       "    <tr>\n",
       "      <th>1</th>\n",
       "      <td>0.4305</td>\n",
       "      <td>-0.4600</td>\n",
       "      <td>-0.2560</td>\n",
       "    </tr>\n",
       "    <tr>\n",
       "      <th>2</th>\n",
       "      <td>0.1370</td>\n",
       "      <td>0.4312</td>\n",
       "      <td>0.5268</td>\n",
       "    </tr>\n",
       "    <tr>\n",
       "      <th>3</th>\n",
       "      <td>0.2975</td>\n",
       "      <td>0.0535</td>\n",
       "      <td>0.8153</td>\n",
       "    </tr>\n",
       "    <tr>\n",
       "      <th>4</th>\n",
       "      <td>-0.3270</td>\n",
       "      <td>0.2856</td>\n",
       "      <td>0.6164</td>\n",
       "    </tr>\n",
       "  </tbody>\n",
       "</table>\n",
       "</div>"
      ],
      "text/plain": [
       "     AAPz   sad_z  fear_z\n",
       "0  0.1918 -0.2280  0.3733\n",
       "1  0.4305 -0.4600 -0.2560\n",
       "2  0.1370  0.4312  0.5268\n",
       "3  0.2975  0.0535  0.8153\n",
       "4 -0.3270  0.2856  0.6164"
      ]
     },
     "execution_count": 39,
     "metadata": {},
     "output_type": "execute_result"
    }
   ],
   "source": [
    "X_valence_shifters[['AAPz', 'sad_z', 'fear_z']].head().reset_index(drop=True)"
   ]
  },
  {
   "cell_type": "code",
   "execution_count": 247,
   "metadata": {},
   "outputs": [
    {
     "data": {
      "text/html": [
       "<div>\n",
       "<style scoped>\n",
       "    .dataframe tbody tr th:only-of-type {\n",
       "        vertical-align: middle;\n",
       "    }\n",
       "\n",
       "    .dataframe tbody tr th {\n",
       "        vertical-align: top;\n",
       "    }\n",
       "\n",
       "    .dataframe thead th {\n",
       "        text-align: right;\n",
       "    }\n",
       "</style>\n",
       "<table border=\"1\" class=\"dataframe\">\n",
       "  <thead>\n",
       "    <tr style=\"text-align: right;\">\n",
       "      <th></th>\n",
       "      <th>logttr</th>\n",
       "      <th>avq</th>\n",
       "      <th>acq</th>\n",
       "      <th>daq</th>\n",
       "      <th>soq</th>\n",
       "      <th>phrase_dens</th>\n",
       "      <th>ssi</th>\n",
       "      <th>word_rep</th>\n",
       "      <th>wrep_ratio</th>\n",
       "      <th>nword</th>\n",
       "      <th>ncw</th>\n",
       "      <th>cwratio</th>\n",
       "      <th>cwhr</th>\n",
       "      <th>logf</th>\n",
       "      <th>wl</th>\n",
       "      <th>nsyl</th>\n",
       "      <th>cvq</th>\n",
       "      <th>son_score</th>\n",
       "      <th>ON</th>\n",
       "      <th>HFN</th>\n",
       "      <th>ODC</th>\n",
       "      <th>chunkm</th>\n",
       "      <th>chunksu</th>\n",
       "      <th>apsum</th>\n",
       "      <th>ansum</th>\n",
       "      <th>apsumd</th>\n",
       "      <th>valspan</th>\n",
       "      <th>arospan</th>\n",
       "      <th>APn</th>\n",
       "      <th>APv</th>\n",
       "      <th>APa</th>\n",
       "      <th>APav</th>\n",
       "      <th>pnrs</th>\n",
       "      <th>posmxv</th>\n",
       "      <th>posmnv</th>\n",
       "      <th>AAPz</th>\n",
       "      <th>aroz</th>\n",
       "      <th>valz</th>\n",
       "      <th>fear_z</th>\n",
       "      <th>disg_z</th>\n",
       "      <th>hap_z</th>\n",
       "      <th>sad_z</th>\n",
       "      <th>surp_z</th>\n",
       "      <th>ang_z</th>\n",
       "      <th>ssim</th>\n",
       "      <th>cwovlp</th>\n",
       "      <th>wovlp</th>\n",
       "      <th>aapsh</th>\n",
       "      <th>arosh</th>\n",
       "      <th>surpsh</th>\n",
       "      <th>IMSconc_z</th>\n",
       "      <th>IMSAro_z</th>\n",
       "      <th>IMSima_z</th>\n",
       "      <th>IMSVal_z</th>\n",
       "      <th>pat-ncw</th>\n",
       "      <th>acq-IMS</th>\n",
       "      <th>nchar</th>\n",
       "      <th>Satz_Pos_Chapter_NEU</th>\n",
       "      <th>0</th>\n",
       "      <th>1</th>\n",
       "      <th>2</th>\n",
       "      <th>3</th>\n",
       "      <th>4</th>\n",
       "      <th>5</th>\n",
       "      <th>6</th>\n",
       "      <th>7</th>\n",
       "      <th>8</th>\n",
       "      <th>9</th>\n",
       "      <th>10</th>\n",
       "      <th>g</th>\n",
       "      <th>b</th>\n",
       "    </tr>\n",
       "  </thead>\n",
       "  <tbody>\n",
       "    <tr>\n",
       "      <th>361</th>\n",
       "      <td>-0.118</td>\n",
       "      <td>0.0</td>\n",
       "      <td>0.500</td>\n",
       "      <td>4.0</td>\n",
       "      <td>2.0</td>\n",
       "      <td>7.0</td>\n",
       "      <td>13.500</td>\n",
       "      <td>2.0</td>\n",
       "      <td>0.2222</td>\n",
       "      <td>9.0</td>\n",
       "      <td>6.0</td>\n",
       "      <td>0.6667</td>\n",
       "      <td>0.7500</td>\n",
       "      <td>11.8250</td>\n",
       "      <td>4.8333</td>\n",
       "      <td>1.6667</td>\n",
       "      <td>1.5000</td>\n",
       "      <td>8.0247</td>\n",
       "      <td>7.6667</td>\n",
       "      <td>0.6667</td>\n",
       "      <td>4.2858</td>\n",
       "      <td>0.0315</td>\n",
       "      <td>0.062</td>\n",
       "      <td>0.821</td>\n",
       "      <td>-0.285</td>\n",
       "      <td>1.106</td>\n",
       "      <td>1.475</td>\n",
       "      <td>0.271</td>\n",
       "      <td>NaN</td>\n",
       "      <td>0.031</td>\n",
       "      <td>NaN</td>\n",
       "      <td>NaN</td>\n",
       "      <td>1.50</td>\n",
       "      <td>0.615</td>\n",
       "      <td>-0.245</td>\n",
       "      <td>0.1918</td>\n",
       "      <td>0.3635</td>\n",
       "      <td>0.4238</td>\n",
       "      <td>0.3733</td>\n",
       "      <td>-0.1140</td>\n",
       "      <td>0.7147</td>\n",
       "      <td>-0.2280</td>\n",
       "      <td>0.4530</td>\n",
       "      <td>0.2540</td>\n",
       "      <td>0.8716</td>\n",
       "      <td>NaN</td>\n",
       "      <td>NaN</td>\n",
       "      <td>-4.2740</td>\n",
       "      <td>-5.5630</td>\n",
       "      <td>-6.2920</td>\n",
       "      <td>-1.1340</td>\n",
       "      <td>0.0125</td>\n",
       "      <td>-0.701</td>\n",
       "      <td>0.9915</td>\n",
       "      <td>7.0</td>\n",
       "      <td>0.0</td>\n",
       "      <td>0.0</td>\n",
       "      <td>62</td>\n",
       "      <td>1.7000</td>\n",
       "      <td>0.0619</td>\n",
       "      <td>-0.2450</td>\n",
       "      <td>0.1438</td>\n",
       "      <td>-0.0400</td>\n",
       "      <td>0.0005</td>\n",
       "      <td>0.000</td>\n",
       "      <td>0.0</td>\n",
       "      <td>0.0</td>\n",
       "      <td>0.0</td>\n",
       "      <td>0.0</td>\n",
       "      <td>0</td>\n",
       "      <td>0</td>\n",
       "    </tr>\n",
       "    <tr>\n",
       "      <th>366</th>\n",
       "      <td>0.000</td>\n",
       "      <td>0.0</td>\n",
       "      <td>1.000</td>\n",
       "      <td>0.0</td>\n",
       "      <td>1.0</td>\n",
       "      <td>3.0</td>\n",
       "      <td>9.000</td>\n",
       "      <td>0.0</td>\n",
       "      <td>0.0000</td>\n",
       "      <td>6.0</td>\n",
       "      <td>4.0</td>\n",
       "      <td>0.6667</td>\n",
       "      <td>0.6667</td>\n",
       "      <td>7.4433</td>\n",
       "      <td>4.5000</td>\n",
       "      <td>1.5000</td>\n",
       "      <td>1.5000</td>\n",
       "      <td>6.6243</td>\n",
       "      <td>4.5000</td>\n",
       "      <td>1.0000</td>\n",
       "      <td>4.1488</td>\n",
       "      <td>0.2255</td>\n",
       "      <td>1.046</td>\n",
       "      <td>1.865</td>\n",
       "      <td>-0.143</td>\n",
       "      <td>2.008</td>\n",
       "      <td>0.840</td>\n",
       "      <td>0.174</td>\n",
       "      <td>0.5945</td>\n",
       "      <td>-0.143</td>\n",
       "      <td>NaN</td>\n",
       "      <td>NaN</td>\n",
       "      <td>3.00</td>\n",
       "      <td>0.697</td>\n",
       "      <td>-0.143</td>\n",
       "      <td>0.4305</td>\n",
       "      <td>-0.3710</td>\n",
       "      <td>0.4050</td>\n",
       "      <td>-0.2560</td>\n",
       "      <td>-0.4920</td>\n",
       "      <td>-0.5400</td>\n",
       "      <td>-0.4600</td>\n",
       "      <td>0.0005</td>\n",
       "      <td>0.2075</td>\n",
       "      <td>0.6830</td>\n",
       "      <td>NaN</td>\n",
       "      <td>NaN</td>\n",
       "      <td>4.9277</td>\n",
       "      <td>5.3047</td>\n",
       "      <td>6.2258</td>\n",
       "      <td>0.3697</td>\n",
       "      <td>-0.7450</td>\n",
       "      <td>0.867</td>\n",
       "      <td>0.8657</td>\n",
       "      <td>3.0</td>\n",
       "      <td>2.0</td>\n",
       "      <td>0.0</td>\n",
       "      <td>67</td>\n",
       "      <td>1.7000</td>\n",
       "      <td>-0.1430</td>\n",
       "      <td>0.6762</td>\n",
       "      <td>0.6967</td>\n",
       "      <td>0.4919</td>\n",
       "      <td>0.0000</td>\n",
       "      <td>0.000</td>\n",
       "      <td>0.0</td>\n",
       "      <td>0.0</td>\n",
       "      <td>0.0</td>\n",
       "      <td>0.0</td>\n",
       "      <td>0</td>\n",
       "      <td>0</td>\n",
       "    </tr>\n",
       "    <tr>\n",
       "      <th>368</th>\n",
       "      <td>0.000</td>\n",
       "      <td>1.0</td>\n",
       "      <td>1.000</td>\n",
       "      <td>0.0</td>\n",
       "      <td>0.0</td>\n",
       "      <td>2.0</td>\n",
       "      <td>11.667</td>\n",
       "      <td>0.0</td>\n",
       "      <td>0.0000</td>\n",
       "      <td>7.0</td>\n",
       "      <td>6.0</td>\n",
       "      <td>0.8571</td>\n",
       "      <td>0.8571</td>\n",
       "      <td>7.4153</td>\n",
       "      <td>5.3333</td>\n",
       "      <td>1.6667</td>\n",
       "      <td>2.5833</td>\n",
       "      <td>6.4873</td>\n",
       "      <td>1.3333</td>\n",
       "      <td>0.3333</td>\n",
       "      <td>4.9502</td>\n",
       "      <td>-0.0270</td>\n",
       "      <td>0.575</td>\n",
       "      <td>1.742</td>\n",
       "      <td>-0.920</td>\n",
       "      <td>2.662</td>\n",
       "      <td>1.413</td>\n",
       "      <td>0.086</td>\n",
       "      <td>-0.4300</td>\n",
       "      <td>-0.368</td>\n",
       "      <td>0.390</td>\n",
       "      <td>0.983</td>\n",
       "      <td>1.00</td>\n",
       "      <td>0.983</td>\n",
       "      <td>-0.430</td>\n",
       "      <td>0.1370</td>\n",
       "      <td>0.4092</td>\n",
       "      <td>-0.3690</td>\n",
       "      <td>0.5268</td>\n",
       "      <td>0.1007</td>\n",
       "      <td>0.2225</td>\n",
       "      <td>0.4312</td>\n",
       "      <td>0.3922</td>\n",
       "      <td>0.2770</td>\n",
       "      <td>0.7421</td>\n",
       "      <td>NaN</td>\n",
       "      <td>NaN</td>\n",
       "      <td>4.8680</td>\n",
       "      <td>5.3013</td>\n",
       "      <td>6.2735</td>\n",
       "      <td>0.0257</td>\n",
       "      <td>-0.8280</td>\n",
       "      <td>0.050</td>\n",
       "      <td>0.7027</td>\n",
       "      <td>2.0</td>\n",
       "      <td>2.0</td>\n",
       "      <td>1.0</td>\n",
       "      <td>69</td>\n",
       "      <td>-1.7000</td>\n",
       "      <td>-0.3680</td>\n",
       "      <td>0.9833</td>\n",
       "      <td>0.3895</td>\n",
       "      <td>0.3690</td>\n",
       "      <td>-0.4300</td>\n",
       "      <td>-0.122</td>\n",
       "      <td>0.0</td>\n",
       "      <td>0.0</td>\n",
       "      <td>0.0</td>\n",
       "      <td>0.0</td>\n",
       "      <td>0</td>\n",
       "      <td>0</td>\n",
       "    </tr>\n",
       "    <tr>\n",
       "      <th>379</th>\n",
       "      <td>0.000</td>\n",
       "      <td>0.0</td>\n",
       "      <td>0.333</td>\n",
       "      <td>4.0</td>\n",
       "      <td>0.0</td>\n",
       "      <td>6.0</td>\n",
       "      <td>10.000</td>\n",
       "      <td>0.0</td>\n",
       "      <td>0.0000</td>\n",
       "      <td>8.0</td>\n",
       "      <td>4.0</td>\n",
       "      <td>0.5000</td>\n",
       "      <td>0.5000</td>\n",
       "      <td>11.4340</td>\n",
       "      <td>3.2500</td>\n",
       "      <td>1.2500</td>\n",
       "      <td>1.6250</td>\n",
       "      <td>5.6893</td>\n",
       "      <td>8.5000</td>\n",
       "      <td>0.5000</td>\n",
       "      <td>2.9913</td>\n",
       "      <td>0.3385</td>\n",
       "      <td>0.677</td>\n",
       "      <td>1.517</td>\n",
       "      <td>-0.327</td>\n",
       "      <td>1.844</td>\n",
       "      <td>1.126</td>\n",
       "      <td>0.119</td>\n",
       "      <td>NaN</td>\n",
       "      <td>0.062</td>\n",
       "      <td>NaN</td>\n",
       "      <td>NaN</td>\n",
       "      <td>3.00</td>\n",
       "      <td>0.799</td>\n",
       "      <td>-0.327</td>\n",
       "      <td>0.2975</td>\n",
       "      <td>0.5063</td>\n",
       "      <td>0.1558</td>\n",
       "      <td>0.8153</td>\n",
       "      <td>0.0295</td>\n",
       "      <td>0.7135</td>\n",
       "      <td>0.0535</td>\n",
       "      <td>0.5135</td>\n",
       "      <td>0.2608</td>\n",
       "      <td>0.6985</td>\n",
       "      <td>NaN</td>\n",
       "      <td>NaN</td>\n",
       "      <td>-6.0070</td>\n",
       "      <td>-3.8750</td>\n",
       "      <td>-5.2690</td>\n",
       "      <td>0.6230</td>\n",
       "      <td>-0.6350</td>\n",
       "      <td>0.368</td>\n",
       "      <td>1.2560</td>\n",
       "      <td>6.0</td>\n",
       "      <td>0.0</td>\n",
       "      <td>2.0</td>\n",
       "      <td>80</td>\n",
       "      <td>0.0619</td>\n",
       "      <td>-0.3270</td>\n",
       "      <td>0.6557</td>\n",
       "      <td>0.6148</td>\n",
       "      <td>0.7990</td>\n",
       "      <td>-1.7000</td>\n",
       "      <td>0.000</td>\n",
       "      <td>0.0</td>\n",
       "      <td>0.0</td>\n",
       "      <td>0.0</td>\n",
       "      <td>0.0</td>\n",
       "      <td>0</td>\n",
       "      <td>0</td>\n",
       "    </tr>\n",
       "    <tr>\n",
       "      <th>391</th>\n",
       "      <td>0.000</td>\n",
       "      <td>0.5</td>\n",
       "      <td>0.250</td>\n",
       "      <td>1.0</td>\n",
       "      <td>1.0</td>\n",
       "      <td>5.0</td>\n",
       "      <td>9.800</td>\n",
       "      <td>0.0</td>\n",
       "      <td>0.0000</td>\n",
       "      <td>7.0</td>\n",
       "      <td>5.0</td>\n",
       "      <td>0.7143</td>\n",
       "      <td>0.7143</td>\n",
       "      <td>8.5132</td>\n",
       "      <td>6.0000</td>\n",
       "      <td>1.4000</td>\n",
       "      <td>3.3000</td>\n",
       "      <td>5.6506</td>\n",
       "      <td>3.2000</td>\n",
       "      <td>0.0000</td>\n",
       "      <td>5.3984</td>\n",
       "      <td>-0.4910</td>\n",
       "      <td>-1.534</td>\n",
       "      <td>0.062</td>\n",
       "      <td>-1.698</td>\n",
       "      <td>1.760</td>\n",
       "      <td>1.536</td>\n",
       "      <td>0.181</td>\n",
       "      <td>NaN</td>\n",
       "      <td>-0.020</td>\n",
       "      <td>-1.474</td>\n",
       "      <td>-0.020</td>\n",
       "      <td>0.25</td>\n",
       "      <td>0.062</td>\n",
       "      <td>-1.474</td>\n",
       "      <td>-0.3270</td>\n",
       "      <td>0.3560</td>\n",
       "      <td>-0.2920</td>\n",
       "      <td>0.6164</td>\n",
       "      <td>0.3482</td>\n",
       "      <td>0.5924</td>\n",
       "      <td>0.2856</td>\n",
       "      <td>0.4030</td>\n",
       "      <td>0.2724</td>\n",
       "      <td>0.6951</td>\n",
       "      <td>NaN</td>\n",
       "      <td>NaN</td>\n",
       "      <td>-7.7130</td>\n",
       "      <td>-4.7570</td>\n",
       "      <td>-5.4750</td>\n",
       "      <td>-1.4410</td>\n",
       "      <td>0.2480</td>\n",
       "      <td>-0.441</td>\n",
       "      <td>0.4185</td>\n",
       "      <td>5.0</td>\n",
       "      <td>0.0</td>\n",
       "      <td>0.0</td>\n",
       "      <td>92</td>\n",
       "      <td>-0.0200</td>\n",
       "      <td>-0.1020</td>\n",
       "      <td>-0.1020</td>\n",
       "      <td>0.3281</td>\n",
       "      <td>0.0619</td>\n",
       "      <td>1.7000</td>\n",
       "      <td>-1.474</td>\n",
       "      <td>0.0</td>\n",
       "      <td>0.0</td>\n",
       "      <td>0.0</td>\n",
       "      <td>0.0</td>\n",
       "      <td>0</td>\n",
       "      <td>0</td>\n",
       "    </tr>\n",
       "  </tbody>\n",
       "</table>\n",
       "</div>"
      ],
      "text/plain": [
       "     logttr  avq    acq  daq  soq  phrase_dens     ssi  word_rep  wrep_ratio  \\\n",
       "361  -0.118  0.0  0.500  4.0  2.0          7.0  13.500       2.0      0.2222   \n",
       "366   0.000  0.0  1.000  0.0  1.0          3.0   9.000       0.0      0.0000   \n",
       "368   0.000  1.0  1.000  0.0  0.0          2.0  11.667       0.0      0.0000   \n",
       "379   0.000  0.0  0.333  4.0  0.0          6.0  10.000       0.0      0.0000   \n",
       "391   0.000  0.5  0.250  1.0  1.0          5.0   9.800       0.0      0.0000   \n",
       "\n",
       "     nword  ncw  cwratio    cwhr     logf      wl    nsyl     cvq  son_score  \\\n",
       "361    9.0  6.0   0.6667  0.7500  11.8250  4.8333  1.6667  1.5000     8.0247   \n",
       "366    6.0  4.0   0.6667  0.6667   7.4433  4.5000  1.5000  1.5000     6.6243   \n",
       "368    7.0  6.0   0.8571  0.8571   7.4153  5.3333  1.6667  2.5833     6.4873   \n",
       "379    8.0  4.0   0.5000  0.5000  11.4340  3.2500  1.2500  1.6250     5.6893   \n",
       "391    7.0  5.0   0.7143  0.7143   8.5132  6.0000  1.4000  3.3000     5.6506   \n",
       "\n",
       "         ON     HFN     ODC  chunkm  chunksu  apsum  ansum  apsumd  valspan  \\\n",
       "361  7.6667  0.6667  4.2858  0.0315    0.062  0.821 -0.285   1.106    1.475   \n",
       "366  4.5000  1.0000  4.1488  0.2255    1.046  1.865 -0.143   2.008    0.840   \n",
       "368  1.3333  0.3333  4.9502 -0.0270    0.575  1.742 -0.920   2.662    1.413   \n",
       "379  8.5000  0.5000  2.9913  0.3385    0.677  1.517 -0.327   1.844    1.126   \n",
       "391  3.2000  0.0000  5.3984 -0.4910   -1.534  0.062 -1.698   1.760    1.536   \n",
       "\n",
       "     arospan     APn    APv    APa   APav  pnrs  posmxv  posmnv    AAPz  \\\n",
       "361    0.271     NaN  0.031    NaN    NaN  1.50   0.615  -0.245  0.1918   \n",
       "366    0.174  0.5945 -0.143    NaN    NaN  3.00   0.697  -0.143  0.4305   \n",
       "368    0.086 -0.4300 -0.368  0.390  0.983  1.00   0.983  -0.430  0.1370   \n",
       "379    0.119     NaN  0.062    NaN    NaN  3.00   0.799  -0.327  0.2975   \n",
       "391    0.181     NaN -0.020 -1.474 -0.020  0.25   0.062  -1.474 -0.3270   \n",
       "\n",
       "       aroz    valz  fear_z  disg_z   hap_z   sad_z  surp_z   ang_z    ssim  \\\n",
       "361  0.3635  0.4238  0.3733 -0.1140  0.7147 -0.2280  0.4530  0.2540  0.8716   \n",
       "366 -0.3710  0.4050 -0.2560 -0.4920 -0.5400 -0.4600  0.0005  0.2075  0.6830   \n",
       "368  0.4092 -0.3690  0.5268  0.1007  0.2225  0.4312  0.3922  0.2770  0.7421   \n",
       "379  0.5063  0.1558  0.8153  0.0295  0.7135  0.0535  0.5135  0.2608  0.6985   \n",
       "391  0.3560 -0.2920  0.6164  0.3482  0.5924  0.2856  0.4030  0.2724  0.6951   \n",
       "\n",
       "     cwovlp  wovlp   aapsh   arosh  surpsh  IMSconc_z  IMSAro_z  IMSima_z  \\\n",
       "361     NaN    NaN -4.2740 -5.5630 -6.2920    -1.1340    0.0125    -0.701   \n",
       "366     NaN    NaN  4.9277  5.3047  6.2258     0.3697   -0.7450     0.867   \n",
       "368     NaN    NaN  4.8680  5.3013  6.2735     0.0257   -0.8280     0.050   \n",
       "379     NaN    NaN -6.0070 -3.8750 -5.2690     0.6230   -0.6350     0.368   \n",
       "391     NaN    NaN -7.7130 -4.7570 -5.4750    -1.4410    0.2480    -0.441   \n",
       "\n",
       "     IMSVal_z  pat-ncw  acq-IMS  nchar  Satz_Pos_Chapter_NEU       0       1  \\\n",
       "361    0.9915      7.0      0.0    0.0                    62  1.7000  0.0619   \n",
       "366    0.8657      3.0      2.0    0.0                    67  1.7000 -0.1430   \n",
       "368    0.7027      2.0      2.0    1.0                    69 -1.7000 -0.3680   \n",
       "379    1.2560      6.0      0.0    2.0                    80  0.0619 -0.3270   \n",
       "391    0.4185      5.0      0.0    0.0                    92 -0.0200 -0.1020   \n",
       "\n",
       "          2       3       4       5      6    7    8    9   10  g  b  \n",
       "361 -0.2450  0.1438 -0.0400  0.0005  0.000  0.0  0.0  0.0  0.0  0  0  \n",
       "366  0.6762  0.6967  0.4919  0.0000  0.000  0.0  0.0  0.0  0.0  0  0  \n",
       "368  0.9833  0.3895  0.3690 -0.4300 -0.122  0.0  0.0  0.0  0.0  0  0  \n",
       "379  0.6557  0.6148  0.7990 -1.7000  0.000  0.0  0.0  0.0  0.0  0  0  \n",
       "391 -0.1020  0.3281  0.0619  1.7000 -1.474  0.0  0.0  0.0  0.0  0  0  "
      ]
     },
     "execution_count": 247,
     "metadata": {},
     "output_type": "execute_result"
    }
   ],
   "source": [
    "X_valence_shifters.head()"
   ]
  },
  {
   "cell_type": "markdown",
   "metadata": {},
   "source": [
    "## Step 5"
   ]
  },
  {
   "cell_type": "code",
   "execution_count": 271,
   "metadata": {},
   "outputs": [],
   "source": [
    "def neg_pos_count(row, option) -> int:\n",
    "    if option=='pos':\n",
    "        return sum(n > 0 for n in row)\n",
    "    if option=='neg':\n",
    "        return sum(n < 0 for n in row.values)\n",
    "\n",
    "def pos_counter(row, pos='ADJ') -> int:\n",
    "    k = 0\n",
    "    doc = nlp(row)\n",
    "    for token in doc:\n",
    "        if pos == 'AUX':\n",
    "            if token.pos_ == 'AUX':\n",
    "                k+=1\n",
    "        if pos == 'VERB':\n",
    "            if token.pos_ == 'VERB':\n",
    "                k+=1\n",
    "        if pos == 'PROPN':\n",
    "            if token.pos_ == 'PROPN':\n",
    "                k+=1\n",
    "        if pos == 'NOUN':\n",
    "            if token.pos_ == 'NOUN':\n",
    "                k+=1\n",
    "        if pos == 'ADP':\n",
    "            if token.pos_ == 'ADP':\n",
    "                k+=1\n",
    "    \n",
    "    return k"
   ]
  },
  {
   "cell_type": "code",
   "execution_count": 41,
   "metadata": {},
   "outputs": [
    {
     "data": {
      "text/html": [
       "<div>\n",
       "<style scoped>\n",
       "    .dataframe tbody tr th:only-of-type {\n",
       "        vertical-align: middle;\n",
       "    }\n",
       "\n",
       "    .dataframe tbody tr th {\n",
       "        vertical-align: top;\n",
       "    }\n",
       "\n",
       "    .dataframe thead th {\n",
       "        text-align: right;\n",
       "    }\n",
       "</style>\n",
       "<table border=\"1\" class=\"dataframe\">\n",
       "  <thead>\n",
       "    <tr style=\"text-align: right;\">\n",
       "      <th></th>\n",
       "      <th>logttr</th>\n",
       "      <th>avq</th>\n",
       "      <th>acq</th>\n",
       "      <th>daq</th>\n",
       "      <th>soq</th>\n",
       "      <th>phrase_dens</th>\n",
       "      <th>ssi</th>\n",
       "      <th>word_rep</th>\n",
       "      <th>wrep_ratio</th>\n",
       "      <th>nword</th>\n",
       "      <th>ncw</th>\n",
       "      <th>cwratio</th>\n",
       "      <th>cwhr</th>\n",
       "      <th>logf</th>\n",
       "      <th>wl</th>\n",
       "      <th>nsyl</th>\n",
       "      <th>cvq</th>\n",
       "      <th>son_score</th>\n",
       "      <th>ON</th>\n",
       "      <th>HFN</th>\n",
       "      <th>ODC</th>\n",
       "      <th>chunkm</th>\n",
       "      <th>chunksu</th>\n",
       "      <th>apsum</th>\n",
       "      <th>ansum</th>\n",
       "      <th>apsumd</th>\n",
       "      <th>valspan</th>\n",
       "      <th>arospan</th>\n",
       "      <th>APn</th>\n",
       "      <th>APv</th>\n",
       "      <th>APa</th>\n",
       "      <th>APav</th>\n",
       "      <th>pnrs</th>\n",
       "      <th>posmxv</th>\n",
       "      <th>posmnv</th>\n",
       "      <th>AAPz</th>\n",
       "      <th>aroz</th>\n",
       "      <th>valz</th>\n",
       "      <th>fear_z</th>\n",
       "      <th>disg_z</th>\n",
       "      <th>hap_z</th>\n",
       "      <th>sad_z</th>\n",
       "      <th>surp_z</th>\n",
       "      <th>ang_z</th>\n",
       "      <th>ssim</th>\n",
       "      <th>cwovlp</th>\n",
       "      <th>wovlp</th>\n",
       "      <th>aapsh</th>\n",
       "      <th>arosh</th>\n",
       "      <th>surpsh</th>\n",
       "      <th>IMSconc_z</th>\n",
       "      <th>IMSAro_z</th>\n",
       "      <th>IMSima_z</th>\n",
       "      <th>IMSVal_z</th>\n",
       "      <th>pat-ncw</th>\n",
       "      <th>acq-IMS</th>\n",
       "      <th>nchar</th>\n",
       "      <th>Satz_Pos_Chapter_NEU</th>\n",
       "      <th>0</th>\n",
       "      <th>1</th>\n",
       "      <th>2</th>\n",
       "      <th>3</th>\n",
       "      <th>4</th>\n",
       "      <th>5</th>\n",
       "      <th>6</th>\n",
       "      <th>7</th>\n",
       "      <th>8</th>\n",
       "      <th>9</th>\n",
       "      <th>10</th>\n",
       "      <th>g</th>\n",
       "      <th>b</th>\n",
       "    </tr>\n",
       "  </thead>\n",
       "  <tbody>\n",
       "    <tr>\n",
       "      <th>361</th>\n",
       "      <td>-0.118</td>\n",
       "      <td>0.0</td>\n",
       "      <td>0.500</td>\n",
       "      <td>4.0</td>\n",
       "      <td>2.0</td>\n",
       "      <td>7.0</td>\n",
       "      <td>13.500</td>\n",
       "      <td>2.0</td>\n",
       "      <td>0.2222</td>\n",
       "      <td>9.0</td>\n",
       "      <td>6.0</td>\n",
       "      <td>0.6667</td>\n",
       "      <td>0.7500</td>\n",
       "      <td>11.8250</td>\n",
       "      <td>4.8333</td>\n",
       "      <td>1.6667</td>\n",
       "      <td>1.5000</td>\n",
       "      <td>8.0247</td>\n",
       "      <td>7.6667</td>\n",
       "      <td>0.6667</td>\n",
       "      <td>4.2858</td>\n",
       "      <td>0.0315</td>\n",
       "      <td>0.062</td>\n",
       "      <td>0.821</td>\n",
       "      <td>-0.285</td>\n",
       "      <td>1.106</td>\n",
       "      <td>1.475</td>\n",
       "      <td>0.271</td>\n",
       "      <td>NaN</td>\n",
       "      <td>0.031</td>\n",
       "      <td>NaN</td>\n",
       "      <td>NaN</td>\n",
       "      <td>1.50</td>\n",
       "      <td>0.615</td>\n",
       "      <td>-0.245</td>\n",
       "      <td>0.1918</td>\n",
       "      <td>0.3635</td>\n",
       "      <td>0.4238</td>\n",
       "      <td>0.3733</td>\n",
       "      <td>-0.1140</td>\n",
       "      <td>0.7147</td>\n",
       "      <td>-0.2280</td>\n",
       "      <td>0.4530</td>\n",
       "      <td>0.2540</td>\n",
       "      <td>0.8716</td>\n",
       "      <td>NaN</td>\n",
       "      <td>NaN</td>\n",
       "      <td>-4.2740</td>\n",
       "      <td>-5.5630</td>\n",
       "      <td>-6.2920</td>\n",
       "      <td>-1.1340</td>\n",
       "      <td>0.0125</td>\n",
       "      <td>-0.701</td>\n",
       "      <td>0.9915</td>\n",
       "      <td>7.0</td>\n",
       "      <td>0.0</td>\n",
       "      <td>0.0</td>\n",
       "      <td>62</td>\n",
       "      <td>1.7000</td>\n",
       "      <td>0.0619</td>\n",
       "      <td>-0.2450</td>\n",
       "      <td>0.1438</td>\n",
       "      <td>-0.0400</td>\n",
       "      <td>0.0005</td>\n",
       "      <td>NaN</td>\n",
       "      <td>NaN</td>\n",
       "      <td>NaN</td>\n",
       "      <td>NaN</td>\n",
       "      <td>NaN</td>\n",
       "      <td>0</td>\n",
       "      <td>0</td>\n",
       "    </tr>\n",
       "    <tr>\n",
       "      <th>366</th>\n",
       "      <td>0.000</td>\n",
       "      <td>0.0</td>\n",
       "      <td>1.000</td>\n",
       "      <td>0.0</td>\n",
       "      <td>1.0</td>\n",
       "      <td>3.0</td>\n",
       "      <td>9.000</td>\n",
       "      <td>0.0</td>\n",
       "      <td>0.0000</td>\n",
       "      <td>6.0</td>\n",
       "      <td>4.0</td>\n",
       "      <td>0.6667</td>\n",
       "      <td>0.6667</td>\n",
       "      <td>7.4433</td>\n",
       "      <td>4.5000</td>\n",
       "      <td>1.5000</td>\n",
       "      <td>1.5000</td>\n",
       "      <td>6.6243</td>\n",
       "      <td>4.5000</td>\n",
       "      <td>1.0000</td>\n",
       "      <td>4.1488</td>\n",
       "      <td>0.2255</td>\n",
       "      <td>1.046</td>\n",
       "      <td>1.865</td>\n",
       "      <td>-0.143</td>\n",
       "      <td>2.008</td>\n",
       "      <td>0.840</td>\n",
       "      <td>0.174</td>\n",
       "      <td>0.5945</td>\n",
       "      <td>-0.143</td>\n",
       "      <td>NaN</td>\n",
       "      <td>NaN</td>\n",
       "      <td>3.00</td>\n",
       "      <td>0.697</td>\n",
       "      <td>-0.143</td>\n",
       "      <td>0.4305</td>\n",
       "      <td>-0.3710</td>\n",
       "      <td>0.4050</td>\n",
       "      <td>-0.2560</td>\n",
       "      <td>-0.4920</td>\n",
       "      <td>-0.5400</td>\n",
       "      <td>-0.4600</td>\n",
       "      <td>0.0005</td>\n",
       "      <td>0.2075</td>\n",
       "      <td>0.6830</td>\n",
       "      <td>NaN</td>\n",
       "      <td>NaN</td>\n",
       "      <td>4.9277</td>\n",
       "      <td>5.3047</td>\n",
       "      <td>6.2258</td>\n",
       "      <td>0.3697</td>\n",
       "      <td>-0.7450</td>\n",
       "      <td>0.867</td>\n",
       "      <td>0.8657</td>\n",
       "      <td>3.0</td>\n",
       "      <td>2.0</td>\n",
       "      <td>0.0</td>\n",
       "      <td>67</td>\n",
       "      <td>1.7000</td>\n",
       "      <td>-0.1430</td>\n",
       "      <td>0.6762</td>\n",
       "      <td>0.6967</td>\n",
       "      <td>0.4919</td>\n",
       "      <td>NaN</td>\n",
       "      <td>NaN</td>\n",
       "      <td>NaN</td>\n",
       "      <td>NaN</td>\n",
       "      <td>NaN</td>\n",
       "      <td>NaN</td>\n",
       "      <td>0</td>\n",
       "      <td>0</td>\n",
       "    </tr>\n",
       "    <tr>\n",
       "      <th>368</th>\n",
       "      <td>0.000</td>\n",
       "      <td>1.0</td>\n",
       "      <td>1.000</td>\n",
       "      <td>0.0</td>\n",
       "      <td>0.0</td>\n",
       "      <td>2.0</td>\n",
       "      <td>11.667</td>\n",
       "      <td>0.0</td>\n",
       "      <td>0.0000</td>\n",
       "      <td>7.0</td>\n",
       "      <td>6.0</td>\n",
       "      <td>0.8571</td>\n",
       "      <td>0.8571</td>\n",
       "      <td>7.4153</td>\n",
       "      <td>5.3333</td>\n",
       "      <td>1.6667</td>\n",
       "      <td>2.5833</td>\n",
       "      <td>6.4873</td>\n",
       "      <td>1.3333</td>\n",
       "      <td>0.3333</td>\n",
       "      <td>4.9502</td>\n",
       "      <td>-0.0270</td>\n",
       "      <td>0.575</td>\n",
       "      <td>1.742</td>\n",
       "      <td>-0.920</td>\n",
       "      <td>2.662</td>\n",
       "      <td>1.413</td>\n",
       "      <td>0.086</td>\n",
       "      <td>-0.4300</td>\n",
       "      <td>-0.368</td>\n",
       "      <td>0.390</td>\n",
       "      <td>0.983</td>\n",
       "      <td>1.00</td>\n",
       "      <td>0.983</td>\n",
       "      <td>-0.430</td>\n",
       "      <td>0.1370</td>\n",
       "      <td>0.4092</td>\n",
       "      <td>-0.3690</td>\n",
       "      <td>0.5268</td>\n",
       "      <td>0.1007</td>\n",
       "      <td>0.2225</td>\n",
       "      <td>0.4312</td>\n",
       "      <td>0.3922</td>\n",
       "      <td>0.2770</td>\n",
       "      <td>0.7421</td>\n",
       "      <td>NaN</td>\n",
       "      <td>NaN</td>\n",
       "      <td>4.8680</td>\n",
       "      <td>5.3013</td>\n",
       "      <td>6.2735</td>\n",
       "      <td>0.0257</td>\n",
       "      <td>-0.8280</td>\n",
       "      <td>0.050</td>\n",
       "      <td>0.7027</td>\n",
       "      <td>2.0</td>\n",
       "      <td>2.0</td>\n",
       "      <td>1.0</td>\n",
       "      <td>69</td>\n",
       "      <td>-1.7000</td>\n",
       "      <td>-0.3680</td>\n",
       "      <td>0.9833</td>\n",
       "      <td>0.3895</td>\n",
       "      <td>0.3690</td>\n",
       "      <td>-0.4300</td>\n",
       "      <td>-0.122</td>\n",
       "      <td>NaN</td>\n",
       "      <td>NaN</td>\n",
       "      <td>NaN</td>\n",
       "      <td>NaN</td>\n",
       "      <td>0</td>\n",
       "      <td>0</td>\n",
       "    </tr>\n",
       "    <tr>\n",
       "      <th>379</th>\n",
       "      <td>0.000</td>\n",
       "      <td>0.0</td>\n",
       "      <td>0.333</td>\n",
       "      <td>4.0</td>\n",
       "      <td>0.0</td>\n",
       "      <td>6.0</td>\n",
       "      <td>10.000</td>\n",
       "      <td>0.0</td>\n",
       "      <td>0.0000</td>\n",
       "      <td>8.0</td>\n",
       "      <td>4.0</td>\n",
       "      <td>0.5000</td>\n",
       "      <td>0.5000</td>\n",
       "      <td>11.4340</td>\n",
       "      <td>3.2500</td>\n",
       "      <td>1.2500</td>\n",
       "      <td>1.6250</td>\n",
       "      <td>5.6893</td>\n",
       "      <td>8.5000</td>\n",
       "      <td>0.5000</td>\n",
       "      <td>2.9913</td>\n",
       "      <td>0.3385</td>\n",
       "      <td>0.677</td>\n",
       "      <td>1.517</td>\n",
       "      <td>-0.327</td>\n",
       "      <td>1.844</td>\n",
       "      <td>1.126</td>\n",
       "      <td>0.119</td>\n",
       "      <td>NaN</td>\n",
       "      <td>0.062</td>\n",
       "      <td>NaN</td>\n",
       "      <td>NaN</td>\n",
       "      <td>3.00</td>\n",
       "      <td>0.799</td>\n",
       "      <td>-0.327</td>\n",
       "      <td>0.2975</td>\n",
       "      <td>0.5063</td>\n",
       "      <td>0.1558</td>\n",
       "      <td>0.8153</td>\n",
       "      <td>0.0295</td>\n",
       "      <td>0.7135</td>\n",
       "      <td>0.0535</td>\n",
       "      <td>0.5135</td>\n",
       "      <td>0.2608</td>\n",
       "      <td>0.6985</td>\n",
       "      <td>NaN</td>\n",
       "      <td>NaN</td>\n",
       "      <td>-6.0070</td>\n",
       "      <td>-3.8750</td>\n",
       "      <td>-5.2690</td>\n",
       "      <td>0.6230</td>\n",
       "      <td>-0.6350</td>\n",
       "      <td>0.368</td>\n",
       "      <td>1.2560</td>\n",
       "      <td>6.0</td>\n",
       "      <td>0.0</td>\n",
       "      <td>2.0</td>\n",
       "      <td>80</td>\n",
       "      <td>0.0619</td>\n",
       "      <td>-0.3270</td>\n",
       "      <td>0.6557</td>\n",
       "      <td>0.6148</td>\n",
       "      <td>0.7990</td>\n",
       "      <td>-1.7000</td>\n",
       "      <td>NaN</td>\n",
       "      <td>NaN</td>\n",
       "      <td>NaN</td>\n",
       "      <td>NaN</td>\n",
       "      <td>NaN</td>\n",
       "      <td>0</td>\n",
       "      <td>0</td>\n",
       "    </tr>\n",
       "    <tr>\n",
       "      <th>391</th>\n",
       "      <td>0.000</td>\n",
       "      <td>0.5</td>\n",
       "      <td>0.250</td>\n",
       "      <td>1.0</td>\n",
       "      <td>1.0</td>\n",
       "      <td>5.0</td>\n",
       "      <td>9.800</td>\n",
       "      <td>0.0</td>\n",
       "      <td>0.0000</td>\n",
       "      <td>7.0</td>\n",
       "      <td>5.0</td>\n",
       "      <td>0.7143</td>\n",
       "      <td>0.7143</td>\n",
       "      <td>8.5132</td>\n",
       "      <td>6.0000</td>\n",
       "      <td>1.4000</td>\n",
       "      <td>3.3000</td>\n",
       "      <td>5.6506</td>\n",
       "      <td>3.2000</td>\n",
       "      <td>0.0000</td>\n",
       "      <td>5.3984</td>\n",
       "      <td>-0.4910</td>\n",
       "      <td>-1.534</td>\n",
       "      <td>0.062</td>\n",
       "      <td>-1.698</td>\n",
       "      <td>1.760</td>\n",
       "      <td>1.536</td>\n",
       "      <td>0.181</td>\n",
       "      <td>NaN</td>\n",
       "      <td>-0.020</td>\n",
       "      <td>-1.474</td>\n",
       "      <td>-0.020</td>\n",
       "      <td>0.25</td>\n",
       "      <td>0.062</td>\n",
       "      <td>-1.474</td>\n",
       "      <td>-0.3270</td>\n",
       "      <td>0.3560</td>\n",
       "      <td>-0.2920</td>\n",
       "      <td>0.6164</td>\n",
       "      <td>0.3482</td>\n",
       "      <td>0.5924</td>\n",
       "      <td>0.2856</td>\n",
       "      <td>0.4030</td>\n",
       "      <td>0.2724</td>\n",
       "      <td>0.6951</td>\n",
       "      <td>NaN</td>\n",
       "      <td>NaN</td>\n",
       "      <td>-7.7130</td>\n",
       "      <td>-4.7570</td>\n",
       "      <td>-5.4750</td>\n",
       "      <td>-1.4410</td>\n",
       "      <td>0.2480</td>\n",
       "      <td>-0.441</td>\n",
       "      <td>0.4185</td>\n",
       "      <td>5.0</td>\n",
       "      <td>0.0</td>\n",
       "      <td>0.0</td>\n",
       "      <td>92</td>\n",
       "      <td>-0.0200</td>\n",
       "      <td>-0.1020</td>\n",
       "      <td>-0.1020</td>\n",
       "      <td>0.3281</td>\n",
       "      <td>0.0619</td>\n",
       "      <td>1.7000</td>\n",
       "      <td>-1.474</td>\n",
       "      <td>NaN</td>\n",
       "      <td>NaN</td>\n",
       "      <td>NaN</td>\n",
       "      <td>NaN</td>\n",
       "      <td>0</td>\n",
       "      <td>0</td>\n",
       "    </tr>\n",
       "  </tbody>\n",
       "</table>\n",
       "</div>"
      ],
      "text/plain": [
       "     logttr  avq    acq  daq  soq  phrase_dens     ssi  word_rep  wrep_ratio  \\\n",
       "361  -0.118  0.0  0.500  4.0  2.0          7.0  13.500       2.0      0.2222   \n",
       "366   0.000  0.0  1.000  0.0  1.0          3.0   9.000       0.0      0.0000   \n",
       "368   0.000  1.0  1.000  0.0  0.0          2.0  11.667       0.0      0.0000   \n",
       "379   0.000  0.0  0.333  4.0  0.0          6.0  10.000       0.0      0.0000   \n",
       "391   0.000  0.5  0.250  1.0  1.0          5.0   9.800       0.0      0.0000   \n",
       "\n",
       "     nword  ncw  cwratio    cwhr     logf      wl    nsyl     cvq  son_score  \\\n",
       "361    9.0  6.0   0.6667  0.7500  11.8250  4.8333  1.6667  1.5000     8.0247   \n",
       "366    6.0  4.0   0.6667  0.6667   7.4433  4.5000  1.5000  1.5000     6.6243   \n",
       "368    7.0  6.0   0.8571  0.8571   7.4153  5.3333  1.6667  2.5833     6.4873   \n",
       "379    8.0  4.0   0.5000  0.5000  11.4340  3.2500  1.2500  1.6250     5.6893   \n",
       "391    7.0  5.0   0.7143  0.7143   8.5132  6.0000  1.4000  3.3000     5.6506   \n",
       "\n",
       "         ON     HFN     ODC  chunkm  chunksu  apsum  ansum  apsumd  valspan  \\\n",
       "361  7.6667  0.6667  4.2858  0.0315    0.062  0.821 -0.285   1.106    1.475   \n",
       "366  4.5000  1.0000  4.1488  0.2255    1.046  1.865 -0.143   2.008    0.840   \n",
       "368  1.3333  0.3333  4.9502 -0.0270    0.575  1.742 -0.920   2.662    1.413   \n",
       "379  8.5000  0.5000  2.9913  0.3385    0.677  1.517 -0.327   1.844    1.126   \n",
       "391  3.2000  0.0000  5.3984 -0.4910   -1.534  0.062 -1.698   1.760    1.536   \n",
       "\n",
       "     arospan     APn    APv    APa   APav  pnrs  posmxv  posmnv    AAPz  \\\n",
       "361    0.271     NaN  0.031    NaN    NaN  1.50   0.615  -0.245  0.1918   \n",
       "366    0.174  0.5945 -0.143    NaN    NaN  3.00   0.697  -0.143  0.4305   \n",
       "368    0.086 -0.4300 -0.368  0.390  0.983  1.00   0.983  -0.430  0.1370   \n",
       "379    0.119     NaN  0.062    NaN    NaN  3.00   0.799  -0.327  0.2975   \n",
       "391    0.181     NaN -0.020 -1.474 -0.020  0.25   0.062  -1.474 -0.3270   \n",
       "\n",
       "       aroz    valz  fear_z  disg_z   hap_z   sad_z  surp_z   ang_z    ssim  \\\n",
       "361  0.3635  0.4238  0.3733 -0.1140  0.7147 -0.2280  0.4530  0.2540  0.8716   \n",
       "366 -0.3710  0.4050 -0.2560 -0.4920 -0.5400 -0.4600  0.0005  0.2075  0.6830   \n",
       "368  0.4092 -0.3690  0.5268  0.1007  0.2225  0.4312  0.3922  0.2770  0.7421   \n",
       "379  0.5063  0.1558  0.8153  0.0295  0.7135  0.0535  0.5135  0.2608  0.6985   \n",
       "391  0.3560 -0.2920  0.6164  0.3482  0.5924  0.2856  0.4030  0.2724  0.6951   \n",
       "\n",
       "     cwovlp  wovlp   aapsh   arosh  surpsh  IMSconc_z  IMSAro_z  IMSima_z  \\\n",
       "361     NaN    NaN -4.2740 -5.5630 -6.2920    -1.1340    0.0125    -0.701   \n",
       "366     NaN    NaN  4.9277  5.3047  6.2258     0.3697   -0.7450     0.867   \n",
       "368     NaN    NaN  4.8680  5.3013  6.2735     0.0257   -0.8280     0.050   \n",
       "379     NaN    NaN -6.0070 -3.8750 -5.2690     0.6230   -0.6350     0.368   \n",
       "391     NaN    NaN -7.7130 -4.7570 -5.4750    -1.4410    0.2480    -0.441   \n",
       "\n",
       "     IMSVal_z  pat-ncw  acq-IMS  nchar  Satz_Pos_Chapter_NEU       0       1  \\\n",
       "361    0.9915      7.0      0.0    0.0                    62  1.7000  0.0619   \n",
       "366    0.8657      3.0      2.0    0.0                    67  1.7000 -0.1430   \n",
       "368    0.7027      2.0      2.0    1.0                    69 -1.7000 -0.3680   \n",
       "379    1.2560      6.0      0.0    2.0                    80  0.0619 -0.3270   \n",
       "391    0.4185      5.0      0.0    0.0                    92 -0.0200 -0.1020   \n",
       "\n",
       "          2       3       4       5      6   7   8   9  10  g  b  \n",
       "361 -0.2450  0.1438 -0.0400  0.0005    NaN NaN NaN NaN NaN  0  0  \n",
       "366  0.6762  0.6967  0.4919     NaN    NaN NaN NaN NaN NaN  0  0  \n",
       "368  0.9833  0.3895  0.3690 -0.4300 -0.122 NaN NaN NaN NaN  0  0  \n",
       "379  0.6557  0.6148  0.7990 -1.7000    NaN NaN NaN NaN NaN  0  0  \n",
       "391 -0.1020  0.3281  0.0619  1.7000 -1.474 NaN NaN NaN NaN  0  0  "
      ]
     },
     "execution_count": 41,
     "metadata": {},
     "output_type": "execute_result"
    }
   ],
   "source": [
    "X_valence_shifters.head()"
   ]
  },
  {
   "cell_type": "code",
   "execution_count": 272,
   "metadata": {},
   "outputs": [],
   "source": [
    "d_n = new_X.copy()\n",
    "d_n['pos'] = d_n.loc[:, '0':'10'].apply(neg_pos_count, args=('pos',), axis=1)\n",
    "d_n['neg'] = d_n.loc[:, '0':'10'].apply(neg_pos_count, args=('neg',), axis=1)\n",
    "d_n['aux'] = dataj_char['Satz'].apply(pos_counter, args=('AUX', ))\n",
    "d_n['verbs'] = dataj_char['Satz'].apply(pos_counter, args=('VERB', ))\n",
    "d_n['propn'] = dataj_char['Satz'].apply(pos_counter, args=('PROPN', ))\n",
    "d_n['noun'] = dataj_char['Satz'].apply(pos_counter, args=('NOUN', ))\n",
    "d_n['adp'] = dataj_char['Satz'].apply(pos_counter, args=('ADP', ))\n",
    "d_n['avg'] = d_n.loc[:, '0':'10'].mean(axis=1)\n"
   ]
  },
  {
   "cell_type": "code",
   "execution_count": 273,
   "metadata": {},
   "outputs": [
    {
     "data": {
      "image/png": "[encoded data removed]",
      "text/plain": [
       "<Figure size 864x576 with 1 Axes>"
      ]
     },
     "metadata": {},
     "output_type": "display_data"
    }
   ],
   "source": [
    "HAPPY_COLORS_PALETTE = [\"#01BEFE\", \"#FFDD00\", \"#FF7D00\", \"#FF006D\", \"#ADFF02\", \"#8F00FF\"]\n",
    "sns.set_palette(sns.color_palette(HAPPY_COLORS_PALETTE))\n",
    "%matplotlib inline\n",
    "sns.set_style('whitegrid')\n",
    "rcParams['figure.figsize'] = 12, 8\n",
    "ax = sns.barplot(x = d_n.loc[:, 'g':'avg'].columns, y = d_n.loc[:, 'g':'avg'][d_n.loc[:, 'g':'avg']!=0].count(),\n",
    "                 errcolor=\".2\", edgecolor=\".2\", linewidth=2.5)\n",
    "ax.set(xlabel='Name of a column', ylabel='Values count')\n",
    "plt.show()"
   ]
  },
  {
   "cell_type": "code",
   "execution_count": 34,
   "metadata": {},
   "outputs": [
    {
     "data": {
      "text/html": [
       "<div>\n",
       "<style scoped>\n",
       "    .dataframe tbody tr th:only-of-type {\n",
       "        vertical-align: middle;\n",
       "    }\n",
       "\n",
       "    .dataframe tbody tr th {\n",
       "        vertical-align: top;\n",
       "    }\n",
       "\n",
       "    .dataframe thead th {\n",
       "        text-align: right;\n",
       "    }\n",
       "</style>\n",
       "<table border=\"1\" class=\"dataframe\">\n",
       "  <thead>\n",
       "    <tr style=\"text-align: right;\">\n",
       "      <th></th>\n",
       "      <th>g</th>\n",
       "      <th>b</th>\n",
       "      <th>pos</th>\n",
       "      <th>neg</th>\n",
       "      <th>aux</th>\n",
       "      <th>verbs</th>\n",
       "      <th>propn</th>\n",
       "      <th>noun</th>\n",
       "      <th>adp</th>\n",
       "      <th>avg</th>\n",
       "    </tr>\n",
       "  </thead>\n",
       "  <tbody>\n",
       "    <tr>\n",
       "      <th>361</th>\n",
       "      <td>0</td>\n",
       "      <td>0</td>\n",
       "      <td>4</td>\n",
       "      <td>2</td>\n",
       "      <td>0</td>\n",
       "      <td>2</td>\n",
       "      <td>1</td>\n",
       "      <td>0</td>\n",
       "      <td>1</td>\n",
       "      <td>0.270200</td>\n",
       "    </tr>\n",
       "    <tr>\n",
       "      <th>366</th>\n",
       "      <td>0</td>\n",
       "      <td>0</td>\n",
       "      <td>4</td>\n",
       "      <td>1</td>\n",
       "      <td>0</td>\n",
       "      <td>1</td>\n",
       "      <td>2</td>\n",
       "      <td>2</td>\n",
       "      <td>1</td>\n",
       "      <td>0.684360</td>\n",
       "    </tr>\n",
       "    <tr>\n",
       "      <th>368</th>\n",
       "      <td>0</td>\n",
       "      <td>0</td>\n",
       "      <td>3</td>\n",
       "      <td>4</td>\n",
       "      <td>0</td>\n",
       "      <td>1</td>\n",
       "      <td>1</td>\n",
       "      <td>1</td>\n",
       "      <td>0</td>\n",
       "      <td>-0.125457</td>\n",
       "    </tr>\n",
       "    <tr>\n",
       "      <th>379</th>\n",
       "      <td>0</td>\n",
       "      <td>0</td>\n",
       "      <td>4</td>\n",
       "      <td>2</td>\n",
       "      <td>0</td>\n",
       "      <td>1</td>\n",
       "      <td>2</td>\n",
       "      <td>1</td>\n",
       "      <td>1</td>\n",
       "      <td>0.017400</td>\n",
       "    </tr>\n",
       "    <tr>\n",
       "      <th>391</th>\n",
       "      <td>0</td>\n",
       "      <td>0</td>\n",
       "      <td>3</td>\n",
       "      <td>4</td>\n",
       "      <td>0</td>\n",
       "      <td>2</td>\n",
       "      <td>1</td>\n",
       "      <td>0</td>\n",
       "      <td>0</td>\n",
       "      <td>0.056000</td>\n",
       "    </tr>\n",
       "  </tbody>\n",
       "</table>\n",
       "</div>"
      ],
      "text/plain": [
       "     g  b  pos  neg  aux  verbs  propn  noun  adp       avg\n",
       "361  0  0    4    2    0      2      1     0    1  0.270200\n",
       "366  0  0    4    1    0      1      2     2    1  0.684360\n",
       "368  0  0    3    4    0      1      1     1    0 -0.125457\n",
       "379  0  0    4    2    0      1      2     1    1  0.017400\n",
       "391  0  0    3    4    0      2      1     0    0  0.056000"
      ]
     },
     "execution_count": 34,
     "metadata": {},
     "output_type": "execute_result"
    }
   ],
   "source": [
    "#the number of verbs, proper nouns, nouns, adpositions, and the average value of the SentiArt’s vectors\n",
    "d_n.loc[:, 'g':'avg'].head()"
   ]
  },
  {
   "cell_type": "code",
   "execution_count": 194,
   "metadata": {},
   "outputs": [
    {
     "name": "stdout",
     "output_type": "stream",
     "text": [
      "['g', 'b', 'pos', 'neg', 'aux', 'verbs', 'propn', 'noun', 'adp', 'avg']\n"
     ]
    },
    {
     "data": {
      "application/vnd.jupyter.widget-view+json": {
       "model_id": "6efcc448d3374964afcfd59e24764213",
       "version_major": 2,
       "version_minor": 0
      },
      "text/plain": [
       "  0%|          | 0/1024 [00:00<?, ?it/s]"
      ]
     },
     "metadata": {},
     "output_type": "display_data"
    }
   ],
   "source": [
    "import itertools\n",
    "\n",
    "columns = list(d_n.loc[:, 'g':'avg'].columns)\n",
    "print(columns)\n",
    "all_combinations = []\n",
    "for r in range(len(columns) + 1):\n",
    "\n",
    "    combinations_object = itertools.combinations(columns, r)\n",
    "    combinations_list = list(combinations_object)\n",
    "    all_combinations += combinations_list\n",
    "\n",
    "d_n_upd = d_n.copy()\n",
    "def model(columns, d_n_upd):\n",
    "    d_n_upd = d_n_upd.drop(columns=columns)\n",
    "    X_train, X_test, y_train, y_test = tt_split(d_n_upd, y, ind)\n",
    "\n",
    "    model = CatBoostRegressor(verbose=False)\n",
    "    #train the model\n",
    "    model.fit(X_train,y_train)\n",
    "    # make the predictions\n",
    "    preds = model.predict(X_test)\n",
    "    p = pd.DataFrame(data=preds, index = X_test.index)\n",
    "    r2 = round(r2_score(y_test, p.values), 3)\n",
    "\n",
    "    sent = []\n",
    "    r = []\n",
    "    for i in ind:\n",
    "        sent.append(dataj_c.loc[i, 'Satz'])\n",
    "        r.append(round(p.loc[i, :].values[0], 3))\n",
    "    return r2, dict(zip(sent, r)), columns\n",
    "\n",
    "import collections\n",
    "results= collections.defaultdict(dict)\n",
    "for i in tqdm(range((len([list(x) for x in all_combinations])))):\n",
    "    output = model(list(all_combinations[i]), d_n_upd)\n",
    "    results[str(i)]['R^2'], results[str(i)]['Sentences'], results[str(i)]['Columns'] = output\n"
   ]
  },
  {
   "cell_type": "code",
   "execution_count": 195,
   "metadata": {},
   "outputs": [
    {
     "data": {
      "text/plain": [
       "{'R^2': 0.328,\n",
       " 'Sentences': {'\"Harry, das ist eine phantastische Nachricht!': 0.205,\n",
       "  '\"Wunderbar\", sagte Dumbledore strahlend.': 1.036,\n",
       "  '\"Hagrid wird sich freuen\", sagte Dumbledore lächelnd.': 0.41,\n",
       "  'Snape hat ihn getötet ...\"': -1.122,\n",
       "  '\"Snape hat ... Dumbledore umgebracht.\"': -1.271,\n",
       "  'Hagrids Hütte stand in Flammen.': -0.619},\n",
       " 'Columns': ['verbs', 'propn', 'noun', 'adp', 'avg']}"
      ]
     },
     "execution_count": 195,
     "metadata": {},
     "output_type": "execute_result"
    }
   ],
   "source": [
    "score = []\n",
    "for key in results.keys():\n",
    "    score.append(results[key]['R^2'])\n",
    "results[str(score.index(max(score)))]"
   ]
  },
  {
   "cell_type": "code",
   "execution_count": 337,
   "metadata": {},
   "outputs": [],
   "source": [
    "#d_n[['pos', 'verbs', 'noun', 'aux', 'avg']].head().reset_index(drop=True)"
   ]
  },
  {
   "cell_type": "code",
   "execution_count": 274,
   "metadata": {
    "collapsed": false,
    "pycharm": {
     "name": "#%%\n"
    }
   },
   "outputs": [
    {
     "name": "stdout",
     "output_type": "stream",
     "text": [
      "(1062, 74) (1062,)\n",
      "(274, 74) (274,)\n",
      "                                               Satz  valence\n",
      "8506  \"Harry, das ist eine phantastische Nachricht!     2.25 | Predicted: 0    0.205\n",
      "Name: 8506, dtype: float64\n",
      "                                          Satz  valence\n",
      "1269  \"Wunderbar\", sagte Dumbledore strahlend.      1.9 | Predicted: 0    1.036\n",
      "Name: 1269, dtype: float64\n",
      "                                                      Satz  valence\n",
      "890  \"Hagrid wird sich freuen\", sagte Dumbledore lächelnd.     1.85 | Predicted: 0    0.41\n",
      "Name: 890, dtype: float64\n",
      "                             Satz  valence\n",
      "10418  Snape hat ihn getötet ...\"     -2.6 | Predicted: 0   -1.122\n",
      "Name: 10418, dtype: float64\n",
      "                                         Satz  valence\n",
      "10414  \"Snape hat ... Dumbledore umgebracht.\"    -2.55 | Predicted: 0   -1.271\n",
      "Name: 10414, dtype: float64\n",
      "                                  Satz  valence\n",
      "10341  Hagrids Hütte stand in Flammen.     -2.3 | Predicted: 0   -0.619\n",
      "Name: 10341, dtype: float64\n",
      "R^2 score:  0.328\n"
     ]
    }
   ],
   "source": [
    "d_n_upd = d_n.copy()\n",
    "d_n_upd = d_n_upd.drop(columns=['verbs', 'propn', 'noun', 'adp', 'avg'])\n",
    "X_train, X_test, y_train, y_test = tt_split(d_n_upd, y, ind)\n",
    "\n",
    "print(X_train.shape, y_train.shape)\n",
    "print(X_test.shape, y_test.shape)\n",
    "\n",
    "model = CatBoostRegressor(verbose=False)\n",
    "#train the model\n",
    "model.fit(X_train,y_train)\n",
    "# make the predictions\n",
    "preds = model.predict(X_test)\n",
    "p = pd.DataFrame(data=preds, index = X_test.index)\n",
    "r2 = round(r2_score(y_test, p.values), 3)\n",
    "for i in ind:\n",
    "    print(dataj_c.loc[[i], ['Satz', 'valence']], '| Predicted:', round(p.loc[i, :], 3))\n",
    "print('R^2 score: ', r2)"
   ]
  },
  {
   "cell_type": "markdown",
   "metadata": {},
   "source": [
    "## Step 6"
   ]
  },
  {
   "cell_type": "code",
   "execution_count": 291,
   "metadata": {},
   "outputs": [
    {
     "data": {
      "text/html": [
       "<div>\n",
       "<style scoped>\n",
       "    .dataframe tbody tr th:only-of-type {\n",
       "        vertical-align: middle;\n",
       "    }\n",
       "\n",
       "    .dataframe tbody tr th {\n",
       "        vertical-align: top;\n",
       "    }\n",
       "\n",
       "    .dataframe thead th {\n",
       "        text-align: right;\n",
       "    }\n",
       "</style>\n",
       "<table border=\"1\" class=\"dataframe\">\n",
       "  <thead>\n",
       "    <tr style=\"text-align: right;\">\n",
       "      <th></th>\n",
       "      <th>logttr</th>\n",
       "      <th>avq</th>\n",
       "      <th>acq</th>\n",
       "      <th>daq</th>\n",
       "      <th>soq</th>\n",
       "      <th>phrase_dens</th>\n",
       "      <th>ssi</th>\n",
       "      <th>word_rep</th>\n",
       "      <th>wrep_ratio</th>\n",
       "      <th>nword</th>\n",
       "      <th>ncw</th>\n",
       "      <th>cwratio</th>\n",
       "      <th>cwhr</th>\n",
       "      <th>logf</th>\n",
       "      <th>wl</th>\n",
       "      <th>nsyl</th>\n",
       "      <th>cvq</th>\n",
       "      <th>son_score</th>\n",
       "      <th>ON</th>\n",
       "      <th>HFN</th>\n",
       "      <th>ODC</th>\n",
       "      <th>chunkm</th>\n",
       "      <th>chunksu</th>\n",
       "      <th>apsum</th>\n",
       "      <th>ansum</th>\n",
       "      <th>apsumd</th>\n",
       "      <th>valspan</th>\n",
       "      <th>arospan</th>\n",
       "      <th>APn</th>\n",
       "      <th>APv</th>\n",
       "      <th>APa</th>\n",
       "      <th>APav</th>\n",
       "      <th>pnrs</th>\n",
       "      <th>posmxv</th>\n",
       "      <th>posmnv</th>\n",
       "      <th>AAPz</th>\n",
       "      <th>aroz</th>\n",
       "      <th>valz</th>\n",
       "      <th>fear_z</th>\n",
       "      <th>disg_z</th>\n",
       "      <th>hap_z</th>\n",
       "      <th>sad_z</th>\n",
       "      <th>surp_z</th>\n",
       "      <th>ang_z</th>\n",
       "      <th>ssim</th>\n",
       "      <th>cwovlp</th>\n",
       "      <th>wovlp</th>\n",
       "      <th>aapsh</th>\n",
       "      <th>arosh</th>\n",
       "      <th>surpsh</th>\n",
       "      <th>IMSconc_z</th>\n",
       "      <th>IMSAro_z</th>\n",
       "      <th>IMSima_z</th>\n",
       "      <th>IMSVal_z</th>\n",
       "      <th>pat-ncw</th>\n",
       "      <th>acq-IMS</th>\n",
       "      <th>nchar</th>\n",
       "      <th>Satz_Pos_Chapter_NEU</th>\n",
       "      <th>0</th>\n",
       "      <th>1</th>\n",
       "      <th>2</th>\n",
       "      <th>3</th>\n",
       "      <th>4</th>\n",
       "      <th>5</th>\n",
       "      <th>6</th>\n",
       "      <th>7</th>\n",
       "      <th>8</th>\n",
       "      <th>9</th>\n",
       "      <th>10</th>\n",
       "      <th>g</th>\n",
       "      <th>b</th>\n",
       "      <th>pos</th>\n",
       "      <th>verbs</th>\n",
       "      <th>propn</th>\n",
       "      <th>noun</th>\n",
       "      <th>avg</th>\n",
       "    </tr>\n",
       "  </thead>\n",
       "  <tbody>\n",
       "    <tr>\n",
       "      <th>8506</th>\n",
       "      <td>0.0</td>\n",
       "      <td>1.0</td>\n",
       "      <td>0.667</td>\n",
       "      <td>2.0</td>\n",
       "      <td>1.0</td>\n",
       "      <td>3.0</td>\n",
       "      <td>12.00</td>\n",
       "      <td>0.0</td>\n",
       "      <td>0.0</td>\n",
       "      <td>6.0</td>\n",
       "      <td>5.0</td>\n",
       "      <td>0.8333</td>\n",
       "      <td>0.8333</td>\n",
       "      <td>9.6330</td>\n",
       "      <td>6.40</td>\n",
       "      <td>2.00</td>\n",
       "      <td>2.0166</td>\n",
       "      <td>6.8808</td>\n",
       "      <td>3.60</td>\n",
       "      <td>0.0</td>\n",
       "      <td>5.354</td>\n",
       "      <td>0.6300</td>\n",
       "      <td>2.254</td>\n",
       "      <td>3.053</td>\n",
       "      <td>-0.184</td>\n",
       "      <td>3.237</td>\n",
       "      <td>2.355</td>\n",
       "      <td>0.056</td>\n",
       "      <td>-0.184</td>\n",
       "      <td>0.267</td>\n",
       "      <td>2.171</td>\n",
       "      <td>NaN</td>\n",
       "      <td>4.0</td>\n",
       "      <td>2.171</td>\n",
       "      <td>-0.184</td>\n",
       "      <td>0.5738</td>\n",
       "      <td>0.3498</td>\n",
       "      <td>0.6980</td>\n",
       "      <td>0.3618</td>\n",
       "      <td>-0.210</td>\n",
       "      <td>0.7448</td>\n",
       "      <td>0.2124</td>\n",
       "      <td>1.6632</td>\n",
       "      <td>0.2286</td>\n",
       "      <td>0.6754</td>\n",
       "      <td>0.0</td>\n",
       "      <td>2.0</td>\n",
       "      <td>61.033</td>\n",
       "      <td>21.020</td>\n",
       "      <td>32.259</td>\n",
       "      <td>-1.1920</td>\n",
       "      <td>0.840</td>\n",
       "      <td>-0.2390</td>\n",
       "      <td>0.8258</td>\n",
       "      <td>3.0</td>\n",
       "      <td>3.0</td>\n",
       "      <td>0.0</td>\n",
       "      <td>39.0</td>\n",
       "      <td>2.5000</td>\n",
       "      <td>0.3281</td>\n",
       "      <td>0.2667</td>\n",
       "      <td>0.2871</td>\n",
       "      <td>2.171</td>\n",
       "      <td>-0.184</td>\n",
       "      <td>NaN</td>\n",
       "      <td>NaN</td>\n",
       "      <td>NaN</td>\n",
       "      <td>NaN</td>\n",
       "      <td>NaN</td>\n",
       "      <td>0.0</td>\n",
       "      <td>0.0</td>\n",
       "      <td>5.0</td>\n",
       "      <td>0.0</td>\n",
       "      <td>1.0</td>\n",
       "      <td>1.0</td>\n",
       "      <td>0.894817</td>\n",
       "    </tr>\n",
       "    <tr>\n",
       "      <th>10341</th>\n",
       "      <td>0.0</td>\n",
       "      <td>0.0</td>\n",
       "      <td>1.000</td>\n",
       "      <td>2.0</td>\n",
       "      <td>0.0</td>\n",
       "      <td>4.0</td>\n",
       "      <td>6.25</td>\n",
       "      <td>0.0</td>\n",
       "      <td>0.0</td>\n",
       "      <td>5.0</td>\n",
       "      <td>4.0</td>\n",
       "      <td>0.8000</td>\n",
       "      <td>0.8000</td>\n",
       "      <td>7.8868</td>\n",
       "      <td>4.75</td>\n",
       "      <td>1.25</td>\n",
       "      <td>2.6250</td>\n",
       "      <td>5.6073</td>\n",
       "      <td>2.75</td>\n",
       "      <td>0.5</td>\n",
       "      <td>4.418</td>\n",
       "      <td>0.4717</td>\n",
       "      <td>1.415</td>\n",
       "      <td>2.295</td>\n",
       "      <td>-0.204</td>\n",
       "      <td>2.499</td>\n",
       "      <td>1.413</td>\n",
       "      <td>0.073</td>\n",
       "      <td>1.209</td>\n",
       "      <td>0.103</td>\n",
       "      <td>NaN</td>\n",
       "      <td>NaN</td>\n",
       "      <td>3.0</td>\n",
       "      <td>1.209</td>\n",
       "      <td>-0.204</td>\n",
       "      <td>0.5228</td>\n",
       "      <td>0.3105</td>\n",
       "      <td>0.2083</td>\n",
       "      <td>0.4855</td>\n",
       "      <td>-0.115</td>\n",
       "      <td>0.5720</td>\n",
       "      <td>0.1595</td>\n",
       "      <td>0.8218</td>\n",
       "      <td>0.2743</td>\n",
       "      <td>0.7156</td>\n",
       "      <td>0.0</td>\n",
       "      <td>1.0</td>\n",
       "      <td>33.212</td>\n",
       "      <td>25.168</td>\n",
       "      <td>36.877</td>\n",
       "      <td>0.0155</td>\n",
       "      <td>-0.171</td>\n",
       "      <td>0.4215</td>\n",
       "      <td>0.3780</td>\n",
       "      <td>4.0</td>\n",
       "      <td>1.0</td>\n",
       "      <td>2.0</td>\n",
       "      <td>57.0</td>\n",
       "      <td>1.2086</td>\n",
       "      <td>0.4100</td>\n",
       "      <td>0.6762</td>\n",
       "      <td>-0.2040</td>\n",
       "      <td>NaN</td>\n",
       "      <td>NaN</td>\n",
       "      <td>NaN</td>\n",
       "      <td>NaN</td>\n",
       "      <td>NaN</td>\n",
       "      <td>NaN</td>\n",
       "      <td>NaN</td>\n",
       "      <td>0.0</td>\n",
       "      <td>0.0</td>\n",
       "      <td>3.0</td>\n",
       "      <td>1.0</td>\n",
       "      <td>1.0</td>\n",
       "      <td>2.0</td>\n",
       "      <td>0.522700</td>\n",
       "    </tr>\n",
       "  </tbody>\n",
       "</table>\n",
       "</div>"
      ],
      "text/plain": [
       "       logttr  avq    acq  daq  soq  phrase_dens    ssi  word_rep  wrep_ratio  \\\n",
       "8506      0.0  1.0  0.667  2.0  1.0          3.0  12.00       0.0         0.0   \n",
       "10341     0.0  0.0  1.000  2.0  0.0          4.0   6.25       0.0         0.0   \n",
       "\n",
       "       nword  ncw  cwratio    cwhr    logf    wl  nsyl     cvq  son_score  \\\n",
       "8506     6.0  5.0   0.8333  0.8333  9.6330  6.40  2.00  2.0166     6.8808   \n",
       "10341    5.0  4.0   0.8000  0.8000  7.8868  4.75  1.25  2.6250     5.6073   \n",
       "\n",
       "         ON  HFN    ODC  chunkm  chunksu  apsum  ansum  apsumd  valspan  \\\n",
       "8506   3.60  0.0  5.354  0.6300    2.254  3.053 -0.184   3.237    2.355   \n",
       "10341  2.75  0.5  4.418  0.4717    1.415  2.295 -0.204   2.499    1.413   \n",
       "\n",
       "       arospan    APn    APv    APa  APav  pnrs  posmxv  posmnv    AAPz  \\\n",
       "8506     0.056 -0.184  0.267  2.171   NaN   4.0   2.171  -0.184  0.5738   \n",
       "10341    0.073  1.209  0.103    NaN   NaN   3.0   1.209  -0.204  0.5228   \n",
       "\n",
       "         aroz    valz  fear_z  disg_z   hap_z   sad_z  surp_z   ang_z    ssim  \\\n",
       "8506   0.3498  0.6980  0.3618  -0.210  0.7448  0.2124  1.6632  0.2286  0.6754   \n",
       "10341  0.3105  0.2083  0.4855  -0.115  0.5720  0.1595  0.8218  0.2743  0.7156   \n",
       "\n",
       "       cwovlp  wovlp   aapsh   arosh  surpsh  IMSconc_z  IMSAro_z  IMSima_z  \\\n",
       "8506      0.0    2.0  61.033  21.020  32.259    -1.1920     0.840   -0.2390   \n",
       "10341     0.0    1.0  33.212  25.168  36.877     0.0155    -0.171    0.4215   \n",
       "\n",
       "       IMSVal_z  pat-ncw  acq-IMS  nchar  Satz_Pos_Chapter_NEU       0  \\\n",
       "8506     0.8258      3.0      3.0    0.0                  39.0  2.5000   \n",
       "10341    0.3780      4.0      1.0    2.0                  57.0  1.2086   \n",
       "\n",
       "            1       2       3      4      5   6   7   8   9  10    g    b  \\\n",
       "8506   0.3281  0.2667  0.2871  2.171 -0.184 NaN NaN NaN NaN NaN  0.0  0.0   \n",
       "10341  0.4100  0.6762 -0.2040    NaN    NaN NaN NaN NaN NaN NaN  0.0  0.0   \n",
       "\n",
       "       pos  verbs  propn  noun       avg  \n",
       "8506   5.0    0.0    1.0   1.0  0.894817  \n",
       "10341  3.0    1.0    1.0   2.0  0.522700  "
      ]
     },
     "execution_count": 291,
     "metadata": {},
     "output_type": "execute_result"
    }
   ],
   "source": [
    "X_test.loc[8506:10341, :]"
   ]
  },
  {
   "cell_type": "code",
   "execution_count": 645,
   "metadata": {},
   "outputs": [
    {
     "ename": "TypeError",
     "evalue": "write() argument must be str, not list",
     "output_type": "error",
     "traceback": [
      "\u001b[0;31m---------------------------------------------------------------------------\u001b[0m",
      "\u001b[0;31mTypeError\u001b[0m                                 Traceback (most recent call last)",
      "\u001b[0;32m<ipython-input-645-b29afc00337a>\u001b[0m in \u001b[0;36m<module>\u001b[0;34m\u001b[0m\n\u001b[1;32m      1\u001b[0m \u001b[0mX_test\u001b[0m\u001b[0;34m.\u001b[0m\u001b[0mindex\u001b[0m\u001b[0;34m\u001b[0m\u001b[0;34m\u001b[0m\u001b[0m\n\u001b[1;32m      2\u001b[0m \u001b[0mf\u001b[0m\u001b[0;34m=\u001b[0m \u001b[0mopen\u001b[0m\u001b[0;34m(\u001b[0m\u001b[0;34m\"test_indexes.txt\"\u001b[0m\u001b[0;34m,\u001b[0m\u001b[0;34m\"w+\"\u001b[0m\u001b[0;34m)\u001b[0m\u001b[0;34m\u001b[0m\u001b[0;34m\u001b[0m\u001b[0m\n\u001b[0;32m----> 3\u001b[0;31m \u001b[0mf\u001b[0m\u001b[0;34m.\u001b[0m\u001b[0mwrite\u001b[0m\u001b[0;34m(\u001b[0m\u001b[0mlist\u001b[0m\u001b[0;34m(\u001b[0m\u001b[0mX_test\u001b[0m\u001b[0;34m.\u001b[0m\u001b[0mindex\u001b[0m\u001b[0;34m)\u001b[0m\u001b[0;34m)\u001b[0m\u001b[0;34m\u001b[0m\u001b[0;34m\u001b[0m\u001b[0m\n\u001b[0m",
      "\u001b[0;31mTypeError\u001b[0m: write() argument must be str, not list"
     ]
    }
   ],
   "source": [
    "X_test.index\n",
    "f= open(\"test_indexes.txt\",\"w+\")\n",
    "f.write(list(X_test.index))"
   ]
  },
  {
   "cell_type": "code",
   "execution_count": 671,
   "metadata": {},
   "outputs": [],
   "source": [
    "years = list(X_test.index)\n",
    "with open('test_indexes.txt', 'w') as file:\n",
    "    file.write('\\n'.join(str(year) for year in years))"
   ]
  },
  {
   "cell_type": "code",
   "execution_count": 673,
   "metadata": {},
   "outputs": [
    {
     "data": {
      "text/plain": [
       "274"
      ]
     },
     "execution_count": 673,
     "metadata": {},
     "output_type": "execute_result"
    }
   ],
   "source": [
    "len(list(X_test.index))"
   ]
  },
  {
   "cell_type": "code",
   "execution_count": 681,
   "metadata": {},
   "outputs": [
    {
     "ename": "AttributeError",
     "evalue": "'_io.TextIOWrapper' object has no attribute 'split'",
     "output_type": "error",
     "traceback": [
      "\u001b[0;31m---------------------------------------------------------------------------\u001b[0m",
      "\u001b[0;31mAttributeError\u001b[0m                            Traceback (most recent call last)",
      "\u001b[0;32m<ipython-input-681-693861d378d2>\u001b[0m in \u001b[0;36m<module>\u001b[0;34m\u001b[0m\n\u001b[1;32m      1\u001b[0m \u001b[0;32mwith\u001b[0m \u001b[0mopen\u001b[0m\u001b[0;34m(\u001b[0m\u001b[0;34m'test_indexes.txt'\u001b[0m\u001b[0;34m)\u001b[0m \u001b[0;32mas\u001b[0m \u001b[0mf\u001b[0m\u001b[0;34m:\u001b[0m\u001b[0;34m\u001b[0m\u001b[0;34m\u001b[0m\u001b[0m\n\u001b[0;32m----> 2\u001b[0;31m     \u001b[0mw\u001b[0m \u001b[0;34m=\u001b[0m \u001b[0;34m[\u001b[0m\u001b[0mint\u001b[0m\u001b[0;34m(\u001b[0m\u001b[0mx\u001b[0m\u001b[0;34m)\u001b[0m \u001b[0;32mfor\u001b[0m \u001b[0mx\u001b[0m \u001b[0;32min\u001b[0m \u001b[0mf\u001b[0m\u001b[0;34m.\u001b[0m\u001b[0msplit\u001b[0m\u001b[0;34m(\u001b[0m\u001b[0;34m)\u001b[0m\u001b[0;34m]\u001b[0m\u001b[0;34m\u001b[0m\u001b[0;34m\u001b[0m\u001b[0m\n\u001b[0m\u001b[1;32m      3\u001b[0m     \u001b[0marray\u001b[0m \u001b[0;34m=\u001b[0m \u001b[0;34m[\u001b[0m\u001b[0;34m[\u001b[0m\u001b[0mint\u001b[0m\u001b[0;34m(\u001b[0m\u001b[0mx\u001b[0m\u001b[0;34m)\u001b[0m \u001b[0;32mfor\u001b[0m \u001b[0mx\u001b[0m \u001b[0;32min\u001b[0m \u001b[0mline\u001b[0m\u001b[0;34m.\u001b[0m\u001b[0msplit\u001b[0m\u001b[0;34m(\u001b[0m\u001b[0;34m)\u001b[0m\u001b[0;34m]\u001b[0m \u001b[0;32mfor\u001b[0m \u001b[0mline\u001b[0m \u001b[0;32min\u001b[0m \u001b[0mf\u001b[0m\u001b[0;34m]\u001b[0m\u001b[0;34m\u001b[0m\u001b[0;34m\u001b[0m\u001b[0m\n\u001b[1;32m      4\u001b[0m     \u001b[0mindexes\u001b[0m \u001b[0;34m=\u001b[0m \u001b[0;34m[\u001b[0m\u001b[0mitem\u001b[0m \u001b[0;32mfor\u001b[0m \u001b[0msublist\u001b[0m \u001b[0;32min\u001b[0m \u001b[0marray\u001b[0m \u001b[0;32mfor\u001b[0m \u001b[0mitem\u001b[0m \u001b[0;32min\u001b[0m \u001b[0msublist\u001b[0m\u001b[0;34m]\u001b[0m\u001b[0;34m\u001b[0m\u001b[0;34m\u001b[0m\u001b[0m\n\u001b[1;32m      5\u001b[0m \u001b[0mlen\u001b[0m\u001b[0;34m(\u001b[0m\u001b[0mindexes\u001b[0m\u001b[0;34m)\u001b[0m\u001b[0;34m\u001b[0m\u001b[0;34m\u001b[0m\u001b[0m\n",
      "\u001b[0;31mAttributeError\u001b[0m: '_io.TextIOWrapper' object has no attribute 'split'"
     ]
    }
   ],
   "source": [
    "with open('test_indexes.txt') as f:\n",
    "    w = [int(x) for x in next(f).split()]\n",
    "    array = [[int(x) for x in line.split()] for line in f]\n",
    "    indexes = [item for sublist in array for item in sublist]\n",
    "len(indexes)"
   ]
  },
  {
   "cell_type": "code",
   "execution_count": 275,
   "metadata": {
    "collapsed": false,
    "pycharm": {
     "name": "#%%\n"
    }
   },
   "outputs": [
    {
     "name": "stdout",
     "output_type": "stream",
     "text": [
      "R^2 before:  0.328\n",
      "(274, 4)\n"
     ]
    }
   ],
   "source": [
    "# diff = pd.DataFrame(data = y_test.values.astype(float), columns=['true'], index=y_test.index)\n",
    "# diff['pred'] = preds.astype(float)\n",
    "# diff['Satz'] = dataj.T[X_test.T.columns].T['Satz'].values\n",
    "# diff['Diff'] = list(abs(y_test - preds))\n",
    "# print('R^2 before: ', round(r2_score(diff.true, diff.pred), 3))\n",
    "# print(diff.shape)\n",
    "dif = pd.DataFrame(data = y_test.values.astype(float), columns=['true'], index=y_test.index)\n",
    "dif['pred'] = preds.astype(float)\n",
    "dif['Satz'] = dataj.T[X_test.T.columns].T['Satz'].values\n",
    "dif['Diff'] = list(abs(y_test - preds))\n",
    "print('R^2 before: ', round(r2_score(dif.true, dif.pred), 3))\n",
    "print(dif.shape)\n",
    "def apply_weights_on_preds(w1, w2, w3):\n",
    "    diff = dif.copy()\n",
    "    count=0\n",
    "    for i in diff.index:\n",
    "        for shifter in valence_shifters:\n",
    "            if shifter in diff.loc[i, 'Satz'].lower():\n",
    "                count+=1\n",
    "                if diff.loc[i, 'pred'] >= 0.0:\n",
    "                    for g in good:\n",
    "                        if g in diff.loc[i, 'Satz']:\n",
    "                            diff.loc[i, 'pred'] = diff.loc[i, 'pred'] +w1#*(-1)\n",
    "                    for b in bad:\n",
    "                        if b in diff.loc[i, 'Satz']:\n",
    "                            diff.loc[i, 'pred'] = diff.loc[i, 'pred'] +w2# * 4\n",
    "\n",
    "                if diff.loc[i, 'pred'] < 0.0:\n",
    "                    for g in good:\n",
    "                        if g in diff.loc[i, 'Satz']:\n",
    "                            diff.loc[i, 'pred'] = diff.loc[i, 'pred']+w3#.05#*(.9)\n",
    "                    for b in bad:\n",
    "                        if b in diff.loc[i, 'Satz']:\n",
    "                            diff.loc[i, 'pred'] = diff.loc[i, 'pred']*(1) # there are no such sentences\n",
    "    r2 = round(r2_score(diff.true.values, diff.pred.values),3)\n",
    "    sent = []\n",
    "    r = []\n",
    "    for i in ind:\n",
    "        sent.append(dataj_c.loc[i, 'Satz'])\n",
    "        r.append(round(diff.loc[i, 'pred'], 3))\n",
    "    return diff, r2, dict(zip(sent, r)), [w1, w2, w3]\n",
    "\n",
    "# res = [apply_weights_on_preds(w1, w2, w3) for w1 in tqdm(np.arange(-2, 2, 0.1)) \\\n",
    "#         for w2 in np.arange(-2, 2, 0.1) for w3 in np.arange(-2, 2, 0.1)]\n",
    "\n",
    "\n",
    "# for i in ind:\n",
    "#     print(dataj.loc[[i], ['Satz', 'valence']], '| Predicted:', round(diff.loc[[i], ['pred']].values[0][0],3))\n",
    "# print('R^2 after: ', round(r2_score(diff.true.values, diff.pred.values),3))\n"
   ]
  },
  {
   "cell_type": "code",
   "execution_count": 276,
   "metadata": {
    "collapsed": false,
    "pycharm": {
     "name": "#%%\n"
    }
   },
   "outputs": [],
   "source": [
    "import collections\n",
    "from operator import attrgetter\n",
    "from typing import Iterable, List, Optional, Pattern, Tuple\n",
    "\n",
    "from cytoolz import itertoolz\n",
    "from spacy.symbols import (\n",
    "    AUX, VERB,\n",
    "    agent, attr, aux, auxpass, csubj, csubjpass, dobj, neg, nsubj, nsubjpass, obj, pobj, xcomp\n",
    ")\n",
    "from spacy.tokens import Doc, Span, Token\n",
    "\n",
    "import matches\n",
    "import constants, types, utils\n",
    "\n",
    "\n",
    "_NOMINAL_SUBJ_DEPS = {'sb', 'nsubj', 'nsubj:pass'}\n",
    "_CLAUSAL_SUBJ_DEPS = {'csubj', 'csubjpass'}\n",
    "\n",
    "SVOTriple: Tuple[List[Token], List[Token], List[Token]] = collections.namedtuple(\n",
    "    \"SVOTriple\", [\"subject\", \"verb\", \"object\"]\n",
    ")\n",
    "\n",
    "def subject_verb_object_triples(doclike):\n",
    "    \"\"\"\n",
    "    Extract an ordered sequence of subject-verb-object triples from a document\n",
    "    or sentence.\n",
    "\n",
    "    Args:\n",
    "        doclike\n",
    "\n",
    "    Yields:\n",
    "        Next SVO triple as (subject, verb, object), in approximate order of appearance.\n",
    "    \"\"\"\n",
    "    if isinstance(doclike, Span):\n",
    "        sents = [doclike]\n",
    "    else:\n",
    "        sents = doclike.sents\n",
    "\n",
    "    for sent in sents:\n",
    "        # connect subjects/objects to direct verb heads\n",
    "        # and expand them to include conjuncts, compound nouns, ...\n",
    "        verb_sos = collections.defaultdict(lambda: collections.defaultdict(set))\n",
    "        for tok in sent:\n",
    "            head = tok.head\n",
    "            # ensure entry for all verbs, even if empty\n",
    "            # to catch conjugate verbs without direct subject/object deps\n",
    "            if tok.pos_ == 'VERB':\n",
    "                _ = verb_sos[tok]\n",
    "            # nominal subject of active or passive verb\n",
    "            if tok.dep_ in _NOMINAL_SUBJ_DEPS:\n",
    "                if head.pos_ == 'VERB':\n",
    "                    verb_sos[head][\"subjects\"].update(expand_noun(tok))\n",
    "            # clausal subject of active or passive verb\n",
    "            elif tok.dep_ in _CLAUSAL_SUBJ_DEPS:\n",
    "                if head.pos_ == 'VERB':\n",
    "                    verb_sos[head][\"subjects\"].update(tok.subtree)\n",
    "            # nominal direct object of transitive verb\n",
    "            elif tok.dep_ == 'oa':\n",
    "                if head.pos_ == 'VERB':\n",
    "                    verb_sos[head][\"objects\"].update(expand_noun(tok))\n",
    "            # prepositional object acting as agent of passive verb\n",
    "            elif tok.dep_ == 'acl':\n",
    "                if head.dep_ == 'agent' and head.head.pos_ == 'VERB':\n",
    "                    verb_sos[head.head][\"objects\"].update(expand_noun(tok))\n",
    "            # open clausal complement, but not as a secondary predicate\n",
    "            elif tok.dep_ == 'xcomp':\n",
    "                if (\n",
    "                    head.pos_ == 'VERB'\n",
    "                    and not any(child.dep_ == 'dobj' for child in head.children)\n",
    "                ):\n",
    "                    # TODO: just the verb, or the whole tree?\n",
    "                    # verb_sos[verb][\"objects\"].update(expand_verb(tok))\n",
    "                    verb_sos[head][\"objects\"].update(tok.subtree)\n",
    "        #return verb_sos\n",
    "        #fill in any indirect relationships connected via verb conjuncts\n",
    "        for verb, so_dict in verb_sos.items():\n",
    "            conjuncts = verb.conjuncts\n",
    "            if so_dict.get(\"subjects\"):\n",
    "                for conj in conjuncts:\n",
    "                    conj_so_dict = verb_sos.get(conj)\n",
    "                    if conj_so_dict and not conj_so_dict.get(\"subjects\"):\n",
    "                        conj_so_dict[\"subjects\"].update(so_dict[\"subjects\"])\n",
    "            if not so_dict.get(\"objects\"):\n",
    "                so_dict[\"objects\"].update(\n",
    "                    obj\n",
    "                    for conj in conjuncts\n",
    "                    for obj in verb_sos.get(conj, {}).get(\"objects\", [])\n",
    "                )\n",
    "        # expand verbs and restructure into svo triples\n",
    "        for verb, so_dict in verb_sos.items():\n",
    "            if so_dict[\"subjects\"] and so_dict[\"objects\"]:\n",
    "                yield SVOTriple(\n",
    "                    subject=sorted(so_dict[\"subjects\"], key=attrgetter(\"i\")),\n",
    "                    verb=sorted(expand_verb(verb), key=attrgetter(\"i\")),\n",
    "                    object=sorted(so_dict[\"objects\"], key=attrgetter(\"i\")),\n",
    "                )"
   ]
  },
  {
   "cell_type": "code",
   "execution_count": 147,
   "metadata": {},
   "outputs": [
    {
     "data": {
      "text/plain": [
       "'accusative object'"
      ]
     },
     "execution_count": 147,
     "metadata": {},
     "output_type": "execute_result"
    }
   ],
   "source": [
    "spacy.explain('oa')"
   ]
  },
  {
   "cell_type": "code",
   "execution_count": 148,
   "metadata": {},
   "outputs": [
    {
     "data": {
      "text/plain": [
       "'object of preposition'"
      ]
     },
     "execution_count": 148,
     "metadata": {},
     "output_type": "execute_result"
    }
   ],
   "source": [
    "spacy.explain('pobj')"
   ]
  },
  {
   "cell_type": "code",
   "execution_count": 149,
   "metadata": {},
   "outputs": [
    {
     "data": {
      "text/plain": [
       "'direct object'"
      ]
     },
     "execution_count": 149,
     "metadata": {},
     "output_type": "execute_result"
    }
   ],
   "source": [
    "spacy.explain('dobj')"
   ]
  },
  {
   "cell_type": "code",
   "execution_count": 150,
   "metadata": {},
   "outputs": [
    {
     "data": {
      "text/plain": [
       "'nominal subject'"
      ]
     },
     "execution_count": 150,
     "metadata": {},
     "output_type": "execute_result"
    }
   ],
   "source": [
    "spacy.explain('nsubj')"
   ]
  },
  {
   "cell_type": "code",
   "execution_count": 144,
   "metadata": {},
   "outputs": [],
   "source": [
    "spacy.explain('nsubj:pass')"
   ]
  },
  {
   "cell_type": "code",
   "execution_count": 145,
   "metadata": {},
   "outputs": [
    {
     "data": {
      "text/plain": [
       "'agent'"
      ]
     },
     "execution_count": 145,
     "metadata": {},
     "output_type": "execute_result"
    }
   ],
   "source": [
    "spacy.explain('agent')"
   ]
  },
  {
   "cell_type": "code",
   "execution_count": 146,
   "metadata": {},
   "outputs": [
    {
     "data": {
      "text/plain": [
       "'open clausal complement'"
      ]
     },
     "execution_count": 146,
     "metadata": {},
     "output_type": "execute_result"
    }
   ],
   "source": [
    "spacy.explain('xcomp')"
   ]
  },
  {
   "cell_type": "code",
   "execution_count": 153,
   "metadata": {},
   "outputs": [
    {
     "data": {
      "text/plain": [
       "'clausal subject'"
      ]
     },
     "execution_count": 153,
     "metadata": {},
     "output_type": "execute_result"
    }
   ],
   "source": [
    "spacy.explain('csubj')"
   ]
  },
  {
   "cell_type": "code",
   "execution_count": 164,
   "metadata": {},
   "outputs": [
    {
     "data": {
      "text/plain": [
       "'object'"
      ]
     },
     "execution_count": 164,
     "metadata": {},
     "output_type": "execute_result"
    }
   ],
   "source": [
    "spacy.explain('obj')"
   ]
  },
  {
   "cell_type": "code",
   "execution_count": 277,
   "metadata": {
    "collapsed": false,
    "pycharm": {
     "name": "#%%\n"
    }
   },
   "outputs": [],
   "source": [
    "nlp = spacy.load(\"de_core_news_lg\")"
   ]
  },
  {
   "cell_type": "code",
   "execution_count": 216,
   "metadata": {},
   "outputs": [
    {
     "data": {
      "application/vnd.jupyter.widget-view+json": {
       "model_id": "73c2f3faac134a3ab18b21d3c432ff49",
       "version_major": 2,
       "version_minor": 0
      },
      "text/plain": [
       "  0%|          | 0/40 [00:00<?, ?it/s]"
      ]
     },
     "metadata": {},
     "output_type": "display_data"
    }
   ],
   "source": [
    "r = [apply_weights_on_preds(w1, w2, w3) for w1 in tqdm(np.arange(-2, 2, .1)) for w2 in np.arange(-2, 2, .1) \\\n",
    "     for w3 in np.arange(-2, 2, .1)]"
   ]
  },
  {
   "cell_type": "code",
   "execution_count": 278,
   "metadata": {
    "collapsed": false,
    "pycharm": {
     "name": "#%%\n"
    }
   },
   "outputs": [],
   "source": [
    "diff, _, _, _ = apply_weights_on_preds(-0.2, 2, 0)\n",
    "diff['triplets'] = 'None'\n",
    "for i in diff.T.columns:\n",
    "    p = subject_verb_object_triples(nlp(diff.loc[i, 'Satz']))\n",
    "    for k in p:\n",
    "        diff.loc[i, 'triplets'] = str(list(k[:]))"
   ]
  },
  {
   "cell_type": "code",
   "execution_count": 283,
   "metadata": {},
   "outputs": [],
   "source": [
    "\n",
    "\n",
    "def applying_weights_based_on_the_SVOTriplets(w1, w2, w3, w4, w5, w6, w7, w8):\n",
    "    d_n_tr = d_n_upd.copy()\n",
    "    k = 0\n",
    "    dataf = data_char[data_char.triplets!='None']\n",
    "    out = diff.copy()\n",
    "    a,b,c,d,e,f,g,h=0,0,0,0,0,0,0,0\n",
    "    indexes = []\n",
    "    for i in dataf.index:\n",
    "        if dataf.loc[i, 'triplets'][-1] == 'sich':\n",
    "            dataf.loc[i, 'triplets'][-1] = dataf.loc[i, 'triplets'][0]\n",
    "        try:\n",
    "            if dataf.loc[i, 'triplets'][0] in good and dataf.loc[i, 'triplets'][-1] in good and lookup(dataf.loc[i, 'triplets'][1], sa) < 0:\n",
    "                indexes.append(i)\n",
    "                a+=1\n",
    "                d_n_tr.loc[i, 'AAPz'] *= w1\n",
    "            if dataf.loc[i, 'triplets'][0] in good and dataf.loc[i, 'triplets'][-1] in good and lookup(dataf.loc[i, 'triplets'][1], sa) >= 0:\n",
    "                b+=1\n",
    "                indexes.append(i)\n",
    "                d_n_tr.loc[i, 'AAPz'] *= w2\n",
    "\n",
    "\n",
    "            if dataf.loc[i, 'triplets'][0] in good and dataf.loc[i, 'triplets'][-1] in bad and lookup(dataf.loc[i, 'triplets'][1], sa) < 0:\n",
    "                c+=1\n",
    "                indexes.append(i)\n",
    "                d_n_tr.loc[i, 'AAPz'] *= w3\n",
    "            if dataf.loc[i, 'triplets'][0] in good and dataf.loc[i, 'triplets'][-1] in bad and lookup(dataf.loc[i, 'triplets'][1], sa) >= 0:\n",
    "                d+=1\n",
    "                indexes.append(i)\n",
    "                dataf.loc[i, 'AAPz'] *= w4\n",
    "\n",
    "\n",
    "            if dataf.loc[i, 'triplets'][0] in bad and dataf.loc[i, 'triplets'][-1] in good and lookup(dataf.loc[i, 'triplets'][1], sa) >= 0:\n",
    "                e+=1\n",
    "                indexes.append(i)\n",
    "                d_n_tr.loc[i, 'AAPz'] *= w5\n",
    "            if dataf.loc[i, 'triplets'][0] in bad and dataf.loc[i, 'triplets'][-1] in good and lookup(dataf.loc[i, 'triplets'][1], sa) < 0:\n",
    "                f+=1\n",
    "                indexes.append(i)\n",
    "                d_n_tr.loc[i, 'AAPz'] *= w6\n",
    "\n",
    "            if dataf.loc[i, 'triplets'][0] in bad and dataf.loc[i, 'triplets'][-1] in bad and lookup(dataf.loc[i, 'triplets'][1], sa) < 0:\n",
    "                g+=1\n",
    "                indexes.append(i)\n",
    "                d_n_tr.loc[i, 'AAPz'] *= w7\n",
    "            if dataf.loc[i, 'triplets'][0] in bad and dataf.loc[i, 'triplets'][-1] in bad and lookup(dataf.loc[i, 'triplets'][1], sa) >= 0:\n",
    "                h+=1\n",
    "                indexes.append(i)\n",
    "                d_n_tr.loc[i, 'AAPz'] *= w8\n",
    "        except: pass\n",
    "    print(a, b, c, d, e, f, g, h)\n",
    "    X_train, X_test, y_train, y_test = tt_split(d_n_tr, y, ind)\n",
    "\n",
    "    model = CatBoostRegressor(verbose=False, thread_count=8)\n",
    "    model.fit(X_train,y_train)\n",
    "\n",
    "    preds = model.predict(X_test.values)\n",
    "\n",
    "    p = pd.DataFrame(data=preds, index = X_test.index)\n",
    "    r2 = round(r2_score(y_test, p.values), 3)\n",
    "    sent = []\n",
    "    r = []\n",
    "    for i in ind:\n",
    "        sent.append(dataj_c.loc[i, 'Satz'])\n",
    "        r.append(round(p.loc[i, :].values[0], 3))\n",
    "    return d_n_tr, {'R^2:', r2}, dict(zip(sent, r)), [w1, w2, w3, w4, w5, w6, w7 ,w8]\n"
   ]
  },
  {
   "cell_type": "code",
   "execution_count": 39,
   "metadata": {},
   "outputs": [
    {
     "name": "stdout",
     "output_type": "stream",
     "text": [
      "13 11 2 0 0 1 0 4\n"
     ]
    },
    {
     "data": {
      "text/plain": [
       "{0.328, 'R^2:'}"
      ]
     },
     "execution_count": 39,
     "metadata": {},
     "output_type": "execute_result"
    }
   ],
   "source": [
    "applying_weights_based_on_the_SVOTriplets(1, 1, 1, 1, 1, 1, 1, 1)[1]"
   ]
  },
  {
   "cell_type": "code",
   "execution_count": 286,
   "metadata": {},
   "outputs": [],
   "source": [
    "def applying_weights_based_on_the_SVOTriplets(w1, w2, w3, w4):\n",
    "    d_n_tr = d_n_upd.copy()\n",
    "    k = 0\n",
    "    dataf = data_char[data_char.triplets!='None']\n",
    "    a,b,c,d,e,f=0,0,0,0,0,0\n",
    "    indexes = []\n",
    "    for i in dataf.index:\n",
    "        if dataf.loc[i, 'triplets'][-1] == 'sich':\n",
    "            dataf.loc[i, 'triplets'][-1] = dataf.loc[i, 'triplets'][0]\n",
    "        if dataf.loc[i, 'triplets'][0] in bad:\n",
    "            a+=1\n",
    "            d_n_tr.loc[i, 'AAPz'] *= w1\n",
    "        if dataf.loc[i, 'triplets'][0] in good:\n",
    "            b+=1\n",
    "            d_n_tr.loc[i, 'AAPz'] *= w2\n",
    "        if dataf.loc[i, 'triplets'][-1] in good:\n",
    "            c+=1\n",
    "            d_n_tr.loc[i, 'AAPz'] *= w3\n",
    "        if dataf.loc[i, 'triplets'][-1] in bad:\n",
    "            d+=1\n",
    "            d_n_tr.loc[i, 'AAPz'] *= w4\n",
    "    X_train, X_test, y_train, y_test = tt_split(d_n_tr, y, ind)\n",
    "\n",
    "    model = CatBoostRegressor(verbose=False, thread_count=8)\n",
    "    model.fit(X_train,y_train)\n",
    "\n",
    "    preds = model.predict(X_test.values)\n",
    "\n",
    "    p = pd.DataFrame(data=preds, index = X_test.index)\n",
    "    r2 = round(r2_score(y_test, p.values), 3)\n",
    "    sent = []\n",
    "    r = []\n",
    "    for i in ind:\n",
    "        sent.append(dataj_c.loc[i, 'Satz'])\n",
    "        r.append(round(p.loc[i, :].values[0], 3))\n",
    "    return d_n_tr, r2, dict(zip(sent, r)), [w1, w2, w3, w4]\n"
   ]
  },
  {
   "cell_type": "code",
   "execution_count": 299,
   "metadata": {},
   "outputs": [
    {
     "data": {
      "application/vnd.jupyter.widget-view+json": {
       "model_id": "1e319959c4024a77ba121699a4dac2af",
       "version_major": 2,
       "version_minor": 0
      },
      "text/plain": [
       "  0%|          | 0/8 [00:00<?, ?it/s]"
      ]
     },
     "metadata": {},
     "output_type": "display_data"
    },
    {
     "data": {
      "application/vnd.jupyter.widget-view+json": {
       "model_id": "138ff8709cb24fe38bb72f9e19354732",
       "version_major": 2,
       "version_minor": 0
      },
      "text/plain": [
       "  0%|          | 0/8 [00:00<?, ?it/s]"
      ]
     },
     "metadata": {},
     "output_type": "display_data"
    },
    {
     "data": {
      "application/vnd.jupyter.widget-view+json": {
       "model_id": "47021cd449b84c3b864d5776ce5e52e7",
       "version_major": 2,
       "version_minor": 0
      },
      "text/plain": [
       "  0%|          | 0/8 [00:00<?, ?it/s]"
      ]
     },
     "metadata": {},
     "output_type": "display_data"
    },
    {
     "data": {
      "application/vnd.jupyter.widget-view+json": {
       "model_id": "cc2a95adda264e469f9051f311aeab83",
       "version_major": 2,
       "version_minor": 0
      },
      "text/plain": [
       "  0%|          | 0/8 [00:00<?, ?it/s]"
      ]
     },
     "metadata": {},
     "output_type": "display_data"
    },
    {
     "data": {
      "application/vnd.jupyter.widget-view+json": {
       "model_id": "57533c9f4d9848c4a91c54611475b3fb",
       "version_major": 2,
       "version_minor": 0
      },
      "text/plain": [
       "  0%|          | 0/8 [00:00<?, ?it/s]"
      ]
     },
     "metadata": {},
     "output_type": "display_data"
    },
    {
     "data": {
      "application/vnd.jupyter.widget-view+json": {
       "model_id": "f97676551296443086a5b6bf85f7b6bb",
       "version_major": 2,
       "version_minor": 0
      },
      "text/plain": [
       "  0%|          | 0/8 [00:00<?, ?it/s]"
      ]
     },
     "metadata": {},
     "output_type": "display_data"
    },
    {
     "data": {
      "application/vnd.jupyter.widget-view+json": {
       "model_id": "c26bb65b89d547d38205151241a4c2fa",
       "version_major": 2,
       "version_minor": 0
      },
      "text/plain": [
       "  0%|          | 0/8 [00:00<?, ?it/s]"
      ]
     },
     "metadata": {},
     "output_type": "display_data"
    },
    {
     "data": {
      "application/vnd.jupyter.widget-view+json": {
       "model_id": "c2710deb43f14ebd958e20054a38504f",
       "version_major": 2,
       "version_minor": 0
      },
      "text/plain": [
       "  0%|          | 0/8 [00:00<?, ?it/s]"
      ]
     },
     "metadata": {},
     "output_type": "display_data"
    },
    {
     "data": {
      "application/vnd.jupyter.widget-view+json": {
       "model_id": "ca772a98fa104179a8c3abd885b644e7",
       "version_major": 2,
       "version_minor": 0
      },
      "text/plain": [
       "  0%|          | 0/8 [00:00<?, ?it/s]"
      ]
     },
     "metadata": {},
     "output_type": "display_data"
    }
   ],
   "source": [
    "interval = np.arange(-2, 2, .5)\n",
    "\n",
    "r = [applying_weights_based_on_the_SVOTriplets(w1, w2, w3, w4) for w1 in tqdm(interval) for w2 in tqdm(interval, leave=False) \\\n",
    "     for w3 in interval for w4 in interval]"
   ]
  },
  {
   "cell_type": "code",
   "execution_count": 360,
   "metadata": {},
   "outputs": [
    {
     "ename": "IndexError",
     "evalue": "invalid index to scalar variable.",
     "output_type": "error",
     "traceback": [
      "\u001b[0;31m---------------------------------------------------------------------------\u001b[0m",
      "\u001b[0;31mIndexError\u001b[0m                                Traceback (most recent call last)",
      "\u001b[0;32m<ipython-input-360-a69c0f79f5ec>\u001b[0m in \u001b[0;36m<module>\u001b[0;34m\u001b[0m\n\u001b[1;32m      1\u001b[0m \u001b[0mvalues\u001b[0m \u001b[0;34m=\u001b[0m \u001b[0;34m[\u001b[0m\u001b[0;34m]\u001b[0m\u001b[0;34m\u001b[0m\u001b[0;34m\u001b[0m\u001b[0m\n\u001b[1;32m      2\u001b[0m \u001b[0;32mfor\u001b[0m \u001b[0mi\u001b[0m \u001b[0;32min\u001b[0m \u001b[0mrange\u001b[0m\u001b[0;34m(\u001b[0m\u001b[0mlen\u001b[0m\u001b[0;34m(\u001b[0m\u001b[0mr\u001b[0m\u001b[0;34m)\u001b[0m\u001b[0;34m)\u001b[0m\u001b[0;34m:\u001b[0m\u001b[0;34m\u001b[0m\u001b[0;34m\u001b[0m\u001b[0m\n\u001b[0;32m----> 3\u001b[0;31m     \u001b[0mvalues\u001b[0m\u001b[0;34m.\u001b[0m\u001b[0mappend\u001b[0m\u001b[0;34m(\u001b[0m\u001b[0mr\u001b[0m\u001b[0;34m[\u001b[0m\u001b[0mi\u001b[0m\u001b[0;34m]\u001b[0m\u001b[0;34m[\u001b[0m\u001b[0;36m1\u001b[0m\u001b[0;34m]\u001b[0m\u001b[0;34m)\u001b[0m\u001b[0;34m\u001b[0m\u001b[0;34m\u001b[0m\u001b[0m\n\u001b[0m\u001b[1;32m      4\u001b[0m \u001b[0mmax\u001b[0m\u001b[0;34m(\u001b[0m\u001b[0mvalues\u001b[0m\u001b[0;34m)\u001b[0m\u001b[0;34m\u001b[0m\u001b[0;34m\u001b[0m\u001b[0m\n\u001b[1;32m      5\u001b[0m \u001b[0;34m\u001b[0m\u001b[0m\n",
      "\u001b[0;31mIndexError\u001b[0m: invalid index to scalar variable."
     ]
    }
   ],
   "source": [
    "values = []\n",
    "for i in range(len(r)):\n",
    "    values.append(r[i][1])\n",
    "max(values)\n",
    "\n",
    "for i in sorted(range(len(values)), key=lambda i: values[i])[-2:]:\n",
    "    print(r[i][1:])"
   ]
  },
  {
   "cell_type": "code",
   "execution_count": 285,
   "metadata": {},
   "outputs": [
    {
     "data": {
      "text/plain": [
       "0.338"
      ]
     },
     "execution_count": 285,
     "metadata": {},
     "output_type": "execute_result"
    }
   ],
   "source": [
    "final_data, r2, _, _ = applying_weights_based_on_the_SVOTriplets(-1.5, -1.5, 1.5, 1.0)\n",
    "r2"
   ]
  },
  {
   "cell_type": "markdown",
   "metadata": {},
   "source": [
    "# SA + BERT"
   ]
  },
  {
   "cell_type": "code",
   "execution_count": 51,
   "metadata": {},
   "outputs": [],
   "source": [
    "bert_embs = pd.read_csv('/Users/alexcrystal/PycharmProjects/pythonProject/thesis/data/embeddings/embeddings_bert_10-12.csv')\n",
    "bert_embs.index = bert_embs['Unnamed: 0']\n",
    "bert_embs = bert_embs.drop(columns=['Unnamed: 0'])\n",
    "# bert_embs = bert_embs.drop(columns=['Unnamed: 0'])\n"
   ]
  },
  {
   "cell_type": "code",
   "execution_count": 52,
   "metadata": {},
   "outputs": [
    {
     "data": {
      "text/html": [
       "<div>\n",
       "<style scoped>\n",
       "    .dataframe tbody tr th:only-of-type {\n",
       "        vertical-align: middle;\n",
       "    }\n",
       "\n",
       "    .dataframe tbody tr th {\n",
       "        vertical-align: top;\n",
       "    }\n",
       "\n",
       "    .dataframe thead th {\n",
       "        text-align: right;\n",
       "    }\n",
       "</style>\n",
       "<table border=\"1\" class=\"dataframe\">\n",
       "  <thead>\n",
       "    <tr style=\"text-align: right;\">\n",
       "      <th></th>\n",
       "      <th>1000</th>\n",
       "      <th>1001</th>\n",
       "      <th>1002</th>\n",
       "      <th>1003</th>\n",
       "      <th>1004</th>\n",
       "      <th>1005</th>\n",
       "      <th>1006</th>\n",
       "      <th>1007</th>\n",
       "      <th>1008</th>\n",
       "      <th>1009</th>\n",
       "      <th>1010</th>\n",
       "      <th>1011</th>\n",
       "      <th>1012</th>\n",
       "      <th>1013</th>\n",
       "      <th>1014</th>\n",
       "      <th>1015</th>\n",
       "      <th>1016</th>\n",
       "      <th>1017</th>\n",
       "      <th>1018</th>\n",
       "      <th>1019</th>\n",
       "      <th>1020</th>\n",
       "      <th>1021</th>\n",
       "      <th>1022</th>\n",
       "      <th>1023</th>\n",
       "      <th>1024</th>\n",
       "      <th>1025</th>\n",
       "      <th>1026</th>\n",
       "      <th>1027</th>\n",
       "      <th>1028</th>\n",
       "      <th>1029</th>\n",
       "      <th>1030</th>\n",
       "      <th>1031</th>\n",
       "      <th>1032</th>\n",
       "      <th>1033</th>\n",
       "      <th>1034</th>\n",
       "      <th>1035</th>\n",
       "      <th>1036</th>\n",
       "      <th>1037</th>\n",
       "      <th>1038</th>\n",
       "      <th>1039</th>\n",
       "      <th>1040</th>\n",
       "      <th>1041</th>\n",
       "      <th>1042</th>\n",
       "      <th>1043</th>\n",
       "      <th>1044</th>\n",
       "      <th>1045</th>\n",
       "      <th>1046</th>\n",
       "      <th>1047</th>\n",
       "      <th>1048</th>\n",
       "      <th>1049</th>\n",
       "      <th>1050</th>\n",
       "      <th>1051</th>\n",
       "      <th>1052</th>\n",
       "      <th>1053</th>\n",
       "      <th>1054</th>\n",
       "      <th>1055</th>\n",
       "      <th>1056</th>\n",
       "      <th>1057</th>\n",
       "      <th>1058</th>\n",
       "      <th>1059</th>\n",
       "      <th>1060</th>\n",
       "      <th>1061</th>\n",
       "      <th>1062</th>\n",
       "      <th>1063</th>\n",
       "      <th>1064</th>\n",
       "      <th>1065</th>\n",
       "      <th>1066</th>\n",
       "      <th>1067</th>\n",
       "      <th>1068</th>\n",
       "      <th>1069</th>\n",
       "      <th>1070</th>\n",
       "      <th>1071</th>\n",
       "      <th>1072</th>\n",
       "      <th>1073</th>\n",
       "      <th>1074</th>\n",
       "      <th>1075</th>\n",
       "      <th>1076</th>\n",
       "      <th>1077</th>\n",
       "      <th>1078</th>\n",
       "      <th>1079</th>\n",
       "      <th>1080</th>\n",
       "      <th>1081</th>\n",
       "      <th>1082</th>\n",
       "      <th>1083</th>\n",
       "      <th>1084</th>\n",
       "      <th>1085</th>\n",
       "      <th>1086</th>\n",
       "      <th>1087</th>\n",
       "      <th>1088</th>\n",
       "      <th>1089</th>\n",
       "      <th>1090</th>\n",
       "      <th>1091</th>\n",
       "      <th>1092</th>\n",
       "      <th>1093</th>\n",
       "      <th>1094</th>\n",
       "      <th>1095</th>\n",
       "      <th>1096</th>\n",
       "      <th>1097</th>\n",
       "      <th>1098</th>\n",
       "      <th>1099</th>\n",
       "      <th>1100</th>\n",
       "      <th>1101</th>\n",
       "      <th>1102</th>\n",
       "      <th>1103</th>\n",
       "      <th>1104</th>\n",
       "      <th>1105</th>\n",
       "      <th>1106</th>\n",
       "      <th>1107</th>\n",
       "      <th>1108</th>\n",
       "      <th>1109</th>\n",
       "      <th>1110</th>\n",
       "      <th>1111</th>\n",
       "      <th>1112</th>\n",
       "      <th>1113</th>\n",
       "      <th>1114</th>\n",
       "      <th>1115</th>\n",
       "      <th>1116</th>\n",
       "      <th>1117</th>\n",
       "      <th>1118</th>\n",
       "      <th>1119</th>\n",
       "      <th>1120</th>\n",
       "      <th>1121</th>\n",
       "      <th>1122</th>\n",
       "      <th>1123</th>\n",
       "      <th>1124</th>\n",
       "      <th>1125</th>\n",
       "      <th>1126</th>\n",
       "      <th>1127</th>\n",
       "      <th>1128</th>\n",
       "      <th>1129</th>\n",
       "      <th>1130</th>\n",
       "      <th>1131</th>\n",
       "      <th>1132</th>\n",
       "      <th>1133</th>\n",
       "      <th>1134</th>\n",
       "      <th>1135</th>\n",
       "      <th>1136</th>\n",
       "      <th>1137</th>\n",
       "      <th>1138</th>\n",
       "      <th>1139</th>\n",
       "      <th>1140</th>\n",
       "      <th>1141</th>\n",
       "      <th>1142</th>\n",
       "      <th>1143</th>\n",
       "      <th>1144</th>\n",
       "      <th>1145</th>\n",
       "      <th>1146</th>\n",
       "      <th>1147</th>\n",
       "      <th>1148</th>\n",
       "      <th>1149</th>\n",
       "      <th>1150</th>\n",
       "      <th>1151</th>\n",
       "      <th>1152</th>\n",
       "      <th>1153</th>\n",
       "      <th>1154</th>\n",
       "      <th>1155</th>\n",
       "      <th>1156</th>\n",
       "      <th>1157</th>\n",
       "      <th>1158</th>\n",
       "      <th>1159</th>\n",
       "      <th>1160</th>\n",
       "      <th>1161</th>\n",
       "      <th>1162</th>\n",
       "      <th>1163</th>\n",
       "      <th>1164</th>\n",
       "      <th>1165</th>\n",
       "      <th>1166</th>\n",
       "      <th>1167</th>\n",
       "      <th>1168</th>\n",
       "      <th>1169</th>\n",
       "      <th>1170</th>\n",
       "      <th>1171</th>\n",
       "      <th>1172</th>\n",
       "      <th>1173</th>\n",
       "      <th>1174</th>\n",
       "      <th>1175</th>\n",
       "      <th>1176</th>\n",
       "      <th>1177</th>\n",
       "      <th>1178</th>\n",
       "      <th>1179</th>\n",
       "      <th>1180</th>\n",
       "      <th>1181</th>\n",
       "      <th>1182</th>\n",
       "      <th>1183</th>\n",
       "      <th>1184</th>\n",
       "      <th>1185</th>\n",
       "      <th>1186</th>\n",
       "      <th>1187</th>\n",
       "      <th>1188</th>\n",
       "      <th>1189</th>\n",
       "      <th>1190</th>\n",
       "      <th>1191</th>\n",
       "      <th>1192</th>\n",
       "      <th>1193</th>\n",
       "      <th>1194</th>\n",
       "      <th>1195</th>\n",
       "      <th>1196</th>\n",
       "      <th>1197</th>\n",
       "      <th>1198</th>\n",
       "      <th>1199</th>\n",
       "      <th>1200</th>\n",
       "      <th>1201</th>\n",
       "      <th>1202</th>\n",
       "      <th>1203</th>\n",
       "      <th>1204</th>\n",
       "      <th>1205</th>\n",
       "      <th>1206</th>\n",
       "      <th>1207</th>\n",
       "      <th>1208</th>\n",
       "      <th>1209</th>\n",
       "      <th>1210</th>\n",
       "      <th>1211</th>\n",
       "      <th>1212</th>\n",
       "      <th>1213</th>\n",
       "      <th>1214</th>\n",
       "      <th>1215</th>\n",
       "      <th>1216</th>\n",
       "      <th>1217</th>\n",
       "      <th>1218</th>\n",
       "      <th>1219</th>\n",
       "      <th>1220</th>\n",
       "      <th>1221</th>\n",
       "      <th>1222</th>\n",
       "      <th>1223</th>\n",
       "      <th>1224</th>\n",
       "      <th>1225</th>\n",
       "      <th>1226</th>\n",
       "      <th>1227</th>\n",
       "      <th>1228</th>\n",
       "      <th>1229</th>\n",
       "      <th>1230</th>\n",
       "      <th>1231</th>\n",
       "      <th>1232</th>\n",
       "      <th>1233</th>\n",
       "      <th>1234</th>\n",
       "      <th>1235</th>\n",
       "      <th>1236</th>\n",
       "      <th>1237</th>\n",
       "      <th>1238</th>\n",
       "      <th>1239</th>\n",
       "      <th>1240</th>\n",
       "      <th>1241</th>\n",
       "      <th>1242</th>\n",
       "      <th>1243</th>\n",
       "      <th>1244</th>\n",
       "      <th>1245</th>\n",
       "      <th>1246</th>\n",
       "      <th>1247</th>\n",
       "      <th>1248</th>\n",
       "      <th>1249</th>\n",
       "      <th>1250</th>\n",
       "      <th>1251</th>\n",
       "      <th>1252</th>\n",
       "      <th>1253</th>\n",
       "      <th>1254</th>\n",
       "      <th>1255</th>\n",
       "      <th>1256</th>\n",
       "      <th>1257</th>\n",
       "      <th>1258</th>\n",
       "      <th>1259</th>\n",
       "      <th>1260</th>\n",
       "      <th>1261</th>\n",
       "      <th>1262</th>\n",
       "      <th>1263</th>\n",
       "      <th>1264</th>\n",
       "      <th>1265</th>\n",
       "      <th>1266</th>\n",
       "      <th>1267</th>\n",
       "      <th>1268</th>\n",
       "      <th>1269</th>\n",
       "      <th>1270</th>\n",
       "      <th>1271</th>\n",
       "      <th>1272</th>\n",
       "      <th>1273</th>\n",
       "      <th>1274</th>\n",
       "      <th>1275</th>\n",
       "      <th>1276</th>\n",
       "      <th>1277</th>\n",
       "      <th>1278</th>\n",
       "      <th>1279</th>\n",
       "      <th>1280</th>\n",
       "      <th>1281</th>\n",
       "      <th>1282</th>\n",
       "      <th>1283</th>\n",
       "      <th>1284</th>\n",
       "      <th>1285</th>\n",
       "      <th>1286</th>\n",
       "      <th>1287</th>\n",
       "      <th>1288</th>\n",
       "      <th>1289</th>\n",
       "      <th>1290</th>\n",
       "      <th>1291</th>\n",
       "      <th>1292</th>\n",
       "      <th>1293</th>\n",
       "      <th>1294</th>\n",
       "      <th>1295</th>\n",
       "      <th>1296</th>\n",
       "      <th>1297</th>\n",
       "      <th>1298</th>\n",
       "      <th>1299</th>\n",
       "      <th>1300</th>\n",
       "      <th>1301</th>\n",
       "      <th>1302</th>\n",
       "      <th>1303</th>\n",
       "      <th>1304</th>\n",
       "      <th>1305</th>\n",
       "      <th>1306</th>\n",
       "      <th>1307</th>\n",
       "      <th>1308</th>\n",
       "      <th>1309</th>\n",
       "      <th>1310</th>\n",
       "      <th>1311</th>\n",
       "      <th>1312</th>\n",
       "      <th>1313</th>\n",
       "      <th>1314</th>\n",
       "      <th>1315</th>\n",
       "      <th>1316</th>\n",
       "      <th>1317</th>\n",
       "      <th>1318</th>\n",
       "      <th>1319</th>\n",
       "      <th>1320</th>\n",
       "      <th>1321</th>\n",
       "      <th>1322</th>\n",
       "      <th>1323</th>\n",
       "      <th>1324</th>\n",
       "      <th>1325</th>\n",
       "      <th>1326</th>\n",
       "      <th>1327</th>\n",
       "      <th>1328</th>\n",
       "      <th>1329</th>\n",
       "      <th>1330</th>\n",
       "      <th>1331</th>\n",
       "      <th>1332</th>\n",
       "      <th>1333</th>\n",
       "      <th>1334</th>\n",
       "      <th>1335</th>\n",
       "      <th>1336</th>\n",
       "      <th>1337</th>\n",
       "      <th>1338</th>\n",
       "      <th>1339</th>\n",
       "      <th>1340</th>\n",
       "      <th>1341</th>\n",
       "      <th>1342</th>\n",
       "      <th>1343</th>\n",
       "      <th>1344</th>\n",
       "      <th>1345</th>\n",
       "      <th>1346</th>\n",
       "      <th>1347</th>\n",
       "      <th>1348</th>\n",
       "      <th>1349</th>\n",
       "      <th>1350</th>\n",
       "      <th>1351</th>\n",
       "      <th>1352</th>\n",
       "      <th>1353</th>\n",
       "      <th>1354</th>\n",
       "      <th>1355</th>\n",
       "      <th>1356</th>\n",
       "      <th>1357</th>\n",
       "      <th>1358</th>\n",
       "      <th>1359</th>\n",
       "      <th>1360</th>\n",
       "      <th>1361</th>\n",
       "      <th>1362</th>\n",
       "      <th>1363</th>\n",
       "      <th>1364</th>\n",
       "      <th>1365</th>\n",
       "      <th>1366</th>\n",
       "      <th>1367</th>\n",
       "      <th>1368</th>\n",
       "      <th>1369</th>\n",
       "      <th>1370</th>\n",
       "      <th>1371</th>\n",
       "      <th>1372</th>\n",
       "      <th>1373</th>\n",
       "      <th>1374</th>\n",
       "      <th>1375</th>\n",
       "      <th>1376</th>\n",
       "      <th>1377</th>\n",
       "      <th>1378</th>\n",
       "      <th>1379</th>\n",
       "      <th>1380</th>\n",
       "      <th>1381</th>\n",
       "      <th>1382</th>\n",
       "      <th>1383</th>\n",
       "      <th>1384</th>\n",
       "      <th>1385</th>\n",
       "      <th>1386</th>\n",
       "      <th>1387</th>\n",
       "      <th>1388</th>\n",
       "      <th>1389</th>\n",
       "      <th>1390</th>\n",
       "      <th>1391</th>\n",
       "      <th>1392</th>\n",
       "      <th>1393</th>\n",
       "      <th>1394</th>\n",
       "      <th>1395</th>\n",
       "      <th>1396</th>\n",
       "      <th>1397</th>\n",
       "      <th>1398</th>\n",
       "      <th>1399</th>\n",
       "      <th>1400</th>\n",
       "      <th>1401</th>\n",
       "      <th>1402</th>\n",
       "      <th>1403</th>\n",
       "      <th>1404</th>\n",
       "      <th>1405</th>\n",
       "      <th>1406</th>\n",
       "      <th>1407</th>\n",
       "      <th>1408</th>\n",
       "      <th>1409</th>\n",
       "      <th>1410</th>\n",
       "      <th>1411</th>\n",
       "      <th>1412</th>\n",
       "      <th>1413</th>\n",
       "      <th>1414</th>\n",
       "      <th>1415</th>\n",
       "      <th>1416</th>\n",
       "      <th>1417</th>\n",
       "      <th>1418</th>\n",
       "      <th>1419</th>\n",
       "      <th>1420</th>\n",
       "      <th>1421</th>\n",
       "      <th>1422</th>\n",
       "      <th>1423</th>\n",
       "      <th>1424</th>\n",
       "      <th>1425</th>\n",
       "      <th>1426</th>\n",
       "      <th>1427</th>\n",
       "      <th>1428</th>\n",
       "      <th>1429</th>\n",
       "      <th>1430</th>\n",
       "      <th>1431</th>\n",
       "      <th>1432</th>\n",
       "      <th>1433</th>\n",
       "      <th>1434</th>\n",
       "      <th>1435</th>\n",
       "      <th>1436</th>\n",
       "      <th>1437</th>\n",
       "      <th>1438</th>\n",
       "      <th>1439</th>\n",
       "      <th>1440</th>\n",
       "      <th>1441</th>\n",
       "      <th>1442</th>\n",
       "      <th>1443</th>\n",
       "      <th>1444</th>\n",
       "      <th>1445</th>\n",
       "      <th>1446</th>\n",
       "      <th>1447</th>\n",
       "      <th>1448</th>\n",
       "      <th>1449</th>\n",
       "      <th>1450</th>\n",
       "      <th>1451</th>\n",
       "      <th>1452</th>\n",
       "      <th>1453</th>\n",
       "      <th>1454</th>\n",
       "      <th>1455</th>\n",
       "      <th>1456</th>\n",
       "      <th>1457</th>\n",
       "      <th>1458</th>\n",
       "      <th>1459</th>\n",
       "      <th>1460</th>\n",
       "      <th>1461</th>\n",
       "      <th>1462</th>\n",
       "      <th>1463</th>\n",
       "      <th>1464</th>\n",
       "      <th>1465</th>\n",
       "      <th>1466</th>\n",
       "      <th>1467</th>\n",
       "      <th>1468</th>\n",
       "      <th>1469</th>\n",
       "      <th>1470</th>\n",
       "      <th>1471</th>\n",
       "      <th>1472</th>\n",
       "      <th>1473</th>\n",
       "      <th>1474</th>\n",
       "      <th>1475</th>\n",
       "      <th>1476</th>\n",
       "      <th>1477</th>\n",
       "      <th>1478</th>\n",
       "      <th>1479</th>\n",
       "      <th>1480</th>\n",
       "      <th>1481</th>\n",
       "      <th>1482</th>\n",
       "      <th>1483</th>\n",
       "      <th>1484</th>\n",
       "      <th>1485</th>\n",
       "      <th>1486</th>\n",
       "      <th>1487</th>\n",
       "      <th>1488</th>\n",
       "      <th>1489</th>\n",
       "      <th>1490</th>\n",
       "      <th>1491</th>\n",
       "      <th>1492</th>\n",
       "      <th>1493</th>\n",
       "      <th>1494</th>\n",
       "      <th>1495</th>\n",
       "      <th>1496</th>\n",
       "      <th>1497</th>\n",
       "      <th>1498</th>\n",
       "      <th>1499</th>\n",
       "      <th>1500</th>\n",
       "      <th>1501</th>\n",
       "      <th>1502</th>\n",
       "      <th>1503</th>\n",
       "      <th>1504</th>\n",
       "      <th>1505</th>\n",
       "      <th>1506</th>\n",
       "      <th>1507</th>\n",
       "      <th>1508</th>\n",
       "      <th>1509</th>\n",
       "      <th>1510</th>\n",
       "      <th>1511</th>\n",
       "      <th>1512</th>\n",
       "      <th>1513</th>\n",
       "      <th>1514</th>\n",
       "      <th>1515</th>\n",
       "      <th>1516</th>\n",
       "      <th>1517</th>\n",
       "      <th>1518</th>\n",
       "      <th>1519</th>\n",
       "      <th>1520</th>\n",
       "      <th>1521</th>\n",
       "      <th>1522</th>\n",
       "      <th>1523</th>\n",
       "      <th>1524</th>\n",
       "      <th>1525</th>\n",
       "      <th>1526</th>\n",
       "      <th>1527</th>\n",
       "      <th>1528</th>\n",
       "      <th>1529</th>\n",
       "      <th>1530</th>\n",
       "      <th>1531</th>\n",
       "      <th>1532</th>\n",
       "      <th>1533</th>\n",
       "      <th>1534</th>\n",
       "      <th>1535</th>\n",
       "      <th>1536</th>\n",
       "      <th>1537</th>\n",
       "      <th>1538</th>\n",
       "      <th>1539</th>\n",
       "      <th>1540</th>\n",
       "      <th>1541</th>\n",
       "      <th>1542</th>\n",
       "      <th>1543</th>\n",
       "      <th>1544</th>\n",
       "      <th>1545</th>\n",
       "      <th>1546</th>\n",
       "      <th>1547</th>\n",
       "      <th>1548</th>\n",
       "      <th>1549</th>\n",
       "      <th>1550</th>\n",
       "      <th>1551</th>\n",
       "      <th>1552</th>\n",
       "      <th>1553</th>\n",
       "      <th>1554</th>\n",
       "      <th>1555</th>\n",
       "      <th>1556</th>\n",
       "      <th>1557</th>\n",
       "      <th>1558</th>\n",
       "      <th>1559</th>\n",
       "      <th>1560</th>\n",
       "      <th>1561</th>\n",
       "      <th>1562</th>\n",
       "      <th>1563</th>\n",
       "      <th>1564</th>\n",
       "      <th>1565</th>\n",
       "      <th>1566</th>\n",
       "      <th>1567</th>\n",
       "      <th>1568</th>\n",
       "      <th>1569</th>\n",
       "      <th>1570</th>\n",
       "      <th>1571</th>\n",
       "      <th>1572</th>\n",
       "      <th>1573</th>\n",
       "      <th>1574</th>\n",
       "      <th>1575</th>\n",
       "      <th>1576</th>\n",
       "      <th>1577</th>\n",
       "      <th>1578</th>\n",
       "      <th>1579</th>\n",
       "      <th>1580</th>\n",
       "      <th>1581</th>\n",
       "      <th>1582</th>\n",
       "      <th>1583</th>\n",
       "      <th>1584</th>\n",
       "      <th>1585</th>\n",
       "      <th>1586</th>\n",
       "      <th>1587</th>\n",
       "      <th>1588</th>\n",
       "      <th>1589</th>\n",
       "      <th>1590</th>\n",
       "      <th>1591</th>\n",
       "      <th>1592</th>\n",
       "      <th>1593</th>\n",
       "      <th>1594</th>\n",
       "      <th>1595</th>\n",
       "      <th>1596</th>\n",
       "      <th>1597</th>\n",
       "      <th>1598</th>\n",
       "      <th>1599</th>\n",
       "      <th>1600</th>\n",
       "      <th>1601</th>\n",
       "      <th>1602</th>\n",
       "      <th>1603</th>\n",
       "      <th>1604</th>\n",
       "      <th>1605</th>\n",
       "      <th>1606</th>\n",
       "      <th>1607</th>\n",
       "      <th>1608</th>\n",
       "      <th>1609</th>\n",
       "      <th>1610</th>\n",
       "      <th>1611</th>\n",
       "      <th>1612</th>\n",
       "      <th>1613</th>\n",
       "      <th>1614</th>\n",
       "      <th>1615</th>\n",
       "      <th>1616</th>\n",
       "      <th>1617</th>\n",
       "      <th>1618</th>\n",
       "      <th>1619</th>\n",
       "      <th>1620</th>\n",
       "      <th>1621</th>\n",
       "      <th>1622</th>\n",
       "      <th>1623</th>\n",
       "      <th>1624</th>\n",
       "      <th>1625</th>\n",
       "      <th>1626</th>\n",
       "      <th>1627</th>\n",
       "      <th>1628</th>\n",
       "      <th>1629</th>\n",
       "      <th>1630</th>\n",
       "      <th>1631</th>\n",
       "      <th>1632</th>\n",
       "      <th>1633</th>\n",
       "      <th>1634</th>\n",
       "      <th>1635</th>\n",
       "      <th>1636</th>\n",
       "      <th>1637</th>\n",
       "      <th>1638</th>\n",
       "      <th>1639</th>\n",
       "      <th>1640</th>\n",
       "      <th>1641</th>\n",
       "      <th>1642</th>\n",
       "      <th>1643</th>\n",
       "      <th>1644</th>\n",
       "      <th>1645</th>\n",
       "      <th>1646</th>\n",
       "      <th>1647</th>\n",
       "      <th>1648</th>\n",
       "      <th>1649</th>\n",
       "      <th>1650</th>\n",
       "      <th>1651</th>\n",
       "      <th>1652</th>\n",
       "      <th>1653</th>\n",
       "      <th>1654</th>\n",
       "      <th>1655</th>\n",
       "      <th>1656</th>\n",
       "      <th>1657</th>\n",
       "      <th>1658</th>\n",
       "      <th>1659</th>\n",
       "      <th>1660</th>\n",
       "      <th>1661</th>\n",
       "      <th>1662</th>\n",
       "      <th>1663</th>\n",
       "      <th>1664</th>\n",
       "      <th>1665</th>\n",
       "      <th>1666</th>\n",
       "      <th>1667</th>\n",
       "      <th>1668</th>\n",
       "      <th>1669</th>\n",
       "      <th>1670</th>\n",
       "      <th>1671</th>\n",
       "      <th>1672</th>\n",
       "      <th>1673</th>\n",
       "      <th>1674</th>\n",
       "      <th>1675</th>\n",
       "      <th>1676</th>\n",
       "      <th>1677</th>\n",
       "      <th>1678</th>\n",
       "      <th>1679</th>\n",
       "      <th>1680</th>\n",
       "      <th>1681</th>\n",
       "      <th>1682</th>\n",
       "      <th>1683</th>\n",
       "      <th>1684</th>\n",
       "      <th>1685</th>\n",
       "      <th>1686</th>\n",
       "      <th>1687</th>\n",
       "      <th>1688</th>\n",
       "      <th>1689</th>\n",
       "      <th>1690</th>\n",
       "      <th>1691</th>\n",
       "      <th>1692</th>\n",
       "      <th>1693</th>\n",
       "      <th>1694</th>\n",
       "      <th>1695</th>\n",
       "      <th>1696</th>\n",
       "      <th>1697</th>\n",
       "      <th>1698</th>\n",
       "      <th>1699</th>\n",
       "      <th>1700</th>\n",
       "      <th>1701</th>\n",
       "      <th>1702</th>\n",
       "      <th>1703</th>\n",
       "      <th>1704</th>\n",
       "      <th>1705</th>\n",
       "      <th>1706</th>\n",
       "      <th>1707</th>\n",
       "      <th>1708</th>\n",
       "      <th>1709</th>\n",
       "      <th>1710</th>\n",
       "      <th>1711</th>\n",
       "      <th>1712</th>\n",
       "      <th>1713</th>\n",
       "      <th>1714</th>\n",
       "      <th>1715</th>\n",
       "      <th>1716</th>\n",
       "      <th>1717</th>\n",
       "      <th>1718</th>\n",
       "      <th>1719</th>\n",
       "      <th>1720</th>\n",
       "      <th>1721</th>\n",
       "      <th>1722</th>\n",
       "      <th>1723</th>\n",
       "      <th>1724</th>\n",
       "      <th>1725</th>\n",
       "      <th>1726</th>\n",
       "      <th>1727</th>\n",
       "      <th>1728</th>\n",
       "      <th>1729</th>\n",
       "      <th>1730</th>\n",
       "      <th>1731</th>\n",
       "      <th>1732</th>\n",
       "      <th>1733</th>\n",
       "      <th>1734</th>\n",
       "      <th>1735</th>\n",
       "      <th>1736</th>\n",
       "      <th>1737</th>\n",
       "      <th>1738</th>\n",
       "      <th>1739</th>\n",
       "      <th>1740</th>\n",
       "      <th>1741</th>\n",
       "      <th>1742</th>\n",
       "      <th>1743</th>\n",
       "      <th>1744</th>\n",
       "      <th>1745</th>\n",
       "      <th>1746</th>\n",
       "      <th>1747</th>\n",
       "      <th>1748</th>\n",
       "      <th>1749</th>\n",
       "      <th>1750</th>\n",
       "      <th>1751</th>\n",
       "      <th>1752</th>\n",
       "      <th>1753</th>\n",
       "      <th>1754</th>\n",
       "      <th>1755</th>\n",
       "      <th>1756</th>\n",
       "      <th>1757</th>\n",
       "      <th>1758</th>\n",
       "      <th>1759</th>\n",
       "      <th>1760</th>\n",
       "      <th>1761</th>\n",
       "      <th>1762</th>\n",
       "      <th>1763</th>\n",
       "      <th>1764</th>\n",
       "      <th>1765</th>\n",
       "      <th>1766</th>\n",
       "      <th>1767</th>\n",
       "    </tr>\n",
       "    <tr>\n",
       "      <th>Unnamed: 0</th>\n",
       "      <th></th>\n",
       "      <th></th>\n",
       "      <th></th>\n",
       "      <th></th>\n",
       "      <th></th>\n",
       "      <th></th>\n",
       "      <th></th>\n",
       "      <th></th>\n",
       "      <th></th>\n",
       "      <th></th>\n",
       "      <th></th>\n",
       "      <th></th>\n",
       "      <th></th>\n",
       "      <th></th>\n",
       "      <th></th>\n",
       "      <th></th>\n",
       "      <th></th>\n",
       "      <th></th>\n",
       "      <th></th>\n",
       "      <th></th>\n",
       "      <th></th>\n",
       "      <th></th>\n",
       "      <th></th>\n",
       "      <th></th>\n",
       "      <th></th>\n",
       "      <th></th>\n",
       "      <th></th>\n",
       "      <th></th>\n",
       "      <th></th>\n",
       "      <th></th>\n",
       "      <th></th>\n",
       "      <th></th>\n",
       "      <th></th>\n",
       "      <th></th>\n",
       "      <th></th>\n",
       "      <th></th>\n",
       "      <th></th>\n",
       "      <th></th>\n",
       "      <th></th>\n",
       "      <th></th>\n",
       "      <th></th>\n",
       "      <th></th>\n",
       "      <th></th>\n",
       "      <th></th>\n",
       "      <th></th>\n",
       "      <th></th>\n",
       "      <th></th>\n",
       "      <th></th>\n",
       "      <th></th>\n",
       "      <th></th>\n",
       "      <th></th>\n",
       "      <th></th>\n",
       "      <th></th>\n",
       "      <th></th>\n",
       "      <th></th>\n",
       "      <th></th>\n",
       "      <th></th>\n",
       "      <th></th>\n",
       "      <th></th>\n",
       "      <th></th>\n",
       "      <th></th>\n",
       "      <th></th>\n",
       "      <th></th>\n",
       "      <th></th>\n",
       "      <th></th>\n",
       "      <th></th>\n",
       "      <th></th>\n",
       "      <th></th>\n",
       "      <th></th>\n",
       "      <th></th>\n",
       "      <th></th>\n",
       "      <th></th>\n",
       "      <th></th>\n",
       "      <th></th>\n",
       "      <th></th>\n",
       "      <th></th>\n",
       "      <th></th>\n",
       "      <th></th>\n",
       "      <th></th>\n",
       "      <th></th>\n",
       "      <th></th>\n",
       "      <th></th>\n",
       "      <th></th>\n",
       "      <th></th>\n",
       "      <th></th>\n",
       "      <th></th>\n",
       "      <th></th>\n",
       "      <th></th>\n",
       "      <th></th>\n",
       "      <th></th>\n",
       "      <th></th>\n",
       "      <th></th>\n",
       "      <th></th>\n",
       "      <th></th>\n",
       "      <th></th>\n",
       "      <th></th>\n",
       "      <th></th>\n",
       "      <th></th>\n",
       "      <th></th>\n",
       "      <th></th>\n",
       "      <th></th>\n",
       "      <th></th>\n",
       "      <th></th>\n",
       "      <th></th>\n",
       "      <th></th>\n",
       "      <th></th>\n",
       "      <th></th>\n",
       "      <th></th>\n",
       "      <th></th>\n",
       "      <th></th>\n",
       "      <th></th>\n",
       "      <th></th>\n",
       "      <th></th>\n",
       "      <th></th>\n",
       "      <th></th>\n",
       "      <th></th>\n",
       "      <th></th>\n",
       "      <th></th>\n",
       "      <th></th>\n",
       "      <th></th>\n",
       "      <th></th>\n",
       "      <th></th>\n",
       "      <th></th>\n",
       "      <th></th>\n",
       "      <th></th>\n",
       "      <th></th>\n",
       "      <th></th>\n",
       "      <th></th>\n",
       "      <th></th>\n",
       "      <th></th>\n",
       "      <th></th>\n",
       "      <th></th>\n",
       "      <th></th>\n",
       "      <th></th>\n",
       "      <th></th>\n",
       "      <th></th>\n",
       "      <th></th>\n",
       "      <th></th>\n",
       "      <th></th>\n",
       "      <th></th>\n",
       "      <th></th>\n",
       "      <th></th>\n",
       "      <th></th>\n",
       "      <th></th>\n",
       "      <th></th>\n",
       "      <th></th>\n",
       "      <th></th>\n",
       "      <th></th>\n",
       "      <th></th>\n",
       "      <th></th>\n",
       "      <th></th>\n",
       "      <th></th>\n",
       "      <th></th>\n",
       "      <th></th>\n",
       "      <th></th>\n",
       "      <th></th>\n",
       "      <th></th>\n",
       "      <th></th>\n",
       "      <th></th>\n",
       "      <th></th>\n",
       "      <th></th>\n",
       "      <th></th>\n",
       "      <th></th>\n",
       "      <th></th>\n",
       "      <th></th>\n",
       "      <th></th>\n",
       "      <th></th>\n",
       "      <th></th>\n",
       "      <th></th>\n",
       "      <th></th>\n",
       "      <th></th>\n",
       "      <th></th>\n",
       "      <th></th>\n",
       "      <th></th>\n",
       "      <th></th>\n",
       "      <th></th>\n",
       "      <th></th>\n",
       "      <th></th>\n",
       "      <th></th>\n",
       "      <th></th>\n",
       "      <th></th>\n",
       "      <th></th>\n",
       "      <th></th>\n",
       "      <th></th>\n",
       "      <th></th>\n",
       "      <th></th>\n",
       "      <th></th>\n",
       "      <th></th>\n",
       "      <th></th>\n",
       "      <th></th>\n",
       "      <th></th>\n",
       "      <th></th>\n",
       "      <th></th>\n",
       "      <th></th>\n",
       "      <th></th>\n",
       "      <th></th>\n",
       "      <th></th>\n",
       "      <th></th>\n",
       "      <th></th>\n",
       "      <th></th>\n",
       "      <th></th>\n",
       "      <th></th>\n",
       "      <th></th>\n",
       "      <th></th>\n",
       "      <th></th>\n",
       "      <th></th>\n",
       "      <th></th>\n",
       "      <th></th>\n",
       "      <th></th>\n",
       "      <th></th>\n",
       "      <th></th>\n",
       "      <th></th>\n",
       "      <th></th>\n",
       "      <th></th>\n",
       "      <th></th>\n",
       "      <th></th>\n",
       "      <th></th>\n",
       "      <th></th>\n",
       "      <th></th>\n",
       "      <th></th>\n",
       "      <th></th>\n",
       "      <th></th>\n",
       "      <th></th>\n",
       "      <th></th>\n",
       "      <th></th>\n",
       "      <th></th>\n",
       "      <th></th>\n",
       "      <th></th>\n",
       "      <th></th>\n",
       "      <th></th>\n",
       "      <th></th>\n",
       "      <th></th>\n",
       "      <th></th>\n",
       "      <th></th>\n",
       "      <th></th>\n",
       "      <th></th>\n",
       "      <th></th>\n",
       "      <th></th>\n",
       "      <th></th>\n",
       "      <th></th>\n",
       "      <th></th>\n",
       "      <th></th>\n",
       "      <th></th>\n",
       "      <th></th>\n",
       "      <th></th>\n",
       "      <th></th>\n",
       "      <th></th>\n",
       "      <th></th>\n",
       "      <th></th>\n",
       "      <th></th>\n",
       "      <th></th>\n",
       "      <th></th>\n",
       "      <th></th>\n",
       "      <th></th>\n",
       "      <th></th>\n",
       "      <th></th>\n",
       "      <th></th>\n",
       "      <th></th>\n",
       "      <th></th>\n",
       "      <th></th>\n",
       "      <th></th>\n",
       "      <th></th>\n",
       "      <th></th>\n",
       "      <th></th>\n",
       "      <th></th>\n",
       "      <th></th>\n",
       "      <th></th>\n",
       "      <th></th>\n",
       "      <th></th>\n",
       "      <th></th>\n",
       "      <th></th>\n",
       "      <th></th>\n",
       "      <th></th>\n",
       "      <th></th>\n",
       "      <th></th>\n",
       "      <th></th>\n",
       "      <th></th>\n",
       "      <th></th>\n",
       "      <th></th>\n",
       "      <th></th>\n",
       "      <th></th>\n",
       "      <th></th>\n",
       "      <th></th>\n",
       "      <th></th>\n",
       "      <th></th>\n",
       "      <th></th>\n",
       "      <th></th>\n",
       "      <th></th>\n",
       "      <th></th>\n",
       "      <th></th>\n",
       "      <th></th>\n",
       "      <th></th>\n",
       "      <th></th>\n",
       "      <th></th>\n",
       "      <th></th>\n",
       "      <th></th>\n",
       "      <th></th>\n",
       "      <th></th>\n",
       "      <th></th>\n",
       "      <th></th>\n",
       "      <th></th>\n",
       "      <th></th>\n",
       "      <th></th>\n",
       "      <th></th>\n",
       "      <th></th>\n",
       "      <th></th>\n",
       "      <th></th>\n",
       "      <th></th>\n",
       "      <th></th>\n",
       "      <th></th>\n",
       "      <th></th>\n",
       "      <th></th>\n",
       "      <th></th>\n",
       "      <th></th>\n",
       "      <th></th>\n",
       "      <th></th>\n",
       "      <th></th>\n",
       "      <th></th>\n",
       "      <th></th>\n",
       "      <th></th>\n",
       "      <th></th>\n",
       "      <th></th>\n",
       "      <th></th>\n",
       "      <th></th>\n",
       "      <th></th>\n",
       "      <th></th>\n",
       "      <th></th>\n",
       "      <th></th>\n",
       "      <th></th>\n",
       "      <th></th>\n",
       "      <th></th>\n",
       "      <th></th>\n",
       "      <th></th>\n",
       "      <th></th>\n",
       "      <th></th>\n",
       "      <th></th>\n",
       "      <th></th>\n",
       "      <th></th>\n",
       "      <th></th>\n",
       "      <th></th>\n",
       "      <th></th>\n",
       "      <th></th>\n",
       "      <th></th>\n",
       "      <th></th>\n",
       "      <th></th>\n",
       "      <th></th>\n",
       "      <th></th>\n",
       "      <th></th>\n",
       "      <th></th>\n",
       "      <th></th>\n",
       "      <th></th>\n",
       "      <th></th>\n",
       "      <th></th>\n",
       "      <th></th>\n",
       "      <th></th>\n",
       "      <th></th>\n",
       "      <th></th>\n",
       "      <th></th>\n",
       "      <th></th>\n",
       "      <th></th>\n",
       "      <th></th>\n",
       "      <th></th>\n",
       "      <th></th>\n",
       "      <th></th>\n",
       "      <th></th>\n",
       "      <th></th>\n",
       "      <th></th>\n",
       "      <th></th>\n",
       "      <th></th>\n",
       "      <th></th>\n",
       "      <th></th>\n",
       "      <th></th>\n",
       "      <th></th>\n",
       "      <th></th>\n",
       "      <th></th>\n",
       "      <th></th>\n",
       "      <th></th>\n",
       "      <th></th>\n",
       "      <th></th>\n",
       "      <th></th>\n",
       "      <th></th>\n",
       "      <th></th>\n",
       "      <th></th>\n",
       "      <th></th>\n",
       "      <th></th>\n",
       "      <th></th>\n",
       "      <th></th>\n",
       "      <th></th>\n",
       "      <th></th>\n",
       "      <th></th>\n",
       "      <th></th>\n",
       "      <th></th>\n",
       "      <th></th>\n",
       "      <th></th>\n",
       "      <th></th>\n",
       "      <th></th>\n",
       "      <th></th>\n",
       "      <th></th>\n",
       "      <th></th>\n",
       "      <th></th>\n",
       "      <th></th>\n",
       "      <th></th>\n",
       "      <th></th>\n",
       "      <th></th>\n",
       "      <th></th>\n",
       "      <th></th>\n",
       "      <th></th>\n",
       "      <th></th>\n",
       "      <th></th>\n",
       "      <th></th>\n",
       "      <th></th>\n",
       "      <th></th>\n",
       "      <th></th>\n",
       "      <th></th>\n",
       "      <th></th>\n",
       "      <th></th>\n",
       "      <th></th>\n",
       "      <th></th>\n",
       "      <th></th>\n",
       "      <th></th>\n",
       "      <th></th>\n",
       "      <th></th>\n",
       "      <th></th>\n",
       "      <th></th>\n",
       "      <th></th>\n",
       "      <th></th>\n",
       "      <th></th>\n",
       "      <th></th>\n",
       "      <th></th>\n",
       "      <th></th>\n",
       "      <th></th>\n",
       "      <th></th>\n",
       "      <th></th>\n",
       "      <th></th>\n",
       "      <th></th>\n",
       "      <th></th>\n",
       "      <th></th>\n",
       "      <th></th>\n",
       "      <th></th>\n",
       "      <th></th>\n",
       "      <th></th>\n",
       "      <th></th>\n",
       "      <th></th>\n",
       "      <th></th>\n",
       "      <th></th>\n",
       "      <th></th>\n",
       "      <th></th>\n",
       "      <th></th>\n",
       "      <th></th>\n",
       "      <th></th>\n",
       "      <th></th>\n",
       "      <th></th>\n",
       "      <th></th>\n",
       "      <th></th>\n",
       "      <th></th>\n",
       "      <th></th>\n",
       "      <th></th>\n",
       "      <th></th>\n",
       "      <th></th>\n",
       "      <th></th>\n",
       "      <th></th>\n",
       "      <th></th>\n",
       "      <th></th>\n",
       "      <th></th>\n",
       "      <th></th>\n",
       "      <th></th>\n",
       "      <th></th>\n",
       "      <th></th>\n",
       "      <th></th>\n",
       "      <th></th>\n",
       "      <th></th>\n",
       "      <th></th>\n",
       "      <th></th>\n",
       "      <th></th>\n",
       "      <th></th>\n",
       "      <th></th>\n",
       "      <th></th>\n",
       "      <th></th>\n",
       "      <th></th>\n",
       "      <th></th>\n",
       "      <th></th>\n",
       "      <th></th>\n",
       "      <th></th>\n",
       "      <th></th>\n",
       "      <th></th>\n",
       "      <th></th>\n",
       "      <th></th>\n",
       "      <th></th>\n",
       "      <th></th>\n",
       "      <th></th>\n",
       "      <th></th>\n",
       "      <th></th>\n",
       "      <th></th>\n",
       "      <th></th>\n",
       "      <th></th>\n",
       "      <th></th>\n",
       "      <th></th>\n",
       "      <th></th>\n",
       "      <th></th>\n",
       "      <th></th>\n",
       "      <th></th>\n",
       "      <th></th>\n",
       "      <th></th>\n",
       "      <th></th>\n",
       "      <th></th>\n",
       "      <th></th>\n",
       "      <th></th>\n",
       "      <th></th>\n",
       "      <th></th>\n",
       "      <th></th>\n",
       "      <th></th>\n",
       "      <th></th>\n",
       "      <th></th>\n",
       "      <th></th>\n",
       "      <th></th>\n",
       "      <th></th>\n",
       "      <th></th>\n",
       "      <th></th>\n",
       "      <th></th>\n",
       "      <th></th>\n",
       "      <th></th>\n",
       "      <th></th>\n",
       "      <th></th>\n",
       "      <th></th>\n",
       "      <th></th>\n",
       "      <th></th>\n",
       "      <th></th>\n",
       "      <th></th>\n",
       "      <th></th>\n",
       "      <th></th>\n",
       "      <th></th>\n",
       "      <th></th>\n",
       "      <th></th>\n",
       "      <th></th>\n",
       "      <th></th>\n",
       "      <th></th>\n",
       "      <th></th>\n",
       "      <th></th>\n",
       "      <th></th>\n",
       "      <th></th>\n",
       "      <th></th>\n",
       "      <th></th>\n",
       "      <th></th>\n",
       "      <th></th>\n",
       "      <th></th>\n",
       "      <th></th>\n",
       "      <th></th>\n",
       "      <th></th>\n",
       "      <th></th>\n",
       "      <th></th>\n",
       "      <th></th>\n",
       "      <th></th>\n",
       "      <th></th>\n",
       "      <th></th>\n",
       "      <th></th>\n",
       "      <th></th>\n",
       "      <th></th>\n",
       "      <th></th>\n",
       "      <th></th>\n",
       "      <th></th>\n",
       "      <th></th>\n",
       "      <th></th>\n",
       "      <th></th>\n",
       "      <th></th>\n",
       "      <th></th>\n",
       "      <th></th>\n",
       "      <th></th>\n",
       "      <th></th>\n",
       "      <th></th>\n",
       "      <th></th>\n",
       "      <th></th>\n",
       "      <th></th>\n",
       "      <th></th>\n",
       "      <th></th>\n",
       "      <th></th>\n",
       "      <th></th>\n",
       "      <th></th>\n",
       "      <th></th>\n",
       "      <th></th>\n",
       "      <th></th>\n",
       "      <th></th>\n",
       "      <th></th>\n",
       "      <th></th>\n",
       "      <th></th>\n",
       "      <th></th>\n",
       "      <th></th>\n",
       "      <th></th>\n",
       "      <th></th>\n",
       "      <th></th>\n",
       "      <th></th>\n",
       "      <th></th>\n",
       "      <th></th>\n",
       "      <th></th>\n",
       "      <th></th>\n",
       "      <th></th>\n",
       "      <th></th>\n",
       "      <th></th>\n",
       "      <th></th>\n",
       "      <th></th>\n",
       "      <th></th>\n",
       "      <th></th>\n",
       "      <th></th>\n",
       "      <th></th>\n",
       "      <th></th>\n",
       "      <th></th>\n",
       "      <th></th>\n",
       "      <th></th>\n",
       "      <th></th>\n",
       "      <th></th>\n",
       "      <th></th>\n",
       "      <th></th>\n",
       "      <th></th>\n",
       "      <th></th>\n",
       "      <th></th>\n",
       "      <th></th>\n",
       "      <th></th>\n",
       "      <th></th>\n",
       "      <th></th>\n",
       "      <th></th>\n",
       "      <th></th>\n",
       "      <th></th>\n",
       "      <th></th>\n",
       "      <th></th>\n",
       "      <th></th>\n",
       "      <th></th>\n",
       "      <th></th>\n",
       "      <th></th>\n",
       "      <th></th>\n",
       "      <th></th>\n",
       "      <th></th>\n",
       "      <th></th>\n",
       "      <th></th>\n",
       "      <th></th>\n",
       "      <th></th>\n",
       "      <th></th>\n",
       "      <th></th>\n",
       "      <th></th>\n",
       "      <th></th>\n",
       "      <th></th>\n",
       "      <th></th>\n",
       "      <th></th>\n",
       "      <th></th>\n",
       "      <th></th>\n",
       "      <th></th>\n",
       "      <th></th>\n",
       "      <th></th>\n",
       "      <th></th>\n",
       "      <th></th>\n",
       "      <th></th>\n",
       "      <th></th>\n",
       "      <th></th>\n",
       "      <th></th>\n",
       "      <th></th>\n",
       "      <th></th>\n",
       "      <th></th>\n",
       "      <th></th>\n",
       "      <th></th>\n",
       "      <th></th>\n",
       "      <th></th>\n",
       "      <th></th>\n",
       "      <th></th>\n",
       "      <th></th>\n",
       "      <th></th>\n",
       "      <th></th>\n",
       "      <th></th>\n",
       "      <th></th>\n",
       "      <th></th>\n",
       "      <th></th>\n",
       "      <th></th>\n",
       "      <th></th>\n",
       "      <th></th>\n",
       "      <th></th>\n",
       "      <th></th>\n",
       "      <th></th>\n",
       "      <th></th>\n",
       "      <th></th>\n",
       "      <th></th>\n",
       "      <th></th>\n",
       "      <th></th>\n",
       "      <th></th>\n",
       "      <th></th>\n",
       "      <th></th>\n",
       "      <th></th>\n",
       "      <th></th>\n",
       "      <th></th>\n",
       "      <th></th>\n",
       "      <th></th>\n",
       "      <th></th>\n",
       "      <th></th>\n",
       "      <th></th>\n",
       "      <th></th>\n",
       "      <th></th>\n",
       "      <th></th>\n",
       "      <th></th>\n",
       "      <th></th>\n",
       "      <th></th>\n",
       "      <th></th>\n",
       "      <th></th>\n",
       "      <th></th>\n",
       "      <th></th>\n",
       "      <th></th>\n",
       "      <th></th>\n",
       "      <th></th>\n",
       "      <th></th>\n",
       "      <th></th>\n",
       "      <th></th>\n",
       "      <th></th>\n",
       "      <th></th>\n",
       "      <th></th>\n",
       "      <th></th>\n",
       "      <th></th>\n",
       "      <th></th>\n",
       "      <th></th>\n",
       "      <th></th>\n",
       "      <th></th>\n",
       "      <th></th>\n",
       "      <th></th>\n",
       "      <th></th>\n",
       "      <th></th>\n",
       "      <th></th>\n",
       "      <th></th>\n",
       "      <th></th>\n",
       "      <th></th>\n",
       "      <th></th>\n",
       "      <th></th>\n",
       "      <th></th>\n",
       "      <th></th>\n",
       "      <th></th>\n",
       "      <th></th>\n",
       "      <th></th>\n",
       "      <th></th>\n",
       "      <th></th>\n",
       "      <th></th>\n",
       "      <th></th>\n",
       "      <th></th>\n",
       "      <th></th>\n",
       "      <th></th>\n",
       "      <th></th>\n",
       "      <th></th>\n",
       "      <th></th>\n",
       "      <th></th>\n",
       "      <th></th>\n",
       "      <th></th>\n",
       "      <th></th>\n",
       "      <th></th>\n",
       "      <th></th>\n",
       "      <th></th>\n",
       "      <th></th>\n",
       "      <th></th>\n",
       "      <th></th>\n",
       "      <th></th>\n",
       "      <th></th>\n",
       "      <th></th>\n",
       "      <th></th>\n",
       "      <th></th>\n",
       "      <th></th>\n",
       "      <th></th>\n",
       "      <th></th>\n",
       "      <th></th>\n",
       "      <th></th>\n",
       "      <th></th>\n",
       "      <th></th>\n",
       "      <th></th>\n",
       "      <th></th>\n",
       "      <th></th>\n",
       "      <th></th>\n",
       "      <th></th>\n",
       "      <th></th>\n",
       "    </tr>\n",
       "  </thead>\n",
       "  <tbody>\n",
       "    <tr>\n",
       "      <th>361</th>\n",
       "      <td>0.002652</td>\n",
       "      <td>0.003279</td>\n",
       "      <td>-0.013720</td>\n",
       "      <td>-0.001870</td>\n",
       "      <td>0.006786</td>\n",
       "      <td>0.000679</td>\n",
       "      <td>-0.000019</td>\n",
       "      <td>0.013088</td>\n",
       "      <td>-0.007116</td>\n",
       "      <td>0.006714</td>\n",
       "      <td>0.011873</td>\n",
       "      <td>-0.008219</td>\n",
       "      <td>0.000080</td>\n",
       "      <td>0.007528</td>\n",
       "      <td>-0.006803</td>\n",
       "      <td>-0.011433</td>\n",
       "      <td>0.000456</td>\n",
       "      <td>-0.030704</td>\n",
       "      <td>-0.019160</td>\n",
       "      <td>0.001767</td>\n",
       "      <td>-0.023490</td>\n",
       "      <td>-0.012237</td>\n",
       "      <td>-0.001839</td>\n",
       "      <td>-0.025308</td>\n",
       "      <td>-0.018423</td>\n",
       "      <td>0.002055</td>\n",
       "      <td>-0.024273</td>\n",
       "      <td>-0.023207</td>\n",
       "      <td>0.001951</td>\n",
       "      <td>-0.016884</td>\n",
       "      <td>-0.018583</td>\n",
       "      <td>0.006190</td>\n",
       "      <td>-0.030034</td>\n",
       "      <td>-0.019075</td>\n",
       "      <td>0.004691</td>\n",
       "      <td>-0.023049</td>\n",
       "      <td>-0.013976</td>\n",
       "      <td>0.006872</td>\n",
       "      <td>-0.032944</td>\n",
       "      <td>-0.019631</td>\n",
       "      <td>-0.001112</td>\n",
       "      <td>-0.016028</td>\n",
       "      <td>-0.018627</td>\n",
       "      <td>0.010175</td>\n",
       "      <td>-0.030275</td>\n",
       "      <td>-0.019997</td>\n",
       "      <td>0.003942</td>\n",
       "      <td>-0.020857</td>\n",
       "      <td>-0.014249</td>\n",
       "      <td>0.012648</td>\n",
       "      <td>-0.033048</td>\n",
       "      <td>-0.018239</td>\n",
       "      <td>0.011228</td>\n",
       "      <td>-0.027334</td>\n",
       "      <td>-0.017188</td>\n",
       "      <td>-0.000386</td>\n",
       "      <td>-0.019554</td>\n",
       "      <td>-0.015546</td>\n",
       "      <td>0.000899</td>\n",
       "      <td>-0.021919</td>\n",
       "      <td>-0.018883</td>\n",
       "      <td>0.001652</td>\n",
       "      <td>-0.018549</td>\n",
       "      <td>-0.016938</td>\n",
       "      <td>0.000356</td>\n",
       "      <td>-0.023519</td>\n",
       "      <td>-0.011034</td>\n",
       "      <td>-0.009155</td>\n",
       "      <td>-0.014044</td>\n",
       "      <td>-0.018473</td>\n",
       "      <td>0.007533</td>\n",
       "      <td>-0.026183</td>\n",
       "      <td>-0.020387</td>\n",
       "      <td>-0.000384</td>\n",
       "      <td>-0.014390</td>\n",
       "      <td>-0.016372</td>\n",
       "      <td>0.002234</td>\n",
       "      <td>-0.024634</td>\n",
       "      <td>-0.017726</td>\n",
       "      <td>0.001741</td>\n",
       "      <td>-0.018583</td>\n",
       "      <td>-0.016440</td>\n",
       "      <td>-0.004475</td>\n",
       "      <td>-0.017923</td>\n",
       "      <td>-0.020090</td>\n",
       "      <td>-0.002526</td>\n",
       "      <td>-0.018024</td>\n",
       "      <td>-0.015748</td>\n",
       "      <td>-0.010644</td>\n",
       "      <td>-0.014120</td>\n",
       "      <td>-0.020838</td>\n",
       "      <td>-0.001265</td>\n",
       "      <td>-0.019054</td>\n",
       "      <td>-0.019951</td>\n",
       "      <td>-0.006883</td>\n",
       "      <td>-0.010959</td>\n",
       "      <td>-0.019463</td>\n",
       "      <td>0.001559</td>\n",
       "      <td>-0.024326</td>\n",
       "      <td>-0.018646</td>\n",
       "      <td>0.002993</td>\n",
       "      <td>-0.025043</td>\n",
       "      <td>-0.020198</td>\n",
       "      <td>0.002384</td>\n",
       "      <td>-0.018106</td>\n",
       "      <td>-0.021953</td>\n",
       "      <td>0.003433</td>\n",
       "      <td>-0.030217</td>\n",
       "      <td>-0.019213</td>\n",
       "      <td>0.000972</td>\n",
       "      <td>-0.023647</td>\n",
       "      <td>-0.023438</td>\n",
       "      <td>0.012492</td>\n",
       "      <td>-0.032521</td>\n",
       "      <td>-0.017952</td>\n",
       "      <td>-0.000669</td>\n",
       "      <td>-0.017558</td>\n",
       "      <td>-0.017530</td>\n",
       "      <td>0.009785</td>\n",
       "      <td>-0.032407</td>\n",
       "      <td>-0.016394</td>\n",
       "      <td>0.001056</td>\n",
       "      <td>-0.023976</td>\n",
       "      <td>-0.011690</td>\n",
       "      <td>0.001516</td>\n",
       "      <td>-0.025834</td>\n",
       "      <td>-0.016241</td>\n",
       "      <td>0.007187</td>\n",
       "      <td>-0.026343</td>\n",
       "      <td>-0.014677</td>\n",
       "      <td>-0.002317</td>\n",
       "      <td>-0.020128</td>\n",
       "      <td>-0.016031</td>\n",
       "      <td>0.001864</td>\n",
       "      <td>-0.021265</td>\n",
       "      <td>-0.006002</td>\n",
       "      <td>0.001098</td>\n",
       "      <td>-0.033988</td>\n",
       "      <td>-0.017475</td>\n",
       "      <td>0.006279</td>\n",
       "      <td>-0.027815</td>\n",
       "      <td>-0.004490</td>\n",
       "      <td>0.004136</td>\n",
       "      <td>-0.036324</td>\n",
       "      <td>-0.016402</td>\n",
       "      <td>0.007307</td>\n",
       "      <td>-0.027328</td>\n",
       "      <td>-0.012379</td>\n",
       "      <td>-0.001294</td>\n",
       "      <td>-0.026266</td>\n",
       "      <td>-0.010828</td>\n",
       "      <td>0.004837</td>\n",
       "      <td>-0.027684</td>\n",
       "      <td>-0.014600</td>\n",
       "      <td>-0.002757</td>\n",
       "      <td>-0.018423</td>\n",
       "      <td>-0.019311</td>\n",
       "      <td>0.002257</td>\n",
       "      <td>-0.027141</td>\n",
       "      <td>-0.020444</td>\n",
       "      <td>0.000780</td>\n",
       "      <td>-0.020198</td>\n",
       "      <td>-0.019817</td>\n",
       "      <td>-0.000513</td>\n",
       "      <td>-0.027176</td>\n",
       "      <td>-0.005665</td>\n",
       "      <td>-0.016227</td>\n",
       "      <td>-0.018331</td>\n",
       "      <td>-0.015107</td>\n",
       "      <td>0.002764</td>\n",
       "      <td>-0.031452</td>\n",
       "      <td>-0.015387</td>\n",
       "      <td>-0.004562</td>\n",
       "      <td>-0.027830</td>\n",
       "      <td>-0.018618</td>\n",
       "      <td>0.003258</td>\n",
       "      <td>-0.029885</td>\n",
       "      <td>-0.021716</td>\n",
       "      <td>0.003862</td>\n",
       "      <td>-0.029664</td>\n",
       "      <td>-0.010445</td>\n",
       "      <td>0.009800</td>\n",
       "      <td>-0.032574</td>\n",
       "      <td>-0.017190</td>\n",
       "      <td>-0.001829</td>\n",
       "      <td>-0.029319</td>\n",
       "      <td>-0.021860</td>\n",
       "      <td>0.001647</td>\n",
       "      <td>-0.032423</td>\n",
       "      <td>-0.002026</td>\n",
       "      <td>-0.003852</td>\n",
       "      <td>-0.032893</td>\n",
       "      <td>-0.016308</td>\n",
       "      <td>0.010854</td>\n",
       "      <td>-0.034563</td>\n",
       "      <td>-0.008594</td>\n",
       "      <td>0.007649</td>\n",
       "      <td>-0.037261</td>\n",
       "      <td>-0.015772</td>\n",
       "      <td>0.015937</td>\n",
       "      <td>-0.034590</td>\n",
       "      <td>-0.013436</td>\n",
       "      <td>0.005923</td>\n",
       "      <td>-0.032065</td>\n",
       "      <td>-0.006536</td>\n",
       "      <td>0.007093</td>\n",
       "      <td>-0.035405</td>\n",
       "      <td>-0.011716</td>\n",
       "      <td>0.004988</td>\n",
       "      <td>-0.030851</td>\n",
       "      <td>-0.015226</td>\n",
       "      <td>0.002250</td>\n",
       "      <td>-0.026774</td>\n",
       "      <td>-0.012818</td>\n",
       "      <td>0.008532</td>\n",
       "      <td>-0.036518</td>\n",
       "      <td>-0.018716</td>\n",
       "      <td>-0.000060</td>\n",
       "      <td>-0.019677</td>\n",
       "      <td>-0.015779</td>\n",
       "      <td>0.001600</td>\n",
       "      <td>-0.026543</td>\n",
       "      <td>-0.014708</td>\n",
       "      <td>0.009124</td>\n",
       "      <td>-0.030429</td>\n",
       "      <td>-0.013337</td>\n",
       "      <td>0.013030</td>\n",
       "      <td>-0.033338</td>\n",
       "      <td>-0.015024</td>\n",
       "      <td>-0.001074</td>\n",
       "      <td>-0.020351</td>\n",
       "      <td>-0.014182</td>\n",
       "      <td>-0.005804</td>\n",
       "      <td>-0.020908</td>\n",
       "      <td>-0.014133</td>\n",
       "      <td>-0.004410</td>\n",
       "      <td>-0.021159</td>\n",
       "      <td>-0.020260</td>\n",
       "      <td>0.001000</td>\n",
       "      <td>-0.024312</td>\n",
       "      <td>-0.014093</td>\n",
       "      <td>0.004583</td>\n",
       "      <td>-0.033931</td>\n",
       "      <td>-0.021971</td>\n",
       "      <td>0.002063</td>\n",
       "      <td>-0.020254</td>\n",
       "      <td>-0.016304</td>\n",
       "      <td>0.006515</td>\n",
       "      <td>-0.031271</td>\n",
       "      <td>-0.021192</td>\n",
       "      <td>0.005288</td>\n",
       "      <td>-0.020558</td>\n",
       "      <td>-0.015128</td>\n",
       "      <td>0.004136</td>\n",
       "      <td>-0.032192</td>\n",
       "      <td>-0.022690</td>\n",
       "      <td>0.006086</td>\n",
       "      <td>-0.021418</td>\n",
       "      <td>-0.017232</td>\n",
       "      <td>-0.001733</td>\n",
       "      <td>-0.023421</td>\n",
       "      <td>-0.008307</td>\n",
       "      <td>0.005188</td>\n",
       "      <td>-0.034347</td>\n",
       "      <td>-0.017726</td>\n",
       "      <td>0.008173</td>\n",
       "      <td>-0.028322</td>\n",
       "      <td>-0.020115</td>\n",
       "      <td>0.009018</td>\n",
       "      <td>-0.030605</td>\n",
       "      <td>-0.013261</td>\n",
       "      <td>0.003582</td>\n",
       "      <td>-0.027836</td>\n",
       "      <td>-0.010909</td>\n",
       "      <td>0.010073</td>\n",
       "      <td>-0.034233</td>\n",
       "      <td>-0.016851</td>\n",
       "      <td>0.004216</td>\n",
       "      <td>-0.022289</td>\n",
       "      <td>-0.014183</td>\n",
       "      <td>0.006843</td>\n",
       "      <td>-0.030381</td>\n",
       "      <td>-0.015980</td>\n",
       "      <td>0.003092</td>\n",
       "      <td>-0.021107</td>\n",
       "      <td>-0.015553</td>\n",
       "      <td>0.009657</td>\n",
       "      <td>-0.033084</td>\n",
       "      <td>-0.020491</td>\n",
       "      <td>0.000585</td>\n",
       "      <td>-0.019365</td>\n",
       "      <td>-0.010231</td>\n",
       "      <td>0.004495</td>\n",
       "      <td>-0.030382</td>\n",
       "      <td>-0.020601</td>\n",
       "      <td>0.005324</td>\n",
       "      <td>-0.022354</td>\n",
       "      <td>-0.003949</td>\n",
       "      <td>-0.018493</td>\n",
       "      <td>-0.010879</td>\n",
       "      <td>-0.016686</td>\n",
       "      <td>-0.001666</td>\n",
       "      <td>-0.022140</td>\n",
       "      <td>-0.020995</td>\n",
       "      <td>0.002641</td>\n",
       "      <td>-0.019857</td>\n",
       "      <td>-0.014829</td>\n",
       "      <td>0.007526</td>\n",
       "      <td>-0.027495</td>\n",
       "      <td>-0.019373</td>\n",
       "      <td>-0.001177</td>\n",
       "      <td>-0.016554</td>\n",
       "      <td>-0.017273</td>\n",
       "      <td>-0.002885</td>\n",
       "      <td>-0.025871</td>\n",
       "      <td>-0.020156</td>\n",
       "      <td>-0.001826</td>\n",
       "      <td>-0.016094</td>\n",
       "      <td>-0.022898</td>\n",
       "      <td>0.011048</td>\n",
       "      <td>-0.032376</td>\n",
       "      <td>-0.020625</td>\n",
       "      <td>-0.002034</td>\n",
       "      <td>-0.015910</td>\n",
       "      <td>-0.017358</td>\n",
       "      <td>-0.004409</td>\n",
       "      <td>-0.019197</td>\n",
       "      <td>-0.016496</td>\n",
       "      <td>-0.000536</td>\n",
       "      <td>-0.020611</td>\n",
       "      <td>-0.021681</td>\n",
       "      <td>0.004484</td>\n",
       "      <td>-0.017973</td>\n",
       "      <td>-0.015774</td>\n",
       "      <td>-0.002244</td>\n",
       "      <td>-0.022447</td>\n",
       "      <td>-0.018713</td>\n",
       "      <td>-0.000281</td>\n",
       "      <td>-0.023330</td>\n",
       "      <td>-0.013929</td>\n",
       "      <td>-0.005931</td>\n",
       "      <td>-0.019921</td>\n",
       "      <td>-0.018855</td>\n",
       "      <td>0.001885</td>\n",
       "      <td>-0.023898</td>\n",
       "      <td>0.001442</td>\n",
       "      <td>-0.021647</td>\n",
       "      <td>-0.013311</td>\n",
       "      <td>-0.014128</td>\n",
       "      <td>-0.003664</td>\n",
       "      <td>-0.021111</td>\n",
       "      <td>-0.018303</td>\n",
       "      <td>0.004301</td>\n",
       "      <td>-0.021725</td>\n",
       "      <td>-0.010309</td>\n",
       "      <td>0.005193</td>\n",
       "      <td>-0.028492</td>\n",
       "      <td>-0.016862</td>\n",
       "      <td>0.002097</td>\n",
       "      <td>-0.020523</td>\n",
       "      <td>-0.016227</td>\n",
       "      <td>-0.003688</td>\n",
       "      <td>-0.017374</td>\n",
       "      <td>-0.017165</td>\n",
       "      <td>0.006961</td>\n",
       "      <td>-0.028019</td>\n",
       "      <td>-0.018057</td>\n",
       "      <td>-0.002820</td>\n",
       "      <td>-0.015416</td>\n",
       "      <td>-0.013563</td>\n",
       "      <td>0.001843</td>\n",
       "      <td>-0.031347</td>\n",
       "      <td>-0.019130</td>\n",
       "      <td>-0.003838</td>\n",
       "      <td>-0.017489</td>\n",
       "      <td>-0.011049</td>\n",
       "      <td>-0.006306</td>\n",
       "      <td>-0.021143</td>\n",
       "      <td>-0.019418</td>\n",
       "      <td>-0.000263</td>\n",
       "      <td>-0.021403</td>\n",
       "      <td>-0.022680</td>\n",
       "      <td>0.001103</td>\n",
       "      <td>-0.005902</td>\n",
       "      <td>-0.003149</td>\n",
       "      <td>-0.006999</td>\n",
       "      <td>-0.017558</td>\n",
       "      <td>-0.010175</td>\n",
       "      <td>-0.000760</td>\n",
       "      <td>-0.005108</td>\n",
       "      <td>-0.006575</td>\n",
       "      <td>-0.001400</td>\n",
       "      <td>-0.009638</td>\n",
       "      <td>0.004563</td>\n",
       "      <td>-0.007330</td>\n",
       "      <td>-0.014740</td>\n",
       "      <td>-0.010249</td>\n",
       "      <td>-0.003966</td>\n",
       "      <td>-0.008886</td>\n",
       "      <td>-0.014014</td>\n",
       "      <td>-0.009394</td>\n",
       "      <td>-0.027788</td>\n",
       "      <td>-0.017805</td>\n",
       "      <td>-0.006536</td>\n",
       "      <td>-0.024457</td>\n",
       "      <td>-0.013772</td>\n",
       "      <td>-0.011222</td>\n",
       "      <td>-0.024666</td>\n",
       "      <td>-0.017970</td>\n",
       "      <td>-0.008823</td>\n",
       "      <td>-0.024064</td>\n",
       "      <td>-0.023019</td>\n",
       "      <td>-0.002613</td>\n",
       "      <td>-0.020279</td>\n",
       "      <td>-0.017256</td>\n",
       "      <td>-0.005811</td>\n",
       "      <td>-0.029425</td>\n",
       "      <td>-0.019506</td>\n",
       "      <td>-0.000450</td>\n",
       "      <td>-0.024506</td>\n",
       "      <td>-0.014629</td>\n",
       "      <td>-0.006534</td>\n",
       "      <td>-0.031238</td>\n",
       "      <td>-0.019372</td>\n",
       "      <td>-0.005529</td>\n",
       "      <td>-0.020525</td>\n",
       "      <td>-0.017919</td>\n",
       "      <td>-0.005321</td>\n",
       "      <td>-0.030179</td>\n",
       "      <td>-0.022065</td>\n",
       "      <td>-0.001934</td>\n",
       "      <td>-0.023074</td>\n",
       "      <td>-0.015407</td>\n",
       "      <td>-0.000269</td>\n",
       "      <td>-0.030969</td>\n",
       "      <td>-0.019352</td>\n",
       "      <td>0.002037</td>\n",
       "      <td>-0.027682</td>\n",
       "      <td>-0.019065</td>\n",
       "      <td>-0.007734</td>\n",
       "      <td>-0.021292</td>\n",
       "      <td>-0.014901</td>\n",
       "      <td>-0.002670</td>\n",
       "      <td>-0.030535</td>\n",
       "      <td>-0.020567</td>\n",
       "      <td>-0.003500</td>\n",
       "      <td>-0.020680</td>\n",
       "      <td>-0.016654</td>\n",
       "      <td>-0.011505</td>\n",
       "      <td>-0.023607</td>\n",
       "      <td>-0.011938</td>\n",
       "      <td>-0.014119</td>\n",
       "      <td>-0.019603</td>\n",
       "      <td>-0.020548</td>\n",
       "      <td>-0.004486</td>\n",
       "      <td>-0.026405</td>\n",
       "      <td>-0.022659</td>\n",
       "      <td>-0.003330</td>\n",
       "      <td>-0.019513</td>\n",
       "      <td>-0.015441</td>\n",
       "      <td>-0.009640</td>\n",
       "      <td>-0.025494</td>\n",
       "      <td>-0.018213</td>\n",
       "      <td>-0.001735</td>\n",
       "      <td>-0.023607</td>\n",
       "      <td>-0.018853</td>\n",
       "      <td>-0.007241</td>\n",
       "      <td>-0.019672</td>\n",
       "      <td>-0.018489</td>\n",
       "      <td>-0.007332</td>\n",
       "      <td>-0.021719</td>\n",
       "      <td>-0.014985</td>\n",
       "      <td>-0.015750</td>\n",
       "      <td>-0.018092</td>\n",
       "      <td>-0.018368</td>\n",
       "      <td>-0.008143</td>\n",
       "      <td>-0.022189</td>\n",
       "      <td>-0.019204</td>\n",
       "      <td>-0.010885</td>\n",
       "      <td>-0.016805</td>\n",
       "      <td>-0.018302</td>\n",
       "      <td>-0.009552</td>\n",
       "      <td>-0.026526</td>\n",
       "      <td>-0.018708</td>\n",
       "      <td>-0.003488</td>\n",
       "      <td>-0.027548</td>\n",
       "      <td>-0.022416</td>\n",
       "      <td>-0.000437</td>\n",
       "      <td>-0.021537</td>\n",
       "      <td>-0.022108</td>\n",
       "      <td>-0.003916</td>\n",
       "      <td>-0.030054</td>\n",
       "      <td>-0.019765</td>\n",
       "      <td>-0.002328</td>\n",
       "      <td>-0.025686</td>\n",
       "      <td>-0.021832</td>\n",
       "      <td>-0.000546</td>\n",
       "      <td>-0.032528</td>\n",
       "      <td>-0.019503</td>\n",
       "      <td>-0.003188</td>\n",
       "      <td>-0.024517</td>\n",
       "      <td>-0.018721</td>\n",
       "      <td>-0.003766</td>\n",
       "      <td>-0.032164</td>\n",
       "      <td>-0.018776</td>\n",
       "      <td>-0.002138</td>\n",
       "      <td>-0.027195</td>\n",
       "      <td>-0.013395</td>\n",
       "      <td>-0.005393</td>\n",
       "      <td>-0.027606</td>\n",
       "      <td>-0.017176</td>\n",
       "      <td>0.000528</td>\n",
       "      <td>-0.028795</td>\n",
       "      <td>-0.016214</td>\n",
       "      <td>-0.008052</td>\n",
       "      <td>-0.022940</td>\n",
       "      <td>-0.016436</td>\n",
       "      <td>-0.003135</td>\n",
       "      <td>-0.023477</td>\n",
       "      <td>-0.010945</td>\n",
       "      <td>-0.008819</td>\n",
       "      <td>-0.030646</td>\n",
       "      <td>-0.017376</td>\n",
       "      <td>-0.003159</td>\n",
       "      <td>-0.028336</td>\n",
       "      <td>-0.009074</td>\n",
       "      <td>-0.005886</td>\n",
       "      <td>-0.035452</td>\n",
       "      <td>-0.017798</td>\n",
       "      <td>-0.005500</td>\n",
       "      <td>-0.025968</td>\n",
       "      <td>-0.019077</td>\n",
       "      <td>-0.006765</td>\n",
       "      <td>-0.026239</td>\n",
       "      <td>-0.014911</td>\n",
       "      <td>0.002522</td>\n",
       "      <td>-0.036656</td>\n",
       "      <td>-0.019949</td>\n",
       "      <td>-0.004846</td>\n",
       "      <td>-0.021201</td>\n",
       "      <td>-0.018480</td>\n",
       "      <td>-0.005577</td>\n",
       "      <td>-0.026871</td>\n",
       "      <td>-0.021009</td>\n",
       "      <td>-0.002784</td>\n",
       "      <td>-0.022567</td>\n",
       "      <td>-0.018928</td>\n",
       "      <td>-0.007256</td>\n",
       "      <td>-0.027429</td>\n",
       "      <td>-0.008967</td>\n",
       "      <td>-0.020706</td>\n",
       "      <td>-0.019807</td>\n",
       "      <td>-0.016424</td>\n",
       "      <td>-0.010266</td>\n",
       "      <td>-0.027612</td>\n",
       "      <td>-0.020859</td>\n",
       "      <td>-0.006266</td>\n",
       "      <td>-0.024533</td>\n",
       "      <td>-0.021490</td>\n",
       "      <td>0.010650</td>\n",
       "      <td>-0.034081</td>\n",
       "      <td>-0.022071</td>\n",
       "      <td>0.000060</td>\n",
       "      <td>-0.025472</td>\n",
       "      <td>-0.012014</td>\n",
       "      <td>0.000487</td>\n",
       "      <td>-0.024671</td>\n",
       "      <td>-0.018156</td>\n",
       "      <td>-0.005900</td>\n",
       "      <td>-0.028534</td>\n",
       "      <td>-0.018584</td>\n",
       "      <td>-0.002067</td>\n",
       "      <td>-0.029960</td>\n",
       "      <td>-0.008593</td>\n",
       "      <td>-0.010693</td>\n",
       "      <td>-0.032258</td>\n",
       "      <td>-0.021140</td>\n",
       "      <td>0.000311</td>\n",
       "      <td>-0.030782</td>\n",
       "      <td>-0.016721</td>\n",
       "      <td>-0.001796</td>\n",
       "      <td>-0.032088</td>\n",
       "      <td>-0.022740</td>\n",
       "      <td>0.006622</td>\n",
       "      <td>-0.029480</td>\n",
       "      <td>-0.018487</td>\n",
       "      <td>-0.004972</td>\n",
       "      <td>-0.028187</td>\n",
       "      <td>-0.013478</td>\n",
       "      <td>-0.000112</td>\n",
       "      <td>-0.035415</td>\n",
       "      <td>-0.015814</td>\n",
       "      <td>-0.004773</td>\n",
       "      <td>-0.027808</td>\n",
       "      <td>-0.017590</td>\n",
       "      <td>-0.003344</td>\n",
       "      <td>-0.026352</td>\n",
       "      <td>-0.016706</td>\n",
       "      <td>-0.003975</td>\n",
       "      <td>-0.033484</td>\n",
       "      <td>-0.021859</td>\n",
       "      <td>-0.004822</td>\n",
       "      <td>-0.021744</td>\n",
       "      <td>-0.019843</td>\n",
       "      <td>-0.010992</td>\n",
       "      <td>-0.023377</td>\n",
       "      <td>-0.022074</td>\n",
       "      <td>0.002468</td>\n",
       "      <td>-0.028839</td>\n",
       "      <td>-0.017239</td>\n",
       "      <td>0.003240</td>\n",
       "      <td>-0.034939</td>\n",
       "      <td>-0.022081</td>\n",
       "      <td>-0.002738</td>\n",
       "      <td>-0.020712</td>\n",
       "      <td>-0.015592</td>\n",
       "      <td>-0.010068</td>\n",
       "      <td>-0.024108</td>\n",
       "      <td>-0.019243</td>\n",
       "      <td>-0.008263</td>\n",
       "      <td>-0.020041</td>\n",
       "      <td>-0.019361</td>\n",
       "      <td>-0.005188</td>\n",
       "      <td>-0.024336</td>\n",
       "      <td>-0.015327</td>\n",
       "      <td>-0.008698</td>\n",
       "      <td>-0.030795</td>\n",
       "      <td>-0.021810</td>\n",
       "      <td>-0.003028</td>\n",
       "      <td>-0.021784</td>\n",
       "      <td>-0.016380</td>\n",
       "      <td>-0.005720</td>\n",
       "      <td>-0.029504</td>\n",
       "      <td>-0.021789</td>\n",
       "      <td>0.000304</td>\n",
       "      <td>-0.021871</td>\n",
       "      <td>-0.018521</td>\n",
       "      <td>-0.002704</td>\n",
       "      <td>-0.032012</td>\n",
       "      <td>-0.023787</td>\n",
       "      <td>0.001218</td>\n",
       "      <td>-0.022830</td>\n",
       "      <td>-0.016669</td>\n",
       "      <td>-0.010188</td>\n",
       "      <td>-0.025165</td>\n",
       "      <td>-0.012088</td>\n",
       "      <td>-0.006938</td>\n",
       "      <td>-0.031546</td>\n",
       "      <td>-0.018220</td>\n",
       "      <td>-0.006175</td>\n",
       "      <td>-0.025604</td>\n",
       "      <td>-0.022154</td>\n",
       "      <td>-0.004005</td>\n",
       "      <td>-0.028591</td>\n",
       "      <td>-0.018712</td>\n",
       "      <td>-0.002938</td>\n",
       "      <td>-0.027120</td>\n",
       "      <td>-0.012995</td>\n",
       "      <td>-0.003270</td>\n",
       "      <td>-0.030882</td>\n",
       "      <td>-0.019231</td>\n",
       "      <td>-0.000622</td>\n",
       "      <td>-0.024522</td>\n",
       "      <td>-0.015503</td>\n",
       "      <td>-0.006576</td>\n",
       "      <td>-0.027926</td>\n",
       "      <td>-0.017339</td>\n",
       "      <td>-0.002839</td>\n",
       "      <td>-0.022838</td>\n",
       "      <td>-0.016269</td>\n",
       "      <td>-0.004866</td>\n",
       "      <td>-0.029173</td>\n",
       "      <td>-0.018853</td>\n",
       "      <td>-0.006877</td>\n",
       "      <td>-0.021960</td>\n",
       "      <td>-0.013002</td>\n",
       "      <td>-0.006036</td>\n",
       "      <td>-0.030196</td>\n",
       "      <td>-0.020044</td>\n",
       "      <td>-0.006727</td>\n",
       "      <td>-0.022033</td>\n",
       "      <td>-0.008998</td>\n",
       "      <td>-0.019254</td>\n",
       "      <td>-0.017059</td>\n",
       "      <td>-0.016458</td>\n",
       "      <td>-0.011738</td>\n",
       "      <td>-0.023433</td>\n",
       "      <td>-0.024765</td>\n",
       "      <td>0.000406</td>\n",
       "      <td>-0.023428</td>\n",
       "      <td>-0.017597</td>\n",
       "      <td>0.000890</td>\n",
       "      <td>-0.031785</td>\n",
       "      <td>-0.020861</td>\n",
       "      <td>-0.003554</td>\n",
       "      <td>-0.019862</td>\n",
       "      <td>-0.017214</td>\n",
       "      <td>-0.010149</td>\n",
       "      <td>-0.026696</td>\n",
       "      <td>-0.018696</td>\n",
       "      <td>-0.006829</td>\n",
       "      <td>-0.018537</td>\n",
       "      <td>-0.020604</td>\n",
       "      <td>-0.003427</td>\n",
       "      <td>-0.030630</td>\n",
       "      <td>-0.018371</td>\n",
       "      <td>-0.008016</td>\n",
       "      <td>-0.020571</td>\n",
       "      <td>-0.016875</td>\n",
       "      <td>-0.012247</td>\n",
       "      <td>-0.023105</td>\n",
       "      <td>-0.014618</td>\n",
       "      <td>-0.007229</td>\n",
       "      <td>-0.026875</td>\n",
       "      <td>-0.022063</td>\n",
       "      <td>-0.000310</td>\n",
       "      <td>-0.021107</td>\n",
       "      <td>-0.013970</td>\n",
       "      <td>-0.011275</td>\n",
       "      <td>-0.023421</td>\n",
       "      <td>-0.019104</td>\n",
       "      <td>-0.003733</td>\n",
       "      <td>-0.026012</td>\n",
       "      <td>-0.014814</td>\n",
       "      <td>-0.012203</td>\n",
       "      <td>-0.021806</td>\n",
       "      <td>-0.018324</td>\n",
       "      <td>-0.008265</td>\n",
       "      <td>-0.023933</td>\n",
       "      <td>-0.002977</td>\n",
       "      <td>-0.023120</td>\n",
       "      <td>-0.019479</td>\n",
       "      <td>-0.019570</td>\n",
       "      <td>-0.011190</td>\n",
       "      <td>-0.022318</td>\n",
       "      <td>-0.020311</td>\n",
       "      <td>-0.000659</td>\n",
       "      <td>-0.024155</td>\n",
       "      <td>-0.009462</td>\n",
       "      <td>-0.007113</td>\n",
       "      <td>-0.028612</td>\n",
       "      <td>-0.016809</td>\n",
       "      <td>-0.002645</td>\n",
       "      <td>-0.024978</td>\n",
       "      <td>-0.018605</td>\n",
       "      <td>-0.006992</td>\n",
       "      <td>-0.020913</td>\n",
       "      <td>-0.016679</td>\n",
       "      <td>-0.000171</td>\n",
       "      <td>-0.029638</td>\n",
       "      <td>-0.017514</td>\n",
       "      <td>-0.007245</td>\n",
       "      <td>-0.018312</td>\n",
       "      <td>-0.012274</td>\n",
       "      <td>-0.011531</td>\n",
       "      <td>-0.029300</td>\n",
       "      <td>-0.017131</td>\n",
       "      <td>-0.007470</td>\n",
       "      <td>-0.022963</td>\n",
       "      <td>-0.011862</td>\n",
       "      <td>-0.013147</td>\n",
       "      <td>-0.023721</td>\n",
       "      <td>-0.017293</td>\n",
       "      <td>-0.007201</td>\n",
       "      <td>-0.024468</td>\n",
       "      <td>-0.022520</td>\n",
       "      <td>-0.003644</td>\n",
       "      <td>-0.014963</td>\n",
       "    </tr>\n",
       "    <tr>\n",
       "      <th>366</th>\n",
       "      <td>0.002915</td>\n",
       "      <td>-0.007531</td>\n",
       "      <td>-0.004481</td>\n",
       "      <td>0.002638</td>\n",
       "      <td>0.009724</td>\n",
       "      <td>-0.006671</td>\n",
       "      <td>0.007750</td>\n",
       "      <td>-0.008282</td>\n",
       "      <td>0.007545</td>\n",
       "      <td>-0.017771</td>\n",
       "      <td>0.012216</td>\n",
       "      <td>-0.035598</td>\n",
       "      <td>-0.020205</td>\n",
       "      <td>0.005663</td>\n",
       "      <td>-0.025147</td>\n",
       "      <td>-0.016857</td>\n",
       "      <td>0.006163</td>\n",
       "      <td>-0.031228</td>\n",
       "      <td>-0.018672</td>\n",
       "      <td>0.001686</td>\n",
       "      <td>-0.023059</td>\n",
       "      <td>-0.010088</td>\n",
       "      <td>-0.006193</td>\n",
       "      <td>-0.024531</td>\n",
       "      <td>-0.014764</td>\n",
       "      <td>0.002031</td>\n",
       "      <td>-0.028464</td>\n",
       "      <td>-0.019419</td>\n",
       "      <td>0.004450</td>\n",
       "      <td>-0.021923</td>\n",
       "      <td>-0.017241</td>\n",
       "      <td>0.005788</td>\n",
       "      <td>-0.031571</td>\n",
       "      <td>-0.019961</td>\n",
       "      <td>0.004864</td>\n",
       "      <td>-0.024009</td>\n",
       "      <td>-0.013951</td>\n",
       "      <td>0.006341</td>\n",
       "      <td>-0.034497</td>\n",
       "      <td>-0.014643</td>\n",
       "      <td>0.006472</td>\n",
       "      <td>-0.029789</td>\n",
       "      <td>-0.015630</td>\n",
       "      <td>0.009640</td>\n",
       "      <td>-0.033545</td>\n",
       "      <td>-0.017042</td>\n",
       "      <td>0.007966</td>\n",
       "      <td>-0.027237</td>\n",
       "      <td>-0.012586</td>\n",
       "      <td>0.004742</td>\n",
       "      <td>-0.030460</td>\n",
       "      <td>-0.015743</td>\n",
       "      <td>0.002888</td>\n",
       "      <td>-0.024257</td>\n",
       "      <td>-0.009270</td>\n",
       "      <td>-0.000801</td>\n",
       "      <td>-0.028398</td>\n",
       "      <td>-0.018343</td>\n",
       "      <td>0.003520</td>\n",
       "      <td>-0.026517</td>\n",
       "      <td>-0.008666</td>\n",
       "      <td>-0.006894</td>\n",
       "      <td>-0.022343</td>\n",
       "      <td>-0.017556</td>\n",
       "      <td>0.004683</td>\n",
       "      <td>-0.026840</td>\n",
       "      <td>-0.018683</td>\n",
       "      <td>0.001148</td>\n",
       "      <td>-0.019714</td>\n",
       "      <td>-0.017709</td>\n",
       "      <td>0.008934</td>\n",
       "      <td>-0.028292</td>\n",
       "      <td>-0.016204</td>\n",
       "      <td>0.000217</td>\n",
       "      <td>-0.021122</td>\n",
       "      <td>-0.015766</td>\n",
       "      <td>0.004765</td>\n",
       "      <td>-0.031004</td>\n",
       "      <td>-0.018307</td>\n",
       "      <td>0.000778</td>\n",
       "      <td>-0.022844</td>\n",
       "      <td>-0.014841</td>\n",
       "      <td>-0.000576</td>\n",
       "      <td>-0.026724</td>\n",
       "      <td>-0.018377</td>\n",
       "      <td>-0.001766</td>\n",
       "      <td>-0.018403</td>\n",
       "      <td>-0.011498</td>\n",
       "      <td>-0.012390</td>\n",
       "      <td>-0.017022</td>\n",
       "      <td>-0.017079</td>\n",
       "      <td>0.001370</td>\n",
       "      <td>-0.027139</td>\n",
       "      <td>-0.018088</td>\n",
       "      <td>0.001589</td>\n",
       "      <td>-0.021990</td>\n",
       "      <td>-0.017466</td>\n",
       "      <td>0.005228</td>\n",
       "      <td>-0.028605</td>\n",
       "      <td>-0.017600</td>\n",
       "      <td>0.001819</td>\n",
       "      <td>-0.022208</td>\n",
       "      <td>-0.013161</td>\n",
       "      <td>-0.004280</td>\n",
       "      <td>-0.020728</td>\n",
       "      <td>-0.017459</td>\n",
       "      <td>-0.000256</td>\n",
       "      <td>-0.026331</td>\n",
       "      <td>-0.018004</td>\n",
       "      <td>0.003834</td>\n",
       "      <td>-0.022462</td>\n",
       "      <td>-0.012509</td>\n",
       "      <td>0.007073</td>\n",
       "      <td>-0.035104</td>\n",
       "      <td>-0.011657</td>\n",
       "      <td>0.002789</td>\n",
       "      <td>-0.026914</td>\n",
       "      <td>-0.016083</td>\n",
       "      <td>0.010905</td>\n",
       "      <td>-0.032769</td>\n",
       "      <td>-0.015921</td>\n",
       "      <td>0.004558</td>\n",
       "      <td>-0.027188</td>\n",
       "      <td>-0.008384</td>\n",
       "      <td>0.004184</td>\n",
       "      <td>-0.032097</td>\n",
       "      <td>-0.016201</td>\n",
       "      <td>0.002385</td>\n",
       "      <td>-0.023188</td>\n",
       "      <td>-0.008167</td>\n",
       "      <td>-0.002896</td>\n",
       "      <td>-0.028575</td>\n",
       "      <td>-0.015238</td>\n",
       "      <td>0.003668</td>\n",
       "      <td>-0.028556</td>\n",
       "      <td>-0.004782</td>\n",
       "      <td>-0.008058</td>\n",
       "      <td>-0.024416</td>\n",
       "      <td>-0.015349</td>\n",
       "      <td>0.003397</td>\n",
       "      <td>-0.025798</td>\n",
       "      <td>-0.004841</td>\n",
       "      <td>-0.008305</td>\n",
       "      <td>-0.023472</td>\n",
       "      <td>-0.005437</td>\n",
       "      <td>-0.008825</td>\n",
       "      <td>-0.021788</td>\n",
       "      <td>-0.004661</td>\n",
       "      <td>0.001598</td>\n",
       "      <td>-0.032108</td>\n",
       "      <td>-0.018379</td>\n",
       "      <td>0.001233</td>\n",
       "      <td>-0.024125</td>\n",
       "      <td>-0.007681</td>\n",
       "      <td>-0.009564</td>\n",
       "      <td>-0.021890</td>\n",
       "      <td>-0.013717</td>\n",
       "      <td>0.001618</td>\n",
       "      <td>-0.031904</td>\n",
       "      <td>-0.014649</td>\n",
       "      <td>-0.002798</td>\n",
       "      <td>-0.021683</td>\n",
       "      <td>-0.017269</td>\n",
       "      <td>0.002933</td>\n",
       "      <td>-0.029119</td>\n",
       "      <td>-0.009987</td>\n",
       "      <td>-0.004246</td>\n",
       "      <td>-0.027086</td>\n",
       "      <td>-0.011236</td>\n",
       "      <td>0.000765</td>\n",
       "      <td>-0.029747</td>\n",
       "      <td>-0.011513</td>\n",
       "      <td>-0.003691</td>\n",
       "      <td>-0.024466</td>\n",
       "      <td>-0.022286</td>\n",
       "      <td>0.000595</td>\n",
       "      <td>-0.026940</td>\n",
       "      <td>-0.017911</td>\n",
       "      <td>0.001523</td>\n",
       "      <td>-0.029165</td>\n",
       "      <td>-0.019347</td>\n",
       "      <td>-0.000675</td>\n",
       "      <td>-0.018628</td>\n",
       "      <td>-0.007448</td>\n",
       "      <td>-0.006070</td>\n",
       "      <td>-0.028296</td>\n",
       "      <td>-0.018527</td>\n",
       "      <td>0.003678</td>\n",
       "      <td>-0.034124</td>\n",
       "      <td>-0.006328</td>\n",
       "      <td>-0.002324</td>\n",
       "      <td>-0.027674</td>\n",
       "      <td>-0.013336</td>\n",
       "      <td>0.002833</td>\n",
       "      <td>-0.028976</td>\n",
       "      <td>-0.003608</td>\n",
       "      <td>0.003267</td>\n",
       "      <td>-0.034940</td>\n",
       "      <td>-0.010323</td>\n",
       "      <td>0.001240</td>\n",
       "      <td>-0.027060</td>\n",
       "      <td>-0.005680</td>\n",
       "      <td>0.006530</td>\n",
       "      <td>-0.036945</td>\n",
       "      <td>-0.016566</td>\n",
       "      <td>0.005690</td>\n",
       "      <td>-0.028435</td>\n",
       "      <td>-0.007320</td>\n",
       "      <td>-0.000186</td>\n",
       "      <td>-0.031485</td>\n",
       "      <td>-0.011144</td>\n",
       "      <td>-0.000090</td>\n",
       "      <td>-0.026208</td>\n",
       "      <td>-0.011995</td>\n",
       "      <td>0.003802</td>\n",
       "      <td>-0.029862</td>\n",
       "      <td>-0.013835</td>\n",
       "      <td>0.007875</td>\n",
       "      <td>-0.029957</td>\n",
       "      <td>-0.016719</td>\n",
       "      <td>0.015364</td>\n",
       "      <td>-0.036100</td>\n",
       "      <td>-0.019215</td>\n",
       "      <td>0.004730</td>\n",
       "      <td>-0.025059</td>\n",
       "      <td>-0.013306</td>\n",
       "      <td>0.004018</td>\n",
       "      <td>-0.032006</td>\n",
       "      <td>-0.013337</td>\n",
       "      <td>-0.003572</td>\n",
       "      <td>-0.021603</td>\n",
       "      <td>-0.019250</td>\n",
       "      <td>0.002301</td>\n",
       "      <td>-0.025497</td>\n",
       "      <td>-0.009210</td>\n",
       "      <td>-0.006241</td>\n",
       "      <td>-0.025240</td>\n",
       "      <td>-0.017222</td>\n",
       "      <td>-0.000229</td>\n",
       "      <td>-0.023866</td>\n",
       "      <td>-0.013981</td>\n",
       "      <td>0.000506</td>\n",
       "      <td>-0.028247</td>\n",
       "      <td>-0.018266</td>\n",
       "      <td>0.003769</td>\n",
       "      <td>-0.023082</td>\n",
       "      <td>-0.016453</td>\n",
       "      <td>0.007710</td>\n",
       "      <td>-0.034434</td>\n",
       "      <td>-0.020270</td>\n",
       "      <td>0.005005</td>\n",
       "      <td>-0.023529</td>\n",
       "      <td>-0.015122</td>\n",
       "      <td>0.001772</td>\n",
       "      <td>-0.028708</td>\n",
       "      <td>-0.015989</td>\n",
       "      <td>-0.001136</td>\n",
       "      <td>-0.022328</td>\n",
       "      <td>-0.020200</td>\n",
       "      <td>0.007707</td>\n",
       "      <td>-0.029286</td>\n",
       "      <td>-0.011031</td>\n",
       "      <td>-0.003212</td>\n",
       "      <td>-0.025149</td>\n",
       "      <td>-0.008431</td>\n",
       "      <td>-0.007617</td>\n",
       "      <td>-0.021376</td>\n",
       "      <td>-0.010600</td>\n",
       "      <td>0.005346</td>\n",
       "      <td>-0.033034</td>\n",
       "      <td>-0.017713</td>\n",
       "      <td>0.008046</td>\n",
       "      <td>-0.027073</td>\n",
       "      <td>-0.015187</td>\n",
       "      <td>0.011106</td>\n",
       "      <td>-0.034448</td>\n",
       "      <td>-0.016384</td>\n",
       "      <td>0.003247</td>\n",
       "      <td>-0.022629</td>\n",
       "      <td>-0.015937</td>\n",
       "      <td>0.007265</td>\n",
       "      <td>-0.032872</td>\n",
       "      <td>-0.018396</td>\n",
       "      <td>0.004424</td>\n",
       "      <td>-0.025693</td>\n",
       "      <td>-0.013440</td>\n",
       "      <td>-0.000867</td>\n",
       "      <td>-0.025286</td>\n",
       "      <td>-0.017366</td>\n",
       "      <td>0.002330</td>\n",
       "      <td>-0.023818</td>\n",
       "      <td>-0.006995</td>\n",
       "      <td>-0.006038</td>\n",
       "      <td>-0.023673</td>\n",
       "      <td>-0.015389</td>\n",
       "      <td>0.001021</td>\n",
       "      <td>-0.024427</td>\n",
       "      <td>-0.008656</td>\n",
       "      <td>-0.001066</td>\n",
       "      <td>-0.024973</td>\n",
       "      <td>-0.016839</td>\n",
       "      <td>0.003762</td>\n",
       "      <td>-0.024586</td>\n",
       "      <td>-0.017345</td>\n",
       "      <td>-0.003638</td>\n",
       "      <td>-0.018492</td>\n",
       "      <td>-0.020243</td>\n",
       "      <td>0.004942</td>\n",
       "      <td>-0.028600</td>\n",
       "      <td>-0.020212</td>\n",
       "      <td>0.000052</td>\n",
       "      <td>-0.017875</td>\n",
       "      <td>-0.017354</td>\n",
       "      <td>-0.003302</td>\n",
       "      <td>-0.024264</td>\n",
       "      <td>-0.020226</td>\n",
       "      <td>0.000018</td>\n",
       "      <td>-0.019344</td>\n",
       "      <td>-0.015243</td>\n",
       "      <td>0.000445</td>\n",
       "      <td>-0.028237</td>\n",
       "      <td>-0.013677</td>\n",
       "      <td>-0.003209</td>\n",
       "      <td>-0.022426</td>\n",
       "      <td>-0.011476</td>\n",
       "      <td>0.001402</td>\n",
       "      <td>-0.028735</td>\n",
       "      <td>-0.019835</td>\n",
       "      <td>0.002137</td>\n",
       "      <td>-0.022772</td>\n",
       "      <td>-0.020433</td>\n",
       "      <td>0.004548</td>\n",
       "      <td>-0.021352</td>\n",
       "      <td>-0.017960</td>\n",
       "      <td>0.004446</td>\n",
       "      <td>-0.028423</td>\n",
       "      <td>-0.018252</td>\n",
       "      <td>0.002851</td>\n",
       "      <td>-0.021551</td>\n",
       "      <td>-0.009653</td>\n",
       "      <td>-0.006731</td>\n",
       "      <td>-0.024146</td>\n",
       "      <td>-0.015290</td>\n",
       "      <td>0.002372</td>\n",
       "      <td>-0.028533</td>\n",
       "      <td>-0.014225</td>\n",
       "      <td>0.004244</td>\n",
       "      <td>-0.025062</td>\n",
       "      <td>-0.017152</td>\n",
       "      <td>0.007755</td>\n",
       "      <td>-0.027592</td>\n",
       "      <td>-0.017191</td>\n",
       "      <td>0.003506</td>\n",
       "      <td>-0.023469</td>\n",
       "      <td>-0.013908</td>\n",
       "      <td>0.007343</td>\n",
       "      <td>-0.032260</td>\n",
       "      <td>-0.015919</td>\n",
       "      <td>0.001539</td>\n",
       "      <td>-0.021726</td>\n",
       "      <td>-0.011920</td>\n",
       "      <td>-0.006918</td>\n",
       "      <td>-0.020424</td>\n",
       "      <td>-0.018495</td>\n",
       "      <td>0.005504</td>\n",
       "      <td>-0.029150</td>\n",
       "      <td>-0.018667</td>\n",
       "      <td>0.000764</td>\n",
       "      <td>-0.020070</td>\n",
       "      <td>-0.015596</td>\n",
       "      <td>0.002947</td>\n",
       "      <td>-0.028886</td>\n",
       "      <td>-0.016914</td>\n",
       "      <td>-0.000899</td>\n",
       "      <td>-0.018698</td>\n",
       "      <td>-0.010564</td>\n",
       "      <td>-0.004203</td>\n",
       "      <td>-0.024642</td>\n",
       "      <td>-0.017230</td>\n",
       "      <td>0.000804</td>\n",
       "      <td>-0.023603</td>\n",
       "      <td>-0.014997</td>\n",
       "      <td>-0.003220</td>\n",
       "      <td>-0.007167</td>\n",
       "      <td>-0.007949</td>\n",
       "      <td>-0.012384</td>\n",
       "      <td>-0.008484</td>\n",
       "      <td>-0.006619</td>\n",
       "      <td>0.004969</td>\n",
       "      <td>-0.016338</td>\n",
       "      <td>-0.001114</td>\n",
       "      <td>-0.015414</td>\n",
       "      <td>-0.002109</td>\n",
       "      <td>-0.020372</td>\n",
       "      <td>0.006069</td>\n",
       "      <td>-0.035991</td>\n",
       "      <td>-0.021472</td>\n",
       "      <td>-0.000075</td>\n",
       "      <td>-0.027360</td>\n",
       "      <td>-0.021517</td>\n",
       "      <td>0.001171</td>\n",
       "      <td>-0.032497</td>\n",
       "      <td>-0.020649</td>\n",
       "      <td>-0.003104</td>\n",
       "      <td>-0.025664</td>\n",
       "      <td>-0.014994</td>\n",
       "      <td>-0.008709</td>\n",
       "      <td>-0.027849</td>\n",
       "      <td>-0.018826</td>\n",
       "      <td>-0.003753</td>\n",
       "      <td>-0.030483</td>\n",
       "      <td>-0.021295</td>\n",
       "      <td>-0.000924</td>\n",
       "      <td>-0.026890</td>\n",
       "      <td>-0.020943</td>\n",
       "      <td>0.000939</td>\n",
       "      <td>-0.033507</td>\n",
       "      <td>-0.022320</td>\n",
       "      <td>-0.000932</td>\n",
       "      <td>-0.025855</td>\n",
       "      <td>-0.017860</td>\n",
       "      <td>-0.001508</td>\n",
       "      <td>-0.033731</td>\n",
       "      <td>-0.016808</td>\n",
       "      <td>-0.003371</td>\n",
       "      <td>-0.029940</td>\n",
       "      <td>-0.019078</td>\n",
       "      <td>-0.000761</td>\n",
       "      <td>-0.032888</td>\n",
       "      <td>-0.019411</td>\n",
       "      <td>0.000489</td>\n",
       "      <td>-0.029874</td>\n",
       "      <td>-0.017583</td>\n",
       "      <td>-0.003821</td>\n",
       "      <td>-0.029830</td>\n",
       "      <td>-0.018851</td>\n",
       "      <td>-0.008105</td>\n",
       "      <td>-0.024332</td>\n",
       "      <td>-0.010830</td>\n",
       "      <td>-0.007121</td>\n",
       "      <td>-0.033216</td>\n",
       "      <td>-0.019753</td>\n",
       "      <td>-0.002766</td>\n",
       "      <td>-0.029127</td>\n",
       "      <td>-0.015122</td>\n",
       "      <td>-0.005365</td>\n",
       "      <td>-0.028805</td>\n",
       "      <td>-0.017863</td>\n",
       "      <td>-0.004279</td>\n",
       "      <td>-0.030482</td>\n",
       "      <td>-0.020179</td>\n",
       "      <td>-0.002544</td>\n",
       "      <td>-0.026739</td>\n",
       "      <td>-0.018465</td>\n",
       "      <td>-0.001478</td>\n",
       "      <td>-0.030858</td>\n",
       "      <td>-0.018871</td>\n",
       "      <td>-0.004181</td>\n",
       "      <td>-0.028112</td>\n",
       "      <td>-0.019173</td>\n",
       "      <td>-0.001277</td>\n",
       "      <td>-0.033089</td>\n",
       "      <td>-0.019930</td>\n",
       "      <td>-0.004653</td>\n",
       "      <td>-0.024926</td>\n",
       "      <td>-0.016592</td>\n",
       "      <td>-0.005599</td>\n",
       "      <td>-0.029838</td>\n",
       "      <td>-0.020239</td>\n",
       "      <td>-0.007445</td>\n",
       "      <td>-0.020709</td>\n",
       "      <td>-0.015230</td>\n",
       "      <td>-0.015432</td>\n",
       "      <td>-0.020810</td>\n",
       "      <td>-0.019426</td>\n",
       "      <td>-0.004757</td>\n",
       "      <td>-0.029588</td>\n",
       "      <td>-0.021213</td>\n",
       "      <td>-0.000832</td>\n",
       "      <td>-0.027988</td>\n",
       "      <td>-0.019072</td>\n",
       "      <td>-0.001111</td>\n",
       "      <td>-0.032407</td>\n",
       "      <td>-0.019765</td>\n",
       "      <td>-0.005410</td>\n",
       "      <td>-0.023757</td>\n",
       "      <td>-0.015917</td>\n",
       "      <td>-0.009289</td>\n",
       "      <td>-0.024971</td>\n",
       "      <td>-0.020307</td>\n",
       "      <td>-0.003887</td>\n",
       "      <td>-0.029786</td>\n",
       "      <td>-0.020912</td>\n",
       "      <td>-0.003289</td>\n",
       "      <td>-0.023926</td>\n",
       "      <td>-0.017001</td>\n",
       "      <td>-0.001133</td>\n",
       "      <td>-0.034159</td>\n",
       "      <td>-0.016767</td>\n",
       "      <td>-0.008719</td>\n",
       "      <td>-0.023862</td>\n",
       "      <td>-0.019576</td>\n",
       "      <td>0.000835</td>\n",
       "      <td>-0.034028</td>\n",
       "      <td>-0.018621</td>\n",
       "      <td>-0.002120</td>\n",
       "      <td>-0.029897</td>\n",
       "      <td>-0.012978</td>\n",
       "      <td>-0.004307</td>\n",
       "      <td>-0.032160</td>\n",
       "      <td>-0.019581</td>\n",
       "      <td>-0.003093</td>\n",
       "      <td>-0.026298</td>\n",
       "      <td>-0.012355</td>\n",
       "      <td>-0.007470</td>\n",
       "      <td>-0.030706</td>\n",
       "      <td>-0.017132</td>\n",
       "      <td>-0.004248</td>\n",
       "      <td>-0.029239</td>\n",
       "      <td>-0.010326</td>\n",
       "      <td>-0.014022</td>\n",
       "      <td>-0.025062</td>\n",
       "      <td>-0.017205</td>\n",
       "      <td>-0.003588</td>\n",
       "      <td>-0.028922</td>\n",
       "      <td>-0.010038</td>\n",
       "      <td>-0.016440</td>\n",
       "      <td>-0.023036</td>\n",
       "      <td>-0.012935</td>\n",
       "      <td>-0.018026</td>\n",
       "      <td>-0.020335</td>\n",
       "      <td>-0.008097</td>\n",
       "      <td>-0.006822</td>\n",
       "      <td>-0.035793</td>\n",
       "      <td>-0.019396</td>\n",
       "      <td>-0.003787</td>\n",
       "      <td>-0.027017</td>\n",
       "      <td>-0.012801</td>\n",
       "      <td>-0.010539</td>\n",
       "      <td>-0.026090</td>\n",
       "      <td>-0.017715</td>\n",
       "      <td>-0.002969</td>\n",
       "      <td>-0.032495</td>\n",
       "      <td>-0.016753</td>\n",
       "      <td>-0.007116</td>\n",
       "      <td>-0.025749</td>\n",
       "      <td>-0.018552</td>\n",
       "      <td>-0.004796</td>\n",
       "      <td>-0.029903</td>\n",
       "      <td>-0.016228</td>\n",
       "      <td>-0.005913</td>\n",
       "      <td>-0.030286</td>\n",
       "      <td>-0.017051</td>\n",
       "      <td>-0.005371</td>\n",
       "      <td>-0.031287</td>\n",
       "      <td>-0.013398</td>\n",
       "      <td>-0.009252</td>\n",
       "      <td>-0.028399</td>\n",
       "      <td>-0.020354</td>\n",
       "      <td>-0.002697</td>\n",
       "      <td>-0.017050</td>\n",
       "      <td>-0.020177</td>\n",
       "      <td>-0.002738</td>\n",
       "      <td>-0.030778</td>\n",
       "      <td>-0.014025</td>\n",
       "      <td>-0.004816</td>\n",
       "      <td>-0.012925</td>\n",
       "      <td>-0.012917</td>\n",
       "      <td>-0.008676</td>\n",
       "      <td>-0.030362</td>\n",
       "      <td>-0.020820</td>\n",
       "      <td>-0.001662</td>\n",
       "      <td>-0.034223</td>\n",
       "      <td>-0.012616</td>\n",
       "      <td>-0.008807</td>\n",
       "      <td>-0.027315</td>\n",
       "      <td>-0.016295</td>\n",
       "      <td>-0.010895</td>\n",
       "      <td>-0.025606</td>\n",
       "      <td>-0.009655</td>\n",
       "      <td>-0.007634</td>\n",
       "      <td>-0.031122</td>\n",
       "      <td>-0.016155</td>\n",
       "      <td>-0.011006</td>\n",
       "      <td>-0.023237</td>\n",
       "      <td>-0.009046</td>\n",
       "      <td>-0.006007</td>\n",
       "      <td>-0.035902</td>\n",
       "      <td>-0.019431</td>\n",
       "      <td>0.000440</td>\n",
       "      <td>-0.030804</td>\n",
       "      <td>-0.013576</td>\n",
       "      <td>-0.009021</td>\n",
       "      <td>-0.027972</td>\n",
       "      <td>-0.015610</td>\n",
       "      <td>-0.012642</td>\n",
       "      <td>-0.022056</td>\n",
       "      <td>-0.015150</td>\n",
       "      <td>-0.007266</td>\n",
       "      <td>-0.028208</td>\n",
       "      <td>-0.017318</td>\n",
       "      <td>-0.005192</td>\n",
       "      <td>-0.026719</td>\n",
       "      <td>-0.018238</td>\n",
       "      <td>0.001973</td>\n",
       "      <td>-0.036686</td>\n",
       "      <td>-0.021645</td>\n",
       "      <td>-0.000219</td>\n",
       "      <td>-0.028578</td>\n",
       "      <td>-0.017413</td>\n",
       "      <td>-0.001948</td>\n",
       "      <td>-0.032792</td>\n",
       "      <td>-0.015751</td>\n",
       "      <td>-0.006781</td>\n",
       "      <td>-0.027137</td>\n",
       "      <td>-0.020892</td>\n",
       "      <td>-0.001738</td>\n",
       "      <td>-0.028378</td>\n",
       "      <td>-0.014658</td>\n",
       "      <td>-0.008282</td>\n",
       "      <td>-0.027641</td>\n",
       "      <td>-0.019126</td>\n",
       "      <td>-0.009703</td>\n",
       "      <td>-0.023090</td>\n",
       "      <td>-0.017903</td>\n",
       "      <td>-0.005914</td>\n",
       "      <td>-0.028901</td>\n",
       "      <td>-0.020300</td>\n",
       "      <td>-0.002089</td>\n",
       "      <td>-0.027219</td>\n",
       "      <td>-0.020790</td>\n",
       "      <td>0.002283</td>\n",
       "      <td>-0.035085</td>\n",
       "      <td>-0.022069</td>\n",
       "      <td>-0.000930</td>\n",
       "      <td>-0.026507</td>\n",
       "      <td>-0.017418</td>\n",
       "      <td>-0.003866</td>\n",
       "      <td>-0.031602</td>\n",
       "      <td>-0.019342</td>\n",
       "      <td>-0.004410</td>\n",
       "      <td>-0.026406</td>\n",
       "      <td>-0.021654</td>\n",
       "      <td>-0.000072</td>\n",
       "      <td>-0.030464</td>\n",
       "      <td>-0.015523</td>\n",
       "      <td>-0.007561</td>\n",
       "      <td>-0.027553</td>\n",
       "      <td>-0.014565</td>\n",
       "      <td>-0.017258</td>\n",
       "      <td>-0.019697</td>\n",
       "      <td>-0.011798</td>\n",
       "      <td>-0.007732</td>\n",
       "      <td>-0.032599</td>\n",
       "      <td>-0.020733</td>\n",
       "      <td>0.002144</td>\n",
       "      <td>-0.030406</td>\n",
       "      <td>-0.020158</td>\n",
       "      <td>0.001670</td>\n",
       "      <td>-0.033622</td>\n",
       "      <td>-0.020054</td>\n",
       "      <td>-0.001181</td>\n",
       "      <td>-0.027601</td>\n",
       "      <td>-0.019647</td>\n",
       "      <td>0.000742</td>\n",
       "      <td>-0.033528</td>\n",
       "      <td>-0.020870</td>\n",
       "      <td>-0.000723</td>\n",
       "      <td>-0.028323</td>\n",
       "      <td>-0.017962</td>\n",
       "      <td>-0.007372</td>\n",
       "      <td>-0.025435</td>\n",
       "      <td>-0.018919</td>\n",
       "      <td>-0.005150</td>\n",
       "      <td>-0.027771</td>\n",
       "      <td>-0.011728</td>\n",
       "      <td>-0.012804</td>\n",
       "      <td>-0.024543</td>\n",
       "      <td>-0.018705</td>\n",
       "      <td>-0.006901</td>\n",
       "      <td>-0.026814</td>\n",
       "      <td>-0.016132</td>\n",
       "      <td>-0.004053</td>\n",
       "      <td>-0.028552</td>\n",
       "      <td>-0.020001</td>\n",
       "      <td>-0.002002</td>\n",
       "      <td>-0.030684</td>\n",
       "      <td>-0.022461</td>\n",
       "      <td>-0.005123</td>\n",
       "      <td>-0.022346</td>\n",
       "      <td>-0.022162</td>\n",
       "      <td>-0.000879</td>\n",
       "      <td>-0.029576</td>\n",
       "      <td>-0.021754</td>\n",
       "      <td>-0.004306</td>\n",
       "      <td>-0.021846</td>\n",
       "      <td>-0.019624</td>\n",
       "      <td>-0.006821</td>\n",
       "      <td>-0.027222</td>\n",
       "      <td>-0.021875</td>\n",
       "      <td>-0.005471</td>\n",
       "      <td>-0.022027</td>\n",
       "      <td>-0.019202</td>\n",
       "      <td>-0.005703</td>\n",
       "      <td>-0.028237</td>\n",
       "      <td>-0.016841</td>\n",
       "      <td>-0.014575</td>\n",
       "      <td>-0.021205</td>\n",
       "      <td>-0.011241</td>\n",
       "      <td>-0.007830</td>\n",
       "      <td>-0.032643</td>\n",
       "      <td>-0.021524</td>\n",
       "      <td>-0.004229</td>\n",
       "      <td>-0.025141</td>\n",
       "      <td>-0.022266</td>\n",
       "      <td>-0.001367</td>\n",
       "      <td>-0.024887</td>\n",
       "      <td>-0.019739</td>\n",
       "      <td>-0.001793</td>\n",
       "      <td>-0.031044</td>\n",
       "      <td>-0.021481</td>\n",
       "      <td>-0.003521</td>\n",
       "      <td>-0.023269</td>\n",
       "      <td>-0.014024</td>\n",
       "      <td>-0.011640</td>\n",
       "      <td>-0.026149</td>\n",
       "      <td>-0.017414</td>\n",
       "      <td>-0.005072</td>\n",
       "      <td>-0.030605</td>\n",
       "      <td>-0.019939</td>\n",
       "      <td>0.001218</td>\n",
       "      <td>-0.029488</td>\n",
       "      <td>-0.018578</td>\n",
       "      <td>-0.002134</td>\n",
       "      <td>-0.031017</td>\n",
       "      <td>-0.020536</td>\n",
       "      <td>-0.002253</td>\n",
       "      <td>-0.026847</td>\n",
       "      <td>-0.019124</td>\n",
       "      <td>0.000273</td>\n",
       "      <td>-0.032566</td>\n",
       "      <td>-0.019390</td>\n",
       "      <td>-0.003950</td>\n",
       "      <td>-0.025094</td>\n",
       "      <td>-0.013851</td>\n",
       "      <td>-0.010756</td>\n",
       "      <td>-0.025562</td>\n",
       "      <td>-0.019983</td>\n",
       "      <td>-0.002840</td>\n",
       "      <td>-0.029624</td>\n",
       "      <td>-0.019435</td>\n",
       "      <td>-0.003593</td>\n",
       "      <td>-0.025792</td>\n",
       "      <td>-0.018372</td>\n",
       "      <td>-0.003260</td>\n",
       "      <td>-0.031342</td>\n",
       "      <td>-0.018802</td>\n",
       "      <td>-0.006715</td>\n",
       "      <td>-0.022124</td>\n",
       "      <td>-0.014704</td>\n",
       "      <td>-0.009544</td>\n",
       "      <td>-0.026963</td>\n",
       "      <td>-0.018882</td>\n",
       "      <td>-0.006879</td>\n",
       "      <td>-0.025308</td>\n",
       "      <td>-0.015784</td>\n",
       "      <td>-0.009157</td>\n",
       "      <td>-0.016857</td>\n",
       "    </tr>\n",
       "    <tr>\n",
       "      <th>368</th>\n",
       "      <td>0.000170</td>\n",
       "      <td>-0.001461</td>\n",
       "      <td>-0.010587</td>\n",
       "      <td>-0.007932</td>\n",
       "      <td>0.003404</td>\n",
       "      <td>0.006705</td>\n",
       "      <td>0.001757</td>\n",
       "      <td>0.004802</td>\n",
       "      <td>0.000177</td>\n",
       "      <td>-0.001167</td>\n",
       "      <td>0.007386</td>\n",
       "      <td>-0.006869</td>\n",
       "      <td>-0.014001</td>\n",
       "      <td>0.003595</td>\n",
       "      <td>-0.030049</td>\n",
       "      <td>-0.019205</td>\n",
       "      <td>0.005165</td>\n",
       "      <td>-0.024193</td>\n",
       "      <td>-0.018521</td>\n",
       "      <td>0.004579</td>\n",
       "      <td>-0.026181</td>\n",
       "      <td>-0.011453</td>\n",
       "      <td>-0.010132</td>\n",
       "      <td>-0.017729</td>\n",
       "      <td>-0.021989</td>\n",
       "      <td>0.003835</td>\n",
       "      <td>-0.022088</td>\n",
       "      <td>-0.016464</td>\n",
       "      <td>0.004182</td>\n",
       "      <td>-0.028318</td>\n",
       "      <td>-0.019929</td>\n",
       "      <td>0.009124</td>\n",
       "      <td>-0.027089</td>\n",
       "      <td>-0.017153</td>\n",
       "      <td>0.004475</td>\n",
       "      <td>-0.026874</td>\n",
       "      <td>-0.020020</td>\n",
       "      <td>0.004609</td>\n",
       "      <td>-0.023824</td>\n",
       "      <td>-0.017431</td>\n",
       "      <td>-0.001393</td>\n",
       "      <td>-0.020706</td>\n",
       "      <td>-0.019322</td>\n",
       "      <td>0.009103</td>\n",
       "      <td>-0.028027</td>\n",
       "      <td>-0.017067</td>\n",
       "      <td>0.004126</td>\n",
       "      <td>-0.025091</td>\n",
       "      <td>-0.016954</td>\n",
       "      <td>0.004722</td>\n",
       "      <td>-0.022886</td>\n",
       "      <td>-0.014766</td>\n",
       "      <td>0.001171</td>\n",
       "      <td>-0.023994</td>\n",
       "      <td>-0.015000</td>\n",
       "      <td>0.001763</td>\n",
       "      <td>-0.023086</td>\n",
       "      <td>-0.017034</td>\n",
       "      <td>-0.001694</td>\n",
       "      <td>-0.020189</td>\n",
       "      <td>-0.012634</td>\n",
       "      <td>-0.003308</td>\n",
       "      <td>-0.024078</td>\n",
       "      <td>-0.022413</td>\n",
       "      <td>0.005057</td>\n",
       "      <td>-0.022265</td>\n",
       "      <td>-0.012504</td>\n",
       "      <td>-0.001969</td>\n",
       "      <td>-0.023124</td>\n",
       "      <td>-0.022627</td>\n",
       "      <td>0.008711</td>\n",
       "      <td>-0.023492</td>\n",
       "      <td>-0.016686</td>\n",
       "      <td>0.004922</td>\n",
       "      <td>-0.025911</td>\n",
       "      <td>-0.018481</td>\n",
       "      <td>0.008636</td>\n",
       "      <td>-0.024665</td>\n",
       "      <td>-0.017878</td>\n",
       "      <td>0.003659</td>\n",
       "      <td>-0.025642</td>\n",
       "      <td>-0.021024</td>\n",
       "      <td>0.004489</td>\n",
       "      <td>-0.023634</td>\n",
       "      <td>-0.019044</td>\n",
       "      <td>-0.005848</td>\n",
       "      <td>-0.015313</td>\n",
       "      <td>-0.020265</td>\n",
       "      <td>-0.002839</td>\n",
       "      <td>-0.018984</td>\n",
       "      <td>-0.022688</td>\n",
       "      <td>0.000237</td>\n",
       "      <td>-0.016952</td>\n",
       "      <td>-0.013752</td>\n",
       "      <td>-0.001370</td>\n",
       "      <td>-0.024913</td>\n",
       "      <td>-0.022314</td>\n",
       "      <td>0.010108</td>\n",
       "      <td>-0.026031</td>\n",
       "      <td>-0.019540</td>\n",
       "      <td>0.001455</td>\n",
       "      <td>-0.020593</td>\n",
       "      <td>-0.019471</td>\n",
       "      <td>0.001687</td>\n",
       "      <td>-0.022517</td>\n",
       "      <td>-0.021326</td>\n",
       "      <td>0.004960</td>\n",
       "      <td>-0.020520</td>\n",
       "      <td>-0.017423</td>\n",
       "      <td>0.000940</td>\n",
       "      <td>-0.024584</td>\n",
       "      <td>-0.018903</td>\n",
       "      <td>0.005451</td>\n",
       "      <td>-0.024137</td>\n",
       "      <td>-0.014696</td>\n",
       "      <td>-0.001956</td>\n",
       "      <td>-0.020347</td>\n",
       "      <td>-0.018955</td>\n",
       "      <td>0.007446</td>\n",
       "      <td>-0.025838</td>\n",
       "      <td>-0.016562</td>\n",
       "      <td>0.003397</td>\n",
       "      <td>-0.024139</td>\n",
       "      <td>-0.017542</td>\n",
       "      <td>0.006841</td>\n",
       "      <td>-0.024978</td>\n",
       "      <td>-0.015184</td>\n",
       "      <td>0.001756</td>\n",
       "      <td>-0.022661</td>\n",
       "      <td>-0.018304</td>\n",
       "      <td>0.007279</td>\n",
       "      <td>-0.026806</td>\n",
       "      <td>-0.015726</td>\n",
       "      <td>-0.002815</td>\n",
       "      <td>-0.020082</td>\n",
       "      <td>-0.015055</td>\n",
       "      <td>-0.005009</td>\n",
       "      <td>-0.019063</td>\n",
       "      <td>-0.013796</td>\n",
       "      <td>-0.004103</td>\n",
       "      <td>-0.019498</td>\n",
       "      <td>-0.008364</td>\n",
       "      <td>-0.010848</td>\n",
       "      <td>-0.017467</td>\n",
       "      <td>-0.012775</td>\n",
       "      <td>-0.004192</td>\n",
       "      <td>-0.021107</td>\n",
       "      <td>-0.012136</td>\n",
       "      <td>0.004831</td>\n",
       "      <td>-0.025690</td>\n",
       "      <td>-0.014781</td>\n",
       "      <td>-0.001367</td>\n",
       "      <td>-0.019669</td>\n",
       "      <td>-0.016849</td>\n",
       "      <td>0.000223</td>\n",
       "      <td>-0.023937</td>\n",
       "      <td>-0.019282</td>\n",
       "      <td>0.001940</td>\n",
       "      <td>-0.021163</td>\n",
       "      <td>-0.011225</td>\n",
       "      <td>-0.005868</td>\n",
       "      <td>-0.025162</td>\n",
       "      <td>-0.019247</td>\n",
       "      <td>0.000398</td>\n",
       "      <td>-0.020746</td>\n",
       "      <td>-0.009881</td>\n",
       "      <td>-0.010771</td>\n",
       "      <td>-0.019532</td>\n",
       "      <td>-0.017440</td>\n",
       "      <td>0.001467</td>\n",
       "      <td>-0.025551</td>\n",
       "      <td>-0.012034</td>\n",
       "      <td>-0.002719</td>\n",
       "      <td>-0.023926</td>\n",
       "      <td>-0.017615</td>\n",
       "      <td>-0.001558</td>\n",
       "      <td>-0.024063</td>\n",
       "      <td>-0.011365</td>\n",
       "      <td>-0.001028</td>\n",
       "      <td>-0.030724</td>\n",
       "      <td>-0.020600</td>\n",
       "      <td>0.000770</td>\n",
       "      <td>-0.027157</td>\n",
       "      <td>-0.008002</td>\n",
       "      <td>-0.008756</td>\n",
       "      <td>-0.025161</td>\n",
       "      <td>-0.021246</td>\n",
       "      <td>0.005509</td>\n",
       "      <td>-0.025820</td>\n",
       "      <td>-0.008213</td>\n",
       "      <td>-0.007793</td>\n",
       "      <td>-0.019776</td>\n",
       "      <td>-0.015856</td>\n",
       "      <td>0.001620</td>\n",
       "      <td>-0.024213</td>\n",
       "      <td>-0.011094</td>\n",
       "      <td>-0.001154</td>\n",
       "      <td>-0.023328</td>\n",
       "      <td>-0.012837</td>\n",
       "      <td>0.002679</td>\n",
       "      <td>-0.026361</td>\n",
       "      <td>-0.013788</td>\n",
       "      <td>0.011674</td>\n",
       "      <td>-0.031868</td>\n",
       "      <td>-0.016226</td>\n",
       "      <td>0.013557</td>\n",
       "      <td>-0.033910</td>\n",
       "      <td>-0.015360</td>\n",
       "      <td>0.002715</td>\n",
       "      <td>-0.024419</td>\n",
       "      <td>-0.013582</td>\n",
       "      <td>0.002557</td>\n",
       "      <td>-0.027845</td>\n",
       "      <td>-0.016255</td>\n",
       "      <td>0.006526</td>\n",
       "      <td>-0.027781</td>\n",
       "      <td>-0.015927</td>\n",
       "      <td>0.007950</td>\n",
       "      <td>-0.030188</td>\n",
       "      <td>-0.018507</td>\n",
       "      <td>0.011042</td>\n",
       "      <td>-0.027981</td>\n",
       "      <td>-0.014904</td>\n",
       "      <td>0.011282</td>\n",
       "      <td>-0.032710</td>\n",
       "      <td>-0.021602</td>\n",
       "      <td>0.008270</td>\n",
       "      <td>-0.024373</td>\n",
       "      <td>-0.008635</td>\n",
       "      <td>-0.000181</td>\n",
       "      <td>-0.029542</td>\n",
       "      <td>-0.015566</td>\n",
       "      <td>-0.002352</td>\n",
       "      <td>-0.020215</td>\n",
       "      <td>-0.010462</td>\n",
       "      <td>-0.009766</td>\n",
       "      <td>-0.021052</td>\n",
       "      <td>-0.018076</td>\n",
       "      <td>-0.003429</td>\n",
       "      <td>-0.019484</td>\n",
       "      <td>-0.017476</td>\n",
       "      <td>0.001179</td>\n",
       "      <td>-0.023518</td>\n",
       "      <td>-0.017718</td>\n",
       "      <td>0.003547</td>\n",
       "      <td>-0.027744</td>\n",
       "      <td>-0.020458</td>\n",
       "      <td>0.008318</td>\n",
       "      <td>-0.026158</td>\n",
       "      <td>-0.016383</td>\n",
       "      <td>0.005730</td>\n",
       "      <td>-0.030685</td>\n",
       "      <td>-0.021499</td>\n",
       "      <td>0.006758</td>\n",
       "      <td>-0.023061</td>\n",
       "      <td>-0.009863</td>\n",
       "      <td>-0.006030</td>\n",
       "      <td>-0.023779</td>\n",
       "      <td>-0.019488</td>\n",
       "      <td>0.002966</td>\n",
       "      <td>-0.022150</td>\n",
       "      <td>-0.010240</td>\n",
       "      <td>-0.011374</td>\n",
       "      <td>-0.016523</td>\n",
       "      <td>-0.015269</td>\n",
       "      <td>-0.004367</td>\n",
       "      <td>-0.019416</td>\n",
       "      <td>-0.017972</td>\n",
       "      <td>0.006199</td>\n",
       "      <td>-0.025357</td>\n",
       "      <td>-0.018041</td>\n",
       "      <td>0.006568</td>\n",
       "      <td>-0.028050</td>\n",
       "      <td>-0.017662</td>\n",
       "      <td>0.009095</td>\n",
       "      <td>-0.027367</td>\n",
       "      <td>-0.015131</td>\n",
       "      <td>0.005393</td>\n",
       "      <td>-0.030027</td>\n",
       "      <td>-0.018076</td>\n",
       "      <td>0.009533</td>\n",
       "      <td>-0.027721</td>\n",
       "      <td>-0.017150</td>\n",
       "      <td>0.003704</td>\n",
       "      <td>-0.026016</td>\n",
       "      <td>-0.018812</td>\n",
       "      <td>-0.000056</td>\n",
       "      <td>-0.019728</td>\n",
       "      <td>-0.016478</td>\n",
       "      <td>-0.001774</td>\n",
       "      <td>-0.020758</td>\n",
       "      <td>-0.012520</td>\n",
       "      <td>-0.008252</td>\n",
       "      <td>-0.017120</td>\n",
       "      <td>-0.017707</td>\n",
       "      <td>-0.002377</td>\n",
       "      <td>-0.017706</td>\n",
       "      <td>-0.013332</td>\n",
       "      <td>0.002341</td>\n",
       "      <td>-0.024152</td>\n",
       "      <td>-0.019347</td>\n",
       "      <td>0.006863</td>\n",
       "      <td>-0.024996</td>\n",
       "      <td>-0.012149</td>\n",
       "      <td>0.003256</td>\n",
       "      <td>-0.026296</td>\n",
       "      <td>-0.023200</td>\n",
       "      <td>0.003492</td>\n",
       "      <td>-0.019460</td>\n",
       "      <td>-0.016013</td>\n",
       "      <td>-0.001629</td>\n",
       "      <td>-0.026377</td>\n",
       "      <td>-0.021308</td>\n",
       "      <td>0.002927</td>\n",
       "      <td>-0.020929</td>\n",
       "      <td>-0.016729</td>\n",
       "      <td>-0.003826</td>\n",
       "      <td>-0.021734</td>\n",
       "      <td>-0.020068</td>\n",
       "      <td>0.002865</td>\n",
       "      <td>-0.022287</td>\n",
       "      <td>-0.017450</td>\n",
       "      <td>-0.002882</td>\n",
       "      <td>-0.020102</td>\n",
       "      <td>-0.014780</td>\n",
       "      <td>-0.000273</td>\n",
       "      <td>-0.023525</td>\n",
       "      <td>-0.016808</td>\n",
       "      <td>-0.002970</td>\n",
       "      <td>-0.018112</td>\n",
       "      <td>-0.012399</td>\n",
       "      <td>-0.000753</td>\n",
       "      <td>-0.027424</td>\n",
       "      <td>-0.021520</td>\n",
       "      <td>0.005936</td>\n",
       "      <td>-0.022162</td>\n",
       "      <td>-0.018911</td>\n",
       "      <td>-0.000676</td>\n",
       "      <td>-0.019734</td>\n",
       "      <td>-0.019085</td>\n",
       "      <td>0.000484</td>\n",
       "      <td>-0.020711</td>\n",
       "      <td>-0.021246</td>\n",
       "      <td>0.004001</td>\n",
       "      <td>-0.020413</td>\n",
       "      <td>-0.012030</td>\n",
       "      <td>-0.001471</td>\n",
       "      <td>-0.022710</td>\n",
       "      <td>-0.022510</td>\n",
       "      <td>0.011439</td>\n",
       "      <td>-0.026262</td>\n",
       "      <td>-0.015807</td>\n",
       "      <td>0.004583</td>\n",
       "      <td>-0.026070</td>\n",
       "      <td>-0.019082</td>\n",
       "      <td>0.006777</td>\n",
       "      <td>-0.023410</td>\n",
       "      <td>-0.014707</td>\n",
       "      <td>-0.001844</td>\n",
       "      <td>-0.020126</td>\n",
       "      <td>-0.016348</td>\n",
       "      <td>0.001370</td>\n",
       "      <td>-0.023525</td>\n",
       "      <td>-0.019761</td>\n",
       "      <td>0.001151</td>\n",
       "      <td>-0.019228</td>\n",
       "      <td>-0.011103</td>\n",
       "      <td>-0.004382</td>\n",
       "      <td>-0.025993</td>\n",
       "      <td>-0.020676</td>\n",
       "      <td>0.004455</td>\n",
       "      <td>-0.021442</td>\n",
       "      <td>-0.015536</td>\n",
       "      <td>-0.003950</td>\n",
       "      <td>-0.019249</td>\n",
       "      <td>-0.019492</td>\n",
       "      <td>0.000339</td>\n",
       "      <td>-0.018336</td>\n",
       "      <td>-0.015673</td>\n",
       "      <td>-0.005894</td>\n",
       "      <td>-0.016103</td>\n",
       "      <td>-0.014183</td>\n",
       "      <td>-0.000870</td>\n",
       "      <td>-0.010305</td>\n",
       "      <td>-0.012620</td>\n",
       "      <td>-0.001846</td>\n",
       "      <td>-0.011257</td>\n",
       "      <td>-0.013813</td>\n",
       "      <td>-0.004167</td>\n",
       "      <td>0.003603</td>\n",
       "      <td>-0.009515</td>\n",
       "      <td>-0.001017</td>\n",
       "      <td>-0.005788</td>\n",
       "      <td>-0.009422</td>\n",
       "      <td>-0.004108</td>\n",
       "      <td>-0.009523</td>\n",
       "      <td>-0.021072</td>\n",
       "      <td>0.004094</td>\n",
       "      <td>-0.030101</td>\n",
       "      <td>-0.022572</td>\n",
       "      <td>0.003579</td>\n",
       "      <td>-0.027908</td>\n",
       "      <td>-0.024440</td>\n",
       "      <td>0.002531</td>\n",
       "      <td>-0.026755</td>\n",
       "      <td>-0.021442</td>\n",
       "      <td>-0.005842</td>\n",
       "      <td>-0.018035</td>\n",
       "      <td>-0.026934</td>\n",
       "      <td>0.001259</td>\n",
       "      <td>-0.021894</td>\n",
       "      <td>-0.021788</td>\n",
       "      <td>0.001652</td>\n",
       "      <td>-0.028798</td>\n",
       "      <td>-0.023534</td>\n",
       "      <td>0.004288</td>\n",
       "      <td>-0.027870</td>\n",
       "      <td>-0.024388</td>\n",
       "      <td>0.001975</td>\n",
       "      <td>-0.025730</td>\n",
       "      <td>-0.023080</td>\n",
       "      <td>-0.002870</td>\n",
       "      <td>-0.020079</td>\n",
       "      <td>-0.023519</td>\n",
       "      <td>-0.002339</td>\n",
       "      <td>-0.021442</td>\n",
       "      <td>-0.022733</td>\n",
       "      <td>0.004192</td>\n",
       "      <td>-0.027676</td>\n",
       "      <td>-0.022819</td>\n",
       "      <td>0.001735</td>\n",
       "      <td>-0.026019</td>\n",
       "      <td>-0.021336</td>\n",
       "      <td>-0.000785</td>\n",
       "      <td>-0.020434</td>\n",
       "      <td>-0.019559</td>\n",
       "      <td>-0.001304</td>\n",
       "      <td>-0.025933</td>\n",
       "      <td>-0.019713</td>\n",
       "      <td>-0.003768</td>\n",
       "      <td>-0.025413</td>\n",
       "      <td>-0.024696</td>\n",
       "      <td>-0.002813</td>\n",
       "      <td>-0.020910</td>\n",
       "      <td>-0.020933</td>\n",
       "      <td>-0.001678</td>\n",
       "      <td>-0.023676</td>\n",
       "      <td>-0.025406</td>\n",
       "      <td>0.000639</td>\n",
       "      <td>-0.022579</td>\n",
       "      <td>-0.021815</td>\n",
       "      <td>-0.000977</td>\n",
       "      <td>-0.023594</td>\n",
       "      <td>-0.025077</td>\n",
       "      <td>0.002277</td>\n",
       "      <td>-0.021715</td>\n",
       "      <td>-0.022219</td>\n",
       "      <td>0.002286</td>\n",
       "      <td>-0.027100</td>\n",
       "      <td>-0.023110</td>\n",
       "      <td>0.004866</td>\n",
       "      <td>-0.028842</td>\n",
       "      <td>-0.025509</td>\n",
       "      <td>0.002518</td>\n",
       "      <td>-0.027055</td>\n",
       "      <td>-0.023841</td>\n",
       "      <td>-0.000312</td>\n",
       "      <td>-0.023649</td>\n",
       "      <td>-0.024077</td>\n",
       "      <td>-0.006977</td>\n",
       "      <td>-0.016849</td>\n",
       "      <td>-0.023175</td>\n",
       "      <td>-0.004525</td>\n",
       "      <td>-0.020957</td>\n",
       "      <td>-0.025908</td>\n",
       "      <td>-0.005248</td>\n",
       "      <td>-0.016257</td>\n",
       "      <td>-0.019833</td>\n",
       "      <td>-0.002225</td>\n",
       "      <td>-0.025291</td>\n",
       "      <td>-0.024482</td>\n",
       "      <td>0.004793</td>\n",
       "      <td>-0.028211</td>\n",
       "      <td>-0.025883</td>\n",
       "      <td>-0.000176</td>\n",
       "      <td>-0.022442</td>\n",
       "      <td>-0.023004</td>\n",
       "      <td>-0.000926</td>\n",
       "      <td>-0.023983</td>\n",
       "      <td>-0.024494</td>\n",
       "      <td>-0.001973</td>\n",
       "      <td>-0.018864</td>\n",
       "      <td>-0.021677</td>\n",
       "      <td>-0.003139</td>\n",
       "      <td>-0.024803</td>\n",
       "      <td>-0.022244</td>\n",
       "      <td>-0.003378</td>\n",
       "      <td>-0.019941</td>\n",
       "      <td>-0.021578</td>\n",
       "      <td>-0.003707</td>\n",
       "      <td>-0.021183</td>\n",
       "      <td>-0.025403</td>\n",
       "      <td>0.006888</td>\n",
       "      <td>-0.028996</td>\n",
       "      <td>-0.022472</td>\n",
       "      <td>0.000408</td>\n",
       "      <td>-0.025418</td>\n",
       "      <td>-0.021195</td>\n",
       "      <td>0.001359</td>\n",
       "      <td>-0.024013</td>\n",
       "      <td>-0.021175</td>\n",
       "      <td>0.000496</td>\n",
       "      <td>-0.025192</td>\n",
       "      <td>-0.022009</td>\n",
       "      <td>0.002291</td>\n",
       "      <td>-0.025828</td>\n",
       "      <td>-0.022690</td>\n",
       "      <td>-0.004389</td>\n",
       "      <td>-0.019535</td>\n",
       "      <td>-0.020829</td>\n",
       "      <td>-0.006401</td>\n",
       "      <td>-0.018689</td>\n",
       "      <td>-0.019358</td>\n",
       "      <td>-0.004903</td>\n",
       "      <td>-0.021586</td>\n",
       "      <td>-0.020185</td>\n",
       "      <td>-0.007218</td>\n",
       "      <td>-0.016467</td>\n",
       "      <td>-0.020873</td>\n",
       "      <td>-0.002355</td>\n",
       "      <td>-0.026772</td>\n",
       "      <td>-0.018422</td>\n",
       "      <td>-0.002279</td>\n",
       "      <td>-0.026653</td>\n",
       "      <td>-0.023732</td>\n",
       "      <td>-0.001162</td>\n",
       "      <td>-0.021842</td>\n",
       "      <td>-0.020686</td>\n",
       "      <td>-0.002902</td>\n",
       "      <td>-0.023813</td>\n",
       "      <td>-0.023476</td>\n",
       "      <td>-0.002637</td>\n",
       "      <td>-0.019633</td>\n",
       "      <td>-0.016188</td>\n",
       "      <td>-0.007542</td>\n",
       "      <td>-0.026894</td>\n",
       "      <td>-0.023988</td>\n",
       "      <td>-0.004023</td>\n",
       "      <td>-0.019010</td>\n",
       "      <td>-0.019722</td>\n",
       "      <td>-0.007510</td>\n",
       "      <td>-0.019086</td>\n",
       "      <td>-0.021334</td>\n",
       "      <td>-0.002658</td>\n",
       "      <td>-0.025802</td>\n",
       "      <td>-0.019312</td>\n",
       "      <td>-0.007388</td>\n",
       "      <td>-0.024714</td>\n",
       "      <td>-0.025524</td>\n",
       "      <td>-0.001390</td>\n",
       "      <td>-0.023245</td>\n",
       "      <td>-0.019000</td>\n",
       "      <td>-0.000995</td>\n",
       "      <td>-0.028921</td>\n",
       "      <td>-0.021879</td>\n",
       "      <td>0.002593</td>\n",
       "      <td>-0.025054</td>\n",
       "      <td>-0.018502</td>\n",
       "      <td>-0.005958</td>\n",
       "      <td>-0.022856</td>\n",
       "      <td>-0.025189</td>\n",
       "      <td>0.001254</td>\n",
       "      <td>-0.023875</td>\n",
       "      <td>-0.020802</td>\n",
       "      <td>-0.004796</td>\n",
       "      <td>-0.017080</td>\n",
       "      <td>-0.021498</td>\n",
       "      <td>0.000088</td>\n",
       "      <td>-0.026343</td>\n",
       "      <td>-0.019718</td>\n",
       "      <td>-0.002896</td>\n",
       "      <td>-0.019638</td>\n",
       "      <td>-0.020219</td>\n",
       "      <td>0.002340</td>\n",
       "      <td>-0.028156</td>\n",
       "      <td>-0.018562</td>\n",
       "      <td>0.004425</td>\n",
       "      <td>-0.033054</td>\n",
       "      <td>-0.022895</td>\n",
       "      <td>0.007742</td>\n",
       "      <td>-0.032530</td>\n",
       "      <td>-0.022258</td>\n",
       "      <td>-0.001743</td>\n",
       "      <td>-0.019014</td>\n",
       "      <td>-0.021411</td>\n",
       "      <td>0.003091</td>\n",
       "      <td>-0.027727</td>\n",
       "      <td>-0.023145</td>\n",
       "      <td>0.002857</td>\n",
       "      <td>-0.024222</td>\n",
       "      <td>-0.022951</td>\n",
       "      <td>0.005788</td>\n",
       "      <td>-0.030323</td>\n",
       "      <td>-0.023712</td>\n",
       "      <td>0.006284</td>\n",
       "      <td>-0.030417</td>\n",
       "      <td>-0.022986</td>\n",
       "      <td>0.004603</td>\n",
       "      <td>-0.030340</td>\n",
       "      <td>-0.025945</td>\n",
       "      <td>0.004634</td>\n",
       "      <td>-0.024592</td>\n",
       "      <td>-0.021821</td>\n",
       "      <td>0.001804</td>\n",
       "      <td>-0.029177</td>\n",
       "      <td>-0.024026</td>\n",
       "      <td>-0.002412</td>\n",
       "      <td>-0.020794</td>\n",
       "      <td>-0.020786</td>\n",
       "      <td>-0.005906</td>\n",
       "      <td>-0.019768</td>\n",
       "      <td>-0.025093</td>\n",
       "      <td>-0.003392</td>\n",
       "      <td>-0.019477</td>\n",
       "      <td>-0.023621</td>\n",
       "      <td>-0.000560</td>\n",
       "      <td>-0.021706</td>\n",
       "      <td>-0.022632</td>\n",
       "      <td>-0.000524</td>\n",
       "      <td>-0.027680</td>\n",
       "      <td>-0.023758</td>\n",
       "      <td>0.003147</td>\n",
       "      <td>-0.025357</td>\n",
       "      <td>-0.023297</td>\n",
       "      <td>0.004331</td>\n",
       "      <td>-0.029497</td>\n",
       "      <td>-0.024101</td>\n",
       "      <td>0.000546</td>\n",
       "      <td>-0.021233</td>\n",
       "      <td>-0.021064</td>\n",
       "      <td>-0.002752</td>\n",
       "      <td>-0.026423</td>\n",
       "      <td>-0.026545</td>\n",
       "      <td>0.000746</td>\n",
       "      <td>-0.021059</td>\n",
       "      <td>-0.021330</td>\n",
       "      <td>-0.007456</td>\n",
       "      <td>-0.015470</td>\n",
       "      <td>-0.024089</td>\n",
       "      <td>-0.000179</td>\n",
       "      <td>-0.024925</td>\n",
       "      <td>-0.022572</td>\n",
       "      <td>0.002849</td>\n",
       "      <td>-0.028333</td>\n",
       "      <td>-0.024507</td>\n",
       "      <td>0.002463</td>\n",
       "      <td>-0.027744</td>\n",
       "      <td>-0.021520</td>\n",
       "      <td>0.004314</td>\n",
       "      <td>-0.026514</td>\n",
       "      <td>-0.021063</td>\n",
       "      <td>0.000552</td>\n",
       "      <td>-0.028838</td>\n",
       "      <td>-0.022348</td>\n",
       "      <td>0.006336</td>\n",
       "      <td>-0.030477</td>\n",
       "      <td>-0.024589</td>\n",
       "      <td>0.001609</td>\n",
       "      <td>-0.025638</td>\n",
       "      <td>-0.023183</td>\n",
       "      <td>-0.004223</td>\n",
       "      <td>-0.017261</td>\n",
       "      <td>-0.022202</td>\n",
       "      <td>-0.001932</td>\n",
       "      <td>-0.022530</td>\n",
       "      <td>-0.020947</td>\n",
       "      <td>-0.007258</td>\n",
       "      <td>-0.016609</td>\n",
       "      <td>-0.023580</td>\n",
       "      <td>-0.002014</td>\n",
       "      <td>-0.020756</td>\n",
       "      <td>-0.021749</td>\n",
       "      <td>0.002778</td>\n",
       "      <td>-0.023860</td>\n",
       "      <td>-0.024354</td>\n",
       "      <td>0.004371</td>\n",
       "      <td>-0.029506</td>\n",
       "      <td>-0.023309</td>\n",
       "      <td>-0.000114</td>\n",
       "      <td>-0.026455</td>\n",
       "      <td>-0.027159</td>\n",
       "      <td>-0.001090</td>\n",
       "      <td>-0.019250</td>\n",
       "      <td>-0.021128</td>\n",
       "      <td>-0.002478</td>\n",
       "      <td>-0.026870</td>\n",
       "      <td>-0.024591</td>\n",
       "      <td>-0.002121</td>\n",
       "      <td>-0.019950</td>\n",
       "      <td>-0.022175</td>\n",
       "      <td>-0.005348</td>\n",
       "      <td>-0.021910</td>\n",
       "      <td>-0.023549</td>\n",
       "      <td>-0.001247</td>\n",
       "      <td>-0.020906</td>\n",
       "      <td>-0.022639</td>\n",
       "      <td>-0.003321</td>\n",
       "      <td>-0.022582</td>\n",
       "      <td>-0.019223</td>\n",
       "      <td>-0.003972</td>\n",
       "      <td>-0.026650</td>\n",
       "      <td>-0.024746</td>\n",
       "      <td>-0.004189</td>\n",
       "      <td>-0.018625</td>\n",
       "      <td>-0.018554</td>\n",
       "      <td>-0.001963</td>\n",
       "      <td>-0.027262</td>\n",
       "      <td>-0.024728</td>\n",
       "      <td>-0.000846</td>\n",
       "      <td>-0.020639</td>\n",
       "      <td>-0.023690</td>\n",
       "      <td>-0.003814</td>\n",
       "      <td>-0.020390</td>\n",
       "      <td>-0.022583</td>\n",
       "      <td>-0.003384</td>\n",
       "      <td>-0.020346</td>\n",
       "      <td>-0.025005</td>\n",
       "      <td>-0.001496</td>\n",
       "      <td>-0.019463</td>\n",
       "      <td>-0.019433</td>\n",
       "      <td>-0.002162</td>\n",
       "      <td>-0.022104</td>\n",
       "      <td>-0.025517</td>\n",
       "      <td>0.006556</td>\n",
       "      <td>-0.029090</td>\n",
       "      <td>-0.022275</td>\n",
       "      <td>0.000194</td>\n",
       "      <td>-0.025899</td>\n",
       "      <td>-0.022095</td>\n",
       "      <td>-0.000006</td>\n",
       "      <td>-0.021309</td>\n",
       "      <td>-0.020466</td>\n",
       "      <td>-0.002849</td>\n",
       "      <td>-0.022448</td>\n",
       "      <td>-0.020095</td>\n",
       "      <td>-0.001071</td>\n",
       "      <td>-0.026111</td>\n",
       "      <td>-0.025272</td>\n",
       "      <td>-0.002274</td>\n",
       "      <td>-0.018641</td>\n",
       "      <td>-0.018315</td>\n",
       "      <td>-0.003042</td>\n",
       "      <td>-0.026233</td>\n",
       "      <td>-0.023301</td>\n",
       "      <td>-0.001265</td>\n",
       "      <td>-0.020732</td>\n",
       "      <td>-0.020794</td>\n",
       "      <td>-0.006104</td>\n",
       "      <td>-0.020691</td>\n",
       "      <td>-0.022462</td>\n",
       "      <td>-0.002736</td>\n",
       "      <td>-0.019526</td>\n",
       "      <td>-0.021223</td>\n",
       "      <td>-0.007744</td>\n",
       "      <td>-0.016977</td>\n",
       "      <td>-0.017408</td>\n",
       "      <td>-0.003717</td>\n",
       "      <td>-0.018895</td>\n",
       "    </tr>\n",
       "    <tr>\n",
       "      <th>379</th>\n",
       "      <td>-0.002325</td>\n",
       "      <td>0.004376</td>\n",
       "      <td>-0.012855</td>\n",
       "      <td>-0.006993</td>\n",
       "      <td>0.023949</td>\n",
       "      <td>-0.012893</td>\n",
       "      <td>-0.003918</td>\n",
       "      <td>0.014186</td>\n",
       "      <td>-0.004247</td>\n",
       "      <td>-0.001080</td>\n",
       "      <td>-0.001206</td>\n",
       "      <td>0.007818</td>\n",
       "      <td>0.009739</td>\n",
       "      <td>0.008701</td>\n",
       "      <td>-0.020500</td>\n",
       "      <td>-0.012671</td>\n",
       "      <td>0.008735</td>\n",
       "      <td>-0.005700</td>\n",
       "      <td>-0.009879</td>\n",
       "      <td>-0.012976</td>\n",
       "      <td>-0.017400</td>\n",
       "      <td>-0.020374</td>\n",
       "      <td>0.009447</td>\n",
       "      <td>-0.029884</td>\n",
       "      <td>-0.014799</td>\n",
       "      <td>-0.000491</td>\n",
       "      <td>-0.022468</td>\n",
       "      <td>-0.011976</td>\n",
       "      <td>-0.002578</td>\n",
       "      <td>-0.026832</td>\n",
       "      <td>-0.022311</td>\n",
       "      <td>0.007664</td>\n",
       "      <td>-0.025874</td>\n",
       "      <td>-0.012119</td>\n",
       "      <td>0.001692</td>\n",
       "      <td>-0.029937</td>\n",
       "      <td>-0.022010</td>\n",
       "      <td>0.010114</td>\n",
       "      <td>-0.027548</td>\n",
       "      <td>-0.012099</td>\n",
       "      <td>-0.006466</td>\n",
       "      <td>-0.019618</td>\n",
       "      <td>-0.022502</td>\n",
       "      <td>0.003993</td>\n",
       "      <td>-0.023806</td>\n",
       "      <td>-0.013324</td>\n",
       "      <td>-0.009812</td>\n",
       "      <td>-0.014517</td>\n",
       "      <td>-0.020407</td>\n",
       "      <td>0.009234</td>\n",
       "      <td>-0.029397</td>\n",
       "      <td>-0.007043</td>\n",
       "      <td>-0.011132</td>\n",
       "      <td>-0.019570</td>\n",
       "      <td>-0.018946</td>\n",
       "      <td>0.011294</td>\n",
       "      <td>-0.031318</td>\n",
       "      <td>-0.012567</td>\n",
       "      <td>0.006820</td>\n",
       "      <td>-0.031905</td>\n",
       "      <td>-0.004218</td>\n",
       "      <td>-0.004375</td>\n",
       "      <td>-0.030794</td>\n",
       "      <td>-0.016459</td>\n",
       "      <td>0.000482</td>\n",
       "      <td>-0.022169</td>\n",
       "      <td>-0.008472</td>\n",
       "      <td>-0.015391</td>\n",
       "      <td>-0.016783</td>\n",
       "      <td>-0.021374</td>\n",
       "      <td>0.001636</td>\n",
       "      <td>-0.020436</td>\n",
       "      <td>-0.011247</td>\n",
       "      <td>-0.015687</td>\n",
       "      <td>-0.010639</td>\n",
       "      <td>-0.019137</td>\n",
       "      <td>0.002625</td>\n",
       "      <td>-0.021257</td>\n",
       "      <td>-0.008107</td>\n",
       "      <td>-0.002498</td>\n",
       "      <td>-0.027680</td>\n",
       "      <td>-0.017973</td>\n",
       "      <td>0.007019</td>\n",
       "      <td>-0.028528</td>\n",
       "      <td>-0.003234</td>\n",
       "      <td>-0.017844</td>\n",
       "      <td>-0.017073</td>\n",
       "      <td>-0.018795</td>\n",
       "      <td>0.004226</td>\n",
       "      <td>-0.025233</td>\n",
       "      <td>-0.009959</td>\n",
       "      <td>-0.009121</td>\n",
       "      <td>-0.018735</td>\n",
       "      <td>-0.010070</td>\n",
       "      <td>-0.011906</td>\n",
       "      <td>-0.018259</td>\n",
       "      <td>-0.022772</td>\n",
       "      <td>0.002602</td>\n",
       "      <td>-0.021590</td>\n",
       "      <td>-0.011029</td>\n",
       "      <td>-0.005044</td>\n",
       "      <td>-0.022813</td>\n",
       "      <td>-0.014981</td>\n",
       "      <td>0.010401</td>\n",
       "      <td>-0.035201</td>\n",
       "      <td>-0.016137</td>\n",
       "      <td>0.001922</td>\n",
       "      <td>-0.023469</td>\n",
       "      <td>-0.004284</td>\n",
       "      <td>-0.012141</td>\n",
       "      <td>-0.029329</td>\n",
       "      <td>-0.019746</td>\n",
       "      <td>0.003573</td>\n",
       "      <td>-0.025799</td>\n",
       "      <td>-0.011276</td>\n",
       "      <td>-0.006829</td>\n",
       "      <td>-0.021561</td>\n",
       "      <td>-0.020746</td>\n",
       "      <td>0.002041</td>\n",
       "      <td>-0.024728</td>\n",
       "      <td>-0.010225</td>\n",
       "      <td>-0.006019</td>\n",
       "      <td>-0.020275</td>\n",
       "      <td>-0.017156</td>\n",
       "      <td>0.008579</td>\n",
       "      <td>-0.030768</td>\n",
       "      <td>-0.007029</td>\n",
       "      <td>-0.009571</td>\n",
       "      <td>-0.021575</td>\n",
       "      <td>-0.015865</td>\n",
       "      <td>0.005777</td>\n",
       "      <td>-0.029497</td>\n",
       "      <td>0.001557</td>\n",
       "      <td>-0.017001</td>\n",
       "      <td>-0.023340</td>\n",
       "      <td>-0.017365</td>\n",
       "      <td>0.004063</td>\n",
       "      <td>-0.025982</td>\n",
       "      <td>-0.013193</td>\n",
       "      <td>-0.004741</td>\n",
       "      <td>-0.023715</td>\n",
       "      <td>-0.014950</td>\n",
       "      <td>0.007181</td>\n",
       "      <td>-0.034655</td>\n",
       "      <td>-0.013682</td>\n",
       "      <td>-0.004330</td>\n",
       "      <td>-0.020944</td>\n",
       "      <td>-0.016117</td>\n",
       "      <td>0.004557</td>\n",
       "      <td>-0.027529</td>\n",
       "      <td>-0.009659</td>\n",
       "      <td>0.005800</td>\n",
       "      <td>-0.032680</td>\n",
       "      <td>0.004917</td>\n",
       "      <td>-0.000876</td>\n",
       "      <td>-0.045743</td>\n",
       "      <td>-0.005748</td>\n",
       "      <td>-0.003387</td>\n",
       "      <td>-0.028797</td>\n",
       "      <td>-0.015529</td>\n",
       "      <td>0.007700</td>\n",
       "      <td>-0.033097</td>\n",
       "      <td>-0.008485</td>\n",
       "      <td>-0.006405</td>\n",
       "      <td>-0.026650</td>\n",
       "      <td>-0.011295</td>\n",
       "      <td>-0.002049</td>\n",
       "      <td>-0.030305</td>\n",
       "      <td>-0.015319</td>\n",
       "      <td>-0.008764</td>\n",
       "      <td>-0.022172</td>\n",
       "      <td>-0.014675</td>\n",
       "      <td>0.007990</td>\n",
       "      <td>-0.037543</td>\n",
       "      <td>-0.011236</td>\n",
       "      <td>0.010246</td>\n",
       "      <td>-0.038617</td>\n",
       "      <td>-0.007623</td>\n",
       "      <td>0.006514</td>\n",
       "      <td>-0.040918</td>\n",
       "      <td>-0.009271</td>\n",
       "      <td>-0.015421</td>\n",
       "      <td>-0.020267</td>\n",
       "      <td>-0.016016</td>\n",
       "      <td>0.007917</td>\n",
       "      <td>-0.039366</td>\n",
       "      <td>-0.012619</td>\n",
       "      <td>-0.009741</td>\n",
       "      <td>-0.026637</td>\n",
       "      <td>-0.007627</td>\n",
       "      <td>-0.002931</td>\n",
       "      <td>-0.032715</td>\n",
       "      <td>-0.014549</td>\n",
       "      <td>-0.002634</td>\n",
       "      <td>-0.024688</td>\n",
       "      <td>-0.016514</td>\n",
       "      <td>0.012789</td>\n",
       "      <td>-0.038309</td>\n",
       "      <td>-0.010035</td>\n",
       "      <td>-0.003189</td>\n",
       "      <td>-0.026016</td>\n",
       "      <td>-0.017896</td>\n",
       "      <td>0.011775</td>\n",
       "      <td>-0.033231</td>\n",
       "      <td>-0.007773</td>\n",
       "      <td>-0.005054</td>\n",
       "      <td>-0.024902</td>\n",
       "      <td>-0.013704</td>\n",
       "      <td>0.009301</td>\n",
       "      <td>-0.037769</td>\n",
       "      <td>0.003150</td>\n",
       "      <td>-0.019523</td>\n",
       "      <td>-0.022732</td>\n",
       "      <td>-0.017566</td>\n",
       "      <td>0.004908</td>\n",
       "      <td>-0.029348</td>\n",
       "      <td>-0.010476</td>\n",
       "      <td>-0.007869</td>\n",
       "      <td>-0.023154</td>\n",
       "      <td>-0.019095</td>\n",
       "      <td>0.005908</td>\n",
       "      <td>-0.025726</td>\n",
       "      <td>-0.001790</td>\n",
       "      <td>-0.006019</td>\n",
       "      <td>-0.031180</td>\n",
       "      <td>-0.007833</td>\n",
       "      <td>-0.003170</td>\n",
       "      <td>-0.030040</td>\n",
       "      <td>0.001193</td>\n",
       "      <td>-0.005344</td>\n",
       "      <td>-0.036184</td>\n",
       "      <td>-0.012326</td>\n",
       "      <td>0.001276</td>\n",
       "      <td>-0.026916</td>\n",
       "      <td>-0.016979</td>\n",
       "      <td>0.013106</td>\n",
       "      <td>-0.036817</td>\n",
       "      <td>-0.004654</td>\n",
       "      <td>-0.014876</td>\n",
       "      <td>-0.018705</td>\n",
       "      <td>-0.019689</td>\n",
       "      <td>0.008555</td>\n",
       "      <td>-0.027807</td>\n",
       "      <td>-0.014542</td>\n",
       "      <td>-0.009511</td>\n",
       "      <td>-0.015539</td>\n",
       "      <td>-0.020499</td>\n",
       "      <td>0.006579</td>\n",
       "      <td>-0.026566</td>\n",
       "      <td>-0.010678</td>\n",
       "      <td>0.004504</td>\n",
       "      <td>-0.034085</td>\n",
       "      <td>-0.015748</td>\n",
       "      <td>0.004701</td>\n",
       "      <td>-0.026030</td>\n",
       "      <td>-0.014003</td>\n",
       "      <td>0.005410</td>\n",
       "      <td>-0.032447</td>\n",
       "      <td>-0.013068</td>\n",
       "      <td>0.002117</td>\n",
       "      <td>-0.028631</td>\n",
       "      <td>-0.015716</td>\n",
       "      <td>0.003172</td>\n",
       "      <td>-0.027906</td>\n",
       "      <td>-0.017353</td>\n",
       "      <td>0.001017</td>\n",
       "      <td>-0.021778</td>\n",
       "      <td>-0.023491</td>\n",
       "      <td>0.005263</td>\n",
       "      <td>-0.023693</td>\n",
       "      <td>-0.012295</td>\n",
       "      <td>-0.009667</td>\n",
       "      <td>-0.014851</td>\n",
       "      <td>-0.019535</td>\n",
       "      <td>0.005150</td>\n",
       "      <td>-0.024640</td>\n",
       "      <td>-0.011482</td>\n",
       "      <td>-0.009879</td>\n",
       "      <td>-0.019034</td>\n",
       "      <td>-0.020098</td>\n",
       "      <td>0.004769</td>\n",
       "      <td>-0.023841</td>\n",
       "      <td>-0.010797</td>\n",
       "      <td>0.000333</td>\n",
       "      <td>-0.029199</td>\n",
       "      <td>-0.019008</td>\n",
       "      <td>0.005627</td>\n",
       "      <td>-0.027336</td>\n",
       "      <td>-0.005781</td>\n",
       "      <td>-0.015762</td>\n",
       "      <td>-0.017365</td>\n",
       "      <td>-0.021382</td>\n",
       "      <td>0.006573</td>\n",
       "      <td>-0.026504</td>\n",
       "      <td>-0.015576</td>\n",
       "      <td>-0.006223</td>\n",
       "      <td>-0.018764</td>\n",
       "      <td>-0.015600</td>\n",
       "      <td>-0.009388</td>\n",
       "      <td>-0.015497</td>\n",
       "      <td>-0.018544</td>\n",
       "      <td>-0.000905</td>\n",
       "      <td>-0.019717</td>\n",
       "      <td>-0.008377</td>\n",
       "      <td>-0.005913</td>\n",
       "      <td>-0.025457</td>\n",
       "      <td>-0.010339</td>\n",
       "      <td>-0.002360</td>\n",
       "      <td>-0.026672</td>\n",
       "      <td>-0.010522</td>\n",
       "      <td>0.005061</td>\n",
       "      <td>-0.032893</td>\n",
       "      <td>-0.021346</td>\n",
       "      <td>0.008817</td>\n",
       "      <td>-0.023122</td>\n",
       "      <td>-0.010281</td>\n",
       "      <td>-0.004220</td>\n",
       "      <td>-0.026736</td>\n",
       "      <td>-0.021284</td>\n",
       "      <td>0.007042</td>\n",
       "      <td>-0.026751</td>\n",
       "      <td>-0.015285</td>\n",
       "      <td>-0.004898</td>\n",
       "      <td>-0.020675</td>\n",
       "      <td>-0.022549</td>\n",
       "      <td>0.007223</td>\n",
       "      <td>-0.026052</td>\n",
       "      <td>-0.015822</td>\n",
       "      <td>0.006866</td>\n",
       "      <td>-0.030206</td>\n",
       "      <td>-0.005476</td>\n",
       "      <td>-0.002144</td>\n",
       "      <td>-0.033135</td>\n",
       "      <td>-0.021076</td>\n",
       "      <td>0.008744</td>\n",
       "      <td>-0.024974</td>\n",
       "      <td>-0.009935</td>\n",
       "      <td>-0.010203</td>\n",
       "      <td>-0.022939</td>\n",
       "      <td>-0.018501</td>\n",
       "      <td>0.004455</td>\n",
       "      <td>-0.028521</td>\n",
       "      <td>-0.014863</td>\n",
       "      <td>-0.003849</td>\n",
       "      <td>-0.022976</td>\n",
       "      <td>-0.007731</td>\n",
       "      <td>-0.016303</td>\n",
       "      <td>-0.016283</td>\n",
       "      <td>-0.015652</td>\n",
       "      <td>-0.001768</td>\n",
       "      <td>-0.021479</td>\n",
       "      <td>-0.005354</td>\n",
       "      <td>-0.015502</td>\n",
       "      <td>-0.017638</td>\n",
       "      <td>-0.017640</td>\n",
       "      <td>0.004312</td>\n",
       "      <td>-0.025463</td>\n",
       "      <td>-0.000014</td>\n",
       "      <td>-0.017070</td>\n",
       "      <td>-0.020572</td>\n",
       "      <td>-0.017155</td>\n",
       "      <td>0.006198</td>\n",
       "      <td>-0.028478</td>\n",
       "      <td>-0.006948</td>\n",
       "      <td>-0.005731</td>\n",
       "      <td>-0.025482</td>\n",
       "      <td>-0.004751</td>\n",
       "      <td>-0.004860</td>\n",
       "      <td>-0.030788</td>\n",
       "      <td>-0.020300</td>\n",
       "      <td>0.005470</td>\n",
       "      <td>-0.023029</td>\n",
       "      <td>-0.010730</td>\n",
       "      <td>-0.014235</td>\n",
       "      <td>-0.017146</td>\n",
       "      <td>-0.017798</td>\n",
       "      <td>0.004041</td>\n",
       "      <td>-0.026374</td>\n",
       "      <td>-0.001128</td>\n",
       "      <td>-0.013768</td>\n",
       "      <td>-0.022426</td>\n",
       "      <td>-0.017516</td>\n",
       "      <td>0.012764</td>\n",
       "      <td>-0.021361</td>\n",
       "      <td>-0.015808</td>\n",
       "      <td>0.003357</td>\n",
       "      <td>-0.013061</td>\n",
       "      <td>-0.018092</td>\n",
       "      <td>0.011765</td>\n",
       "      <td>-0.010807</td>\n",
       "      <td>-0.009809</td>\n",
       "      <td>0.001172</td>\n",
       "      <td>-0.008243</td>\n",
       "      <td>-0.010437</td>\n",
       "      <td>-0.007184</td>\n",
       "      <td>0.000339</td>\n",
       "      <td>-0.006730</td>\n",
       "      <td>0.007958</td>\n",
       "      <td>-0.021979</td>\n",
       "      <td>-0.023352</td>\n",
       "      <td>0.005470</td>\n",
       "      <td>-0.008714</td>\n",
       "      <td>-0.021468</td>\n",
       "      <td>-0.004401</td>\n",
       "      <td>-0.020007</td>\n",
       "      <td>-0.028360</td>\n",
       "      <td>0.011050</td>\n",
       "      <td>-0.030596</td>\n",
       "      <td>-0.018400</td>\n",
       "      <td>-0.001275</td>\n",
       "      <td>-0.024731</td>\n",
       "      <td>-0.020289</td>\n",
       "      <td>-0.001832</td>\n",
       "      <td>-0.026582</td>\n",
       "      <td>-0.028677</td>\n",
       "      <td>0.006838</td>\n",
       "      <td>-0.025031</td>\n",
       "      <td>-0.024579</td>\n",
       "      <td>0.003964</td>\n",
       "      <td>-0.025661</td>\n",
       "      <td>-0.028496</td>\n",
       "      <td>0.009092</td>\n",
       "      <td>-0.027519</td>\n",
       "      <td>-0.018034</td>\n",
       "      <td>0.002023</td>\n",
       "      <td>-0.026383</td>\n",
       "      <td>-0.028365</td>\n",
       "      <td>0.005943</td>\n",
       "      <td>-0.027813</td>\n",
       "      <td>-0.021340</td>\n",
       "      <td>-0.007398</td>\n",
       "      <td>-0.016777</td>\n",
       "      <td>-0.027514</td>\n",
       "      <td>0.007772</td>\n",
       "      <td>-0.027440</td>\n",
       "      <td>-0.019607</td>\n",
       "      <td>-0.005187</td>\n",
       "      <td>-0.018529</td>\n",
       "      <td>-0.025753</td>\n",
       "      <td>0.009461</td>\n",
       "      <td>-0.031247</td>\n",
       "      <td>-0.019237</td>\n",
       "      <td>0.006922</td>\n",
       "      <td>-0.033627</td>\n",
       "      <td>-0.013838</td>\n",
       "      <td>-0.003634</td>\n",
       "      <td>-0.028833</td>\n",
       "      <td>-0.018988</td>\n",
       "      <td>-0.001611</td>\n",
       "      <td>-0.023679</td>\n",
       "      <td>-0.020329</td>\n",
       "      <td>-0.010109</td>\n",
       "      <td>-0.014379</td>\n",
       "      <td>-0.027045</td>\n",
       "      <td>0.004026</td>\n",
       "      <td>-0.024716</td>\n",
       "      <td>-0.021467</td>\n",
       "      <td>-0.008630</td>\n",
       "      <td>-0.016676</td>\n",
       "      <td>-0.027413</td>\n",
       "      <td>0.002079</td>\n",
       "      <td>-0.022170</td>\n",
       "      <td>-0.021086</td>\n",
       "      <td>0.000953</td>\n",
       "      <td>-0.023571</td>\n",
       "      <td>-0.026411</td>\n",
       "      <td>0.011492</td>\n",
       "      <td>-0.031336</td>\n",
       "      <td>-0.015734</td>\n",
       "      <td>-0.009487</td>\n",
       "      <td>-0.019345</td>\n",
       "      <td>-0.027709</td>\n",
       "      <td>0.009274</td>\n",
       "      <td>-0.029373</td>\n",
       "      <td>-0.015105</td>\n",
       "      <td>-0.004833</td>\n",
       "      <td>-0.023360</td>\n",
       "      <td>-0.018480</td>\n",
       "      <td>-0.009123</td>\n",
       "      <td>-0.017365</td>\n",
       "      <td>-0.028739</td>\n",
       "      <td>0.004831</td>\n",
       "      <td>-0.025014</td>\n",
       "      <td>-0.018063</td>\n",
       "      <td>-0.004000</td>\n",
       "      <td>-0.024532</td>\n",
       "      <td>-0.022781</td>\n",
       "      <td>0.009696</td>\n",
       "      <td>-0.034511</td>\n",
       "      <td>-0.019339</td>\n",
       "      <td>-0.001217</td>\n",
       "      <td>-0.023026</td>\n",
       "      <td>-0.013427</td>\n",
       "      <td>-0.010066</td>\n",
       "      <td>-0.026173</td>\n",
       "      <td>-0.028020</td>\n",
       "      <td>0.006318</td>\n",
       "      <td>-0.028205</td>\n",
       "      <td>-0.016015</td>\n",
       "      <td>-0.001034</td>\n",
       "      <td>-0.027668</td>\n",
       "      <td>-0.025891</td>\n",
       "      <td>0.002743</td>\n",
       "      <td>-0.027724</td>\n",
       "      <td>-0.014968</td>\n",
       "      <td>-0.008249</td>\n",
       "      <td>-0.023714</td>\n",
       "      <td>-0.024369</td>\n",
       "      <td>0.007884</td>\n",
       "      <td>-0.030275</td>\n",
       "      <td>-0.016914</td>\n",
       "      <td>-0.007018</td>\n",
       "      <td>-0.022259</td>\n",
       "      <td>-0.023471</td>\n",
       "      <td>0.006372</td>\n",
       "      <td>-0.029536</td>\n",
       "      <td>-0.012627</td>\n",
       "      <td>-0.009509</td>\n",
       "      <td>-0.022230</td>\n",
       "      <td>-0.024533</td>\n",
       "      <td>0.004829</td>\n",
       "      <td>-0.026807</td>\n",
       "      <td>-0.018600</td>\n",
       "      <td>0.002273</td>\n",
       "      <td>-0.030253</td>\n",
       "      <td>-0.020810</td>\n",
       "      <td>0.003940</td>\n",
       "      <td>-0.033397</td>\n",
       "      <td>-0.017727</td>\n",
       "      <td>0.000390</td>\n",
       "      <td>-0.028513</td>\n",
       "      <td>-0.018424</td>\n",
       "      <td>-0.001982</td>\n",
       "      <td>-0.028920</td>\n",
       "      <td>-0.014541</td>\n",
       "      <td>-0.001687</td>\n",
       "      <td>-0.034707</td>\n",
       "      <td>-0.004895</td>\n",
       "      <td>-0.002293</td>\n",
       "      <td>-0.042619</td>\n",
       "      <td>-0.013833</td>\n",
       "      <td>0.002639</td>\n",
       "      <td>-0.032664</td>\n",
       "      <td>-0.024411</td>\n",
       "      <td>0.010146</td>\n",
       "      <td>-0.035112</td>\n",
       "      <td>-0.014719</td>\n",
       "      <td>-0.005560</td>\n",
       "      <td>-0.026365</td>\n",
       "      <td>-0.019014</td>\n",
       "      <td>-0.003927</td>\n",
       "      <td>-0.026448</td>\n",
       "      <td>-0.020665</td>\n",
       "      <td>-0.009259</td>\n",
       "      <td>-0.009547</td>\n",
       "      <td>-0.019513</td>\n",
       "      <td>0.004977</td>\n",
       "      <td>-0.038241</td>\n",
       "      <td>-0.016685</td>\n",
       "      <td>0.006048</td>\n",
       "      <td>-0.038488</td>\n",
       "      <td>-0.016713</td>\n",
       "      <td>0.005075</td>\n",
       "      <td>-0.037793</td>\n",
       "      <td>-0.016507</td>\n",
       "      <td>-0.014247</td>\n",
       "      <td>-0.012022</td>\n",
       "      <td>-0.022411</td>\n",
       "      <td>0.006362</td>\n",
       "      <td>-0.036184</td>\n",
       "      <td>-0.019048</td>\n",
       "      <td>-0.003528</td>\n",
       "      <td>-0.028094</td>\n",
       "      <td>-0.019177</td>\n",
       "      <td>-0.001859</td>\n",
       "      <td>-0.028772</td>\n",
       "      <td>-0.020358</td>\n",
       "      <td>0.000390</td>\n",
       "      <td>-0.027924</td>\n",
       "      <td>-0.025219</td>\n",
       "      <td>0.009780</td>\n",
       "      <td>-0.033171</td>\n",
       "      <td>-0.018886</td>\n",
       "      <td>0.000801</td>\n",
       "      <td>-0.027337</td>\n",
       "      <td>-0.025159</td>\n",
       "      <td>0.006180</td>\n",
       "      <td>-0.029606</td>\n",
       "      <td>-0.011194</td>\n",
       "      <td>-0.010809</td>\n",
       "      <td>-0.029046</td>\n",
       "      <td>-0.021956</td>\n",
       "      <td>0.008996</td>\n",
       "      <td>-0.035652</td>\n",
       "      <td>-0.012049</td>\n",
       "      <td>-0.011706</td>\n",
       "      <td>-0.021608</td>\n",
       "      <td>-0.026103</td>\n",
       "      <td>0.006230</td>\n",
       "      <td>-0.031550</td>\n",
       "      <td>-0.018596</td>\n",
       "      <td>0.000999</td>\n",
       "      <td>-0.028194</td>\n",
       "      <td>-0.026353</td>\n",
       "      <td>0.001844</td>\n",
       "      <td>-0.021731</td>\n",
       "      <td>-0.007232</td>\n",
       "      <td>-0.012170</td>\n",
       "      <td>-0.031115</td>\n",
       "      <td>-0.014271</td>\n",
       "      <td>-0.001791</td>\n",
       "      <td>-0.029726</td>\n",
       "      <td>-0.008484</td>\n",
       "      <td>-0.005432</td>\n",
       "      <td>-0.034907</td>\n",
       "      <td>-0.019100</td>\n",
       "      <td>0.006049</td>\n",
       "      <td>-0.031170</td>\n",
       "      <td>-0.026436</td>\n",
       "      <td>0.016245</td>\n",
       "      <td>-0.038825</td>\n",
       "      <td>-0.017033</td>\n",
       "      <td>-0.008021</td>\n",
       "      <td>-0.019409</td>\n",
       "      <td>-0.028861</td>\n",
       "      <td>0.010547</td>\n",
       "      <td>-0.029583</td>\n",
       "      <td>-0.022267</td>\n",
       "      <td>-0.006362</td>\n",
       "      <td>-0.019467</td>\n",
       "      <td>-0.028484</td>\n",
       "      <td>0.006257</td>\n",
       "      <td>-0.025927</td>\n",
       "      <td>-0.022813</td>\n",
       "      <td>0.005720</td>\n",
       "      <td>-0.031044</td>\n",
       "      <td>-0.018317</td>\n",
       "      <td>-0.000003</td>\n",
       "      <td>-0.025502</td>\n",
       "      <td>-0.021742</td>\n",
       "      <td>0.003243</td>\n",
       "      <td>-0.029411</td>\n",
       "      <td>-0.019386</td>\n",
       "      <td>0.002333</td>\n",
       "      <td>-0.028938</td>\n",
       "      <td>-0.025585</td>\n",
       "      <td>0.003444</td>\n",
       "      <td>-0.024662</td>\n",
       "      <td>-0.020186</td>\n",
       "      <td>0.004581</td>\n",
       "      <td>-0.028706</td>\n",
       "      <td>-0.028211</td>\n",
       "      <td>0.001346</td>\n",
       "      <td>-0.024358</td>\n",
       "      <td>-0.015918</td>\n",
       "      <td>-0.013813</td>\n",
       "      <td>-0.018760</td>\n",
       "      <td>-0.027719</td>\n",
       "      <td>0.003757</td>\n",
       "      <td>-0.023362</td>\n",
       "      <td>-0.021696</td>\n",
       "      <td>-0.006639</td>\n",
       "      <td>-0.020569</td>\n",
       "      <td>-0.026594</td>\n",
       "      <td>0.002979</td>\n",
       "      <td>-0.022576</td>\n",
       "      <td>-0.024329</td>\n",
       "      <td>0.004418</td>\n",
       "      <td>-0.025295</td>\n",
       "      <td>-0.026256</td>\n",
       "      <td>0.007669</td>\n",
       "      <td>-0.028867</td>\n",
       "      <td>-0.017177</td>\n",
       "      <td>-0.005858</td>\n",
       "      <td>-0.020956</td>\n",
       "      <td>-0.027304</td>\n",
       "      <td>0.004649</td>\n",
       "      <td>-0.026387</td>\n",
       "      <td>-0.018476</td>\n",
       "      <td>0.000543</td>\n",
       "      <td>-0.026649</td>\n",
       "      <td>-0.024443</td>\n",
       "      <td>-0.007525</td>\n",
       "      <td>-0.013933</td>\n",
       "      <td>-0.022785</td>\n",
       "      <td>-0.001184</td>\n",
       "      <td>-0.021948</td>\n",
       "      <td>-0.014299</td>\n",
       "      <td>-0.007814</td>\n",
       "      <td>-0.026307</td>\n",
       "      <td>-0.015725</td>\n",
       "      <td>-0.003392</td>\n",
       "      <td>-0.026889</td>\n",
       "      <td>-0.022608</td>\n",
       "      <td>0.006802</td>\n",
       "      <td>-0.030718</td>\n",
       "      <td>-0.025790</td>\n",
       "      <td>0.006261</td>\n",
       "      <td>-0.023664</td>\n",
       "      <td>-0.020587</td>\n",
       "      <td>-0.002586</td>\n",
       "      <td>-0.023128</td>\n",
       "      <td>-0.028795</td>\n",
       "      <td>0.007985</td>\n",
       "      <td>-0.027650</td>\n",
       "      <td>-0.019173</td>\n",
       "      <td>0.002535</td>\n",
       "      <td>-0.028207</td>\n",
       "      <td>-0.027875</td>\n",
       "      <td>0.006626</td>\n",
       "      <td>-0.027896</td>\n",
       "      <td>-0.021450</td>\n",
       "      <td>0.007256</td>\n",
       "      <td>-0.033555</td>\n",
       "      <td>-0.012446</td>\n",
       "      <td>-0.004298</td>\n",
       "      <td>-0.030340</td>\n",
       "      <td>-0.026893</td>\n",
       "      <td>0.006701</td>\n",
       "      <td>-0.023690</td>\n",
       "      <td>-0.019097</td>\n",
       "      <td>-0.005383</td>\n",
       "      <td>-0.023274</td>\n",
       "      <td>-0.026689</td>\n",
       "      <td>0.007612</td>\n",
       "      <td>-0.029697</td>\n",
       "      <td>-0.020221</td>\n",
       "      <td>-0.002777</td>\n",
       "      <td>-0.023538</td>\n",
       "      <td>-0.016957</td>\n",
       "      <td>-0.012631</td>\n",
       "      <td>-0.015692</td>\n",
       "      <td>-0.022062</td>\n",
       "      <td>-0.000188</td>\n",
       "      <td>-0.024797</td>\n",
       "      <td>-0.016461</td>\n",
       "      <td>-0.012146</td>\n",
       "      <td>-0.019348</td>\n",
       "      <td>-0.025731</td>\n",
       "      <td>0.004206</td>\n",
       "      <td>-0.024698</td>\n",
       "      <td>-0.013999</td>\n",
       "      <td>-0.009486</td>\n",
       "      <td>-0.020137</td>\n",
       "      <td>-0.024397</td>\n",
       "      <td>0.006882</td>\n",
       "      <td>-0.028900</td>\n",
       "      <td>-0.014487</td>\n",
       "      <td>-0.003822</td>\n",
       "      <td>-0.025422</td>\n",
       "      <td>-0.015514</td>\n",
       "      <td>-0.002791</td>\n",
       "      <td>-0.028698</td>\n",
       "      <td>-0.026498</td>\n",
       "      <td>0.005288</td>\n",
       "      <td>-0.023970</td>\n",
       "      <td>-0.019145</td>\n",
       "      <td>-0.008009</td>\n",
       "      <td>-0.020305</td>\n",
       "      <td>-0.024993</td>\n",
       "      <td>0.006100</td>\n",
       "      <td>-0.028059</td>\n",
       "      <td>-0.014128</td>\n",
       "      <td>-0.006239</td>\n",
       "      <td>-0.023345</td>\n",
       "      <td>-0.024747</td>\n",
       "      <td>0.010859</td>\n",
       "      <td>-0.025974</td>\n",
       "    </tr>\n",
       "    <tr>\n",
       "      <th>391</th>\n",
       "      <td>-0.002675</td>\n",
       "      <td>0.004716</td>\n",
       "      <td>-0.008187</td>\n",
       "      <td>0.008465</td>\n",
       "      <td>0.010820</td>\n",
       "      <td>-0.010068</td>\n",
       "      <td>0.012807</td>\n",
       "      <td>-0.009965</td>\n",
       "      <td>-0.003495</td>\n",
       "      <td>-0.002359</td>\n",
       "      <td>0.005140</td>\n",
       "      <td>0.007474</td>\n",
       "      <td>-0.013418</td>\n",
       "      <td>-0.007242</td>\n",
       "      <td>-0.019950</td>\n",
       "      <td>-0.024288</td>\n",
       "      <td>0.006654</td>\n",
       "      <td>-0.020286</td>\n",
       "      <td>-0.014343</td>\n",
       "      <td>-0.009220</td>\n",
       "      <td>-0.016211</td>\n",
       "      <td>-0.023525</td>\n",
       "      <td>0.005502</td>\n",
       "      <td>-0.022915</td>\n",
       "      <td>-0.019425</td>\n",
       "      <td>-0.000081</td>\n",
       "      <td>-0.019207</td>\n",
       "      <td>-0.011573</td>\n",
       "      <td>-0.007986</td>\n",
       "      <td>-0.019242</td>\n",
       "      <td>-0.024045</td>\n",
       "      <td>0.006615</td>\n",
       "      <td>-0.020608</td>\n",
       "      <td>-0.017108</td>\n",
       "      <td>-0.002245</td>\n",
       "      <td>-0.019239</td>\n",
       "      <td>-0.023607</td>\n",
       "      <td>0.005060</td>\n",
       "      <td>-0.020701</td>\n",
       "      <td>-0.017060</td>\n",
       "      <td>-0.005395</td>\n",
       "      <td>-0.016117</td>\n",
       "      <td>-0.023428</td>\n",
       "      <td>0.012646</td>\n",
       "      <td>-0.027899</td>\n",
       "      <td>-0.020040</td>\n",
       "      <td>0.002310</td>\n",
       "      <td>-0.020759</td>\n",
       "      <td>-0.021994</td>\n",
       "      <td>0.008535</td>\n",
       "      <td>-0.022695</td>\n",
       "      <td>-0.019452</td>\n",
       "      <td>0.008211</td>\n",
       "      <td>-0.025527</td>\n",
       "      <td>-0.014326</td>\n",
       "      <td>0.003001</td>\n",
       "      <td>-0.023117</td>\n",
       "      <td>-0.014630</td>\n",
       "      <td>-0.004620</td>\n",
       "      <td>-0.017195</td>\n",
       "      <td>-0.019128</td>\n",
       "      <td>-0.001429</td>\n",
       "      <td>-0.019611</td>\n",
       "      <td>-0.022243</td>\n",
       "      <td>0.002635</td>\n",
       "      <td>-0.018019</td>\n",
       "      <td>-0.012499</td>\n",
       "      <td>-0.010583</td>\n",
       "      <td>-0.015474</td>\n",
       "      <td>-0.023151</td>\n",
       "      <td>0.002700</td>\n",
       "      <td>-0.017853</td>\n",
       "      <td>-0.015141</td>\n",
       "      <td>-0.003965</td>\n",
       "      <td>-0.017576</td>\n",
       "      <td>-0.023479</td>\n",
       "      <td>0.004940</td>\n",
       "      <td>-0.017013</td>\n",
       "      <td>-0.015326</td>\n",
       "      <td>-0.006655</td>\n",
       "      <td>-0.017622</td>\n",
       "      <td>-0.024063</td>\n",
       "      <td>0.003666</td>\n",
       "      <td>-0.018390</td>\n",
       "      <td>-0.013544</td>\n",
       "      <td>-0.007699</td>\n",
       "      <td>-0.019249</td>\n",
       "      <td>-0.023413</td>\n",
       "      <td>0.001239</td>\n",
       "      <td>-0.019166</td>\n",
       "      <td>-0.022109</td>\n",
       "      <td>-0.001489</td>\n",
       "      <td>-0.016839</td>\n",
       "      <td>-0.013980</td>\n",
       "      <td>-0.005778</td>\n",
       "      <td>-0.021159</td>\n",
       "      <td>-0.023401</td>\n",
       "      <td>0.007615</td>\n",
       "      <td>-0.022022</td>\n",
       "      <td>-0.013173</td>\n",
       "      <td>-0.007336</td>\n",
       "      <td>-0.016668</td>\n",
       "      <td>-0.021924</td>\n",
       "      <td>0.006068</td>\n",
       "      <td>-0.023874</td>\n",
       "      <td>-0.022864</td>\n",
       "      <td>0.003451</td>\n",
       "      <td>-0.020401</td>\n",
       "      <td>-0.013974</td>\n",
       "      <td>-0.003063</td>\n",
       "      <td>-0.024178</td>\n",
       "      <td>-0.021807</td>\n",
       "      <td>0.005795</td>\n",
       "      <td>-0.022419</td>\n",
       "      <td>-0.013605</td>\n",
       "      <td>-0.005266</td>\n",
       "      <td>-0.017782</td>\n",
       "      <td>-0.019664</td>\n",
       "      <td>0.012705</td>\n",
       "      <td>-0.028640</td>\n",
       "      <td>-0.014926</td>\n",
       "      <td>-0.002353</td>\n",
       "      <td>-0.019831</td>\n",
       "      <td>-0.020352</td>\n",
       "      <td>0.009330</td>\n",
       "      <td>-0.022725</td>\n",
       "      <td>-0.010726</td>\n",
       "      <td>-0.005339</td>\n",
       "      <td>-0.019058</td>\n",
       "      <td>-0.020850</td>\n",
       "      <td>0.006347</td>\n",
       "      <td>-0.020437</td>\n",
       "      <td>-0.012849</td>\n",
       "      <td>-0.005749</td>\n",
       "      <td>-0.019380</td>\n",
       "      <td>-0.020349</td>\n",
       "      <td>0.005738</td>\n",
       "      <td>-0.024995</td>\n",
       "      <td>-0.017206</td>\n",
       "      <td>0.003749</td>\n",
       "      <td>-0.024659</td>\n",
       "      <td>-0.017726</td>\n",
       "      <td>0.006101</td>\n",
       "      <td>-0.027337</td>\n",
       "      <td>-0.018593</td>\n",
       "      <td>0.013201</td>\n",
       "      <td>-0.031583</td>\n",
       "      <td>-0.005962</td>\n",
       "      <td>-0.002407</td>\n",
       "      <td>-0.024291</td>\n",
       "      <td>-0.011149</td>\n",
       "      <td>-0.000372</td>\n",
       "      <td>-0.022851</td>\n",
       "      <td>-0.021665</td>\n",
       "      <td>0.005083</td>\n",
       "      <td>-0.022881</td>\n",
       "      <td>-0.016089</td>\n",
       "      <td>-0.003451</td>\n",
       "      <td>-0.020626</td>\n",
       "      <td>-0.015877</td>\n",
       "      <td>0.001490</td>\n",
       "      <td>-0.025789</td>\n",
       "      <td>-0.013128</td>\n",
       "      <td>-0.007929</td>\n",
       "      <td>-0.020495</td>\n",
       "      <td>-0.012822</td>\n",
       "      <td>0.005188</td>\n",
       "      <td>-0.034272</td>\n",
       "      <td>-0.015646</td>\n",
       "      <td>0.002395</td>\n",
       "      <td>-0.028015</td>\n",
       "      <td>-0.006623</td>\n",
       "      <td>-0.003300</td>\n",
       "      <td>-0.026664</td>\n",
       "      <td>-0.012505</td>\n",
       "      <td>-0.005143</td>\n",
       "      <td>-0.023449</td>\n",
       "      <td>-0.019445</td>\n",
       "      <td>0.009948</td>\n",
       "      <td>-0.033967</td>\n",
       "      <td>-0.015588</td>\n",
       "      <td>-0.005839</td>\n",
       "      <td>-0.023671</td>\n",
       "      <td>-0.019663</td>\n",
       "      <td>0.007491</td>\n",
       "      <td>-0.029717</td>\n",
       "      <td>-0.015467</td>\n",
       "      <td>-0.004365</td>\n",
       "      <td>-0.028753</td>\n",
       "      <td>-0.008101</td>\n",
       "      <td>0.007502</td>\n",
       "      <td>-0.036917</td>\n",
       "      <td>-0.020664</td>\n",
       "      <td>0.018492</td>\n",
       "      <td>-0.035334</td>\n",
       "      <td>-0.016872</td>\n",
       "      <td>0.014002</td>\n",
       "      <td>-0.032853</td>\n",
       "      <td>-0.018516</td>\n",
       "      <td>0.017296</td>\n",
       "      <td>-0.035156</td>\n",
       "      <td>-0.012764</td>\n",
       "      <td>0.013997</td>\n",
       "      <td>-0.033927</td>\n",
       "      <td>-0.010055</td>\n",
       "      <td>-0.003180</td>\n",
       "      <td>-0.022376</td>\n",
       "      <td>-0.020621</td>\n",
       "      <td>0.008950</td>\n",
       "      <td>-0.025852</td>\n",
       "      <td>-0.017044</td>\n",
       "      <td>0.004147</td>\n",
       "      <td>-0.025913</td>\n",
       "      <td>-0.018308</td>\n",
       "      <td>0.011340</td>\n",
       "      <td>-0.030951</td>\n",
       "      <td>-0.019191</td>\n",
       "      <td>0.005181</td>\n",
       "      <td>-0.022896</td>\n",
       "      <td>-0.024912</td>\n",
       "      <td>0.018316</td>\n",
       "      <td>-0.029156</td>\n",
       "      <td>-0.017241</td>\n",
       "      <td>0.002934</td>\n",
       "      <td>-0.018362</td>\n",
       "      <td>-0.017413</td>\n",
       "      <td>-0.000343</td>\n",
       "      <td>-0.019171</td>\n",
       "      <td>-0.007638</td>\n",
       "      <td>-0.007975</td>\n",
       "      <td>-0.022458</td>\n",
       "      <td>-0.013522</td>\n",
       "      <td>-0.000874</td>\n",
       "      <td>-0.022408</td>\n",
       "      <td>-0.023658</td>\n",
       "      <td>0.004800</td>\n",
       "      <td>-0.022654</td>\n",
       "      <td>-0.018050</td>\n",
       "      <td>-0.002022</td>\n",
       "      <td>-0.022282</td>\n",
       "      <td>-0.022161</td>\n",
       "      <td>0.007939</td>\n",
       "      <td>-0.026243</td>\n",
       "      <td>-0.019068</td>\n",
       "      <td>0.000280</td>\n",
       "      <td>-0.021097</td>\n",
       "      <td>-0.024407</td>\n",
       "      <td>0.006843</td>\n",
       "      <td>-0.020546</td>\n",
       "      <td>-0.016101</td>\n",
       "      <td>-0.000805</td>\n",
       "      <td>-0.023216</td>\n",
       "      <td>-0.022456</td>\n",
       "      <td>0.005180</td>\n",
       "      <td>-0.021028</td>\n",
       "      <td>-0.009172</td>\n",
       "      <td>-0.007460</td>\n",
       "      <td>-0.021402</td>\n",
       "      <td>-0.015657</td>\n",
       "      <td>-0.002865</td>\n",
       "      <td>-0.019209</td>\n",
       "      <td>-0.015633</td>\n",
       "      <td>0.004271</td>\n",
       "      <td>-0.028447</td>\n",
       "      <td>-0.023467</td>\n",
       "      <td>0.017207</td>\n",
       "      <td>-0.030220</td>\n",
       "      <td>-0.011658</td>\n",
       "      <td>0.006305</td>\n",
       "      <td>-0.029296</td>\n",
       "      <td>-0.019857</td>\n",
       "      <td>0.001643</td>\n",
       "      <td>-0.017993</td>\n",
       "      <td>-0.021715</td>\n",
       "      <td>0.008067</td>\n",
       "      <td>-0.022305</td>\n",
       "      <td>-0.017396</td>\n",
       "      <td>0.001662</td>\n",
       "      <td>-0.019615</td>\n",
       "      <td>-0.021809</td>\n",
       "      <td>0.006155</td>\n",
       "      <td>-0.019945</td>\n",
       "      <td>-0.018400</td>\n",
       "      <td>-0.002010</td>\n",
       "      <td>-0.018273</td>\n",
       "      <td>-0.023443</td>\n",
       "      <td>0.005044</td>\n",
       "      <td>-0.020597</td>\n",
       "      <td>-0.020844</td>\n",
       "      <td>0.005231</td>\n",
       "      <td>-0.021929</td>\n",
       "      <td>-0.022117</td>\n",
       "      <td>0.005643</td>\n",
       "      <td>-0.022134</td>\n",
       "      <td>-0.021372</td>\n",
       "      <td>0.006779</td>\n",
       "      <td>-0.022483</td>\n",
       "      <td>-0.014059</td>\n",
       "      <td>-0.003859</td>\n",
       "      <td>-0.019441</td>\n",
       "      <td>-0.021643</td>\n",
       "      <td>0.001167</td>\n",
       "      <td>-0.015742</td>\n",
       "      <td>-0.008974</td>\n",
       "      <td>-0.010498</td>\n",
       "      <td>-0.012873</td>\n",
       "      <td>-0.022404</td>\n",
       "      <td>-0.000465</td>\n",
       "      <td>-0.015790</td>\n",
       "      <td>-0.011303</td>\n",
       "      <td>-0.011998</td>\n",
       "      <td>-0.018975</td>\n",
       "      <td>-0.024916</td>\n",
       "      <td>0.002598</td>\n",
       "      <td>-0.017203</td>\n",
       "      <td>-0.017489</td>\n",
       "      <td>-0.008166</td>\n",
       "      <td>-0.016572</td>\n",
       "      <td>-0.024143</td>\n",
       "      <td>0.002137</td>\n",
       "      <td>-0.018913</td>\n",
       "      <td>-0.016962</td>\n",
       "      <td>-0.001304</td>\n",
       "      <td>-0.023181</td>\n",
       "      <td>-0.012204</td>\n",
       "      <td>0.000244</td>\n",
       "      <td>-0.024791</td>\n",
       "      <td>-0.015992</td>\n",
       "      <td>-0.004331</td>\n",
       "      <td>-0.016928</td>\n",
       "      <td>-0.020146</td>\n",
       "      <td>0.002444</td>\n",
       "      <td>-0.022975</td>\n",
       "      <td>-0.022209</td>\n",
       "      <td>0.004955</td>\n",
       "      <td>-0.020393</td>\n",
       "      <td>-0.011363</td>\n",
       "      <td>-0.008380</td>\n",
       "      <td>-0.019731</td>\n",
       "      <td>-0.022209</td>\n",
       "      <td>0.005721</td>\n",
       "      <td>-0.023101</td>\n",
       "      <td>-0.016304</td>\n",
       "      <td>-0.001686</td>\n",
       "      <td>-0.021223</td>\n",
       "      <td>-0.011915</td>\n",
       "      <td>-0.002917</td>\n",
       "      <td>-0.022273</td>\n",
       "      <td>-0.022975</td>\n",
       "      <td>0.007412</td>\n",
       "      <td>-0.022167</td>\n",
       "      <td>-0.015549</td>\n",
       "      <td>0.001033</td>\n",
       "      <td>-0.019631</td>\n",
       "      <td>-0.021397</td>\n",
       "      <td>0.005156</td>\n",
       "      <td>-0.019807</td>\n",
       "      <td>-0.013607</td>\n",
       "      <td>-0.002604</td>\n",
       "      <td>-0.020214</td>\n",
       "      <td>-0.020933</td>\n",
       "      <td>0.008704</td>\n",
       "      <td>-0.024035</td>\n",
       "      <td>-0.017539</td>\n",
       "      <td>-0.002824</td>\n",
       "      <td>-0.016739</td>\n",
       "      <td>-0.016509</td>\n",
       "      <td>-0.005778</td>\n",
       "      <td>-0.019124</td>\n",
       "      <td>-0.021412</td>\n",
       "      <td>0.002464</td>\n",
       "      <td>-0.018929</td>\n",
       "      <td>-0.014808</td>\n",
       "      <td>-0.006912</td>\n",
       "      <td>-0.015354</td>\n",
       "      <td>-0.022591</td>\n",
       "      <td>0.002719</td>\n",
       "      <td>-0.018011</td>\n",
       "      <td>-0.015465</td>\n",
       "      <td>-0.006517</td>\n",
       "      <td>-0.017197</td>\n",
       "      <td>-0.019260</td>\n",
       "      <td>0.007614</td>\n",
       "      <td>-0.012149</td>\n",
       "      <td>-0.014088</td>\n",
       "      <td>0.003139</td>\n",
       "      <td>-0.013843</td>\n",
       "      <td>-0.002871</td>\n",
       "      <td>0.001542</td>\n",
       "      <td>-0.011576</td>\n",
       "      <td>0.003453</td>\n",
       "      <td>-0.018070</td>\n",
       "      <td>-0.006339</td>\n",
       "      <td>-0.012757</td>\n",
       "      <td>0.000335</td>\n",
       "      <td>-0.002122</td>\n",
       "      <td>-0.019894</td>\n",
       "      <td>-0.009009</td>\n",
       "      <td>-0.019369</td>\n",
       "      <td>-0.024982</td>\n",
       "      <td>0.001704</td>\n",
       "      <td>-0.021765</td>\n",
       "      <td>-0.020332</td>\n",
       "      <td>-0.009654</td>\n",
       "      <td>-0.019136</td>\n",
       "      <td>-0.024049</td>\n",
       "      <td>-0.000135</td>\n",
       "      <td>-0.023963</td>\n",
       "      <td>-0.023472</td>\n",
       "      <td>-0.002294</td>\n",
       "      <td>-0.021837</td>\n",
       "      <td>-0.014032</td>\n",
       "      <td>-0.014246</td>\n",
       "      <td>-0.021004</td>\n",
       "      <td>-0.027949</td>\n",
       "      <td>0.004483</td>\n",
       "      <td>-0.023537</td>\n",
       "      <td>-0.020474</td>\n",
       "      <td>-0.011087</td>\n",
       "      <td>-0.017077</td>\n",
       "      <td>-0.025044</td>\n",
       "      <td>0.001226</td>\n",
       "      <td>-0.022298</td>\n",
       "      <td>-0.023169</td>\n",
       "      <td>-0.007124</td>\n",
       "      <td>-0.020307</td>\n",
       "      <td>-0.026694</td>\n",
       "      <td>0.005500</td>\n",
       "      <td>-0.028806</td>\n",
       "      <td>-0.025405</td>\n",
       "      <td>0.000668</td>\n",
       "      <td>-0.025273</td>\n",
       "      <td>-0.025786</td>\n",
       "      <td>0.005795</td>\n",
       "      <td>-0.025417</td>\n",
       "      <td>-0.021777</td>\n",
       "      <td>0.004000</td>\n",
       "      <td>-0.029977</td>\n",
       "      <td>-0.016980</td>\n",
       "      <td>-0.007358</td>\n",
       "      <td>-0.021159</td>\n",
       "      <td>-0.021073</td>\n",
       "      <td>-0.003214</td>\n",
       "      <td>-0.021059</td>\n",
       "      <td>-0.020282</td>\n",
       "      <td>-0.006009</td>\n",
       "      <td>-0.021797</td>\n",
       "      <td>-0.024904</td>\n",
       "      <td>-0.000858</td>\n",
       "      <td>-0.020758</td>\n",
       "      <td>-0.016000</td>\n",
       "      <td>-0.013123</td>\n",
       "      <td>-0.019848</td>\n",
       "      <td>-0.026493</td>\n",
       "      <td>0.000717</td>\n",
       "      <td>-0.021887</td>\n",
       "      <td>-0.021087</td>\n",
       "      <td>-0.006626</td>\n",
       "      <td>-0.021498</td>\n",
       "      <td>-0.026992</td>\n",
       "      <td>0.003739</td>\n",
       "      <td>-0.021937</td>\n",
       "      <td>-0.018269</td>\n",
       "      <td>-0.010273</td>\n",
       "      <td>-0.020652</td>\n",
       "      <td>-0.023519</td>\n",
       "      <td>-0.001292</td>\n",
       "      <td>-0.021142</td>\n",
       "      <td>-0.017449</td>\n",
       "      <td>-0.010156</td>\n",
       "      <td>-0.022433</td>\n",
       "      <td>-0.023091</td>\n",
       "      <td>-0.003907</td>\n",
       "      <td>-0.021569</td>\n",
       "      <td>-0.023642</td>\n",
       "      <td>-0.005711</td>\n",
       "      <td>-0.018987</td>\n",
       "      <td>-0.017258</td>\n",
       "      <td>-0.009495</td>\n",
       "      <td>-0.024672</td>\n",
       "      <td>-0.025947</td>\n",
       "      <td>0.001675</td>\n",
       "      <td>-0.025033</td>\n",
       "      <td>-0.016818</td>\n",
       "      <td>-0.011516</td>\n",
       "      <td>-0.020240</td>\n",
       "      <td>-0.022229</td>\n",
       "      <td>-0.000869</td>\n",
       "      <td>-0.025247</td>\n",
       "      <td>-0.024971</td>\n",
       "      <td>-0.001360</td>\n",
       "      <td>-0.022429</td>\n",
       "      <td>-0.015684</td>\n",
       "      <td>-0.013017</td>\n",
       "      <td>-0.023768</td>\n",
       "      <td>-0.023259</td>\n",
       "      <td>0.000044</td>\n",
       "      <td>-0.023578</td>\n",
       "      <td>-0.020739</td>\n",
       "      <td>-0.006438</td>\n",
       "      <td>-0.022696</td>\n",
       "      <td>-0.022631</td>\n",
       "      <td>0.003110</td>\n",
       "      <td>-0.028634</td>\n",
       "      <td>-0.019849</td>\n",
       "      <td>-0.006583</td>\n",
       "      <td>-0.022802</td>\n",
       "      <td>-0.021990</td>\n",
       "      <td>0.003565</td>\n",
       "      <td>-0.025120</td>\n",
       "      <td>-0.015549</td>\n",
       "      <td>-0.009461</td>\n",
       "      <td>-0.021564</td>\n",
       "      <td>-0.021757</td>\n",
       "      <td>0.001334</td>\n",
       "      <td>-0.023060</td>\n",
       "      <td>-0.016210</td>\n",
       "      <td>-0.008849</td>\n",
       "      <td>-0.022130</td>\n",
       "      <td>-0.021151</td>\n",
       "      <td>-0.000460</td>\n",
       "      <td>-0.025386</td>\n",
       "      <td>-0.022346</td>\n",
       "      <td>0.004430</td>\n",
       "      <td>-0.030871</td>\n",
       "      <td>-0.019176</td>\n",
       "      <td>0.001083</td>\n",
       "      <td>-0.029507</td>\n",
       "      <td>-0.026393</td>\n",
       "      <td>0.013502</td>\n",
       "      <td>-0.037172</td>\n",
       "      <td>-0.015698</td>\n",
       "      <td>-0.008697</td>\n",
       "      <td>-0.021423</td>\n",
       "      <td>-0.020191</td>\n",
       "      <td>-0.001103</td>\n",
       "      <td>-0.024022</td>\n",
       "      <td>-0.021290</td>\n",
       "      <td>-0.000602</td>\n",
       "      <td>-0.024700</td>\n",
       "      <td>-0.020367</td>\n",
       "      <td>-0.004498</td>\n",
       "      <td>-0.022399</td>\n",
       "      <td>-0.016376</td>\n",
       "      <td>-0.006832</td>\n",
       "      <td>-0.026390</td>\n",
       "      <td>-0.016669</td>\n",
       "      <td>-0.010282</td>\n",
       "      <td>-0.022393</td>\n",
       "      <td>-0.014281</td>\n",
       "      <td>-0.004885</td>\n",
       "      <td>-0.031371</td>\n",
       "      <td>-0.020619</td>\n",
       "      <td>0.003053</td>\n",
       "      <td>-0.033502</td>\n",
       "      <td>-0.007603</td>\n",
       "      <td>-0.017883</td>\n",
       "      <td>-0.024449</td>\n",
       "      <td>-0.019534</td>\n",
       "      <td>-0.003340</td>\n",
       "      <td>-0.025568</td>\n",
       "      <td>-0.021270</td>\n",
       "      <td>0.002134</td>\n",
       "      <td>-0.031622</td>\n",
       "      <td>-0.018616</td>\n",
       "      <td>-0.011399</td>\n",
       "      <td>-0.015539</td>\n",
       "      <td>-0.022146</td>\n",
       "      <td>0.002943</td>\n",
       "      <td>-0.029460</td>\n",
       "      <td>-0.020012</td>\n",
       "      <td>-0.004930</td>\n",
       "      <td>-0.025916</td>\n",
       "      <td>-0.014737</td>\n",
       "      <td>0.001408</td>\n",
       "      <td>-0.033911</td>\n",
       "      <td>-0.027469</td>\n",
       "      <td>0.017089</td>\n",
       "      <td>-0.039469</td>\n",
       "      <td>-0.022111</td>\n",
       "      <td>0.010115</td>\n",
       "      <td>-0.032672</td>\n",
       "      <td>-0.025142</td>\n",
       "      <td>0.015690</td>\n",
       "      <td>-0.038646</td>\n",
       "      <td>-0.018678</td>\n",
       "      <td>0.003967</td>\n",
       "      <td>-0.030155</td>\n",
       "      <td>-0.016447</td>\n",
       "      <td>-0.009181</td>\n",
       "      <td>-0.020919</td>\n",
       "      <td>-0.023783</td>\n",
       "      <td>0.005316</td>\n",
       "      <td>-0.026927</td>\n",
       "      <td>-0.024482</td>\n",
       "      <td>0.006110</td>\n",
       "      <td>-0.030116</td>\n",
       "      <td>-0.022942</td>\n",
       "      <td>0.007140</td>\n",
       "      <td>-0.030725</td>\n",
       "      <td>-0.026307</td>\n",
       "      <td>0.006087</td>\n",
       "      <td>-0.029138</td>\n",
       "      <td>-0.029483</td>\n",
       "      <td>0.011586</td>\n",
       "      <td>-0.029715</td>\n",
       "      <td>-0.021493</td>\n",
       "      <td>-0.004341</td>\n",
       "      <td>-0.018872</td>\n",
       "      <td>-0.025625</td>\n",
       "      <td>0.001545</td>\n",
       "      <td>-0.021686</td>\n",
       "      <td>-0.008040</td>\n",
       "      <td>-0.017092</td>\n",
       "      <td>-0.022744</td>\n",
       "      <td>-0.021509</td>\n",
       "      <td>-0.001127</td>\n",
       "      <td>-0.022875</td>\n",
       "      <td>-0.024234</td>\n",
       "      <td>0.000194</td>\n",
       "      <td>-0.023366</td>\n",
       "      <td>-0.023380</td>\n",
       "      <td>-0.001892</td>\n",
       "      <td>-0.024650</td>\n",
       "      <td>-0.024091</td>\n",
       "      <td>0.001960</td>\n",
       "      <td>-0.025901</td>\n",
       "      <td>-0.024816</td>\n",
       "      <td>-0.006643</td>\n",
       "      <td>-0.019804</td>\n",
       "      <td>-0.028651</td>\n",
       "      <td>0.005212</td>\n",
       "      <td>-0.023164</td>\n",
       "      <td>-0.019858</td>\n",
       "      <td>-0.006052</td>\n",
       "      <td>-0.023026</td>\n",
       "      <td>-0.026490</td>\n",
       "      <td>0.003046</td>\n",
       "      <td>-0.022566</td>\n",
       "      <td>-0.007279</td>\n",
       "      <td>-0.019067</td>\n",
       "      <td>-0.023166</td>\n",
       "      <td>-0.020850</td>\n",
       "      <td>-0.003323</td>\n",
       "      <td>-0.022400</td>\n",
       "      <td>-0.018858</td>\n",
       "      <td>-0.000948</td>\n",
       "      <td>-0.028292</td>\n",
       "      <td>-0.029697</td>\n",
       "      <td>0.017038</td>\n",
       "      <td>-0.036925</td>\n",
       "      <td>-0.022007</td>\n",
       "      <td>0.004743</td>\n",
       "      <td>-0.029925</td>\n",
       "      <td>-0.023040</td>\n",
       "      <td>-0.006477</td>\n",
       "      <td>-0.018078</td>\n",
       "      <td>-0.026666</td>\n",
       "      <td>0.006366</td>\n",
       "      <td>-0.024462</td>\n",
       "      <td>-0.020266</td>\n",
       "      <td>-0.007961</td>\n",
       "      <td>-0.017784</td>\n",
       "      <td>-0.026795</td>\n",
       "      <td>0.005406</td>\n",
       "      <td>-0.023124</td>\n",
       "      <td>-0.020764</td>\n",
       "      <td>-0.008823</td>\n",
       "      <td>-0.018638</td>\n",
       "      <td>-0.024674</td>\n",
       "      <td>0.001506</td>\n",
       "      <td>-0.022445</td>\n",
       "      <td>-0.025869</td>\n",
       "      <td>0.007159</td>\n",
       "      <td>-0.029330</td>\n",
       "      <td>-0.024010</td>\n",
       "      <td>0.002321</td>\n",
       "      <td>-0.024666</td>\n",
       "      <td>-0.026791</td>\n",
       "      <td>0.008898</td>\n",
       "      <td>-0.029805</td>\n",
       "      <td>-0.019431</td>\n",
       "      <td>-0.004401</td>\n",
       "      <td>-0.024086</td>\n",
       "      <td>-0.024953</td>\n",
       "      <td>-0.001592</td>\n",
       "      <td>-0.020222</td>\n",
       "      <td>-0.009882</td>\n",
       "      <td>-0.021686</td>\n",
       "      <td>-0.013490</td>\n",
       "      <td>-0.027065</td>\n",
       "      <td>0.000917</td>\n",
       "      <td>-0.020059</td>\n",
       "      <td>-0.013313</td>\n",
       "      <td>-0.016564</td>\n",
       "      <td>-0.020520</td>\n",
       "      <td>-0.026134</td>\n",
       "      <td>-0.000659</td>\n",
       "      <td>-0.019282</td>\n",
       "      <td>-0.019960</td>\n",
       "      <td>-0.015830</td>\n",
       "      <td>-0.015750</td>\n",
       "      <td>-0.025109</td>\n",
       "      <td>-0.002055</td>\n",
       "      <td>-0.020044</td>\n",
       "      <td>-0.021480</td>\n",
       "      <td>-0.002051</td>\n",
       "      <td>-0.028587</td>\n",
       "      <td>-0.019468</td>\n",
       "      <td>-0.006594</td>\n",
       "      <td>-0.022300</td>\n",
       "      <td>-0.020883</td>\n",
       "      <td>-0.004621</td>\n",
       "      <td>-0.021902</td>\n",
       "      <td>-0.021496</td>\n",
       "      <td>-0.003258</td>\n",
       "      <td>-0.024453</td>\n",
       "      <td>-0.024106</td>\n",
       "      <td>-0.000506</td>\n",
       "      <td>-0.021603</td>\n",
       "      <td>-0.014707</td>\n",
       "      <td>-0.013332</td>\n",
       "      <td>-0.022826</td>\n",
       "      <td>-0.023765</td>\n",
       "      <td>0.000493</td>\n",
       "      <td>-0.024501</td>\n",
       "      <td>-0.019634</td>\n",
       "      <td>-0.005030</td>\n",
       "      <td>-0.023173</td>\n",
       "      <td>-0.019409</td>\n",
       "      <td>-0.000599</td>\n",
       "      <td>-0.027702</td>\n",
       "      <td>-0.025137</td>\n",
       "      <td>0.001871</td>\n",
       "      <td>-0.026111</td>\n",
       "      <td>-0.018912</td>\n",
       "      <td>-0.006457</td>\n",
       "      <td>-0.020982</td>\n",
       "      <td>-0.024482</td>\n",
       "      <td>0.002826</td>\n",
       "      <td>-0.022435</td>\n",
       "      <td>-0.016515</td>\n",
       "      <td>-0.007663</td>\n",
       "      <td>-0.023543</td>\n",
       "      <td>-0.021707</td>\n",
       "      <td>0.001007</td>\n",
       "      <td>-0.024698</td>\n",
       "      <td>-0.022441</td>\n",
       "      <td>-0.002814</td>\n",
       "      <td>-0.019940</td>\n",
       "      <td>-0.019371</td>\n",
       "      <td>-0.008451</td>\n",
       "      <td>-0.021216</td>\n",
       "      <td>-0.022862</td>\n",
       "      <td>-0.002269</td>\n",
       "      <td>-0.020802</td>\n",
       "      <td>-0.019714</td>\n",
       "      <td>-0.010482</td>\n",
       "      <td>-0.019259</td>\n",
       "      <td>-0.022945</td>\n",
       "      <td>-0.001248</td>\n",
       "      <td>-0.021441</td>\n",
       "      <td>-0.018575</td>\n",
       "      <td>-0.007990</td>\n",
       "      <td>-0.021583</td>\n",
       "      <td>-0.019555</td>\n",
       "      <td>-0.003820</td>\n",
       "      <td>-0.014937</td>\n",
       "    </tr>\n",
       "  </tbody>\n",
       "</table>\n",
       "</div>"
      ],
      "text/plain": [
       "                1000      1001      1002      1003      1004      1005  \\\n",
       "Unnamed: 0                                                               \n",
       "361         0.002652  0.003279 -0.013720 -0.001870  0.006786  0.000679   \n",
       "366         0.002915 -0.007531 -0.004481  0.002638  0.009724 -0.006671   \n",
       "368         0.000170 -0.001461 -0.010587 -0.007932  0.003404  0.006705   \n",
       "379        -0.002325  0.004376 -0.012855 -0.006993  0.023949 -0.012893   \n",
       "391        -0.002675  0.004716 -0.008187  0.008465  0.010820 -0.010068   \n",
       "\n",
       "                1006      1007      1008      1009      1010      1011  \\\n",
       "Unnamed: 0                                                               \n",
       "361        -0.000019  0.013088 -0.007116  0.006714  0.011873 -0.008219   \n",
       "366         0.007750 -0.008282  0.007545 -0.017771  0.012216 -0.035598   \n",
       "368         0.001757  0.004802  0.000177 -0.001167  0.007386 -0.006869   \n",
       "379        -0.003918  0.014186 -0.004247 -0.001080 -0.001206  0.007818   \n",
       "391         0.012807 -0.009965 -0.003495 -0.002359  0.005140  0.007474   \n",
       "\n",
       "                1012      1013      1014      1015      1016      1017  \\\n",
       "Unnamed: 0                                                               \n",
       "361         0.000080  0.007528 -0.006803 -0.011433  0.000456 -0.030704   \n",
       "366        -0.020205  0.005663 -0.025147 -0.016857  0.006163 -0.031228   \n",
       "368        -0.014001  0.003595 -0.030049 -0.019205  0.005165 -0.024193   \n",
       "379         0.009739  0.008701 -0.020500 -0.012671  0.008735 -0.005700   \n",
       "391        -0.013418 -0.007242 -0.019950 -0.024288  0.006654 -0.020286   \n",
       "\n",
       "                1018      1019      1020      1021      1022      1023  \\\n",
       "Unnamed: 0                                                               \n",
       "361        -0.019160  0.001767 -0.023490 -0.012237 -0.001839 -0.025308   \n",
       "366        -0.018672  0.001686 -0.023059 -0.010088 -0.006193 -0.024531   \n",
       "368        -0.018521  0.004579 -0.026181 -0.011453 -0.010132 -0.017729   \n",
       "379        -0.009879 -0.012976 -0.017400 -0.020374  0.009447 -0.029884   \n",
       "391        -0.014343 -0.009220 -0.016211 -0.023525  0.005502 -0.022915   \n",
       "\n",
       "                1024      1025      1026      1027      1028      1029  \\\n",
       "Unnamed: 0                                                               \n",
       "361        -0.018423  0.002055 -0.024273 -0.023207  0.001951 -0.016884   \n",
       "366        -0.014764  0.002031 -0.028464 -0.019419  0.004450 -0.021923   \n",
       "368        -0.021989  0.003835 -0.022088 -0.016464  0.004182 -0.028318   \n",
       "379        -0.014799 -0.000491 -0.022468 -0.011976 -0.002578 -0.026832   \n",
       "391        -0.019425 -0.000081 -0.019207 -0.011573 -0.007986 -0.019242   \n",
       "\n",
       "                1030      1031      1032      1033      1034      1035  \\\n",
       "Unnamed: 0                                                               \n",
       "361        -0.018583  0.006190 -0.030034 -0.019075  0.004691 -0.023049   \n",
       "366        -0.017241  0.005788 -0.031571 -0.019961  0.004864 -0.024009   \n",
       "368        -0.019929  0.009124 -0.027089 -0.017153  0.004475 -0.026874   \n",
       "379        -0.022311  0.007664 -0.025874 -0.012119  0.001692 -0.029937   \n",
       "391        -0.024045  0.006615 -0.020608 -0.017108 -0.002245 -0.019239   \n",
       "\n",
       "                1036      1037      1038      1039      1040      1041  \\\n",
       "Unnamed: 0                                                               \n",
       "361        -0.013976  0.006872 -0.032944 -0.019631 -0.001112 -0.016028   \n",
       "366        -0.013951  0.006341 -0.034497 -0.014643  0.006472 -0.029789   \n",
       "368        -0.020020  0.004609 -0.023824 -0.017431 -0.001393 -0.020706   \n",
       "379        -0.022010  0.010114 -0.027548 -0.012099 -0.006466 -0.019618   \n",
       "391        -0.023607  0.005060 -0.020701 -0.017060 -0.005395 -0.016117   \n",
       "\n",
       "                1042      1043      1044      1045      1046      1047  \\\n",
       "Unnamed: 0                                                               \n",
       "361        -0.018627  0.010175 -0.030275 -0.019997  0.003942 -0.020857   \n",
       "366        -0.015630  0.009640 -0.033545 -0.017042  0.007966 -0.027237   \n",
       "368        -0.019322  0.009103 -0.028027 -0.017067  0.004126 -0.025091   \n",
       "379        -0.022502  0.003993 -0.023806 -0.013324 -0.009812 -0.014517   \n",
       "391        -0.023428  0.012646 -0.027899 -0.020040  0.002310 -0.020759   \n",
       "\n",
       "                1048      1049      1050      1051      1052      1053  \\\n",
       "Unnamed: 0                                                               \n",
       "361        -0.014249  0.012648 -0.033048 -0.018239  0.011228 -0.027334   \n",
       "366        -0.012586  0.004742 -0.030460 -0.015743  0.002888 -0.024257   \n",
       "368        -0.016954  0.004722 -0.022886 -0.014766  0.001171 -0.023994   \n",
       "379        -0.020407  0.009234 -0.029397 -0.007043 -0.011132 -0.019570   \n",
       "391        -0.021994  0.008535 -0.022695 -0.019452  0.008211 -0.025527   \n",
       "\n",
       "                1054      1055      1056      1057      1058      1059  \\\n",
       "Unnamed: 0                                                               \n",
       "361        -0.017188 -0.000386 -0.019554 -0.015546  0.000899 -0.021919   \n",
       "366        -0.009270 -0.000801 -0.028398 -0.018343  0.003520 -0.026517   \n",
       "368        -0.015000  0.001763 -0.023086 -0.017034 -0.001694 -0.020189   \n",
       "379        -0.018946  0.011294 -0.031318 -0.012567  0.006820 -0.031905   \n",
       "391        -0.014326  0.003001 -0.023117 -0.014630 -0.004620 -0.017195   \n",
       "\n",
       "                1060      1061      1062      1063      1064      1065  \\\n",
       "Unnamed: 0                                                               \n",
       "361        -0.018883  0.001652 -0.018549 -0.016938  0.000356 -0.023519   \n",
       "366        -0.008666 -0.006894 -0.022343 -0.017556  0.004683 -0.026840   \n",
       "368        -0.012634 -0.003308 -0.024078 -0.022413  0.005057 -0.022265   \n",
       "379        -0.004218 -0.004375 -0.030794 -0.016459  0.000482 -0.022169   \n",
       "391        -0.019128 -0.001429 -0.019611 -0.022243  0.002635 -0.018019   \n",
       "\n",
       "                1066      1067      1068      1069      1070      1071  \\\n",
       "Unnamed: 0                                                               \n",
       "361        -0.011034 -0.009155 -0.014044 -0.018473  0.007533 -0.026183   \n",
       "366        -0.018683  0.001148 -0.019714 -0.017709  0.008934 -0.028292   \n",
       "368        -0.012504 -0.001969 -0.023124 -0.022627  0.008711 -0.023492   \n",
       "379        -0.008472 -0.015391 -0.016783 -0.021374  0.001636 -0.020436   \n",
       "391        -0.012499 -0.010583 -0.015474 -0.023151  0.002700 -0.017853   \n",
       "\n",
       "                1072      1073      1074      1075      1076      1077  \\\n",
       "Unnamed: 0                                                               \n",
       "361        -0.020387 -0.000384 -0.014390 -0.016372  0.002234 -0.024634   \n",
       "366        -0.016204  0.000217 -0.021122 -0.015766  0.004765 -0.031004   \n",
       "368        -0.016686  0.004922 -0.025911 -0.018481  0.008636 -0.024665   \n",
       "379        -0.011247 -0.015687 -0.010639 -0.019137  0.002625 -0.021257   \n",
       "391        -0.015141 -0.003965 -0.017576 -0.023479  0.004940 -0.017013   \n",
       "\n",
       "                1078      1079      1080      1081      1082      1083  \\\n",
       "Unnamed: 0                                                               \n",
       "361        -0.017726  0.001741 -0.018583 -0.016440 -0.004475 -0.017923   \n",
       "366        -0.018307  0.000778 -0.022844 -0.014841 -0.000576 -0.026724   \n",
       "368        -0.017878  0.003659 -0.025642 -0.021024  0.004489 -0.023634   \n",
       "379        -0.008107 -0.002498 -0.027680 -0.017973  0.007019 -0.028528   \n",
       "391        -0.015326 -0.006655 -0.017622 -0.024063  0.003666 -0.018390   \n",
       "\n",
       "                1084      1085      1086      1087      1088      1089  \\\n",
       "Unnamed: 0                                                               \n",
       "361        -0.020090 -0.002526 -0.018024 -0.015748 -0.010644 -0.014120   \n",
       "366        -0.018377 -0.001766 -0.018403 -0.011498 -0.012390 -0.017022   \n",
       "368        -0.019044 -0.005848 -0.015313 -0.020265 -0.002839 -0.018984   \n",
       "379        -0.003234 -0.017844 -0.017073 -0.018795  0.004226 -0.025233   \n",
       "391        -0.013544 -0.007699 -0.019249 -0.023413  0.001239 -0.019166   \n",
       "\n",
       "                1090      1091      1092      1093      1094      1095  \\\n",
       "Unnamed: 0                                                               \n",
       "361        -0.020838 -0.001265 -0.019054 -0.019951 -0.006883 -0.010959   \n",
       "366        -0.017079  0.001370 -0.027139 -0.018088  0.001589 -0.021990   \n",
       "368        -0.022688  0.000237 -0.016952 -0.013752 -0.001370 -0.024913   \n",
       "379        -0.009959 -0.009121 -0.018735 -0.010070 -0.011906 -0.018259   \n",
       "391        -0.022109 -0.001489 -0.016839 -0.013980 -0.005778 -0.021159   \n",
       "\n",
       "                1096      1097      1098      1099      1100      1101  \\\n",
       "Unnamed: 0                                                               \n",
       "361        -0.019463  0.001559 -0.024326 -0.018646  0.002993 -0.025043   \n",
       "366        -0.017466  0.005228 -0.028605 -0.017600  0.001819 -0.022208   \n",
       "368        -0.022314  0.010108 -0.026031 -0.019540  0.001455 -0.020593   \n",
       "379        -0.022772  0.002602 -0.021590 -0.011029 -0.005044 -0.022813   \n",
       "391        -0.023401  0.007615 -0.022022 -0.013173 -0.007336 -0.016668   \n",
       "\n",
       "                1102      1103      1104      1105      1106      1107  \\\n",
       "Unnamed: 0                                                               \n",
       "361        -0.020198  0.002384 -0.018106 -0.021953  0.003433 -0.030217   \n",
       "366        -0.013161 -0.004280 -0.020728 -0.017459 -0.000256 -0.026331   \n",
       "368        -0.019471  0.001687 -0.022517 -0.021326  0.004960 -0.020520   \n",
       "379        -0.014981  0.010401 -0.035201 -0.016137  0.001922 -0.023469   \n",
       "391        -0.021924  0.006068 -0.023874 -0.022864  0.003451 -0.020401   \n",
       "\n",
       "                1108      1109      1110      1111      1112      1113  \\\n",
       "Unnamed: 0                                                               \n",
       "361        -0.019213  0.000972 -0.023647 -0.023438  0.012492 -0.032521   \n",
       "366        -0.018004  0.003834 -0.022462 -0.012509  0.007073 -0.035104   \n",
       "368        -0.017423  0.000940 -0.024584 -0.018903  0.005451 -0.024137   \n",
       "379        -0.004284 -0.012141 -0.029329 -0.019746  0.003573 -0.025799   \n",
       "391        -0.013974 -0.003063 -0.024178 -0.021807  0.005795 -0.022419   \n",
       "\n",
       "                1114      1115      1116      1117      1118      1119  \\\n",
       "Unnamed: 0                                                               \n",
       "361        -0.017952 -0.000669 -0.017558 -0.017530  0.009785 -0.032407   \n",
       "366        -0.011657  0.002789 -0.026914 -0.016083  0.010905 -0.032769   \n",
       "368        -0.014696 -0.001956 -0.020347 -0.018955  0.007446 -0.025838   \n",
       "379        -0.011276 -0.006829 -0.021561 -0.020746  0.002041 -0.024728   \n",
       "391        -0.013605 -0.005266 -0.017782 -0.019664  0.012705 -0.028640   \n",
       "\n",
       "                1120      1121      1122      1123      1124      1125  \\\n",
       "Unnamed: 0                                                               \n",
       "361        -0.016394  0.001056 -0.023976 -0.011690  0.001516 -0.025834   \n",
       "366        -0.015921  0.004558 -0.027188 -0.008384  0.004184 -0.032097   \n",
       "368        -0.016562  0.003397 -0.024139 -0.017542  0.006841 -0.024978   \n",
       "379        -0.010225 -0.006019 -0.020275 -0.017156  0.008579 -0.030768   \n",
       "391        -0.014926 -0.002353 -0.019831 -0.020352  0.009330 -0.022725   \n",
       "\n",
       "                1126      1127      1128      1129      1130      1131  \\\n",
       "Unnamed: 0                                                               \n",
       "361        -0.016241  0.007187 -0.026343 -0.014677 -0.002317 -0.020128   \n",
       "366        -0.016201  0.002385 -0.023188 -0.008167 -0.002896 -0.028575   \n",
       "368        -0.015184  0.001756 -0.022661 -0.018304  0.007279 -0.026806   \n",
       "379        -0.007029 -0.009571 -0.021575 -0.015865  0.005777 -0.029497   \n",
       "391        -0.010726 -0.005339 -0.019058 -0.020850  0.006347 -0.020437   \n",
       "\n",
       "                1132      1133      1134      1135      1136      1137  \\\n",
       "Unnamed: 0                                                               \n",
       "361        -0.016031  0.001864 -0.021265 -0.006002  0.001098 -0.033988   \n",
       "366        -0.015238  0.003668 -0.028556 -0.004782 -0.008058 -0.024416   \n",
       "368        -0.015726 -0.002815 -0.020082 -0.015055 -0.005009 -0.019063   \n",
       "379         0.001557 -0.017001 -0.023340 -0.017365  0.004063 -0.025982   \n",
       "391        -0.012849 -0.005749 -0.019380 -0.020349  0.005738 -0.024995   \n",
       "\n",
       "                1138      1139      1140      1141      1142      1143  \\\n",
       "Unnamed: 0                                                               \n",
       "361        -0.017475  0.006279 -0.027815 -0.004490  0.004136 -0.036324   \n",
       "366        -0.015349  0.003397 -0.025798 -0.004841 -0.008305 -0.023472   \n",
       "368        -0.013796 -0.004103 -0.019498 -0.008364 -0.010848 -0.017467   \n",
       "379        -0.013193 -0.004741 -0.023715 -0.014950  0.007181 -0.034655   \n",
       "391        -0.017206  0.003749 -0.024659 -0.017726  0.006101 -0.027337   \n",
       "\n",
       "                1144      1145      1146      1147      1148      1149  \\\n",
       "Unnamed: 0                                                               \n",
       "361        -0.016402  0.007307 -0.027328 -0.012379 -0.001294 -0.026266   \n",
       "366        -0.005437 -0.008825 -0.021788 -0.004661  0.001598 -0.032108   \n",
       "368        -0.012775 -0.004192 -0.021107 -0.012136  0.004831 -0.025690   \n",
       "379        -0.013682 -0.004330 -0.020944 -0.016117  0.004557 -0.027529   \n",
       "391        -0.018593  0.013201 -0.031583 -0.005962 -0.002407 -0.024291   \n",
       "\n",
       "                1150      1151      1152      1153      1154      1155  \\\n",
       "Unnamed: 0                                                               \n",
       "361        -0.010828  0.004837 -0.027684 -0.014600 -0.002757 -0.018423   \n",
       "366        -0.018379  0.001233 -0.024125 -0.007681 -0.009564 -0.021890   \n",
       "368        -0.014781 -0.001367 -0.019669 -0.016849  0.000223 -0.023937   \n",
       "379        -0.009659  0.005800 -0.032680  0.004917 -0.000876 -0.045743   \n",
       "391        -0.011149 -0.000372 -0.022851 -0.021665  0.005083 -0.022881   \n",
       "\n",
       "                1156      1157      1158      1159      1160      1161  \\\n",
       "Unnamed: 0                                                               \n",
       "361        -0.019311  0.002257 -0.027141 -0.020444  0.000780 -0.020198   \n",
       "366        -0.013717  0.001618 -0.031904 -0.014649 -0.002798 -0.021683   \n",
       "368        -0.019282  0.001940 -0.021163 -0.011225 -0.005868 -0.025162   \n",
       "379        -0.005748 -0.003387 -0.028797 -0.015529  0.007700 -0.033097   \n",
       "391        -0.016089 -0.003451 -0.020626 -0.015877  0.001490 -0.025789   \n",
       "\n",
       "                1162      1163      1164      1165      1166      1167  \\\n",
       "Unnamed: 0                                                               \n",
       "361        -0.019817 -0.000513 -0.027176 -0.005665 -0.016227 -0.018331   \n",
       "366        -0.017269  0.002933 -0.029119 -0.009987 -0.004246 -0.027086   \n",
       "368        -0.019247  0.000398 -0.020746 -0.009881 -0.010771 -0.019532   \n",
       "379        -0.008485 -0.006405 -0.026650 -0.011295 -0.002049 -0.030305   \n",
       "391        -0.013128 -0.007929 -0.020495 -0.012822  0.005188 -0.034272   \n",
       "\n",
       "                1168      1169      1170      1171      1172      1173  \\\n",
       "Unnamed: 0                                                               \n",
       "361        -0.015107  0.002764 -0.031452 -0.015387 -0.004562 -0.027830   \n",
       "366        -0.011236  0.000765 -0.029747 -0.011513 -0.003691 -0.024466   \n",
       "368        -0.017440  0.001467 -0.025551 -0.012034 -0.002719 -0.023926   \n",
       "379        -0.015319 -0.008764 -0.022172 -0.014675  0.007990 -0.037543   \n",
       "391        -0.015646  0.002395 -0.028015 -0.006623 -0.003300 -0.026664   \n",
       "\n",
       "                1174      1175      1176      1177      1178      1179  \\\n",
       "Unnamed: 0                                                               \n",
       "361        -0.018618  0.003258 -0.029885 -0.021716  0.003862 -0.029664   \n",
       "366        -0.022286  0.000595 -0.026940 -0.017911  0.001523 -0.029165   \n",
       "368        -0.017615 -0.001558 -0.024063 -0.011365 -0.001028 -0.030724   \n",
       "379        -0.011236  0.010246 -0.038617 -0.007623  0.006514 -0.040918   \n",
       "391        -0.012505 -0.005143 -0.023449 -0.019445  0.009948 -0.033967   \n",
       "\n",
       "                1180      1181      1182      1183      1184      1185  \\\n",
       "Unnamed: 0                                                               \n",
       "361        -0.010445  0.009800 -0.032574 -0.017190 -0.001829 -0.029319   \n",
       "366        -0.019347 -0.000675 -0.018628 -0.007448 -0.006070 -0.028296   \n",
       "368        -0.020600  0.000770 -0.027157 -0.008002 -0.008756 -0.025161   \n",
       "379        -0.009271 -0.015421 -0.020267 -0.016016  0.007917 -0.039366   \n",
       "391        -0.015588 -0.005839 -0.023671 -0.019663  0.007491 -0.029717   \n",
       "\n",
       "                1186      1187      1188      1189      1190      1191  \\\n",
       "Unnamed: 0                                                               \n",
       "361        -0.021860  0.001647 -0.032423 -0.002026 -0.003852 -0.032893   \n",
       "366        -0.018527  0.003678 -0.034124 -0.006328 -0.002324 -0.027674   \n",
       "368        -0.021246  0.005509 -0.025820 -0.008213 -0.007793 -0.019776   \n",
       "379        -0.012619 -0.009741 -0.026637 -0.007627 -0.002931 -0.032715   \n",
       "391        -0.015467 -0.004365 -0.028753 -0.008101  0.007502 -0.036917   \n",
       "\n",
       "                1192      1193      1194      1195      1196      1197  \\\n",
       "Unnamed: 0                                                               \n",
       "361        -0.016308  0.010854 -0.034563 -0.008594  0.007649 -0.037261   \n",
       "366        -0.013336  0.002833 -0.028976 -0.003608  0.003267 -0.034940   \n",
       "368        -0.015856  0.001620 -0.024213 -0.011094 -0.001154 -0.023328   \n",
       "379        -0.014549 -0.002634 -0.024688 -0.016514  0.012789 -0.038309   \n",
       "391        -0.020664  0.018492 -0.035334 -0.016872  0.014002 -0.032853   \n",
       "\n",
       "                1198      1199      1200      1201      1202      1203  \\\n",
       "Unnamed: 0                                                               \n",
       "361        -0.015772  0.015937 -0.034590 -0.013436  0.005923 -0.032065   \n",
       "366        -0.010323  0.001240 -0.027060 -0.005680  0.006530 -0.036945   \n",
       "368        -0.012837  0.002679 -0.026361 -0.013788  0.011674 -0.031868   \n",
       "379        -0.010035 -0.003189 -0.026016 -0.017896  0.011775 -0.033231   \n",
       "391        -0.018516  0.017296 -0.035156 -0.012764  0.013997 -0.033927   \n",
       "\n",
       "                1204      1205      1206      1207      1208      1209  \\\n",
       "Unnamed: 0                                                               \n",
       "361        -0.006536  0.007093 -0.035405 -0.011716  0.004988 -0.030851   \n",
       "366        -0.016566  0.005690 -0.028435 -0.007320 -0.000186 -0.031485   \n",
       "368        -0.016226  0.013557 -0.033910 -0.015360  0.002715 -0.024419   \n",
       "379        -0.007773 -0.005054 -0.024902 -0.013704  0.009301 -0.037769   \n",
       "391        -0.010055 -0.003180 -0.022376 -0.020621  0.008950 -0.025852   \n",
       "\n",
       "                1210      1211      1212      1213      1214      1215  \\\n",
       "Unnamed: 0                                                               \n",
       "361        -0.015226  0.002250 -0.026774 -0.012818  0.008532 -0.036518   \n",
       "366        -0.011144 -0.000090 -0.026208 -0.011995  0.003802 -0.029862   \n",
       "368        -0.013582  0.002557 -0.027845 -0.016255  0.006526 -0.027781   \n",
       "379         0.003150 -0.019523 -0.022732 -0.017566  0.004908 -0.029348   \n",
       "391        -0.017044  0.004147 -0.025913 -0.018308  0.011340 -0.030951   \n",
       "\n",
       "                1216      1217      1218      1219      1220      1221  \\\n",
       "Unnamed: 0                                                               \n",
       "361        -0.018716 -0.000060 -0.019677 -0.015779  0.001600 -0.026543   \n",
       "366        -0.013835  0.007875 -0.029957 -0.016719  0.015364 -0.036100   \n",
       "368        -0.015927  0.007950 -0.030188 -0.018507  0.011042 -0.027981   \n",
       "379        -0.010476 -0.007869 -0.023154 -0.019095  0.005908 -0.025726   \n",
       "391        -0.019191  0.005181 -0.022896 -0.024912  0.018316 -0.029156   \n",
       "\n",
       "                1222      1223      1224      1225      1226      1227  \\\n",
       "Unnamed: 0                                                               \n",
       "361        -0.014708  0.009124 -0.030429 -0.013337  0.013030 -0.033338   \n",
       "366        -0.019215  0.004730 -0.025059 -0.013306  0.004018 -0.032006   \n",
       "368        -0.014904  0.011282 -0.032710 -0.021602  0.008270 -0.024373   \n",
       "379        -0.001790 -0.006019 -0.031180 -0.007833 -0.003170 -0.030040   \n",
       "391        -0.017241  0.002934 -0.018362 -0.017413 -0.000343 -0.019171   \n",
       "\n",
       "                1228      1229      1230      1231      1232      1233  \\\n",
       "Unnamed: 0                                                               \n",
       "361        -0.015024 -0.001074 -0.020351 -0.014182 -0.005804 -0.020908   \n",
       "366        -0.013337 -0.003572 -0.021603 -0.019250  0.002301 -0.025497   \n",
       "368        -0.008635 -0.000181 -0.029542 -0.015566 -0.002352 -0.020215   \n",
       "379         0.001193 -0.005344 -0.036184 -0.012326  0.001276 -0.026916   \n",
       "391        -0.007638 -0.007975 -0.022458 -0.013522 -0.000874 -0.022408   \n",
       "\n",
       "                1234      1235      1236      1237      1238      1239  \\\n",
       "Unnamed: 0                                                               \n",
       "361        -0.014133 -0.004410 -0.021159 -0.020260  0.001000 -0.024312   \n",
       "366        -0.009210 -0.006241 -0.025240 -0.017222 -0.000229 -0.023866   \n",
       "368        -0.010462 -0.009766 -0.021052 -0.018076 -0.003429 -0.019484   \n",
       "379        -0.016979  0.013106 -0.036817 -0.004654 -0.014876 -0.018705   \n",
       "391        -0.023658  0.004800 -0.022654 -0.018050 -0.002022 -0.022282   \n",
       "\n",
       "                1240      1241      1242      1243      1244      1245  \\\n",
       "Unnamed: 0                                                               \n",
       "361        -0.014093  0.004583 -0.033931 -0.021971  0.002063 -0.020254   \n",
       "366        -0.013981  0.000506 -0.028247 -0.018266  0.003769 -0.023082   \n",
       "368        -0.017476  0.001179 -0.023518 -0.017718  0.003547 -0.027744   \n",
       "379        -0.019689  0.008555 -0.027807 -0.014542 -0.009511 -0.015539   \n",
       "391        -0.022161  0.007939 -0.026243 -0.019068  0.000280 -0.021097   \n",
       "\n",
       "                1246      1247      1248      1249      1250      1251  \\\n",
       "Unnamed: 0                                                               \n",
       "361        -0.016304  0.006515 -0.031271 -0.021192  0.005288 -0.020558   \n",
       "366        -0.016453  0.007710 -0.034434 -0.020270  0.005005 -0.023529   \n",
       "368        -0.020458  0.008318 -0.026158 -0.016383  0.005730 -0.030685   \n",
       "379        -0.020499  0.006579 -0.026566 -0.010678  0.004504 -0.034085   \n",
       "391        -0.024407  0.006843 -0.020546 -0.016101 -0.000805 -0.023216   \n",
       "\n",
       "                1252      1253      1254      1255      1256      1257  \\\n",
       "Unnamed: 0                                                               \n",
       "361        -0.015128  0.004136 -0.032192 -0.022690  0.006086 -0.021418   \n",
       "366        -0.015122  0.001772 -0.028708 -0.015989 -0.001136 -0.022328   \n",
       "368        -0.021499  0.006758 -0.023061 -0.009863 -0.006030 -0.023779   \n",
       "379        -0.015748  0.004701 -0.026030 -0.014003  0.005410 -0.032447   \n",
       "391        -0.022456  0.005180 -0.021028 -0.009172 -0.007460 -0.021402   \n",
       "\n",
       "                1258      1259      1260      1261      1262      1263  \\\n",
       "Unnamed: 0                                                               \n",
       "361        -0.017232 -0.001733 -0.023421 -0.008307  0.005188 -0.034347   \n",
       "366        -0.020200  0.007707 -0.029286 -0.011031 -0.003212 -0.025149   \n",
       "368        -0.019488  0.002966 -0.022150 -0.010240 -0.011374 -0.016523   \n",
       "379        -0.013068  0.002117 -0.028631 -0.015716  0.003172 -0.027906   \n",
       "391        -0.015657 -0.002865 -0.019209 -0.015633  0.004271 -0.028447   \n",
       "\n",
       "                1264      1265      1266      1267      1268      1269  \\\n",
       "Unnamed: 0                                                               \n",
       "361        -0.017726  0.008173 -0.028322 -0.020115  0.009018 -0.030605   \n",
       "366        -0.008431 -0.007617 -0.021376 -0.010600  0.005346 -0.033034   \n",
       "368        -0.015269 -0.004367 -0.019416 -0.017972  0.006199 -0.025357   \n",
       "379        -0.017353  0.001017 -0.021778 -0.023491  0.005263 -0.023693   \n",
       "391        -0.023467  0.017207 -0.030220 -0.011658  0.006305 -0.029296   \n",
       "\n",
       "                1270      1271      1272      1273      1274      1275  \\\n",
       "Unnamed: 0                                                               \n",
       "361        -0.013261  0.003582 -0.027836 -0.010909  0.010073 -0.034233   \n",
       "366        -0.017713  0.008046 -0.027073 -0.015187  0.011106 -0.034448   \n",
       "368        -0.018041  0.006568 -0.028050 -0.017662  0.009095 -0.027367   \n",
       "379        -0.012295 -0.009667 -0.014851 -0.019535  0.005150 -0.024640   \n",
       "391        -0.019857  0.001643 -0.017993 -0.021715  0.008067 -0.022305   \n",
       "\n",
       "                1276      1277      1278      1279      1280      1281  \\\n",
       "Unnamed: 0                                                               \n",
       "361        -0.016851  0.004216 -0.022289 -0.014183  0.006843 -0.030381   \n",
       "366        -0.016384  0.003247 -0.022629 -0.015937  0.007265 -0.032872   \n",
       "368        -0.015131  0.005393 -0.030027 -0.018076  0.009533 -0.027721   \n",
       "379        -0.011482 -0.009879 -0.019034 -0.020098  0.004769 -0.023841   \n",
       "391        -0.017396  0.001662 -0.019615 -0.021809  0.006155 -0.019945   \n",
       "\n",
       "                1282      1283      1284      1285      1286      1287  \\\n",
       "Unnamed: 0                                                               \n",
       "361        -0.015980  0.003092 -0.021107 -0.015553  0.009657 -0.033084   \n",
       "366        -0.018396  0.004424 -0.025693 -0.013440 -0.000867 -0.025286   \n",
       "368        -0.017150  0.003704 -0.026016 -0.018812 -0.000056 -0.019728   \n",
       "379        -0.010797  0.000333 -0.029199 -0.019008  0.005627 -0.027336   \n",
       "391        -0.018400 -0.002010 -0.018273 -0.023443  0.005044 -0.020597   \n",
       "\n",
       "                1288      1289      1290      1291      1292      1293  \\\n",
       "Unnamed: 0                                                               \n",
       "361        -0.020491  0.000585 -0.019365 -0.010231  0.004495 -0.030382   \n",
       "366        -0.017366  0.002330 -0.023818 -0.006995 -0.006038 -0.023673   \n",
       "368        -0.016478 -0.001774 -0.020758 -0.012520 -0.008252 -0.017120   \n",
       "379        -0.005781 -0.015762 -0.017365 -0.021382  0.006573 -0.026504   \n",
       "391        -0.020844  0.005231 -0.021929 -0.022117  0.005643 -0.022134   \n",
       "\n",
       "                1294      1295      1296      1297      1298      1299  \\\n",
       "Unnamed: 0                                                               \n",
       "361        -0.020601  0.005324 -0.022354 -0.003949 -0.018493 -0.010879   \n",
       "366        -0.015389  0.001021 -0.024427 -0.008656 -0.001066 -0.024973   \n",
       "368        -0.017707 -0.002377 -0.017706 -0.013332  0.002341 -0.024152   \n",
       "379        -0.015576 -0.006223 -0.018764 -0.015600 -0.009388 -0.015497   \n",
       "391        -0.021372  0.006779 -0.022483 -0.014059 -0.003859 -0.019441   \n",
       "\n",
       "                1300      1301      1302      1303      1304      1305  \\\n",
       "Unnamed: 0                                                               \n",
       "361        -0.016686 -0.001666 -0.022140 -0.020995  0.002641 -0.019857   \n",
       "366        -0.016839  0.003762 -0.024586 -0.017345 -0.003638 -0.018492   \n",
       "368        -0.019347  0.006863 -0.024996 -0.012149  0.003256 -0.026296   \n",
       "379        -0.018544 -0.000905 -0.019717 -0.008377 -0.005913 -0.025457   \n",
       "391        -0.021643  0.001167 -0.015742 -0.008974 -0.010498 -0.012873   \n",
       "\n",
       "                1306      1307      1308      1309      1310      1311  \\\n",
       "Unnamed: 0                                                               \n",
       "361        -0.014829  0.007526 -0.027495 -0.019373 -0.001177 -0.016554   \n",
       "366        -0.020243  0.004942 -0.028600 -0.020212  0.000052 -0.017875   \n",
       "368        -0.023200  0.003492 -0.019460 -0.016013 -0.001629 -0.026377   \n",
       "379        -0.010339 -0.002360 -0.026672 -0.010522  0.005061 -0.032893   \n",
       "391        -0.022404 -0.000465 -0.015790 -0.011303 -0.011998 -0.018975   \n",
       "\n",
       "                1312      1313      1314      1315      1316      1317  \\\n",
       "Unnamed: 0                                                               \n",
       "361        -0.017273 -0.002885 -0.025871 -0.020156 -0.001826 -0.016094   \n",
       "366        -0.017354 -0.003302 -0.024264 -0.020226  0.000018 -0.019344   \n",
       "368        -0.021308  0.002927 -0.020929 -0.016729 -0.003826 -0.021734   \n",
       "379        -0.021346  0.008817 -0.023122 -0.010281 -0.004220 -0.026736   \n",
       "391        -0.024916  0.002598 -0.017203 -0.017489 -0.008166 -0.016572   \n",
       "\n",
       "                1318      1319      1320      1321      1322      1323  \\\n",
       "Unnamed: 0                                                               \n",
       "361        -0.022898  0.011048 -0.032376 -0.020625 -0.002034 -0.015910   \n",
       "366        -0.015243  0.000445 -0.028237 -0.013677 -0.003209 -0.022426   \n",
       "368        -0.020068  0.002865 -0.022287 -0.017450 -0.002882 -0.020102   \n",
       "379        -0.021284  0.007042 -0.026751 -0.015285 -0.004898 -0.020675   \n",
       "391        -0.024143  0.002137 -0.018913 -0.016962 -0.001304 -0.023181   \n",
       "\n",
       "                1324      1325      1326      1327      1328      1329  \\\n",
       "Unnamed: 0                                                               \n",
       "361        -0.017358 -0.004409 -0.019197 -0.016496 -0.000536 -0.020611   \n",
       "366        -0.011476  0.001402 -0.028735 -0.019835  0.002137 -0.022772   \n",
       "368        -0.014780 -0.000273 -0.023525 -0.016808 -0.002970 -0.018112   \n",
       "379        -0.022549  0.007223 -0.026052 -0.015822  0.006866 -0.030206   \n",
       "391        -0.012204  0.000244 -0.024791 -0.015992 -0.004331 -0.016928   \n",
       "\n",
       "                1330      1331      1332      1333      1334      1335  \\\n",
       "Unnamed: 0                                                               \n",
       "361        -0.021681  0.004484 -0.017973 -0.015774 -0.002244 -0.022447   \n",
       "366        -0.020433  0.004548 -0.021352 -0.017960  0.004446 -0.028423   \n",
       "368        -0.012399 -0.000753 -0.027424 -0.021520  0.005936 -0.022162   \n",
       "379        -0.005476 -0.002144 -0.033135 -0.021076  0.008744 -0.024974   \n",
       "391        -0.020146  0.002444 -0.022975 -0.022209  0.004955 -0.020393   \n",
       "\n",
       "                1336      1337      1338      1339      1340      1341  \\\n",
       "Unnamed: 0                                                               \n",
       "361        -0.018713 -0.000281 -0.023330 -0.013929 -0.005931 -0.019921   \n",
       "366        -0.018252  0.002851 -0.021551 -0.009653 -0.006731 -0.024146   \n",
       "368        -0.018911 -0.000676 -0.019734 -0.019085  0.000484 -0.020711   \n",
       "379        -0.009935 -0.010203 -0.022939 -0.018501  0.004455 -0.028521   \n",
       "391        -0.011363 -0.008380 -0.019731 -0.022209  0.005721 -0.023101   \n",
       "\n",
       "                1342      1343      1344      1345      1346      1347  \\\n",
       "Unnamed: 0                                                               \n",
       "361        -0.018855  0.001885 -0.023898  0.001442 -0.021647 -0.013311   \n",
       "366        -0.015290  0.002372 -0.028533 -0.014225  0.004244 -0.025062   \n",
       "368        -0.021246  0.004001 -0.020413 -0.012030 -0.001471 -0.022710   \n",
       "379        -0.014863 -0.003849 -0.022976 -0.007731 -0.016303 -0.016283   \n",
       "391        -0.016304 -0.001686 -0.021223 -0.011915 -0.002917 -0.022273   \n",
       "\n",
       "                1348      1349      1350      1351      1352      1353  \\\n",
       "Unnamed: 0                                                               \n",
       "361        -0.014128 -0.003664 -0.021111 -0.018303  0.004301 -0.021725   \n",
       "366        -0.017152  0.007755 -0.027592 -0.017191  0.003506 -0.023469   \n",
       "368        -0.022510  0.011439 -0.026262 -0.015807  0.004583 -0.026070   \n",
       "379        -0.015652 -0.001768 -0.021479 -0.005354 -0.015502 -0.017638   \n",
       "391        -0.022975  0.007412 -0.022167 -0.015549  0.001033 -0.019631   \n",
       "\n",
       "                1354      1355      1356      1357      1358      1359  \\\n",
       "Unnamed: 0                                                               \n",
       "361        -0.010309  0.005193 -0.028492 -0.016862  0.002097 -0.020523   \n",
       "366        -0.013908  0.007343 -0.032260 -0.015919  0.001539 -0.021726   \n",
       "368        -0.019082  0.006777 -0.023410 -0.014707 -0.001844 -0.020126   \n",
       "379        -0.017640  0.004312 -0.025463 -0.000014 -0.017070 -0.020572   \n",
       "391        -0.021397  0.005156 -0.019807 -0.013607 -0.002604 -0.020214   \n",
       "\n",
       "                1360      1361      1362      1363      1364      1365  \\\n",
       "Unnamed: 0                                                               \n",
       "361        -0.016227 -0.003688 -0.017374 -0.017165  0.006961 -0.028019   \n",
       "366        -0.011920 -0.006918 -0.020424 -0.018495  0.005504 -0.029150   \n",
       "368        -0.016348  0.001370 -0.023525 -0.019761  0.001151 -0.019228   \n",
       "379        -0.017155  0.006198 -0.028478 -0.006948 -0.005731 -0.025482   \n",
       "391        -0.020933  0.008704 -0.024035 -0.017539 -0.002824 -0.016739   \n",
       "\n",
       "                1366      1367      1368      1369      1370      1371  \\\n",
       "Unnamed: 0                                                               \n",
       "361        -0.018057 -0.002820 -0.015416 -0.013563  0.001843 -0.031347   \n",
       "366        -0.018667  0.000764 -0.020070 -0.015596  0.002947 -0.028886   \n",
       "368        -0.011103 -0.004382 -0.025993 -0.020676  0.004455 -0.021442   \n",
       "379        -0.004751 -0.004860 -0.030788 -0.020300  0.005470 -0.023029   \n",
       "391        -0.016509 -0.005778 -0.019124 -0.021412  0.002464 -0.018929   \n",
       "\n",
       "                1372      1373      1374      1375      1376      1377  \\\n",
       "Unnamed: 0                                                               \n",
       "361        -0.019130 -0.003838 -0.017489 -0.011049 -0.006306 -0.021143   \n",
       "366        -0.016914 -0.000899 -0.018698 -0.010564 -0.004203 -0.024642   \n",
       "368        -0.015536 -0.003950 -0.019249 -0.019492  0.000339 -0.018336   \n",
       "379        -0.010730 -0.014235 -0.017146 -0.017798  0.004041 -0.026374   \n",
       "391        -0.014808 -0.006912 -0.015354 -0.022591  0.002719 -0.018011   \n",
       "\n",
       "                1378      1379      1380      1381      1382      1383  \\\n",
       "Unnamed: 0                                                               \n",
       "361        -0.019418 -0.000263 -0.021403 -0.022680  0.001103 -0.005902   \n",
       "366        -0.017230  0.000804 -0.023603 -0.014997 -0.003220 -0.007167   \n",
       "368        -0.015673 -0.005894 -0.016103 -0.014183 -0.000870 -0.010305   \n",
       "379        -0.001128 -0.013768 -0.022426 -0.017516  0.012764 -0.021361   \n",
       "391        -0.015465 -0.006517 -0.017197 -0.019260  0.007614 -0.012149   \n",
       "\n",
       "                1384      1385      1386      1387      1388      1389  \\\n",
       "Unnamed: 0                                                               \n",
       "361        -0.003149 -0.006999 -0.017558 -0.010175 -0.000760 -0.005108   \n",
       "366        -0.007949 -0.012384 -0.008484 -0.006619  0.004969 -0.016338   \n",
       "368        -0.012620 -0.001846 -0.011257 -0.013813 -0.004167  0.003603   \n",
       "379        -0.015808  0.003357 -0.013061 -0.018092  0.011765 -0.010807   \n",
       "391        -0.014088  0.003139 -0.013843 -0.002871  0.001542 -0.011576   \n",
       "\n",
       "                1390      1391      1392      1393      1394      1395  \\\n",
       "Unnamed: 0                                                               \n",
       "361        -0.006575 -0.001400 -0.009638  0.004563 -0.007330 -0.014740   \n",
       "366        -0.001114 -0.015414 -0.002109 -0.020372  0.006069 -0.035991   \n",
       "368        -0.009515 -0.001017 -0.005788 -0.009422 -0.004108 -0.009523   \n",
       "379        -0.009809  0.001172 -0.008243 -0.010437 -0.007184  0.000339   \n",
       "391         0.003453 -0.018070 -0.006339 -0.012757  0.000335 -0.002122   \n",
       "\n",
       "                1396      1397      1398      1399      1400      1401  \\\n",
       "Unnamed: 0                                                               \n",
       "361        -0.010249 -0.003966 -0.008886 -0.014014 -0.009394 -0.027788   \n",
       "366        -0.021472 -0.000075 -0.027360 -0.021517  0.001171 -0.032497   \n",
       "368        -0.021072  0.004094 -0.030101 -0.022572  0.003579 -0.027908   \n",
       "379        -0.006730  0.007958 -0.021979 -0.023352  0.005470 -0.008714   \n",
       "391        -0.019894 -0.009009 -0.019369 -0.024982  0.001704 -0.021765   \n",
       "\n",
       "                1402      1403      1404      1405      1406      1407  \\\n",
       "Unnamed: 0                                                               \n",
       "361        -0.017805 -0.006536 -0.024457 -0.013772 -0.011222 -0.024666   \n",
       "366        -0.020649 -0.003104 -0.025664 -0.014994 -0.008709 -0.027849   \n",
       "368        -0.024440  0.002531 -0.026755 -0.021442 -0.005842 -0.018035   \n",
       "379        -0.021468 -0.004401 -0.020007 -0.028360  0.011050 -0.030596   \n",
       "391        -0.020332 -0.009654 -0.019136 -0.024049 -0.000135 -0.023963   \n",
       "\n",
       "                1408      1409      1410      1411      1412      1413  \\\n",
       "Unnamed: 0                                                               \n",
       "361        -0.017970 -0.008823 -0.024064 -0.023019 -0.002613 -0.020279   \n",
       "366        -0.018826 -0.003753 -0.030483 -0.021295 -0.000924 -0.026890   \n",
       "368        -0.026934  0.001259 -0.021894 -0.021788  0.001652 -0.028798   \n",
       "379        -0.018400 -0.001275 -0.024731 -0.020289 -0.001832 -0.026582   \n",
       "391        -0.023472 -0.002294 -0.021837 -0.014032 -0.014246 -0.021004   \n",
       "\n",
       "                1414      1415      1416      1417      1418      1419  \\\n",
       "Unnamed: 0                                                               \n",
       "361        -0.017256 -0.005811 -0.029425 -0.019506 -0.000450 -0.024506   \n",
       "366        -0.020943  0.000939 -0.033507 -0.022320 -0.000932 -0.025855   \n",
       "368        -0.023534  0.004288 -0.027870 -0.024388  0.001975 -0.025730   \n",
       "379        -0.028677  0.006838 -0.025031 -0.024579  0.003964 -0.025661   \n",
       "391        -0.027949  0.004483 -0.023537 -0.020474 -0.011087 -0.017077   \n",
       "\n",
       "                1420      1421      1422      1423      1424      1425  \\\n",
       "Unnamed: 0                                                               \n",
       "361        -0.014629 -0.006534 -0.031238 -0.019372 -0.005529 -0.020525   \n",
       "366        -0.017860 -0.001508 -0.033731 -0.016808 -0.003371 -0.029940   \n",
       "368        -0.023080 -0.002870 -0.020079 -0.023519 -0.002339 -0.021442   \n",
       "379        -0.028496  0.009092 -0.027519 -0.018034  0.002023 -0.026383   \n",
       "391        -0.025044  0.001226 -0.022298 -0.023169 -0.007124 -0.020307   \n",
       "\n",
       "                1426      1427      1428      1429      1430      1431  \\\n",
       "Unnamed: 0                                                               \n",
       "361        -0.017919 -0.005321 -0.030179 -0.022065 -0.001934 -0.023074   \n",
       "366        -0.019078 -0.000761 -0.032888 -0.019411  0.000489 -0.029874   \n",
       "368        -0.022733  0.004192 -0.027676 -0.022819  0.001735 -0.026019   \n",
       "379        -0.028365  0.005943 -0.027813 -0.021340 -0.007398 -0.016777   \n",
       "391        -0.026694  0.005500 -0.028806 -0.025405  0.000668 -0.025273   \n",
       "\n",
       "                1432      1433      1434      1435      1436      1437  \\\n",
       "Unnamed: 0                                                               \n",
       "361        -0.015407 -0.000269 -0.030969 -0.019352  0.002037 -0.027682   \n",
       "366        -0.017583 -0.003821 -0.029830 -0.018851 -0.008105 -0.024332   \n",
       "368        -0.021336 -0.000785 -0.020434 -0.019559 -0.001304 -0.025933   \n",
       "379        -0.027514  0.007772 -0.027440 -0.019607 -0.005187 -0.018529   \n",
       "391        -0.025786  0.005795 -0.025417 -0.021777  0.004000 -0.029977   \n",
       "\n",
       "                1438      1439      1440      1441      1442      1443  \\\n",
       "Unnamed: 0                                                               \n",
       "361        -0.019065 -0.007734 -0.021292 -0.014901 -0.002670 -0.030535   \n",
       "366        -0.010830 -0.007121 -0.033216 -0.019753 -0.002766 -0.029127   \n",
       "368        -0.019713 -0.003768 -0.025413 -0.024696 -0.002813 -0.020910   \n",
       "379        -0.025753  0.009461 -0.031247 -0.019237  0.006922 -0.033627   \n",
       "391        -0.016980 -0.007358 -0.021159 -0.021073 -0.003214 -0.021059   \n",
       "\n",
       "                1444      1445      1446      1447      1448      1449  \\\n",
       "Unnamed: 0                                                               \n",
       "361        -0.020567 -0.003500 -0.020680 -0.016654 -0.011505 -0.023607   \n",
       "366        -0.015122 -0.005365 -0.028805 -0.017863 -0.004279 -0.030482   \n",
       "368        -0.020933 -0.001678 -0.023676 -0.025406  0.000639 -0.022579   \n",
       "379        -0.013838 -0.003634 -0.028833 -0.018988 -0.001611 -0.023679   \n",
       "391        -0.020282 -0.006009 -0.021797 -0.024904 -0.000858 -0.020758   \n",
       "\n",
       "                1450      1451      1452      1453      1454      1455  \\\n",
       "Unnamed: 0                                                               \n",
       "361        -0.011938 -0.014119 -0.019603 -0.020548 -0.004486 -0.026405   \n",
       "366        -0.020179 -0.002544 -0.026739 -0.018465 -0.001478 -0.030858   \n",
       "368        -0.021815 -0.000977 -0.023594 -0.025077  0.002277 -0.021715   \n",
       "379        -0.020329 -0.010109 -0.014379 -0.027045  0.004026 -0.024716   \n",
       "391        -0.016000 -0.013123 -0.019848 -0.026493  0.000717 -0.021887   \n",
       "\n",
       "                1456      1457      1458      1459      1460      1461  \\\n",
       "Unnamed: 0                                                               \n",
       "361        -0.022659 -0.003330 -0.019513 -0.015441 -0.009640 -0.025494   \n",
       "366        -0.018871 -0.004181 -0.028112 -0.019173 -0.001277 -0.033089   \n",
       "368        -0.022219  0.002286 -0.027100 -0.023110  0.004866 -0.028842   \n",
       "379        -0.021467 -0.008630 -0.016676 -0.027413  0.002079 -0.022170   \n",
       "391        -0.021087 -0.006626 -0.021498 -0.026992  0.003739 -0.021937   \n",
       "\n",
       "                1462      1463      1464      1465      1466      1467  \\\n",
       "Unnamed: 0                                                               \n",
       "361        -0.018213 -0.001735 -0.023607 -0.018853 -0.007241 -0.019672   \n",
       "366        -0.019930 -0.004653 -0.024926 -0.016592 -0.005599 -0.029838   \n",
       "368        -0.025509  0.002518 -0.027055 -0.023841 -0.000312 -0.023649   \n",
       "379        -0.021086  0.000953 -0.023571 -0.026411  0.011492 -0.031336   \n",
       "391        -0.018269 -0.010273 -0.020652 -0.023519 -0.001292 -0.021142   \n",
       "\n",
       "                1468      1469      1470      1471      1472      1473  \\\n",
       "Unnamed: 0                                                               \n",
       "361        -0.018489 -0.007332 -0.021719 -0.014985 -0.015750 -0.018092   \n",
       "366        -0.020239 -0.007445 -0.020709 -0.015230 -0.015432 -0.020810   \n",
       "368        -0.024077 -0.006977 -0.016849 -0.023175 -0.004525 -0.020957   \n",
       "379        -0.015734 -0.009487 -0.019345 -0.027709  0.009274 -0.029373   \n",
       "391        -0.017449 -0.010156 -0.022433 -0.023091 -0.003907 -0.021569   \n",
       "\n",
       "                1474      1475      1476      1477      1478      1479  \\\n",
       "Unnamed: 0                                                               \n",
       "361        -0.018368 -0.008143 -0.022189 -0.019204 -0.010885 -0.016805   \n",
       "366        -0.019426 -0.004757 -0.029588 -0.021213 -0.000832 -0.027988   \n",
       "368        -0.025908 -0.005248 -0.016257 -0.019833 -0.002225 -0.025291   \n",
       "379        -0.015105 -0.004833 -0.023360 -0.018480 -0.009123 -0.017365   \n",
       "391        -0.023642 -0.005711 -0.018987 -0.017258 -0.009495 -0.024672   \n",
       "\n",
       "                1480      1481      1482      1483      1484      1485  \\\n",
       "Unnamed: 0                                                               \n",
       "361        -0.018302 -0.009552 -0.026526 -0.018708 -0.003488 -0.027548   \n",
       "366        -0.019072 -0.001111 -0.032407 -0.019765 -0.005410 -0.023757   \n",
       "368        -0.024482  0.004793 -0.028211 -0.025883 -0.000176 -0.022442   \n",
       "379        -0.028739  0.004831 -0.025014 -0.018063 -0.004000 -0.024532   \n",
       "391        -0.025947  0.001675 -0.025033 -0.016818 -0.011516 -0.020240   \n",
       "\n",
       "                1486      1487      1488      1489      1490      1491  \\\n",
       "Unnamed: 0                                                               \n",
       "361        -0.022416 -0.000437 -0.021537 -0.022108 -0.003916 -0.030054   \n",
       "366        -0.015917 -0.009289 -0.024971 -0.020307 -0.003887 -0.029786   \n",
       "368        -0.023004 -0.000926 -0.023983 -0.024494 -0.001973 -0.018864   \n",
       "379        -0.022781  0.009696 -0.034511 -0.019339 -0.001217 -0.023026   \n",
       "391        -0.022229 -0.000869 -0.025247 -0.024971 -0.001360 -0.022429   \n",
       "\n",
       "                1492      1493      1494      1495      1496      1497  \\\n",
       "Unnamed: 0                                                               \n",
       "361        -0.019765 -0.002328 -0.025686 -0.021832 -0.000546 -0.032528   \n",
       "366        -0.020912 -0.003289 -0.023926 -0.017001 -0.001133 -0.034159   \n",
       "368        -0.021677 -0.003139 -0.024803 -0.022244 -0.003378 -0.019941   \n",
       "379        -0.013427 -0.010066 -0.026173 -0.028020  0.006318 -0.028205   \n",
       "391        -0.015684 -0.013017 -0.023768 -0.023259  0.000044 -0.023578   \n",
       "\n",
       "                1498      1499      1500      1501      1502      1503  \\\n",
       "Unnamed: 0                                                               \n",
       "361        -0.019503 -0.003188 -0.024517 -0.018721 -0.003766 -0.032164   \n",
       "366        -0.016767 -0.008719 -0.023862 -0.019576  0.000835 -0.034028   \n",
       "368        -0.021578 -0.003707 -0.021183 -0.025403  0.006888 -0.028996   \n",
       "379        -0.016015 -0.001034 -0.027668 -0.025891  0.002743 -0.027724   \n",
       "391        -0.020739 -0.006438 -0.022696 -0.022631  0.003110 -0.028634   \n",
       "\n",
       "                1504      1505      1506      1507      1508      1509  \\\n",
       "Unnamed: 0                                                               \n",
       "361        -0.018776 -0.002138 -0.027195 -0.013395 -0.005393 -0.027606   \n",
       "366        -0.018621 -0.002120 -0.029897 -0.012978 -0.004307 -0.032160   \n",
       "368        -0.022472  0.000408 -0.025418 -0.021195  0.001359 -0.024013   \n",
       "379        -0.014968 -0.008249 -0.023714 -0.024369  0.007884 -0.030275   \n",
       "391        -0.019849 -0.006583 -0.022802 -0.021990  0.003565 -0.025120   \n",
       "\n",
       "                1510      1511      1512      1513      1514      1515  \\\n",
       "Unnamed: 0                                                               \n",
       "361        -0.017176  0.000528 -0.028795 -0.016214 -0.008052 -0.022940   \n",
       "366        -0.019581 -0.003093 -0.026298 -0.012355 -0.007470 -0.030706   \n",
       "368        -0.021175  0.000496 -0.025192 -0.022009  0.002291 -0.025828   \n",
       "379        -0.016914 -0.007018 -0.022259 -0.023471  0.006372 -0.029536   \n",
       "391        -0.015549 -0.009461 -0.021564 -0.021757  0.001334 -0.023060   \n",
       "\n",
       "                1516      1517      1518      1519      1520      1521  \\\n",
       "Unnamed: 0                                                               \n",
       "361        -0.016436 -0.003135 -0.023477 -0.010945 -0.008819 -0.030646   \n",
       "366        -0.017132 -0.004248 -0.029239 -0.010326 -0.014022 -0.025062   \n",
       "368        -0.022690 -0.004389 -0.019535 -0.020829 -0.006401 -0.018689   \n",
       "379        -0.012627 -0.009509 -0.022230 -0.024533  0.004829 -0.026807   \n",
       "391        -0.016210 -0.008849 -0.022130 -0.021151 -0.000460 -0.025386   \n",
       "\n",
       "                1522      1523      1524      1525      1526      1527  \\\n",
       "Unnamed: 0                                                               \n",
       "361        -0.017376 -0.003159 -0.028336 -0.009074 -0.005886 -0.035452   \n",
       "366        -0.017205 -0.003588 -0.028922 -0.010038 -0.016440 -0.023036   \n",
       "368        -0.019358 -0.004903 -0.021586 -0.020185 -0.007218 -0.016467   \n",
       "379        -0.018600  0.002273 -0.030253 -0.020810  0.003940 -0.033397   \n",
       "391        -0.022346  0.004430 -0.030871 -0.019176  0.001083 -0.029507   \n",
       "\n",
       "                1528      1529      1530      1531      1532      1533  \\\n",
       "Unnamed: 0                                                               \n",
       "361        -0.017798 -0.005500 -0.025968 -0.019077 -0.006765 -0.026239   \n",
       "366        -0.012935 -0.018026 -0.020335 -0.008097 -0.006822 -0.035793   \n",
       "368        -0.020873 -0.002355 -0.026772 -0.018422 -0.002279 -0.026653   \n",
       "379        -0.017727  0.000390 -0.028513 -0.018424 -0.001982 -0.028920   \n",
       "391        -0.026393  0.013502 -0.037172 -0.015698 -0.008697 -0.021423   \n",
       "\n",
       "                1534      1535      1536      1537      1538      1539  \\\n",
       "Unnamed: 0                                                               \n",
       "361        -0.014911  0.002522 -0.036656 -0.019949 -0.004846 -0.021201   \n",
       "366        -0.019396 -0.003787 -0.027017 -0.012801 -0.010539 -0.026090   \n",
       "368        -0.023732 -0.001162 -0.021842 -0.020686 -0.002902 -0.023813   \n",
       "379        -0.014541 -0.001687 -0.034707 -0.004895 -0.002293 -0.042619   \n",
       "391        -0.020191 -0.001103 -0.024022 -0.021290 -0.000602 -0.024700   \n",
       "\n",
       "                1540      1541      1542      1543      1544      1545  \\\n",
       "Unnamed: 0                                                               \n",
       "361        -0.018480 -0.005577 -0.026871 -0.021009 -0.002784 -0.022567   \n",
       "366        -0.017715 -0.002969 -0.032495 -0.016753 -0.007116 -0.025749   \n",
       "368        -0.023476 -0.002637 -0.019633 -0.016188 -0.007542 -0.026894   \n",
       "379        -0.013833  0.002639 -0.032664 -0.024411  0.010146 -0.035112   \n",
       "391        -0.020367 -0.004498 -0.022399 -0.016376 -0.006832 -0.026390   \n",
       "\n",
       "                1546      1547      1548      1549      1550      1551  \\\n",
       "Unnamed: 0                                                               \n",
       "361        -0.018928 -0.007256 -0.027429 -0.008967 -0.020706 -0.019807   \n",
       "366        -0.018552 -0.004796 -0.029903 -0.016228 -0.005913 -0.030286   \n",
       "368        -0.023988 -0.004023 -0.019010 -0.019722 -0.007510 -0.019086   \n",
       "379        -0.014719 -0.005560 -0.026365 -0.019014 -0.003927 -0.026448   \n",
       "391        -0.016669 -0.010282 -0.022393 -0.014281 -0.004885 -0.031371   \n",
       "\n",
       "                1552      1553      1554      1555      1556      1557  \\\n",
       "Unnamed: 0                                                               \n",
       "361        -0.016424 -0.010266 -0.027612 -0.020859 -0.006266 -0.024533   \n",
       "366        -0.017051 -0.005371 -0.031287 -0.013398 -0.009252 -0.028399   \n",
       "368        -0.021334 -0.002658 -0.025802 -0.019312 -0.007388 -0.024714   \n",
       "379        -0.020665 -0.009259 -0.009547 -0.019513  0.004977 -0.038241   \n",
       "391        -0.020619  0.003053 -0.033502 -0.007603 -0.017883 -0.024449   \n",
       "\n",
       "                1558      1559      1560      1561      1562      1563  \\\n",
       "Unnamed: 0                                                               \n",
       "361        -0.021490  0.010650 -0.034081 -0.022071  0.000060 -0.025472   \n",
       "366        -0.020354 -0.002697 -0.017050 -0.020177 -0.002738 -0.030778   \n",
       "368        -0.025524 -0.001390 -0.023245 -0.019000 -0.000995 -0.028921   \n",
       "379        -0.016685  0.006048 -0.038488 -0.016713  0.005075 -0.037793   \n",
       "391        -0.019534 -0.003340 -0.025568 -0.021270  0.002134 -0.031622   \n",
       "\n",
       "                1564      1565      1566      1567      1568      1569  \\\n",
       "Unnamed: 0                                                               \n",
       "361        -0.012014  0.000487 -0.024671 -0.018156 -0.005900 -0.028534   \n",
       "366        -0.014025 -0.004816 -0.012925 -0.012917 -0.008676 -0.030362   \n",
       "368        -0.021879  0.002593 -0.025054 -0.018502 -0.005958 -0.022856   \n",
       "379        -0.016507 -0.014247 -0.012022 -0.022411  0.006362 -0.036184   \n",
       "391        -0.018616 -0.011399 -0.015539 -0.022146  0.002943 -0.029460   \n",
       "\n",
       "                1570      1571      1572      1573      1574      1575  \\\n",
       "Unnamed: 0                                                               \n",
       "361        -0.018584 -0.002067 -0.029960 -0.008593 -0.010693 -0.032258   \n",
       "366        -0.020820 -0.001662 -0.034223 -0.012616 -0.008807 -0.027315   \n",
       "368        -0.025189  0.001254 -0.023875 -0.020802 -0.004796 -0.017080   \n",
       "379        -0.019048 -0.003528 -0.028094 -0.019177 -0.001859 -0.028772   \n",
       "391        -0.020012 -0.004930 -0.025916 -0.014737  0.001408 -0.033911   \n",
       "\n",
       "                1576      1577      1578      1579      1580      1581  \\\n",
       "Unnamed: 0                                                               \n",
       "361        -0.021140  0.000311 -0.030782 -0.016721 -0.001796 -0.032088   \n",
       "366        -0.016295 -0.010895 -0.025606 -0.009655 -0.007634 -0.031122   \n",
       "368        -0.021498  0.000088 -0.026343 -0.019718 -0.002896 -0.019638   \n",
       "379        -0.020358  0.000390 -0.027924 -0.025219  0.009780 -0.033171   \n",
       "391        -0.027469  0.017089 -0.039469 -0.022111  0.010115 -0.032672   \n",
       "\n",
       "                1582      1583      1584      1585      1586      1587  \\\n",
       "Unnamed: 0                                                               \n",
       "361        -0.022740  0.006622 -0.029480 -0.018487 -0.004972 -0.028187   \n",
       "366        -0.016155 -0.011006 -0.023237 -0.009046 -0.006007 -0.035902   \n",
       "368        -0.020219  0.002340 -0.028156 -0.018562  0.004425 -0.033054   \n",
       "379        -0.018886  0.000801 -0.027337 -0.025159  0.006180 -0.029606   \n",
       "391        -0.025142  0.015690 -0.038646 -0.018678  0.003967 -0.030155   \n",
       "\n",
       "                1588      1589      1590      1591      1592      1593  \\\n",
       "Unnamed: 0                                                               \n",
       "361        -0.013478 -0.000112 -0.035415 -0.015814 -0.004773 -0.027808   \n",
       "366        -0.019431  0.000440 -0.030804 -0.013576 -0.009021 -0.027972   \n",
       "368        -0.022895  0.007742 -0.032530 -0.022258 -0.001743 -0.019014   \n",
       "379        -0.011194 -0.010809 -0.029046 -0.021956  0.008996 -0.035652   \n",
       "391        -0.016447 -0.009181 -0.020919 -0.023783  0.005316 -0.026927   \n",
       "\n",
       "                1594      1595      1596      1597      1598      1599  \\\n",
       "Unnamed: 0                                                               \n",
       "361        -0.017590 -0.003344 -0.026352 -0.016706 -0.003975 -0.033484   \n",
       "366        -0.015610 -0.012642 -0.022056 -0.015150 -0.007266 -0.028208   \n",
       "368        -0.021411  0.003091 -0.027727 -0.023145  0.002857 -0.024222   \n",
       "379        -0.012049 -0.011706 -0.021608 -0.026103  0.006230 -0.031550   \n",
       "391        -0.024482  0.006110 -0.030116 -0.022942  0.007140 -0.030725   \n",
       "\n",
       "                1600      1601      1602      1603      1604      1605  \\\n",
       "Unnamed: 0                                                               \n",
       "361        -0.021859 -0.004822 -0.021744 -0.019843 -0.010992 -0.023377   \n",
       "366        -0.017318 -0.005192 -0.026719 -0.018238  0.001973 -0.036686   \n",
       "368        -0.022951  0.005788 -0.030323 -0.023712  0.006284 -0.030417   \n",
       "379        -0.018596  0.000999 -0.028194 -0.026353  0.001844 -0.021731   \n",
       "391        -0.026307  0.006087 -0.029138 -0.029483  0.011586 -0.029715   \n",
       "\n",
       "                1606      1607      1608      1609      1610      1611  \\\n",
       "Unnamed: 0                                                               \n",
       "361        -0.022074  0.002468 -0.028839 -0.017239  0.003240 -0.034939   \n",
       "366        -0.021645 -0.000219 -0.028578 -0.017413 -0.001948 -0.032792   \n",
       "368        -0.022986  0.004603 -0.030340 -0.025945  0.004634 -0.024592   \n",
       "379        -0.007232 -0.012170 -0.031115 -0.014271 -0.001791 -0.029726   \n",
       "391        -0.021493 -0.004341 -0.018872 -0.025625  0.001545 -0.021686   \n",
       "\n",
       "                1612      1613      1614      1615      1616      1617  \\\n",
       "Unnamed: 0                                                               \n",
       "361        -0.022081 -0.002738 -0.020712 -0.015592 -0.010068 -0.024108   \n",
       "366        -0.015751 -0.006781 -0.027137 -0.020892 -0.001738 -0.028378   \n",
       "368        -0.021821  0.001804 -0.029177 -0.024026 -0.002412 -0.020794   \n",
       "379        -0.008484 -0.005432 -0.034907 -0.019100  0.006049 -0.031170   \n",
       "391        -0.008040 -0.017092 -0.022744 -0.021509 -0.001127 -0.022875   \n",
       "\n",
       "                1618      1619      1620      1621      1622      1623  \\\n",
       "Unnamed: 0                                                               \n",
       "361        -0.019243 -0.008263 -0.020041 -0.019361 -0.005188 -0.024336   \n",
       "366        -0.014658 -0.008282 -0.027641 -0.019126 -0.009703 -0.023090   \n",
       "368        -0.020786 -0.005906 -0.019768 -0.025093 -0.003392 -0.019477   \n",
       "379        -0.026436  0.016245 -0.038825 -0.017033 -0.008021 -0.019409   \n",
       "391        -0.024234  0.000194 -0.023366 -0.023380 -0.001892 -0.024650   \n",
       "\n",
       "                1624      1625      1626      1627      1628      1629  \\\n",
       "Unnamed: 0                                                               \n",
       "361        -0.015327 -0.008698 -0.030795 -0.021810 -0.003028 -0.021784   \n",
       "366        -0.017903 -0.005914 -0.028901 -0.020300 -0.002089 -0.027219   \n",
       "368        -0.023621 -0.000560 -0.021706 -0.022632 -0.000524 -0.027680   \n",
       "379        -0.028861  0.010547 -0.029583 -0.022267 -0.006362 -0.019467   \n",
       "391        -0.024091  0.001960 -0.025901 -0.024816 -0.006643 -0.019804   \n",
       "\n",
       "                1630      1631      1632      1633      1634      1635  \\\n",
       "Unnamed: 0                                                               \n",
       "361        -0.016380 -0.005720 -0.029504 -0.021789  0.000304 -0.021871   \n",
       "366        -0.020790  0.002283 -0.035085 -0.022069 -0.000930 -0.026507   \n",
       "368        -0.023758  0.003147 -0.025357 -0.023297  0.004331 -0.029497   \n",
       "379        -0.028484  0.006257 -0.025927 -0.022813  0.005720 -0.031044   \n",
       "391        -0.028651  0.005212 -0.023164 -0.019858 -0.006052 -0.023026   \n",
       "\n",
       "                1636      1637      1638      1639      1640      1641  \\\n",
       "Unnamed: 0                                                               \n",
       "361        -0.018521 -0.002704 -0.032012 -0.023787  0.001218 -0.022830   \n",
       "366        -0.017418 -0.003866 -0.031602 -0.019342 -0.004410 -0.026406   \n",
       "368        -0.024101  0.000546 -0.021233 -0.021064 -0.002752 -0.026423   \n",
       "379        -0.018317 -0.000003 -0.025502 -0.021742  0.003243 -0.029411   \n",
       "391        -0.026490  0.003046 -0.022566 -0.007279 -0.019067 -0.023166   \n",
       "\n",
       "                1642      1643      1644      1645      1646      1647  \\\n",
       "Unnamed: 0                                                               \n",
       "361        -0.016669 -0.010188 -0.025165 -0.012088 -0.006938 -0.031546   \n",
       "366        -0.021654 -0.000072 -0.030464 -0.015523 -0.007561 -0.027553   \n",
       "368        -0.026545  0.000746 -0.021059 -0.021330 -0.007456 -0.015470   \n",
       "379        -0.019386  0.002333 -0.028938 -0.025585  0.003444 -0.024662   \n",
       "391        -0.020850 -0.003323 -0.022400 -0.018858 -0.000948 -0.028292   \n",
       "\n",
       "                1648      1649      1650      1651      1652      1653  \\\n",
       "Unnamed: 0                                                               \n",
       "361        -0.018220 -0.006175 -0.025604 -0.022154 -0.004005 -0.028591   \n",
       "366        -0.014565 -0.017258 -0.019697 -0.011798 -0.007732 -0.032599   \n",
       "368        -0.024089 -0.000179 -0.024925 -0.022572  0.002849 -0.028333   \n",
       "379        -0.020186  0.004581 -0.028706 -0.028211  0.001346 -0.024358   \n",
       "391        -0.029697  0.017038 -0.036925 -0.022007  0.004743 -0.029925   \n",
       "\n",
       "                1654      1655      1656      1657      1658      1659  \\\n",
       "Unnamed: 0                                                               \n",
       "361        -0.018712 -0.002938 -0.027120 -0.012995 -0.003270 -0.030882   \n",
       "366        -0.020733  0.002144 -0.030406 -0.020158  0.001670 -0.033622   \n",
       "368        -0.024507  0.002463 -0.027744 -0.021520  0.004314 -0.026514   \n",
       "379        -0.015918 -0.013813 -0.018760 -0.027719  0.003757 -0.023362   \n",
       "391        -0.023040 -0.006477 -0.018078 -0.026666  0.006366 -0.024462   \n",
       "\n",
       "                1660      1661      1662      1663      1664      1665  \\\n",
       "Unnamed: 0                                                               \n",
       "361        -0.019231 -0.000622 -0.024522 -0.015503 -0.006576 -0.027926   \n",
       "366        -0.020054 -0.001181 -0.027601 -0.019647  0.000742 -0.033528   \n",
       "368        -0.021063  0.000552 -0.028838 -0.022348  0.006336 -0.030477   \n",
       "379        -0.021696 -0.006639 -0.020569 -0.026594  0.002979 -0.022576   \n",
       "391        -0.020266 -0.007961 -0.017784 -0.026795  0.005406 -0.023124   \n",
       "\n",
       "                1666      1667      1668      1669      1670      1671  \\\n",
       "Unnamed: 0                                                               \n",
       "361        -0.017339 -0.002839 -0.022838 -0.016269 -0.004866 -0.029173   \n",
       "366        -0.020870 -0.000723 -0.028323 -0.017962 -0.007372 -0.025435   \n",
       "368        -0.024589  0.001609 -0.025638 -0.023183 -0.004223 -0.017261   \n",
       "379        -0.024329  0.004418 -0.025295 -0.026256  0.007669 -0.028867   \n",
       "391        -0.020764 -0.008823 -0.018638 -0.024674  0.001506 -0.022445   \n",
       "\n",
       "                1672      1673      1674      1675      1676      1677  \\\n",
       "Unnamed: 0                                                               \n",
       "361        -0.018853 -0.006877 -0.021960 -0.013002 -0.006036 -0.030196   \n",
       "366        -0.018919 -0.005150 -0.027771 -0.011728 -0.012804 -0.024543   \n",
       "368        -0.022202 -0.001932 -0.022530 -0.020947 -0.007258 -0.016609   \n",
       "379        -0.017177 -0.005858 -0.020956 -0.027304  0.004649 -0.026387   \n",
       "391        -0.025869  0.007159 -0.029330 -0.024010  0.002321 -0.024666   \n",
       "\n",
       "                1678      1679      1680      1681      1682      1683  \\\n",
       "Unnamed: 0                                                               \n",
       "361        -0.020044 -0.006727 -0.022033 -0.008998 -0.019254 -0.017059   \n",
       "366        -0.018705 -0.006901 -0.026814 -0.016132 -0.004053 -0.028552   \n",
       "368        -0.023580 -0.002014 -0.020756 -0.021749  0.002778 -0.023860   \n",
       "379        -0.018476  0.000543 -0.026649 -0.024443 -0.007525 -0.013933   \n",
       "391        -0.026791  0.008898 -0.029805 -0.019431 -0.004401 -0.024086   \n",
       "\n",
       "                1684      1685      1686      1687      1688      1689  \\\n",
       "Unnamed: 0                                                               \n",
       "361        -0.016458 -0.011738 -0.023433 -0.024765  0.000406 -0.023428   \n",
       "366        -0.020001 -0.002002 -0.030684 -0.022461 -0.005123 -0.022346   \n",
       "368        -0.024354  0.004371 -0.029506 -0.023309 -0.000114 -0.026455   \n",
       "379        -0.022785 -0.001184 -0.021948 -0.014299 -0.007814 -0.026307   \n",
       "391        -0.024953 -0.001592 -0.020222 -0.009882 -0.021686 -0.013490   \n",
       "\n",
       "                1690      1691      1692      1693      1694      1695  \\\n",
       "Unnamed: 0                                                               \n",
       "361        -0.017597  0.000890 -0.031785 -0.020861 -0.003554 -0.019862   \n",
       "366        -0.022162 -0.000879 -0.029576 -0.021754 -0.004306 -0.021846   \n",
       "368        -0.027159 -0.001090 -0.019250 -0.021128 -0.002478 -0.026870   \n",
       "379        -0.015725 -0.003392 -0.026889 -0.022608  0.006802 -0.030718   \n",
       "391        -0.027065  0.000917 -0.020059 -0.013313 -0.016564 -0.020520   \n",
       "\n",
       "                1696      1697      1698      1699      1700      1701  \\\n",
       "Unnamed: 0                                                               \n",
       "361        -0.017214 -0.010149 -0.026696 -0.018696 -0.006829 -0.018537   \n",
       "366        -0.019624 -0.006821 -0.027222 -0.021875 -0.005471 -0.022027   \n",
       "368        -0.024591 -0.002121 -0.019950 -0.022175 -0.005348 -0.021910   \n",
       "379        -0.025790  0.006261 -0.023664 -0.020587 -0.002586 -0.023128   \n",
       "391        -0.026134 -0.000659 -0.019282 -0.019960 -0.015830 -0.015750   \n",
       "\n",
       "                1702      1703      1704      1705      1706      1707  \\\n",
       "Unnamed: 0                                                               \n",
       "361        -0.020604 -0.003427 -0.030630 -0.018371 -0.008016 -0.020571   \n",
       "366        -0.019202 -0.005703 -0.028237 -0.016841 -0.014575 -0.021205   \n",
       "368        -0.023549 -0.001247 -0.020906 -0.022639 -0.003321 -0.022582   \n",
       "379        -0.028795  0.007985 -0.027650 -0.019173  0.002535 -0.028207   \n",
       "391        -0.025109 -0.002055 -0.020044 -0.021480 -0.002051 -0.028587   \n",
       "\n",
       "                1708      1709      1710      1711      1712      1713  \\\n",
       "Unnamed: 0                                                               \n",
       "361        -0.016875 -0.012247 -0.023105 -0.014618 -0.007229 -0.026875   \n",
       "366        -0.011241 -0.007830 -0.032643 -0.021524 -0.004229 -0.025141   \n",
       "368        -0.019223 -0.003972 -0.026650 -0.024746 -0.004189 -0.018625   \n",
       "379        -0.027875  0.006626 -0.027896 -0.021450  0.007256 -0.033555   \n",
       "391        -0.019468 -0.006594 -0.022300 -0.020883 -0.004621 -0.021902   \n",
       "\n",
       "                1714      1715      1716      1717      1718      1719  \\\n",
       "Unnamed: 0                                                               \n",
       "361        -0.022063 -0.000310 -0.021107 -0.013970 -0.011275 -0.023421   \n",
       "366        -0.022266 -0.001367 -0.024887 -0.019739 -0.001793 -0.031044   \n",
       "368        -0.018554 -0.001963 -0.027262 -0.024728 -0.000846 -0.020639   \n",
       "379        -0.012446 -0.004298 -0.030340 -0.026893  0.006701 -0.023690   \n",
       "391        -0.021496 -0.003258 -0.024453 -0.024106 -0.000506 -0.021603   \n",
       "\n",
       "                1720      1721      1722      1723      1724      1725  \\\n",
       "Unnamed: 0                                                               \n",
       "361        -0.019104 -0.003733 -0.026012 -0.014814 -0.012203 -0.021806   \n",
       "366        -0.021481 -0.003521 -0.023269 -0.014024 -0.011640 -0.026149   \n",
       "368        -0.023690 -0.003814 -0.020390 -0.022583 -0.003384 -0.020346   \n",
       "379        -0.019097 -0.005383 -0.023274 -0.026689  0.007612 -0.029697   \n",
       "391        -0.014707 -0.013332 -0.022826 -0.023765  0.000493 -0.024501   \n",
       "\n",
       "                1726      1727      1728      1729      1730      1731  \\\n",
       "Unnamed: 0                                                               \n",
       "361        -0.018324 -0.008265 -0.023933 -0.002977 -0.023120 -0.019479   \n",
       "366        -0.017414 -0.005072 -0.030605 -0.019939  0.001218 -0.029488   \n",
       "368        -0.025005 -0.001496 -0.019463 -0.019433 -0.002162 -0.022104   \n",
       "379        -0.020221 -0.002777 -0.023538 -0.016957 -0.012631 -0.015692   \n",
       "391        -0.019634 -0.005030 -0.023173 -0.019409 -0.000599 -0.027702   \n",
       "\n",
       "                1732      1733      1734      1735      1736      1737  \\\n",
       "Unnamed: 0                                                               \n",
       "361        -0.019570 -0.011190 -0.022318 -0.020311 -0.000659 -0.024155   \n",
       "366        -0.018578 -0.002134 -0.031017 -0.020536 -0.002253 -0.026847   \n",
       "368        -0.025517  0.006556 -0.029090 -0.022275  0.000194 -0.025899   \n",
       "379        -0.022062 -0.000188 -0.024797 -0.016461 -0.012146 -0.019348   \n",
       "391        -0.025137  0.001871 -0.026111 -0.018912 -0.006457 -0.020982   \n",
       "\n",
       "                1738      1739      1740      1741      1742      1743  \\\n",
       "Unnamed: 0                                                               \n",
       "361        -0.009462 -0.007113 -0.028612 -0.016809 -0.002645 -0.024978   \n",
       "366        -0.019124  0.000273 -0.032566 -0.019390 -0.003950 -0.025094   \n",
       "368        -0.022095 -0.000006 -0.021309 -0.020466 -0.002849 -0.022448   \n",
       "379        -0.025731  0.004206 -0.024698 -0.013999 -0.009486 -0.020137   \n",
       "391        -0.024482  0.002826 -0.022435 -0.016515 -0.007663 -0.023543   \n",
       "\n",
       "                1744      1745      1746      1747      1748      1749  \\\n",
       "Unnamed: 0                                                               \n",
       "361        -0.018605 -0.006992 -0.020913 -0.016679 -0.000171 -0.029638   \n",
       "366        -0.013851 -0.010756 -0.025562 -0.019983 -0.002840 -0.029624   \n",
       "368        -0.020095 -0.001071 -0.026111 -0.025272 -0.002274 -0.018641   \n",
       "379        -0.024397  0.006882 -0.028900 -0.014487 -0.003822 -0.025422   \n",
       "391        -0.021707  0.001007 -0.024698 -0.022441 -0.002814 -0.019940   \n",
       "\n",
       "                1750      1751      1752      1753      1754      1755  \\\n",
       "Unnamed: 0                                                               \n",
       "361        -0.017514 -0.007245 -0.018312 -0.012274 -0.011531 -0.029300   \n",
       "366        -0.019435 -0.003593 -0.025792 -0.018372 -0.003260 -0.031342   \n",
       "368        -0.018315 -0.003042 -0.026233 -0.023301 -0.001265 -0.020732   \n",
       "379        -0.015514 -0.002791 -0.028698 -0.026498  0.005288 -0.023970   \n",
       "391        -0.019371 -0.008451 -0.021216 -0.022862 -0.002269 -0.020802   \n",
       "\n",
       "                1756      1757      1758      1759      1760      1761  \\\n",
       "Unnamed: 0                                                               \n",
       "361        -0.017131 -0.007470 -0.022963 -0.011862 -0.013147 -0.023721   \n",
       "366        -0.018802 -0.006715 -0.022124 -0.014704 -0.009544 -0.026963   \n",
       "368        -0.020794 -0.006104 -0.020691 -0.022462 -0.002736 -0.019526   \n",
       "379        -0.019145 -0.008009 -0.020305 -0.024993  0.006100 -0.028059   \n",
       "391        -0.019714 -0.010482 -0.019259 -0.022945 -0.001248 -0.021441   \n",
       "\n",
       "                1762      1763      1764      1765      1766      1767  \n",
       "Unnamed: 0                                                              \n",
       "361        -0.017293 -0.007201 -0.024468 -0.022520 -0.003644 -0.014963  \n",
       "366        -0.018882 -0.006879 -0.025308 -0.015784 -0.009157 -0.016857  \n",
       "368        -0.021223 -0.007744 -0.016977 -0.017408 -0.003717 -0.018895  \n",
       "379        -0.014128 -0.006239 -0.023345 -0.024747  0.010859 -0.025974  \n",
       "391        -0.018575 -0.007990 -0.021583 -0.019555 -0.003820 -0.014937  "
      ]
     },
     "execution_count": 52,
     "metadata": {},
     "output_type": "execute_result"
    }
   ],
   "source": [
    "bert_embs.columns = [x+1000 for x in range(len(bert_embs.columns))]\n",
    "bert_embs.head()"
   ]
  },
  {
   "cell_type": "code",
   "execution_count": 53,
   "metadata": {},
   "outputs": [
    {
     "data": {
      "text/plain": [
       "0.338"
      ]
     },
     "execution_count": 53,
     "metadata": {},
     "output_type": "execute_result"
    }
   ],
   "source": [
    "X_train, X_test, y_train, y_test = tt_split(final_data, y, ind)\n",
    "\n",
    "model = CatBoostRegressor(verbose=False, thread_count=8)\n",
    "model.fit(X_train,y_train)\n",
    "\n",
    "preds = model.predict(X_test.values)\n",
    "\n",
    "p = pd.DataFrame(data=preds, index = X_test.index)\n",
    "r2 = round(r2_score(y_test, p.values), 3)\n",
    "r2\n"
   ]
  },
  {
   "cell_type": "code",
   "execution_count": 54,
   "metadata": {},
   "outputs": [
    {
     "name": "stderr",
     "output_type": "stream",
     "text": [
      "100%|██████████| 13/13 [06:53<00:00, 31.81s/it]\n"
     ]
    }
   ],
   "source": [
    "# Single layers + SENTIART\n",
    "r_sl_sa = []\n",
    "\n",
    "for i in tqdm(range(0, 13)):\n",
    "    bert_embs = pd.read_csv('/Users/alexcrystal/PycharmProjects/pythonProject/thesis/data/embeddings/embeddings_bert_'+str(i)+'.csv')\n",
    "    bert_embs.index = bert_embs['Unnamed: 0']\n",
    "    bert_embs = bert_embs.drop(columns=['Unnamed: 0'])\n",
    "    bert_embs.columns = [x+1000 for x in range(len(bert_embs.columns))]\n",
    "    \n",
    "    X_train_new = X_train.merge(bert_embs, how='left', left_index=True, right_index=True)\n",
    "    X_test_new = X_test.merge(bert_embs, how='left', left_index=True, right_index=True)\n",
    "\n",
    "    model = CatBoostRegressor(verbose=False)\n",
    "    #train the model\n",
    "    model.fit(X_train_new, y_train)\n",
    "    # make the predictions\n",
    "    preds = model.predict(X_test_new)\n",
    "    p = pd.DataFrame(data=preds, index = X_test_new.index)\n",
    "    r2 = round(r2_score(y_test, p.values), 3)\n",
    "    r_sl_sa.append(r2)\n"
   ]
  },
  {
   "cell_type": "code",
   "execution_count": 55,
   "metadata": {},
   "outputs": [
    {
     "name": "stderr",
     "output_type": "stream",
     "text": [
      " 17%|█▋        | 1/6 [00:32<02:42, 32.52s/it]"
     ]
    },
    {
     "name": "stdout",
     "output_type": "stream",
     "text": [
      "Layer:  6  R^2:  0.24\n"
     ]
    },
    {
     "name": "stderr",
     "output_type": "stream",
     "text": [
      " 33%|███▎      | 2/6 [01:05<02:10, 32.59s/it]"
     ]
    },
    {
     "name": "stdout",
     "output_type": "stream",
     "text": [
      "Layer:  7  R^2:  0.247\n"
     ]
    },
    {
     "name": "stderr",
     "output_type": "stream",
     "text": [
      " 50%|█████     | 3/6 [01:35<01:35, 31.74s/it]"
     ]
    },
    {
     "name": "stdout",
     "output_type": "stream",
     "text": [
      "Layer:  8  R^2:  0.272\n"
     ]
    },
    {
     "name": "stderr",
     "output_type": "stream",
     "text": [
      " 67%|██████▋   | 4/6 [02:06<01:02, 31.34s/it]"
     ]
    },
    {
     "name": "stdout",
     "output_type": "stream",
     "text": [
      "Layer:  9  R^2:  0.301\n"
     ]
    },
    {
     "name": "stderr",
     "output_type": "stream",
     "text": [
      " 83%|████████▎ | 5/6 [02:39<00:31, 31.86s/it]"
     ]
    },
    {
     "name": "stdout",
     "output_type": "stream",
     "text": [
      "Layer:  10  R^2:  0.335\n"
     ]
    },
    {
     "name": "stderr",
     "output_type": "stream",
     "text": [
      "100%|██████████| 6/6 [03:09<00:00, 31.66s/it]"
     ]
    },
    {
     "name": "stdout",
     "output_type": "stream",
     "text": [
      "Layer:  11  R^2:  0.398\n"
     ]
    },
    {
     "name": "stderr",
     "output_type": "stream",
     "text": [
      "\n"
     ]
    }
   ],
   "source": [
    "# ONLY BERT multiple layers SUM\n",
    "r = []\n",
    "\n",
    "for i in tqdm(range(6, 12)):\n",
    "    bert_embs = pd.read_csv('/Users/alexcrystal/PycharmProjects/pythonProject/thesis/data/embeddings/embeddings_bert_'+str(i)+'-12_sum.csv')\n",
    "    bert_embs.index = bert_embs['Unnamed: 0']\n",
    "    bert_embs = bert_embs.drop(columns=['Unnamed: 0'])\n",
    "    bert_embs.columns = [x+1000 for x in range(len(bert_embs.columns))]\n",
    "\n",
    "    model = CatBoostRegressor(verbose=False)\n",
    "    #train the model\n",
    "    model.fit(bert_embs.loc[X_train.index, :], y_train)\n",
    "    # make the predictions\n",
    "    preds = model.predict(bert_embs.loc[X_test.index, :])\n",
    "    p = pd.DataFrame(data=preds, index = X_test.index)\n",
    "    r2 = round(r2_score(y_test, p.values), 3)\n",
    "    print('Layer: ', i, ' R^2: ', r2)\n",
    "    r.append(r2)\n"
   ]
  },
  {
   "cell_type": "code",
   "execution_count": 56,
   "metadata": {},
   "outputs": [
    {
     "name": "stderr",
     "output_type": "stream",
     "text": [
      " 17%|█▋        | 1/6 [00:28<02:23, 28.75s/it]"
     ]
    },
    {
     "name": "stdout",
     "output_type": "stream",
     "text": [
      "Layer:  6  R^2:  0.042\n"
     ]
    },
    {
     "name": "stderr",
     "output_type": "stream",
     "text": [
      " 33%|███▎      | 2/6 [00:56<01:53, 28.37s/it]"
     ]
    },
    {
     "name": "stdout",
     "output_type": "stream",
     "text": [
      "Layer:  7  R^2:  0.138\n"
     ]
    },
    {
     "name": "stderr",
     "output_type": "stream",
     "text": [
      " 50%|█████     | 3/6 [01:26<01:26, 28.87s/it]"
     ]
    },
    {
     "name": "stdout",
     "output_type": "stream",
     "text": [
      "Layer:  8  R^2:  0.143\n"
     ]
    },
    {
     "name": "stderr",
     "output_type": "stream",
     "text": [
      " 67%|██████▋   | 4/6 [01:57<00:59, 29.85s/it]"
     ]
    },
    {
     "name": "stdout",
     "output_type": "stream",
     "text": [
      "Layer:  9  R^2:  0.034\n"
     ]
    },
    {
     "name": "stderr",
     "output_type": "stream",
     "text": [
      " 83%|████████▎ | 5/6 [02:26<00:29, 29.52s/it]"
     ]
    },
    {
     "name": "stdout",
     "output_type": "stream",
     "text": [
      "Layer:  10  R^2:  0.134\n"
     ]
    },
    {
     "name": "stderr",
     "output_type": "stream",
     "text": [
      "100%|██████████| 6/6 [02:55<00:00, 29.27s/it]"
     ]
    },
    {
     "name": "stdout",
     "output_type": "stream",
     "text": [
      "Layer:  11  R^2:  0.134\n"
     ]
    },
    {
     "name": "stderr",
     "output_type": "stream",
     "text": [
      "\n"
     ]
    }
   ],
   "source": [
    "# ONLY BERT multiple layers AVERAGE\n",
    "r_avg = []\n",
    "\n",
    "for i in tqdm(range(6, 12)):\n",
    "    bert_embs = pd.read_csv('/Users/alexcrystal/PycharmProjects/pythonProject/thesis/data/embeddings/embeddings_bert_'+str(i)+'-12.csv')\n",
    "    bert_embs.index = bert_embs['Unnamed: 0']\n",
    "    bert_embs = bert_embs.drop(columns=['Unnamed: 0'])\n",
    "    bert_embs.columns = [x+1000 for x in range(len(bert_embs.columns))]\n",
    "\n",
    "    model = CatBoostRegressor(verbose=False)\n",
    "    #train the model\n",
    "    model.fit(bert_embs.loc[X_train.index, :], y_train)\n",
    "    # make the predictions\n",
    "    preds = model.predict(bert_embs.loc[X_test.index, :])\n",
    "    p = pd.DataFrame(data=preds, index = X_test.index)\n",
    "    r2 = round(r2_score(y_test, p.values), 3)\n",
    "    print('Layer: ', i, ' R^2: ', r2)\n",
    "    r_avg.append(r2)\n"
   ]
  },
  {
   "cell_type": "code",
   "execution_count": 338,
   "metadata": {},
   "outputs": [
    {
     "name": "stdout",
     "output_type": "stream",
     "text": [
      "1062 (1062, 74)\n"
     ]
    }
   ],
   "source": [
    "print(len([x for x in X_train.index if x in bert_embs.index]), X_train.shape)"
   ]
  },
  {
   "cell_type": "code",
   "execution_count": 340,
   "metadata": {},
   "outputs": [
    {
     "data": {
      "text/plain": [
       "[0.24, 0.247, 0.272, 0.301, 0.335, 0.398]"
      ]
     },
     "execution_count": 340,
     "metadata": {},
     "output_type": "execute_result"
    }
   ],
   "source": [
    "r"
   ]
  },
  {
   "cell_type": "code",
   "execution_count": 57,
   "metadata": {},
   "outputs": [],
   "source": [
    "# Single layers\n",
    "\n",
    "r_sl = []\n",
    "\n",
    "for i in range(0, 12):\n",
    "    bert_embs = pd.read_csv('/Users/alexcrystal/PycharmProjects/pythonProject/thesis/data/embeddings/embeddings_bert_'+str(i)+'.csv')\n",
    "    bert_embs.index = bert_embs['Unnamed: 0']\n",
    "    bert_embs = bert_embs.drop(columns=['Unnamed: 0'])\n",
    "    \n",
    "    model = CatBoostRegressor(verbose=False)\n",
    "    #train the model\n",
    "    model.fit(bert_embs.loc[X_train.index, :], y_train)\n",
    "    # make the predictions\n",
    "    preds = model.predict(bert_embs.loc[X_test.index, :])\n",
    "    p = pd.DataFrame(data=preds, index = X_test.index)\n",
    "    r2 = round(r2_score(y_test, p.values), 3)\n",
    "    r_sl.append(r2)\n"
   ]
  },
  {
   "cell_type": "code",
   "execution_count": 58,
   "metadata": {},
   "outputs": [],
   "source": [
    "layers = [x for x in range(1, 13)]"
   ]
  },
  {
   "cell_type": "code",
   "execution_count": 59,
   "metadata": {},
   "outputs": [
    {
     "ename": "ValueError",
     "evalue": "Length of values (12) does not match length of index (6)",
     "output_type": "error",
     "traceback": [
      "\u001b[0;31m---------------------------------------------------------------------------\u001b[0m",
      "\u001b[0;31mValueError\u001b[0m                                Traceback (most recent call last)",
      "\u001b[0;32m<ipython-input-59-5d7b21230d23>\u001b[0m in \u001b[0;36m<module>\u001b[0;34m\u001b[0m\n\u001b[1;32m      1\u001b[0m \u001b[0mr2l\u001b[0m \u001b[0;34m=\u001b[0m \u001b[0mpd\u001b[0m\u001b[0;34m.\u001b[0m\u001b[0mDataFrame\u001b[0m\u001b[0;34m(\u001b[0m\u001b[0mdata\u001b[0m\u001b[0;34m=\u001b[0m\u001b[0mr\u001b[0m\u001b[0;34m,\u001b[0m \u001b[0mcolumns\u001b[0m\u001b[0;34m=\u001b[0m\u001b[0;34m[\u001b[0m\u001b[0;34m'r'\u001b[0m\u001b[0;34m]\u001b[0m\u001b[0;34m)\u001b[0m\u001b[0;34m\u001b[0m\u001b[0;34m\u001b[0m\u001b[0m\n\u001b[0;32m----> 2\u001b[0;31m \u001b[0mr2l\u001b[0m\u001b[0;34m[\u001b[0m\u001b[0;34m'layer'\u001b[0m\u001b[0;34m]\u001b[0m \u001b[0;34m=\u001b[0m \u001b[0mlayers\u001b[0m\u001b[0;34m\u001b[0m\u001b[0;34m\u001b[0m\u001b[0m\n\u001b[0m",
      "\u001b[0;32m~/PycharmProjects/pythonProject/thesis/venv/lib/python3.8/site-packages/pandas/core/frame.py\u001b[0m in \u001b[0;36m__setitem__\u001b[0;34m(self, key, value)\u001b[0m\n\u001b[1;32m   3605\u001b[0m         \u001b[0;32melse\u001b[0m\u001b[0;34m:\u001b[0m\u001b[0;34m\u001b[0m\u001b[0;34m\u001b[0m\u001b[0m\n\u001b[1;32m   3606\u001b[0m             \u001b[0;31m# set column\u001b[0m\u001b[0;34m\u001b[0m\u001b[0;34m\u001b[0m\u001b[0;34m\u001b[0m\u001b[0m\n\u001b[0;32m-> 3607\u001b[0;31m             \u001b[0mself\u001b[0m\u001b[0;34m.\u001b[0m\u001b[0m_set_item\u001b[0m\u001b[0;34m(\u001b[0m\u001b[0mkey\u001b[0m\u001b[0;34m,\u001b[0m \u001b[0mvalue\u001b[0m\u001b[0;34m)\u001b[0m\u001b[0;34m\u001b[0m\u001b[0;34m\u001b[0m\u001b[0m\n\u001b[0m\u001b[1;32m   3608\u001b[0m \u001b[0;34m\u001b[0m\u001b[0m\n\u001b[1;32m   3609\u001b[0m     \u001b[0;32mdef\u001b[0m \u001b[0m_setitem_slice\u001b[0m\u001b[0;34m(\u001b[0m\u001b[0mself\u001b[0m\u001b[0;34m,\u001b[0m \u001b[0mkey\u001b[0m\u001b[0;34m:\u001b[0m \u001b[0mslice\u001b[0m\u001b[0;34m,\u001b[0m \u001b[0mvalue\u001b[0m\u001b[0;34m)\u001b[0m\u001b[0;34m:\u001b[0m\u001b[0;34m\u001b[0m\u001b[0;34m\u001b[0m\u001b[0m\n",
      "\u001b[0;32m~/PycharmProjects/pythonProject/thesis/venv/lib/python3.8/site-packages/pandas/core/frame.py\u001b[0m in \u001b[0;36m_set_item\u001b[0;34m(self, key, value)\u001b[0m\n\u001b[1;32m   3777\u001b[0m         \u001b[0mensure\u001b[0m \u001b[0mhomogeneity\u001b[0m\u001b[0;34m.\u001b[0m\u001b[0;34m\u001b[0m\u001b[0;34m\u001b[0m\u001b[0m\n\u001b[1;32m   3778\u001b[0m         \"\"\"\n\u001b[0;32m-> 3779\u001b[0;31m         \u001b[0mvalue\u001b[0m \u001b[0;34m=\u001b[0m \u001b[0mself\u001b[0m\u001b[0;34m.\u001b[0m\u001b[0m_sanitize_column\u001b[0m\u001b[0;34m(\u001b[0m\u001b[0mvalue\u001b[0m\u001b[0;34m)\u001b[0m\u001b[0;34m\u001b[0m\u001b[0;34m\u001b[0m\u001b[0m\n\u001b[0m\u001b[1;32m   3780\u001b[0m \u001b[0;34m\u001b[0m\u001b[0m\n\u001b[1;32m   3781\u001b[0m         if (\n",
      "\u001b[0;32m~/PycharmProjects/pythonProject/thesis/venv/lib/python3.8/site-packages/pandas/core/frame.py\u001b[0m in \u001b[0;36m_sanitize_column\u001b[0;34m(self, value)\u001b[0m\n\u001b[1;32m   4502\u001b[0m \u001b[0;34m\u001b[0m\u001b[0m\n\u001b[1;32m   4503\u001b[0m         \u001b[0;32mif\u001b[0m \u001b[0mis_list_like\u001b[0m\u001b[0;34m(\u001b[0m\u001b[0mvalue\u001b[0m\u001b[0;34m)\u001b[0m\u001b[0;34m:\u001b[0m\u001b[0;34m\u001b[0m\u001b[0;34m\u001b[0m\u001b[0m\n\u001b[0;32m-> 4504\u001b[0;31m             \u001b[0mcom\u001b[0m\u001b[0;34m.\u001b[0m\u001b[0mrequire_length_match\u001b[0m\u001b[0;34m(\u001b[0m\u001b[0mvalue\u001b[0m\u001b[0;34m,\u001b[0m \u001b[0mself\u001b[0m\u001b[0;34m.\u001b[0m\u001b[0mindex\u001b[0m\u001b[0;34m)\u001b[0m\u001b[0;34m\u001b[0m\u001b[0;34m\u001b[0m\u001b[0m\n\u001b[0m\u001b[1;32m   4505\u001b[0m         \u001b[0;32mreturn\u001b[0m \u001b[0msanitize_array\u001b[0m\u001b[0;34m(\u001b[0m\u001b[0mvalue\u001b[0m\u001b[0;34m,\u001b[0m \u001b[0mself\u001b[0m\u001b[0;34m.\u001b[0m\u001b[0mindex\u001b[0m\u001b[0;34m,\u001b[0m \u001b[0mcopy\u001b[0m\u001b[0;34m=\u001b[0m\u001b[0;32mTrue\u001b[0m\u001b[0;34m,\u001b[0m \u001b[0mallow_2d\u001b[0m\u001b[0;34m=\u001b[0m\u001b[0;32mTrue\u001b[0m\u001b[0;34m)\u001b[0m\u001b[0;34m\u001b[0m\u001b[0;34m\u001b[0m\u001b[0m\n\u001b[1;32m   4506\u001b[0m \u001b[0;34m\u001b[0m\u001b[0m\n",
      "\u001b[0;32m~/PycharmProjects/pythonProject/thesis/venv/lib/python3.8/site-packages/pandas/core/common.py\u001b[0m in \u001b[0;36mrequire_length_match\u001b[0;34m(data, index)\u001b[0m\n\u001b[1;32m    529\u001b[0m     \"\"\"\n\u001b[1;32m    530\u001b[0m     \u001b[0;32mif\u001b[0m \u001b[0mlen\u001b[0m\u001b[0;34m(\u001b[0m\u001b[0mdata\u001b[0m\u001b[0;34m)\u001b[0m \u001b[0;34m!=\u001b[0m \u001b[0mlen\u001b[0m\u001b[0;34m(\u001b[0m\u001b[0mindex\u001b[0m\u001b[0;34m)\u001b[0m\u001b[0;34m:\u001b[0m\u001b[0;34m\u001b[0m\u001b[0;34m\u001b[0m\u001b[0m\n\u001b[0;32m--> 531\u001b[0;31m         raise ValueError(\n\u001b[0m\u001b[1;32m    532\u001b[0m             \u001b[0;34m\"Length of values \"\u001b[0m\u001b[0;34m\u001b[0m\u001b[0;34m\u001b[0m\u001b[0m\n\u001b[1;32m    533\u001b[0m             \u001b[0;34mf\"({len(data)}) \"\u001b[0m\u001b[0;34m\u001b[0m\u001b[0;34m\u001b[0m\u001b[0m\n",
      "\u001b[0;31mValueError\u001b[0m: Length of values (12) does not match length of index (6)"
     ]
    }
   ],
   "source": [
    "r2l = pd.DataFrame(data=r, columns=['r'])\n",
    "r2l['layer'] = layers"
   ]
  },
  {
   "cell_type": "code",
   "execution_count": 342,
   "metadata": {},
   "outputs": [
    {
     "data": {
      "application/vnd.plotly.v1+json": {
       "config": {
        "plotlyServerURL": "https://plot.ly",
        "toImageButtonOptions": {
         "height": null,
         "width": null
        }
       },
       "data": [
        {
         "marker": {
          "size": 12
         },
         "mode": "text+lines+markers",
         "text": [
          "0.24",
          "0.247",
          "0.272",
          "0.301",
          "0.335",
          "0.398"
         ],
         "textposition": "top center",
         "type": "scatter",
         "x": [
          6,
          7,
          8,
          9,
          10,
          11
         ],
         "y": [
          0.24,
          0.247,
          0.272,
          0.301,
          0.335,
          0.398
         ]
        }
       ],
       "layout": {
        "font": {
         "color": "black",
         "family": "Times Newer Roman",
         "size": 16
        },
        "template": {
         "data": {
          "bar": [
           {
            "error_x": {
             "color": "#2a3f5f"
            },
            "error_y": {
             "color": "#2a3f5f"
            },
            "marker": {
             "line": {
              "color": "#E5ECF6",
              "width": 0.5
             },
             "pattern": {
              "fillmode": "overlay",
              "size": 10,
              "solidity": 0.2
             }
            },
            "type": "bar"
           }
          ],
          "barpolar": [
           {
            "marker": {
             "line": {
              "color": "#E5ECF6",
              "width": 0.5
             },
             "pattern": {
              "fillmode": "overlay",
              "size": 10,
              "solidity": 0.2
             }
            },
            "type": "barpolar"
           }
          ],
          "carpet": [
           {
            "aaxis": {
             "endlinecolor": "#2a3f5f",
             "gridcolor": "white",
             "linecolor": "white",
             "minorgridcolor": "white",
             "startlinecolor": "#2a3f5f"
            },
            "baxis": {
             "endlinecolor": "#2a3f5f",
             "gridcolor": "white",
             "linecolor": "white",
             "minorgridcolor": "white",
             "startlinecolor": "#2a3f5f"
            },
            "type": "carpet"
           }
          ],
          "choropleth": [
           {
            "colorbar": {
             "outlinewidth": 0,
             "ticks": ""
            },
            "type": "choropleth"
           }
          ],
          "contour": [
           {
            "colorbar": {
             "outlinewidth": 0,
             "ticks": ""
            },
            "colorscale": [
             [
              0,
              "#0d0887"
             ],
             [
              0.1111111111111111,
              "#46039f"
             ],
             [
              0.2222222222222222,
              "#7201a8"
             ],
             [
              0.3333333333333333,
              "#9c179e"
             ],
             [
              0.4444444444444444,
              "#bd3786"
             ],
             [
              0.5555555555555556,
              "#d8576b"
             ],
             [
              0.6666666666666666,
              "#ed7953"
             ],
             [
              0.7777777777777778,
              "#fb9f3a"
             ],
             [
              0.8888888888888888,
              "#fdca26"
             ],
             [
              1,
              "#f0f921"
             ]
            ],
            "type": "contour"
           }
          ],
          "contourcarpet": [
           {
            "colorbar": {
             "outlinewidth": 0,
             "ticks": ""
            },
            "type": "contourcarpet"
           }
          ],
          "heatmap": [
           {
            "colorbar": {
             "outlinewidth": 0,
             "ticks": ""
            },
            "colorscale": [
             [
              0,
              "#0d0887"
             ],
             [
              0.1111111111111111,
              "#46039f"
             ],
             [
              0.2222222222222222,
              "#7201a8"
             ],
             [
              0.3333333333333333,
              "#9c179e"
             ],
             [
              0.4444444444444444,
              "#bd3786"
             ],
             [
              0.5555555555555556,
              "#d8576b"
             ],
             [
              0.6666666666666666,
              "#ed7953"
             ],
             [
              0.7777777777777778,
              "#fb9f3a"
             ],
             [
              0.8888888888888888,
              "#fdca26"
             ],
             [
              1,
              "#f0f921"
             ]
            ],
            "type": "heatmap"
           }
          ],
          "heatmapgl": [
           {
            "colorbar": {
             "outlinewidth": 0,
             "ticks": ""
            },
            "colorscale": [
             [
              0,
              "#0d0887"
             ],
             [
              0.1111111111111111,
              "#46039f"
             ],
             [
              0.2222222222222222,
              "#7201a8"
             ],
             [
              0.3333333333333333,
              "#9c179e"
             ],
             [
              0.4444444444444444,
              "#bd3786"
             ],
             [
              0.5555555555555556,
              "#d8576b"
             ],
             [
              0.6666666666666666,
              "#ed7953"
             ],
             [
              0.7777777777777778,
              "#fb9f3a"
             ],
             [
              0.8888888888888888,
              "#fdca26"
             ],
             [
              1,
              "#f0f921"
             ]
            ],
            "type": "heatmapgl"
           }
          ],
          "histogram": [
           {
            "marker": {
             "pattern": {
              "fillmode": "overlay",
              "size": 10,
              "solidity": 0.2
             }
            },
            "type": "histogram"
           }
          ],
          "histogram2d": [
           {
            "colorbar": {
             "outlinewidth": 0,
             "ticks": ""
            },
            "colorscale": [
             [
              0,
              "#0d0887"
             ],
             [
              0.1111111111111111,
              "#46039f"
             ],
             [
              0.2222222222222222,
              "#7201a8"
             ],
             [
              0.3333333333333333,
              "#9c179e"
             ],
             [
              0.4444444444444444,
              "#bd3786"
             ],
             [
              0.5555555555555556,
              "#d8576b"
             ],
             [
              0.6666666666666666,
              "#ed7953"
             ],
             [
              0.7777777777777778,
              "#fb9f3a"
             ],
             [
              0.8888888888888888,
              "#fdca26"
             ],
             [
              1,
              "#f0f921"
             ]
            ],
            "type": "histogram2d"
           }
          ],
          "histogram2dcontour": [
           {
            "colorbar": {
             "outlinewidth": 0,
             "ticks": ""
            },
            "colorscale": [
             [
              0,
              "#0d0887"
             ],
             [
              0.1111111111111111,
              "#46039f"
             ],
             [
              0.2222222222222222,
              "#7201a8"
             ],
             [
              0.3333333333333333,
              "#9c179e"
             ],
             [
              0.4444444444444444,
              "#bd3786"
             ],
             [
              0.5555555555555556,
              "#d8576b"
             ],
             [
              0.6666666666666666,
              "#ed7953"
             ],
             [
              0.7777777777777778,
              "#fb9f3a"
             ],
             [
              0.8888888888888888,
              "#fdca26"
             ],
             [
              1,
              "#f0f921"
             ]
            ],
            "type": "histogram2dcontour"
           }
          ],
          "mesh3d": [
           {
            "colorbar": {
             "outlinewidth": 0,
             "ticks": ""
            },
            "type": "mesh3d"
           }
          ],
          "parcoords": [
           {
            "line": {
             "colorbar": {
              "outlinewidth": 0,
              "ticks": ""
             }
            },
            "type": "parcoords"
           }
          ],
          "pie": [
           {
            "automargin": true,
            "type": "pie"
           }
          ],
          "scatter": [
           {
            "marker": {
             "colorbar": {
              "outlinewidth": 0,
              "ticks": ""
             }
            },
            "type": "scatter"
           }
          ],
          "scatter3d": [
           {
            "line": {
             "colorbar": {
              "outlinewidth": 0,
              "ticks": ""
             }
            },
            "marker": {
             "colorbar": {
              "outlinewidth": 0,
              "ticks": ""
             }
            },
            "type": "scatter3d"
           }
          ],
          "scattercarpet": [
           {
            "marker": {
             "colorbar": {
              "outlinewidth": 0,
              "ticks": ""
             }
            },
            "type": "scattercarpet"
           }
          ],
          "scattergeo": [
           {
            "marker": {
             "colorbar": {
              "outlinewidth": 0,
              "ticks": ""
             }
            },
            "type": "scattergeo"
           }
          ],
          "scattergl": [
           {
            "marker": {
             "colorbar": {
              "outlinewidth": 0,
              "ticks": ""
             }
            },
            "type": "scattergl"
           }
          ],
          "scattermapbox": [
           {
            "marker": {
             "colorbar": {
              "outlinewidth": 0,
              "ticks": ""
             }
            },
            "type": "scattermapbox"
           }
          ],
          "scatterpolar": [
           {
            "marker": {
             "colorbar": {
              "outlinewidth": 0,
              "ticks": ""
             }
            },
            "type": "scatterpolar"
           }
          ],
          "scatterpolargl": [
           {
            "marker": {
             "colorbar": {
              "outlinewidth": 0,
              "ticks": ""
             }
            },
            "type": "scatterpolargl"
           }
          ],
          "scatterternary": [
           {
            "marker": {
             "colorbar": {
              "outlinewidth": 0,
              "ticks": ""
             }
            },
            "type": "scatterternary"
           }
          ],
          "surface": [
           {
            "colorbar": {
             "outlinewidth": 0,
             "ticks": ""
            },
            "colorscale": [
             [
              0,
              "#0d0887"
             ],
             [
              0.1111111111111111,
              "#46039f"
             ],
             [
              0.2222222222222222,
              "#7201a8"
             ],
             [
              0.3333333333333333,
              "#9c179e"
             ],
             [
              0.4444444444444444,
              "#bd3786"
             ],
             [
              0.5555555555555556,
              "#d8576b"
             ],
             [
              0.6666666666666666,
              "#ed7953"
             ],
             [
              0.7777777777777778,
              "#fb9f3a"
             ],
             [
              0.8888888888888888,
              "#fdca26"
             ],
             [
              1,
              "#f0f921"
             ]
            ],
            "type": "surface"
           }
          ],
          "table": [
           {
            "cells": {
             "fill": {
              "color": "#EBF0F8"
             },
             "line": {
              "color": "white"
             }
            },
            "header": {
             "fill": {
              "color": "#C8D4E3"
             },
             "line": {
              "color": "white"
             }
            },
            "type": "table"
           }
          ]
         },
         "layout": {
          "annotationdefaults": {
           "arrowcolor": "#2a3f5f",
           "arrowhead": 0,
           "arrowwidth": 1
          },
          "autotypenumbers": "strict",
          "coloraxis": {
           "colorbar": {
            "outlinewidth": 0,
            "ticks": ""
           }
          },
          "colorscale": {
           "diverging": [
            [
             0,
             "#8e0152"
            ],
            [
             0.1,
             "#c51b7d"
            ],
            [
             0.2,
             "#de77ae"
            ],
            [
             0.3,
             "#f1b6da"
            ],
            [
             0.4,
             "#fde0ef"
            ],
            [
             0.5,
             "#f7f7f7"
            ],
            [
             0.6,
             "#e6f5d0"
            ],
            [
             0.7,
             "#b8e186"
            ],
            [
             0.8,
             "#7fbc41"
            ],
            [
             0.9,
             "#4d9221"
            ],
            [
             1,
             "#276419"
            ]
           ],
           "sequential": [
            [
             0,
             "#0d0887"
            ],
            [
             0.1111111111111111,
             "#46039f"
            ],
            [
             0.2222222222222222,
             "#7201a8"
            ],
            [
             0.3333333333333333,
             "#9c179e"
            ],
            [
             0.4444444444444444,
             "#bd3786"
            ],
            [
             0.5555555555555556,
             "#d8576b"
            ],
            [
             0.6666666666666666,
             "#ed7953"
            ],
            [
             0.7777777777777778,
             "#fb9f3a"
            ],
            [
             0.8888888888888888,
             "#fdca26"
            ],
            [
             1,
             "#f0f921"
            ]
           ],
           "sequentialminus": [
            [
             0,
             "#0d0887"
            ],
            [
             0.1111111111111111,
             "#46039f"
            ],
            [
             0.2222222222222222,
             "#7201a8"
            ],
            [
             0.3333333333333333,
             "#9c179e"
            ],
            [
             0.4444444444444444,
             "#bd3786"
            ],
            [
             0.5555555555555556,
             "#d8576b"
            ],
            [
             0.6666666666666666,
             "#ed7953"
            ],
            [
             0.7777777777777778,
             "#fb9f3a"
            ],
            [
             0.8888888888888888,
             "#fdca26"
            ],
            [
             1,
             "#f0f921"
            ]
           ]
          },
          "colorway": [
           "#636efa",
           "#EF553B",
           "#00cc96",
           "#ab63fa",
           "#FFA15A",
           "#19d3f3",
           "#FF6692",
           "#B6E880",
           "#FF97FF",
           "#FECB52"
          ],
          "font": {
           "color": "#2a3f5f"
          },
          "geo": {
           "bgcolor": "white",
           "lakecolor": "white",
           "landcolor": "#E5ECF6",
           "showlakes": true,
           "showland": true,
           "subunitcolor": "white"
          },
          "hoverlabel": {
           "align": "left"
          },
          "hovermode": "closest",
          "mapbox": {
           "style": "light"
          },
          "paper_bgcolor": "white",
          "plot_bgcolor": "#E5ECF6",
          "polar": {
           "angularaxis": {
            "gridcolor": "white",
            "linecolor": "white",
            "ticks": ""
           },
           "bgcolor": "#E5ECF6",
           "radialaxis": {
            "gridcolor": "white",
            "linecolor": "white",
            "ticks": ""
           }
          },
          "scene": {
           "xaxis": {
            "backgroundcolor": "#E5ECF6",
            "gridcolor": "white",
            "gridwidth": 2,
            "linecolor": "white",
            "showbackground": true,
            "ticks": "",
            "zerolinecolor": "white"
           },
           "yaxis": {
            "backgroundcolor": "#E5ECF6",
            "gridcolor": "white",
            "gridwidth": 2,
            "linecolor": "white",
            "showbackground": true,
            "ticks": "",
            "zerolinecolor": "white"
           },
           "zaxis": {
            "backgroundcolor": "#E5ECF6",
            "gridcolor": "white",
            "gridwidth": 2,
            "linecolor": "white",
            "showbackground": true,
            "ticks": "",
            "zerolinecolor": "white"
           }
          },
          "shapedefaults": {
           "line": {
            "color": "#2a3f5f"
           }
          },
          "ternary": {
           "aaxis": {
            "gridcolor": "white",
            "linecolor": "white",
            "ticks": ""
           },
           "baxis": {
            "gridcolor": "white",
            "linecolor": "white",
            "ticks": ""
           },
           "bgcolor": "#E5ECF6",
           "caxis": {
            "gridcolor": "white",
            "linecolor": "white",
            "ticks": ""
           }
          },
          "title": {
           "x": 0.05
          },
          "xaxis": {
           "automargin": true,
           "gridcolor": "white",
           "linecolor": "white",
           "ticks": "",
           "title": {
            "standoff": 15
           },
           "zerolinecolor": "white",
           "zerolinewidth": 2
          },
          "yaxis": {
           "automargin": true,
           "gridcolor": "white",
           "linecolor": "white",
           "ticks": "",
           "title": {
            "standoff": 15
           },
           "zerolinecolor": "white",
           "zerolinewidth": 2
          }
         }
        },
        "title": {
         "font": {
          "family": "Times New Roman"
         }
        },
        "xaxis": {
         "tickmode": "array",
         "tickvals": [
          6,
          7,
          8,
          9,
          10,
          11
         ],
         "title": {
          "text": "Layer number"
         }
        },
        "yaxis": {
         "title": {
          "text": "R^2 value"
         }
        }
       }
      }
     },
     "metadata": {},
     "output_type": "display_data"
    }
   ],
   "source": [
    "# ONLY BERT\n",
    "\n",
    "import plotly.graph_objects as go\n",
    "\n",
    "fig = go.Figure(go.Scatter(y  = r2l['r'], x = r2l['layer'], mode = 'text+lines+markers', text = r2l['r'], textposition='top center'))\n",
    "\n",
    "fig.update_traces(marker=dict(size=12))\n",
    "\n",
    "fig.update_layout(\n",
    "    font_family=\"Times Newer Roman\",\n",
    "    font_color=\"black\",\n",
    "    title_font_family=\"Times New Roman\",\n",
    "    font_size=16,\n",
    "    xaxis_title=\"Layer number\",\n",
    "    yaxis_title=\"R^2 value\",\n",
    ")\n",
    "\n",
    "config = {\n",
    "  'toImageButtonOptions': {\n",
    "    'format': 'png', # one of png, svg, jpeg, webp\n",
    "    'filename': 'r2_layers',\n",
    "    'height': 1080,\n",
    "    'width': 1920,\n",
    "    'scale': 1 # Multiply title/legend/axis/canvas sizes by this factor\n",
    "  }\n",
    "}\n",
    "\n",
    "fig.update_xaxes(#tickangle=45,\n",
    "                 tickmode = 'array',\n",
    "                 tickvals = r2l['layer'])\n",
    "                # ticktext= [d.strftime('%Y-%m-%d') for d in datelist])\n",
    "\n",
    "fig.show(config={'toImageButtonOptions': {'width': None, 'height': None}})"
   ]
  },
  {
   "cell_type": "code",
   "execution_count": 60,
   "metadata": {},
   "outputs": [
    {
     "data": {
      "application/vnd.plotly.v1+json": {
       "config": {
        "plotlyServerURL": "https://plot.ly",
        "toImageButtonOptions": {
         "height": null,
         "width": null
        }
       },
       "data": [
        {
         "marker": {
          "size": 12
         },
         "mode": "text+lines+markers",
         "text": [
          "0.24",
          "0.247",
          "0.272",
          "0.301",
          "0.335",
          "0.398"
         ],
         "textposition": "top center",
         "type": "scatter",
         "x": [
          6,
          7,
          8,
          9,
          10,
          11
         ],
         "y": [
          0.24,
          0.247,
          0.272,
          0.301,
          0.335,
          0.398
         ]
        }
       ],
       "layout": {
        "font": {
         "color": "black",
         "family": "Times Newer Roman",
         "size": 16
        },
        "template": {
         "data": {
          "bar": [
           {
            "error_x": {
             "color": "#2a3f5f"
            },
            "error_y": {
             "color": "#2a3f5f"
            },
            "marker": {
             "line": {
              "color": "#E5ECF6",
              "width": 0.5
             },
             "pattern": {
              "fillmode": "overlay",
              "size": 10,
              "solidity": 0.2
             }
            },
            "type": "bar"
           }
          ],
          "barpolar": [
           {
            "marker": {
             "line": {
              "color": "#E5ECF6",
              "width": 0.5
             },
             "pattern": {
              "fillmode": "overlay",
              "size": 10,
              "solidity": 0.2
             }
            },
            "type": "barpolar"
           }
          ],
          "carpet": [
           {
            "aaxis": {
             "endlinecolor": "#2a3f5f",
             "gridcolor": "white",
             "linecolor": "white",
             "minorgridcolor": "white",
             "startlinecolor": "#2a3f5f"
            },
            "baxis": {
             "endlinecolor": "#2a3f5f",
             "gridcolor": "white",
             "linecolor": "white",
             "minorgridcolor": "white",
             "startlinecolor": "#2a3f5f"
            },
            "type": "carpet"
           }
          ],
          "choropleth": [
           {
            "colorbar": {
             "outlinewidth": 0,
             "ticks": ""
            },
            "type": "choropleth"
           }
          ],
          "contour": [
           {
            "colorbar": {
             "outlinewidth": 0,
             "ticks": ""
            },
            "colorscale": [
             [
              0,
              "#0d0887"
             ],
             [
              0.1111111111111111,
              "#46039f"
             ],
             [
              0.2222222222222222,
              "#7201a8"
             ],
             [
              0.3333333333333333,
              "#9c179e"
             ],
             [
              0.4444444444444444,
              "#bd3786"
             ],
             [
              0.5555555555555556,
              "#d8576b"
             ],
             [
              0.6666666666666666,
              "#ed7953"
             ],
             [
              0.7777777777777778,
              "#fb9f3a"
             ],
             [
              0.8888888888888888,
              "#fdca26"
             ],
             [
              1,
              "#f0f921"
             ]
            ],
            "type": "contour"
           }
          ],
          "contourcarpet": [
           {
            "colorbar": {
             "outlinewidth": 0,
             "ticks": ""
            },
            "type": "contourcarpet"
           }
          ],
          "heatmap": [
           {
            "colorbar": {
             "outlinewidth": 0,
             "ticks": ""
            },
            "colorscale": [
             [
              0,
              "#0d0887"
             ],
             [
              0.1111111111111111,
              "#46039f"
             ],
             [
              0.2222222222222222,
              "#7201a8"
             ],
             [
              0.3333333333333333,
              "#9c179e"
             ],
             [
              0.4444444444444444,
              "#bd3786"
             ],
             [
              0.5555555555555556,
              "#d8576b"
             ],
             [
              0.6666666666666666,
              "#ed7953"
             ],
             [
              0.7777777777777778,
              "#fb9f3a"
             ],
             [
              0.8888888888888888,
              "#fdca26"
             ],
             [
              1,
              "#f0f921"
             ]
            ],
            "type": "heatmap"
           }
          ],
          "heatmapgl": [
           {
            "colorbar": {
             "outlinewidth": 0,
             "ticks": ""
            },
            "colorscale": [
             [
              0,
              "#0d0887"
             ],
             [
              0.1111111111111111,
              "#46039f"
             ],
             [
              0.2222222222222222,
              "#7201a8"
             ],
             [
              0.3333333333333333,
              "#9c179e"
             ],
             [
              0.4444444444444444,
              "#bd3786"
             ],
             [
              0.5555555555555556,
              "#d8576b"
             ],
             [
              0.6666666666666666,
              "#ed7953"
             ],
             [
              0.7777777777777778,
              "#fb9f3a"
             ],
             [
              0.8888888888888888,
              "#fdca26"
             ],
             [
              1,
              "#f0f921"
             ]
            ],
            "type": "heatmapgl"
           }
          ],
          "histogram": [
           {
            "marker": {
             "pattern": {
              "fillmode": "overlay",
              "size": 10,
              "solidity": 0.2
             }
            },
            "type": "histogram"
           }
          ],
          "histogram2d": [
           {
            "colorbar": {
             "outlinewidth": 0,
             "ticks": ""
            },
            "colorscale": [
             [
              0,
              "#0d0887"
             ],
             [
              0.1111111111111111,
              "#46039f"
             ],
             [
              0.2222222222222222,
              "#7201a8"
             ],
             [
              0.3333333333333333,
              "#9c179e"
             ],
             [
              0.4444444444444444,
              "#bd3786"
             ],
             [
              0.5555555555555556,
              "#d8576b"
             ],
             [
              0.6666666666666666,
              "#ed7953"
             ],
             [
              0.7777777777777778,
              "#fb9f3a"
             ],
             [
              0.8888888888888888,
              "#fdca26"
             ],
             [
              1,
              "#f0f921"
             ]
            ],
            "type": "histogram2d"
           }
          ],
          "histogram2dcontour": [
           {
            "colorbar": {
             "outlinewidth": 0,
             "ticks": ""
            },
            "colorscale": [
             [
              0,
              "#0d0887"
             ],
             [
              0.1111111111111111,
              "#46039f"
             ],
             [
              0.2222222222222222,
              "#7201a8"
             ],
             [
              0.3333333333333333,
              "#9c179e"
             ],
             [
              0.4444444444444444,
              "#bd3786"
             ],
             [
              0.5555555555555556,
              "#d8576b"
             ],
             [
              0.6666666666666666,
              "#ed7953"
             ],
             [
              0.7777777777777778,
              "#fb9f3a"
             ],
             [
              0.8888888888888888,
              "#fdca26"
             ],
             [
              1,
              "#f0f921"
             ]
            ],
            "type": "histogram2dcontour"
           }
          ],
          "mesh3d": [
           {
            "colorbar": {
             "outlinewidth": 0,
             "ticks": ""
            },
            "type": "mesh3d"
           }
          ],
          "parcoords": [
           {
            "line": {
             "colorbar": {
              "outlinewidth": 0,
              "ticks": ""
             }
            },
            "type": "parcoords"
           }
          ],
          "pie": [
           {
            "automargin": true,
            "type": "pie"
           }
          ],
          "scatter": [
           {
            "marker": {
             "colorbar": {
              "outlinewidth": 0,
              "ticks": ""
             }
            },
            "type": "scatter"
           }
          ],
          "scatter3d": [
           {
            "line": {
             "colorbar": {
              "outlinewidth": 0,
              "ticks": ""
             }
            },
            "marker": {
             "colorbar": {
              "outlinewidth": 0,
              "ticks": ""
             }
            },
            "type": "scatter3d"
           }
          ],
          "scattercarpet": [
           {
            "marker": {
             "colorbar": {
              "outlinewidth": 0,
              "ticks": ""
             }
            },
            "type": "scattercarpet"
           }
          ],
          "scattergeo": [
           {
            "marker": {
             "colorbar": {
              "outlinewidth": 0,
              "ticks": ""
             }
            },
            "type": "scattergeo"
           }
          ],
          "scattergl": [
           {
            "marker": {
             "colorbar": {
              "outlinewidth": 0,
              "ticks": ""
             }
            },
            "type": "scattergl"
           }
          ],
          "scattermapbox": [
           {
            "marker": {
             "colorbar": {
              "outlinewidth": 0,
              "ticks": ""
             }
            },
            "type": "scattermapbox"
           }
          ],
          "scatterpolar": [
           {
            "marker": {
             "colorbar": {
              "outlinewidth": 0,
              "ticks": ""
             }
            },
            "type": "scatterpolar"
           }
          ],
          "scatterpolargl": [
           {
            "marker": {
             "colorbar": {
              "outlinewidth": 0,
              "ticks": ""
             }
            },
            "type": "scatterpolargl"
           }
          ],
          "scatterternary": [
           {
            "marker": {
             "colorbar": {
              "outlinewidth": 0,
              "ticks": ""
             }
            },
            "type": "scatterternary"
           }
          ],
          "surface": [
           {
            "colorbar": {
             "outlinewidth": 0,
             "ticks": ""
            },
            "colorscale": [
             [
              0,
              "#0d0887"
             ],
             [
              0.1111111111111111,
              "#46039f"
             ],
             [
              0.2222222222222222,
              "#7201a8"
             ],
             [
              0.3333333333333333,
              "#9c179e"
             ],
             [
              0.4444444444444444,
              "#bd3786"
             ],
             [
              0.5555555555555556,
              "#d8576b"
             ],
             [
              0.6666666666666666,
              "#ed7953"
             ],
             [
              0.7777777777777778,
              "#fb9f3a"
             ],
             [
              0.8888888888888888,
              "#fdca26"
             ],
             [
              1,
              "#f0f921"
             ]
            ],
            "type": "surface"
           }
          ],
          "table": [
           {
            "cells": {
             "fill": {
              "color": "#EBF0F8"
             },
             "line": {
              "color": "white"
             }
            },
            "header": {
             "fill": {
              "color": "#C8D4E3"
             },
             "line": {
              "color": "white"
             }
            },
            "type": "table"
           }
          ]
         },
         "layout": {
          "annotationdefaults": {
           "arrowcolor": "#2a3f5f",
           "arrowhead": 0,
           "arrowwidth": 1
          },
          "autotypenumbers": "strict",
          "coloraxis": {
           "colorbar": {
            "outlinewidth": 0,
            "ticks": ""
           }
          },
          "colorscale": {
           "diverging": [
            [
             0,
             "#8e0152"
            ],
            [
             0.1,
             "#c51b7d"
            ],
            [
             0.2,
             "#de77ae"
            ],
            [
             0.3,
             "#f1b6da"
            ],
            [
             0.4,
             "#fde0ef"
            ],
            [
             0.5,
             "#f7f7f7"
            ],
            [
             0.6,
             "#e6f5d0"
            ],
            [
             0.7,
             "#b8e186"
            ],
            [
             0.8,
             "#7fbc41"
            ],
            [
             0.9,
             "#4d9221"
            ],
            [
             1,
             "#276419"
            ]
           ],
           "sequential": [
            [
             0,
             "#0d0887"
            ],
            [
             0.1111111111111111,
             "#46039f"
            ],
            [
             0.2222222222222222,
             "#7201a8"
            ],
            [
             0.3333333333333333,
             "#9c179e"
            ],
            [
             0.4444444444444444,
             "#bd3786"
            ],
            [
             0.5555555555555556,
             "#d8576b"
            ],
            [
             0.6666666666666666,
             "#ed7953"
            ],
            [
             0.7777777777777778,
             "#fb9f3a"
            ],
            [
             0.8888888888888888,
             "#fdca26"
            ],
            [
             1,
             "#f0f921"
            ]
           ],
           "sequentialminus": [
            [
             0,
             "#0d0887"
            ],
            [
             0.1111111111111111,
             "#46039f"
            ],
            [
             0.2222222222222222,
             "#7201a8"
            ],
            [
             0.3333333333333333,
             "#9c179e"
            ],
            [
             0.4444444444444444,
             "#bd3786"
            ],
            [
             0.5555555555555556,
             "#d8576b"
            ],
            [
             0.6666666666666666,
             "#ed7953"
            ],
            [
             0.7777777777777778,
             "#fb9f3a"
            ],
            [
             0.8888888888888888,
             "#fdca26"
            ],
            [
             1,
             "#f0f921"
            ]
           ]
          },
          "colorway": [
           "#636efa",
           "#EF553B",
           "#00cc96",
           "#ab63fa",
           "#FFA15A",
           "#19d3f3",
           "#FF6692",
           "#B6E880",
           "#FF97FF",
           "#FECB52"
          ],
          "font": {
           "color": "#2a3f5f"
          },
          "geo": {
           "bgcolor": "white",
           "lakecolor": "white",
           "landcolor": "#E5ECF6",
           "showlakes": true,
           "showland": true,
           "subunitcolor": "white"
          },
          "hoverlabel": {
           "align": "left"
          },
          "hovermode": "closest",
          "mapbox": {
           "style": "light"
          },
          "paper_bgcolor": "white",
          "plot_bgcolor": "#E5ECF6",
          "polar": {
           "angularaxis": {
            "gridcolor": "white",
            "linecolor": "white",
            "ticks": ""
           },
           "bgcolor": "#E5ECF6",
           "radialaxis": {
            "gridcolor": "white",
            "linecolor": "white",
            "ticks": ""
           }
          },
          "scene": {
           "xaxis": {
            "backgroundcolor": "#E5ECF6",
            "gridcolor": "white",
            "gridwidth": 2,
            "linecolor": "white",
            "showbackground": true,
            "ticks": "",
            "zerolinecolor": "white"
           },
           "yaxis": {
            "backgroundcolor": "#E5ECF6",
            "gridcolor": "white",
            "gridwidth": 2,
            "linecolor": "white",
            "showbackground": true,
            "ticks": "",
            "zerolinecolor": "white"
           },
           "zaxis": {
            "backgroundcolor": "#E5ECF6",
            "gridcolor": "white",
            "gridwidth": 2,
            "linecolor": "white",
            "showbackground": true,
            "ticks": "",
            "zerolinecolor": "white"
           }
          },
          "shapedefaults": {
           "line": {
            "color": "#2a3f5f"
           }
          },
          "ternary": {
           "aaxis": {
            "gridcolor": "white",
            "linecolor": "white",
            "ticks": ""
           },
           "baxis": {
            "gridcolor": "white",
            "linecolor": "white",
            "ticks": ""
           },
           "bgcolor": "#E5ECF6",
           "caxis": {
            "gridcolor": "white",
            "linecolor": "white",
            "ticks": ""
           }
          },
          "title": {
           "x": 0.05
          },
          "xaxis": {
           "automargin": true,
           "gridcolor": "white",
           "linecolor": "white",
           "ticks": "",
           "title": {
            "standoff": 15
           },
           "zerolinecolor": "white",
           "zerolinewidth": 2
          },
          "yaxis": {
           "automargin": true,
           "gridcolor": "white",
           "linecolor": "white",
           "ticks": "",
           "title": {
            "standoff": 15
           },
           "zerolinecolor": "white",
           "zerolinewidth": 2
          }
         }
        },
        "title": {
         "font": {
          "family": "Times New Roman"
         }
        },
        "xaxis": {
         "tickmode": "array",
         "tickvals": [
          6,
          7,
          8,
          9,
          10,
          11
         ],
         "title": {
          "text": "Layer number"
         }
        },
        "yaxis": {
         "title": {
          "text": "R^2 value"
         }
        }
       }
      }
     },
     "metadata": {},
     "output_type": "display_data"
    }
   ],
   "source": [
    "# ONLY BERT MULTIPLE LAYERS AVERAGE\n",
    "\n",
    "layers = [x for x in range(6, 12)]\n",
    "\n",
    "r2l = pd.DataFrame(data=r, columns=['r'])\n",
    "r2l['layer'] = layers\n",
    "\n",
    "import plotly.graph_objects as go\n",
    "\n",
    "fig = go.Figure(go.Scatter(y  = r2l['r'], x = r2l['layer'], mode = 'text+lines+markers', text = r2l['r'], textposition='top center'))\n",
    "\n",
    "fig.update_traces(marker=dict(size=12))\n",
    "\n",
    "fig.update_layout(\n",
    "    font_family=\"Times Newer Roman\",\n",
    "    font_color=\"black\",\n",
    "    title_font_family=\"Times New Roman\",\n",
    "    font_size=16,\n",
    "    xaxis_title=\"Layer number\",\n",
    "    yaxis_title=\"R^2 value\",\n",
    ")\n",
    "\n",
    "config = {\n",
    "  'toImageButtonOptions': {\n",
    "    'format': 'png', # one of png, svg, jpeg, webp\n",
    "    'filename': 'r2_layers',\n",
    "    'height': 1080,\n",
    "    'width': 1920,\n",
    "    'scale': 1 # Multiply title/legend/axis/canvas sizes by this factor\n",
    "  }\n",
    "}\n",
    "\n",
    "fig.update_xaxes(#tickangle=45,\n",
    "                 tickmode = 'array',\n",
    "                 tickvals = r2l['layer'])\n",
    "                # ticktext= [d.strftime('%Y-%m-%d') for d in datelist])\n",
    "\n",
    "fig.show(config={'toImageButtonOptions': {'width': None, 'height': None}})"
   ]
  },
  {
   "cell_type": "code",
   "execution_count": 61,
   "metadata": {},
   "outputs": [
    {
     "data": {
      "application/vnd.plotly.v1+json": {
       "config": {
        "plotlyServerURL": "https://plot.ly",
        "toImageButtonOptions": {
         "height": null,
         "width": null
        }
       },
       "data": [
        {
         "marker": {
          "size": 12
         },
         "mode": "text+lines+markers",
         "text": [
          "0.24",
          "0.247",
          "0.272",
          "0.301",
          "0.335",
          "0.398"
         ],
         "textposition": "top center",
         "type": "scatter",
         "x": [
          6,
          7,
          8,
          9,
          10,
          11
         ],
         "y": [
          0.24,
          0.247,
          0.272,
          0.301,
          0.335,
          0.398
         ]
        }
       ],
       "layout": {
        "font": {
         "color": "black",
         "family": "Times Newer Roman",
         "size": 16
        },
        "template": {
         "data": {
          "bar": [
           {
            "error_x": {
             "color": "#2a3f5f"
            },
            "error_y": {
             "color": "#2a3f5f"
            },
            "marker": {
             "line": {
              "color": "#E5ECF6",
              "width": 0.5
             },
             "pattern": {
              "fillmode": "overlay",
              "size": 10,
              "solidity": 0.2
             }
            },
            "type": "bar"
           }
          ],
          "barpolar": [
           {
            "marker": {
             "line": {
              "color": "#E5ECF6",
              "width": 0.5
             },
             "pattern": {
              "fillmode": "overlay",
              "size": 10,
              "solidity": 0.2
             }
            },
            "type": "barpolar"
           }
          ],
          "carpet": [
           {
            "aaxis": {
             "endlinecolor": "#2a3f5f",
             "gridcolor": "white",
             "linecolor": "white",
             "minorgridcolor": "white",
             "startlinecolor": "#2a3f5f"
            },
            "baxis": {
             "endlinecolor": "#2a3f5f",
             "gridcolor": "white",
             "linecolor": "white",
             "minorgridcolor": "white",
             "startlinecolor": "#2a3f5f"
            },
            "type": "carpet"
           }
          ],
          "choropleth": [
           {
            "colorbar": {
             "outlinewidth": 0,
             "ticks": ""
            },
            "type": "choropleth"
           }
          ],
          "contour": [
           {
            "colorbar": {
             "outlinewidth": 0,
             "ticks": ""
            },
            "colorscale": [
             [
              0,
              "#0d0887"
             ],
             [
              0.1111111111111111,
              "#46039f"
             ],
             [
              0.2222222222222222,
              "#7201a8"
             ],
             [
              0.3333333333333333,
              "#9c179e"
             ],
             [
              0.4444444444444444,
              "#bd3786"
             ],
             [
              0.5555555555555556,
              "#d8576b"
             ],
             [
              0.6666666666666666,
              "#ed7953"
             ],
             [
              0.7777777777777778,
              "#fb9f3a"
             ],
             [
              0.8888888888888888,
              "#fdca26"
             ],
             [
              1,
              "#f0f921"
             ]
            ],
            "type": "contour"
           }
          ],
          "contourcarpet": [
           {
            "colorbar": {
             "outlinewidth": 0,
             "ticks": ""
            },
            "type": "contourcarpet"
           }
          ],
          "heatmap": [
           {
            "colorbar": {
             "outlinewidth": 0,
             "ticks": ""
            },
            "colorscale": [
             [
              0,
              "#0d0887"
             ],
             [
              0.1111111111111111,
              "#46039f"
             ],
             [
              0.2222222222222222,
              "#7201a8"
             ],
             [
              0.3333333333333333,
              "#9c179e"
             ],
             [
              0.4444444444444444,
              "#bd3786"
             ],
             [
              0.5555555555555556,
              "#d8576b"
             ],
             [
              0.6666666666666666,
              "#ed7953"
             ],
             [
              0.7777777777777778,
              "#fb9f3a"
             ],
             [
              0.8888888888888888,
              "#fdca26"
             ],
             [
              1,
              "#f0f921"
             ]
            ],
            "type": "heatmap"
           }
          ],
          "heatmapgl": [
           {
            "colorbar": {
             "outlinewidth": 0,
             "ticks": ""
            },
            "colorscale": [
             [
              0,
              "#0d0887"
             ],
             [
              0.1111111111111111,
              "#46039f"
             ],
             [
              0.2222222222222222,
              "#7201a8"
             ],
             [
              0.3333333333333333,
              "#9c179e"
             ],
             [
              0.4444444444444444,
              "#bd3786"
             ],
             [
              0.5555555555555556,
              "#d8576b"
             ],
             [
              0.6666666666666666,
              "#ed7953"
             ],
             [
              0.7777777777777778,
              "#fb9f3a"
             ],
             [
              0.8888888888888888,
              "#fdca26"
             ],
             [
              1,
              "#f0f921"
             ]
            ],
            "type": "heatmapgl"
           }
          ],
          "histogram": [
           {
            "marker": {
             "pattern": {
              "fillmode": "overlay",
              "size": 10,
              "solidity": 0.2
             }
            },
            "type": "histogram"
           }
          ],
          "histogram2d": [
           {
            "colorbar": {
             "outlinewidth": 0,
             "ticks": ""
            },
            "colorscale": [
             [
              0,
              "#0d0887"
             ],
             [
              0.1111111111111111,
              "#46039f"
             ],
             [
              0.2222222222222222,
              "#7201a8"
             ],
             [
              0.3333333333333333,
              "#9c179e"
             ],
             [
              0.4444444444444444,
              "#bd3786"
             ],
             [
              0.5555555555555556,
              "#d8576b"
             ],
             [
              0.6666666666666666,
              "#ed7953"
             ],
             [
              0.7777777777777778,
              "#fb9f3a"
             ],
             [
              0.8888888888888888,
              "#fdca26"
             ],
             [
              1,
              "#f0f921"
             ]
            ],
            "type": "histogram2d"
           }
          ],
          "histogram2dcontour": [
           {
            "colorbar": {
             "outlinewidth": 0,
             "ticks": ""
            },
            "colorscale": [
             [
              0,
              "#0d0887"
             ],
             [
              0.1111111111111111,
              "#46039f"
             ],
             [
              0.2222222222222222,
              "#7201a8"
             ],
             [
              0.3333333333333333,
              "#9c179e"
             ],
             [
              0.4444444444444444,
              "#bd3786"
             ],
             [
              0.5555555555555556,
              "#d8576b"
             ],
             [
              0.6666666666666666,
              "#ed7953"
             ],
             [
              0.7777777777777778,
              "#fb9f3a"
             ],
             [
              0.8888888888888888,
              "#fdca26"
             ],
             [
              1,
              "#f0f921"
             ]
            ],
            "type": "histogram2dcontour"
           }
          ],
          "mesh3d": [
           {
            "colorbar": {
             "outlinewidth": 0,
             "ticks": ""
            },
            "type": "mesh3d"
           }
          ],
          "parcoords": [
           {
            "line": {
             "colorbar": {
              "outlinewidth": 0,
              "ticks": ""
             }
            },
            "type": "parcoords"
           }
          ],
          "pie": [
           {
            "automargin": true,
            "type": "pie"
           }
          ],
          "scatter": [
           {
            "marker": {
             "colorbar": {
              "outlinewidth": 0,
              "ticks": ""
             }
            },
            "type": "scatter"
           }
          ],
          "scatter3d": [
           {
            "line": {
             "colorbar": {
              "outlinewidth": 0,
              "ticks": ""
             }
            },
            "marker": {
             "colorbar": {
              "outlinewidth": 0,
              "ticks": ""
             }
            },
            "type": "scatter3d"
           }
          ],
          "scattercarpet": [
           {
            "marker": {
             "colorbar": {
              "outlinewidth": 0,
              "ticks": ""
             }
            },
            "type": "scattercarpet"
           }
          ],
          "scattergeo": [
           {
            "marker": {
             "colorbar": {
              "outlinewidth": 0,
              "ticks": ""
             }
            },
            "type": "scattergeo"
           }
          ],
          "scattergl": [
           {
            "marker": {
             "colorbar": {
              "outlinewidth": 0,
              "ticks": ""
             }
            },
            "type": "scattergl"
           }
          ],
          "scattermapbox": [
           {
            "marker": {
             "colorbar": {
              "outlinewidth": 0,
              "ticks": ""
             }
            },
            "type": "scattermapbox"
           }
          ],
          "scatterpolar": [
           {
            "marker": {
             "colorbar": {
              "outlinewidth": 0,
              "ticks": ""
             }
            },
            "type": "scatterpolar"
           }
          ],
          "scatterpolargl": [
           {
            "marker": {
             "colorbar": {
              "outlinewidth": 0,
              "ticks": ""
             }
            },
            "type": "scatterpolargl"
           }
          ],
          "scatterternary": [
           {
            "marker": {
             "colorbar": {
              "outlinewidth": 0,
              "ticks": ""
             }
            },
            "type": "scatterternary"
           }
          ],
          "surface": [
           {
            "colorbar": {
             "outlinewidth": 0,
             "ticks": ""
            },
            "colorscale": [
             [
              0,
              "#0d0887"
             ],
             [
              0.1111111111111111,
              "#46039f"
             ],
             [
              0.2222222222222222,
              "#7201a8"
             ],
             [
              0.3333333333333333,
              "#9c179e"
             ],
             [
              0.4444444444444444,
              "#bd3786"
             ],
             [
              0.5555555555555556,
              "#d8576b"
             ],
             [
              0.6666666666666666,
              "#ed7953"
             ],
             [
              0.7777777777777778,
              "#fb9f3a"
             ],
             [
              0.8888888888888888,
              "#fdca26"
             ],
             [
              1,
              "#f0f921"
             ]
            ],
            "type": "surface"
           }
          ],
          "table": [
           {
            "cells": {
             "fill": {
              "color": "#EBF0F8"
             },
             "line": {
              "color": "white"
             }
            },
            "header": {
             "fill": {
              "color": "#C8D4E3"
             },
             "line": {
              "color": "white"
             }
            },
            "type": "table"
           }
          ]
         },
         "layout": {
          "annotationdefaults": {
           "arrowcolor": "#2a3f5f",
           "arrowhead": 0,
           "arrowwidth": 1
          },
          "autotypenumbers": "strict",
          "coloraxis": {
           "colorbar": {
            "outlinewidth": 0,
            "ticks": ""
           }
          },
          "colorscale": {
           "diverging": [
            [
             0,
             "#8e0152"
            ],
            [
             0.1,
             "#c51b7d"
            ],
            [
             0.2,
             "#de77ae"
            ],
            [
             0.3,
             "#f1b6da"
            ],
            [
             0.4,
             "#fde0ef"
            ],
            [
             0.5,
             "#f7f7f7"
            ],
            [
             0.6,
             "#e6f5d0"
            ],
            [
             0.7,
             "#b8e186"
            ],
            [
             0.8,
             "#7fbc41"
            ],
            [
             0.9,
             "#4d9221"
            ],
            [
             1,
             "#276419"
            ]
           ],
           "sequential": [
            [
             0,
             "#0d0887"
            ],
            [
             0.1111111111111111,
             "#46039f"
            ],
            [
             0.2222222222222222,
             "#7201a8"
            ],
            [
             0.3333333333333333,
             "#9c179e"
            ],
            [
             0.4444444444444444,
             "#bd3786"
            ],
            [
             0.5555555555555556,
             "#d8576b"
            ],
            [
             0.6666666666666666,
             "#ed7953"
            ],
            [
             0.7777777777777778,
             "#fb9f3a"
            ],
            [
             0.8888888888888888,
             "#fdca26"
            ],
            [
             1,
             "#f0f921"
            ]
           ],
           "sequentialminus": [
            [
             0,
             "#0d0887"
            ],
            [
             0.1111111111111111,
             "#46039f"
            ],
            [
             0.2222222222222222,
             "#7201a8"
            ],
            [
             0.3333333333333333,
             "#9c179e"
            ],
            [
             0.4444444444444444,
             "#bd3786"
            ],
            [
             0.5555555555555556,
             "#d8576b"
            ],
            [
             0.6666666666666666,
             "#ed7953"
            ],
            [
             0.7777777777777778,
             "#fb9f3a"
            ],
            [
             0.8888888888888888,
             "#fdca26"
            ],
            [
             1,
             "#f0f921"
            ]
           ]
          },
          "colorway": [
           "#636efa",
           "#EF553B",
           "#00cc96",
           "#ab63fa",
           "#FFA15A",
           "#19d3f3",
           "#FF6692",
           "#B6E880",
           "#FF97FF",
           "#FECB52"
          ],
          "font": {
           "color": "#2a3f5f"
          },
          "geo": {
           "bgcolor": "white",
           "lakecolor": "white",
           "landcolor": "#E5ECF6",
           "showlakes": true,
           "showland": true,
           "subunitcolor": "white"
          },
          "hoverlabel": {
           "align": "left"
          },
          "hovermode": "closest",
          "mapbox": {
           "style": "light"
          },
          "paper_bgcolor": "white",
          "plot_bgcolor": "#E5ECF6",
          "polar": {
           "angularaxis": {
            "gridcolor": "white",
            "linecolor": "white",
            "ticks": ""
           },
           "bgcolor": "#E5ECF6",
           "radialaxis": {
            "gridcolor": "white",
            "linecolor": "white",
            "ticks": ""
           }
          },
          "scene": {
           "xaxis": {
            "backgroundcolor": "#E5ECF6",
            "gridcolor": "white",
            "gridwidth": 2,
            "linecolor": "white",
            "showbackground": true,
            "ticks": "",
            "zerolinecolor": "white"
           },
           "yaxis": {
            "backgroundcolor": "#E5ECF6",
            "gridcolor": "white",
            "gridwidth": 2,
            "linecolor": "white",
            "showbackground": true,
            "ticks": "",
            "zerolinecolor": "white"
           },
           "zaxis": {
            "backgroundcolor": "#E5ECF6",
            "gridcolor": "white",
            "gridwidth": 2,
            "linecolor": "white",
            "showbackground": true,
            "ticks": "",
            "zerolinecolor": "white"
           }
          },
          "shapedefaults": {
           "line": {
            "color": "#2a3f5f"
           }
          },
          "ternary": {
           "aaxis": {
            "gridcolor": "white",
            "linecolor": "white",
            "ticks": ""
           },
           "baxis": {
            "gridcolor": "white",
            "linecolor": "white",
            "ticks": ""
           },
           "bgcolor": "#E5ECF6",
           "caxis": {
            "gridcolor": "white",
            "linecolor": "white",
            "ticks": ""
           }
          },
          "title": {
           "x": 0.05
          },
          "xaxis": {
           "automargin": true,
           "gridcolor": "white",
           "linecolor": "white",
           "ticks": "",
           "title": {
            "standoff": 15
           },
           "zerolinecolor": "white",
           "zerolinewidth": 2
          },
          "yaxis": {
           "automargin": true,
           "gridcolor": "white",
           "linecolor": "white",
           "ticks": "",
           "title": {
            "standoff": 15
           },
           "zerolinecolor": "white",
           "zerolinewidth": 2
          }
         }
        },
        "title": {
         "font": {
          "family": "Times New Roman"
         }
        },
        "xaxis": {
         "tickmode": "array",
         "tickvals": [
          6,
          7,
          8,
          9,
          10,
          11
         ],
         "title": {
          "text": "Layer number"
         }
        },
        "yaxis": {
         "title": {
          "text": "R^2 value"
         }
        }
       }
      }
     },
     "metadata": {},
     "output_type": "display_data"
    }
   ],
   "source": [
    "# ONLY BERT MULTIPLE LAYERS SUM\n",
    "\n",
    "layers = [x for x in range(6, 12)]\n",
    "\n",
    "r2l = pd.DataFrame(data=r, columns=['r'])\n",
    "r2l['layer'] = layers\n",
    "\n",
    "import plotly.graph_objects as go\n",
    "\n",
    "fig = go.Figure(go.Scatter(y  = r2l['r'], x = r2l['layer'], mode = 'text+lines+markers', text = r2l['r'], textposition='top center'))\n",
    "\n",
    "fig.update_traces(marker=dict(size=12))\n",
    "\n",
    "fig.update_layout(\n",
    "    font_family=\"Times Newer Roman\",\n",
    "    font_color=\"black\",\n",
    "    title_font_family=\"Times New Roman\",\n",
    "    font_size=16,\n",
    "    xaxis_title=\"Layer number\",\n",
    "    yaxis_title=\"R^2 value\",\n",
    ")\n",
    "\n",
    "config = {\n",
    "  'toImageButtonOptions': {\n",
    "    'format': 'png', # one of png, svg, jpeg, webp\n",
    "    'filename': 'r2_layers',\n",
    "    'height': 1080,\n",
    "    'width': 1920,\n",
    "    'scale': 1 # Multiply title/legend/axis/canvas sizes by this factor\n",
    "  }\n",
    "}\n",
    "\n",
    "fig.update_xaxes(#tickangle=45,\n",
    "                 tickmode = 'array',\n",
    "                 tickvals = r2l['layer'])\n",
    "                # ticktext= [d.strftime('%Y-%m-%d') for d in datelist])\n",
    "\n",
    "fig.show(config={'toImageButtonOptions': {'width': None, 'height': None}})"
   ]
  },
  {
   "cell_type": "code",
   "execution_count": 346,
   "metadata": {},
   "outputs": [
    {
     "data": {
      "text/plain": [
       "0    6\n",
       "1    5\n",
       "2    4\n",
       "3    3\n",
       "4    2\n",
       "5    1\n",
       "Name: layer, dtype: int64"
      ]
     },
     "execution_count": 346,
     "metadata": {},
     "output_type": "execute_result"
    }
   ],
   "source": [
    "-r2l['layer'] + 12"
   ]
  },
  {
   "cell_type": "code",
   "execution_count": 65,
   "metadata": {},
   "outputs": [
    {
     "data": {
      "application/vnd.plotly.v1+json": {
       "config": {
        "plotlyServerURL": "https://plot.ly",
        "toImageButtonOptions": {
         "height": null,
         "width": null
        }
       },
       "data": [
        {
         "marker": {
          "size": 12
         },
         "mode": "text+lines+markers",
         "name": "Summing",
         "text": [
          "0.24",
          "0.247",
          "0.272",
          "0.301",
          "0.335",
          "0.398"
         ],
         "textposition": "top center",
         "type": "scatter",
         "x": [
          6,
          5,
          4,
          3,
          2,
          1
         ],
         "y": [
          0.24,
          0.247,
          0.272,
          0.301,
          0.335,
          0.398
         ]
        },
        {
         "marker": {
          "size": 12
         },
         "mode": "text+lines+markers",
         "name": "Averaging",
         "text": [
          "0.042",
          "0.138",
          "0.143",
          "0.034",
          "0.134",
          "0.134"
         ],
         "textposition": "top center",
         "type": "scatter",
         "x": [
          6,
          5,
          4,
          3,
          2,
          1
         ],
         "y": [
          0.042,
          0.138,
          0.143,
          0.034,
          0.134,
          0.134
         ]
        }
       ],
       "layout": {
        "font": {
         "color": "black",
         "family": "Times Newer Roman",
         "size": 16
        },
        "template": {
         "data": {
          "bar": [
           {
            "error_x": {
             "color": "#2a3f5f"
            },
            "error_y": {
             "color": "#2a3f5f"
            },
            "marker": {
             "line": {
              "color": "#E5ECF6",
              "width": 0.5
             },
             "pattern": {
              "fillmode": "overlay",
              "size": 10,
              "solidity": 0.2
             }
            },
            "type": "bar"
           }
          ],
          "barpolar": [
           {
            "marker": {
             "line": {
              "color": "#E5ECF6",
              "width": 0.5
             },
             "pattern": {
              "fillmode": "overlay",
              "size": 10,
              "solidity": 0.2
             }
            },
            "type": "barpolar"
           }
          ],
          "carpet": [
           {
            "aaxis": {
             "endlinecolor": "#2a3f5f",
             "gridcolor": "white",
             "linecolor": "white",
             "minorgridcolor": "white",
             "startlinecolor": "#2a3f5f"
            },
            "baxis": {
             "endlinecolor": "#2a3f5f",
             "gridcolor": "white",
             "linecolor": "white",
             "minorgridcolor": "white",
             "startlinecolor": "#2a3f5f"
            },
            "type": "carpet"
           }
          ],
          "choropleth": [
           {
            "colorbar": {
             "outlinewidth": 0,
             "ticks": ""
            },
            "type": "choropleth"
           }
          ],
          "contour": [
           {
            "colorbar": {
             "outlinewidth": 0,
             "ticks": ""
            },
            "colorscale": [
             [
              0,
              "#0d0887"
             ],
             [
              0.1111111111111111,
              "#46039f"
             ],
             [
              0.2222222222222222,
              "#7201a8"
             ],
             [
              0.3333333333333333,
              "#9c179e"
             ],
             [
              0.4444444444444444,
              "#bd3786"
             ],
             [
              0.5555555555555556,
              "#d8576b"
             ],
             [
              0.6666666666666666,
              "#ed7953"
             ],
             [
              0.7777777777777778,
              "#fb9f3a"
             ],
             [
              0.8888888888888888,
              "#fdca26"
             ],
             [
              1,
              "#f0f921"
             ]
            ],
            "type": "contour"
           }
          ],
          "contourcarpet": [
           {
            "colorbar": {
             "outlinewidth": 0,
             "ticks": ""
            },
            "type": "contourcarpet"
           }
          ],
          "heatmap": [
           {
            "colorbar": {
             "outlinewidth": 0,
             "ticks": ""
            },
            "colorscale": [
             [
              0,
              "#0d0887"
             ],
             [
              0.1111111111111111,
              "#46039f"
             ],
             [
              0.2222222222222222,
              "#7201a8"
             ],
             [
              0.3333333333333333,
              "#9c179e"
             ],
             [
              0.4444444444444444,
              "#bd3786"
             ],
             [
              0.5555555555555556,
              "#d8576b"
             ],
             [
              0.6666666666666666,
              "#ed7953"
             ],
             [
              0.7777777777777778,
              "#fb9f3a"
             ],
             [
              0.8888888888888888,
              "#fdca26"
             ],
             [
              1,
              "#f0f921"
             ]
            ],
            "type": "heatmap"
           }
          ],
          "heatmapgl": [
           {
            "colorbar": {
             "outlinewidth": 0,
             "ticks": ""
            },
            "colorscale": [
             [
              0,
              "#0d0887"
             ],
             [
              0.1111111111111111,
              "#46039f"
             ],
             [
              0.2222222222222222,
              "#7201a8"
             ],
             [
              0.3333333333333333,
              "#9c179e"
             ],
             [
              0.4444444444444444,
              "#bd3786"
             ],
             [
              0.5555555555555556,
              "#d8576b"
             ],
             [
              0.6666666666666666,
              "#ed7953"
             ],
             [
              0.7777777777777778,
              "#fb9f3a"
             ],
             [
              0.8888888888888888,
              "#fdca26"
             ],
             [
              1,
              "#f0f921"
             ]
            ],
            "type": "heatmapgl"
           }
          ],
          "histogram": [
           {
            "marker": {
             "pattern": {
              "fillmode": "overlay",
              "size": 10,
              "solidity": 0.2
             }
            },
            "type": "histogram"
           }
          ],
          "histogram2d": [
           {
            "colorbar": {
             "outlinewidth": 0,
             "ticks": ""
            },
            "colorscale": [
             [
              0,
              "#0d0887"
             ],
             [
              0.1111111111111111,
              "#46039f"
             ],
             [
              0.2222222222222222,
              "#7201a8"
             ],
             [
              0.3333333333333333,
              "#9c179e"
             ],
             [
              0.4444444444444444,
              "#bd3786"
             ],
             [
              0.5555555555555556,
              "#d8576b"
             ],
             [
              0.6666666666666666,
              "#ed7953"
             ],
             [
              0.7777777777777778,
              "#fb9f3a"
             ],
             [
              0.8888888888888888,
              "#fdca26"
             ],
             [
              1,
              "#f0f921"
             ]
            ],
            "type": "histogram2d"
           }
          ],
          "histogram2dcontour": [
           {
            "colorbar": {
             "outlinewidth": 0,
             "ticks": ""
            },
            "colorscale": [
             [
              0,
              "#0d0887"
             ],
             [
              0.1111111111111111,
              "#46039f"
             ],
             [
              0.2222222222222222,
              "#7201a8"
             ],
             [
              0.3333333333333333,
              "#9c179e"
             ],
             [
              0.4444444444444444,
              "#bd3786"
             ],
             [
              0.5555555555555556,
              "#d8576b"
             ],
             [
              0.6666666666666666,
              "#ed7953"
             ],
             [
              0.7777777777777778,
              "#fb9f3a"
             ],
             [
              0.8888888888888888,
              "#fdca26"
             ],
             [
              1,
              "#f0f921"
             ]
            ],
            "type": "histogram2dcontour"
           }
          ],
          "mesh3d": [
           {
            "colorbar": {
             "outlinewidth": 0,
             "ticks": ""
            },
            "type": "mesh3d"
           }
          ],
          "parcoords": [
           {
            "line": {
             "colorbar": {
              "outlinewidth": 0,
              "ticks": ""
             }
            },
            "type": "parcoords"
           }
          ],
          "pie": [
           {
            "automargin": true,
            "type": "pie"
           }
          ],
          "scatter": [
           {
            "marker": {
             "colorbar": {
              "outlinewidth": 0,
              "ticks": ""
             }
            },
            "type": "scatter"
           }
          ],
          "scatter3d": [
           {
            "line": {
             "colorbar": {
              "outlinewidth": 0,
              "ticks": ""
             }
            },
            "marker": {
             "colorbar": {
              "outlinewidth": 0,
              "ticks": ""
             }
            },
            "type": "scatter3d"
           }
          ],
          "scattercarpet": [
           {
            "marker": {
             "colorbar": {
              "outlinewidth": 0,
              "ticks": ""
             }
            },
            "type": "scattercarpet"
           }
          ],
          "scattergeo": [
           {
            "marker": {
             "colorbar": {
              "outlinewidth": 0,
              "ticks": ""
             }
            },
            "type": "scattergeo"
           }
          ],
          "scattergl": [
           {
            "marker": {
             "colorbar": {
              "outlinewidth": 0,
              "ticks": ""
             }
            },
            "type": "scattergl"
           }
          ],
          "scattermapbox": [
           {
            "marker": {
             "colorbar": {
              "outlinewidth": 0,
              "ticks": ""
             }
            },
            "type": "scattermapbox"
           }
          ],
          "scatterpolar": [
           {
            "marker": {
             "colorbar": {
              "outlinewidth": 0,
              "ticks": ""
             }
            },
            "type": "scatterpolar"
           }
          ],
          "scatterpolargl": [
           {
            "marker": {
             "colorbar": {
              "outlinewidth": 0,
              "ticks": ""
             }
            },
            "type": "scatterpolargl"
           }
          ],
          "scatterternary": [
           {
            "marker": {
             "colorbar": {
              "outlinewidth": 0,
              "ticks": ""
             }
            },
            "type": "scatterternary"
           }
          ],
          "surface": [
           {
            "colorbar": {
             "outlinewidth": 0,
             "ticks": ""
            },
            "colorscale": [
             [
              0,
              "#0d0887"
             ],
             [
              0.1111111111111111,
              "#46039f"
             ],
             [
              0.2222222222222222,
              "#7201a8"
             ],
             [
              0.3333333333333333,
              "#9c179e"
             ],
             [
              0.4444444444444444,
              "#bd3786"
             ],
             [
              0.5555555555555556,
              "#d8576b"
             ],
             [
              0.6666666666666666,
              "#ed7953"
             ],
             [
              0.7777777777777778,
              "#fb9f3a"
             ],
             [
              0.8888888888888888,
              "#fdca26"
             ],
             [
              1,
              "#f0f921"
             ]
            ],
            "type": "surface"
           }
          ],
          "table": [
           {
            "cells": {
             "fill": {
              "color": "#EBF0F8"
             },
             "line": {
              "color": "white"
             }
            },
            "header": {
             "fill": {
              "color": "#C8D4E3"
             },
             "line": {
              "color": "white"
             }
            },
            "type": "table"
           }
          ]
         },
         "layout": {
          "annotationdefaults": {
           "arrowcolor": "#2a3f5f",
           "arrowhead": 0,
           "arrowwidth": 1
          },
          "autotypenumbers": "strict",
          "coloraxis": {
           "colorbar": {
            "outlinewidth": 0,
            "ticks": ""
           }
          },
          "colorscale": {
           "diverging": [
            [
             0,
             "#8e0152"
            ],
            [
             0.1,
             "#c51b7d"
            ],
            [
             0.2,
             "#de77ae"
            ],
            [
             0.3,
             "#f1b6da"
            ],
            [
             0.4,
             "#fde0ef"
            ],
            [
             0.5,
             "#f7f7f7"
            ],
            [
             0.6,
             "#e6f5d0"
            ],
            [
             0.7,
             "#b8e186"
            ],
            [
             0.8,
             "#7fbc41"
            ],
            [
             0.9,
             "#4d9221"
            ],
            [
             1,
             "#276419"
            ]
           ],
           "sequential": [
            [
             0,
             "#0d0887"
            ],
            [
             0.1111111111111111,
             "#46039f"
            ],
            [
             0.2222222222222222,
             "#7201a8"
            ],
            [
             0.3333333333333333,
             "#9c179e"
            ],
            [
             0.4444444444444444,
             "#bd3786"
            ],
            [
             0.5555555555555556,
             "#d8576b"
            ],
            [
             0.6666666666666666,
             "#ed7953"
            ],
            [
             0.7777777777777778,
             "#fb9f3a"
            ],
            [
             0.8888888888888888,
             "#fdca26"
            ],
            [
             1,
             "#f0f921"
            ]
           ],
           "sequentialminus": [
            [
             0,
             "#0d0887"
            ],
            [
             0.1111111111111111,
             "#46039f"
            ],
            [
             0.2222222222222222,
             "#7201a8"
            ],
            [
             0.3333333333333333,
             "#9c179e"
            ],
            [
             0.4444444444444444,
             "#bd3786"
            ],
            [
             0.5555555555555556,
             "#d8576b"
            ],
            [
             0.6666666666666666,
             "#ed7953"
            ],
            [
             0.7777777777777778,
             "#fb9f3a"
            ],
            [
             0.8888888888888888,
             "#fdca26"
            ],
            [
             1,
             "#f0f921"
            ]
           ]
          },
          "colorway": [
           "#636efa",
           "#EF553B",
           "#00cc96",
           "#ab63fa",
           "#FFA15A",
           "#19d3f3",
           "#FF6692",
           "#B6E880",
           "#FF97FF",
           "#FECB52"
          ],
          "font": {
           "color": "#2a3f5f"
          },
          "geo": {
           "bgcolor": "white",
           "lakecolor": "white",
           "landcolor": "#E5ECF6",
           "showlakes": true,
           "showland": true,
           "subunitcolor": "white"
          },
          "hoverlabel": {
           "align": "left"
          },
          "hovermode": "closest",
          "mapbox": {
           "style": "light"
          },
          "paper_bgcolor": "white",
          "plot_bgcolor": "#E5ECF6",
          "polar": {
           "angularaxis": {
            "gridcolor": "white",
            "linecolor": "white",
            "ticks": ""
           },
           "bgcolor": "#E5ECF6",
           "radialaxis": {
            "gridcolor": "white",
            "linecolor": "white",
            "ticks": ""
           }
          },
          "scene": {
           "xaxis": {
            "backgroundcolor": "#E5ECF6",
            "gridcolor": "white",
            "gridwidth": 2,
            "linecolor": "white",
            "showbackground": true,
            "ticks": "",
            "zerolinecolor": "white"
           },
           "yaxis": {
            "backgroundcolor": "#E5ECF6",
            "gridcolor": "white",
            "gridwidth": 2,
            "linecolor": "white",
            "showbackground": true,
            "ticks": "",
            "zerolinecolor": "white"
           },
           "zaxis": {
            "backgroundcolor": "#E5ECF6",
            "gridcolor": "white",
            "gridwidth": 2,
            "linecolor": "white",
            "showbackground": true,
            "ticks": "",
            "zerolinecolor": "white"
           }
          },
          "shapedefaults": {
           "line": {
            "color": "#2a3f5f"
           }
          },
          "ternary": {
           "aaxis": {
            "gridcolor": "white",
            "linecolor": "white",
            "ticks": ""
           },
           "baxis": {
            "gridcolor": "white",
            "linecolor": "white",
            "ticks": ""
           },
           "bgcolor": "#E5ECF6",
           "caxis": {
            "gridcolor": "white",
            "linecolor": "white",
            "ticks": ""
           }
          },
          "title": {
           "x": 0.05
          },
          "xaxis": {
           "automargin": true,
           "gridcolor": "white",
           "linecolor": "white",
           "ticks": "",
           "title": {
            "standoff": 15
           },
           "zerolinecolor": "white",
           "zerolinewidth": 2
          },
          "yaxis": {
           "automargin": true,
           "gridcolor": "white",
           "linecolor": "white",
           "ticks": "",
           "title": {
            "standoff": 15
           },
           "zerolinecolor": "white",
           "zerolinewidth": 2
          }
         }
        },
        "title": {
         "font": {
          "family": "Times New Roman"
         }
        },
        "xaxis": {
         "autorange": "reversed",
         "tickvals": [
          "6",
          "5",
          "4",
          "3",
          "2",
          "1"
         ],
         "title": {
          "text": "The number of layers in use"
         },
         "type": "category"
        },
        "yaxis": {
         "title": {
          "text": "R^2 value"
         }
        }
       }
      }
     },
     "metadata": {},
     "output_type": "display_data"
    }
   ],
   "source": [
    "# ONLY BERT MULTIPLE LAYERS SUM + AVERAGE\n",
    "\n",
    "layers = [x for x in range(6, 12)]\n",
    "\n",
    "r2l = pd.DataFrame(data=r, columns=['r_sum'])\n",
    "r2l['layer'] = layers\n",
    "r2l['r_avg'] = r_avg\n",
    "\n",
    "import plotly.graph_objects as go\n",
    "\n",
    "fig = go.Figure()\n",
    "[6, 5, 4, 3, 2, 1]\n",
    "fig.add_trace(go.Scatter(y  = r2l['r_sum'], x = [6, 5, 4, 3, 2, 1], mode = 'text+lines+markers', text = r2l['r_sum'], \\\n",
    "    textposition='top center', name = 'Summing'))\n",
    "\n",
    "fig.add_trace(go.Scatter(y  = r2l['r_avg'], x = [6, 5, 4, 3, 2, 1], mode = 'text+lines+markers', text = r2l['r_avg'], \\\n",
    "    textposition='top center', name = 'Averaging'))\n",
    "\n",
    "fig.update_traces(marker=dict(size=12))\n",
    "\n",
    "fig.update_layout(\n",
    "    font_family=\"Times Newer Roman\",\n",
    "    font_color=\"black\",\n",
    "    title_font_family=\"Times New Roman\",\n",
    "    font_size=16,\n",
    "    xaxis_title=\"The number of layers in use\",\n",
    "    yaxis_title=\"R^2 value\"\n",
    ")\n",
    "\n",
    "config = {\n",
    "  'toImageButtonOptions': {\n",
    "    'format': 'png', # one of png, svg, jpeg, webp\n",
    "    'filename': 'r2_layers',\n",
    "    'height': 1080,\n",
    "    'width': 1920,\n",
    "    'scale': 1 # Multiply title/legend/axis/canvas sizes by this factor\n",
    "  }\n",
    "}\n",
    "axis = -r2l['layer'] + 12\n",
    "fig.update_xaxes(#tickangle=45,\n",
    "                 #tickmode = 'array',\n",
    "                 tickvals = [str(x) for x in axis.values],\n",
    "                 type='category',\n",
    "                 autorange = False)\n",
    "                # ticktext= [d.strftime('%Y-%m-%d') for d in datelist])\n",
    "fig['layout']['xaxis']['autorange'] = \"reversed\"\n",
    "fig.show(config={'toImageButtonOptions': {'width': None, 'height': None}})"
   ]
  },
  {
   "cell_type": "code",
   "execution_count": 66,
   "metadata": {},
   "outputs": [],
   "source": [
    "import plotly.io as pio\n",
    "pio.write_image(fig, './images/fig8.png', width=1000, height=700)"
   ]
  },
  {
   "cell_type": "code",
   "execution_count": 69,
   "metadata": {},
   "outputs": [
    {
     "name": "stdout",
     "output_type": "stream",
     "text": [
      "12\n",
      "12\n",
      "13\n"
     ]
    },
    {
     "data": {
      "application/vnd.plotly.v1+json": {
       "config": {
        "plotlyServerURL": "https://plot.ly",
        "toImageButtonOptions": {
         "height": null,
         "width": null
        }
       },
       "data": [
        {
         "marker": {
          "size": 12
         },
         "mode": "text+lines+markers",
         "name": "Only BERT's embeddings",
         "text": [
          "0.175",
          "0.168",
          "0.197",
          "0.169",
          "0.218",
          "0.218",
          "0.24",
          "0.247",
          "0.272",
          "0.301",
          "0.335",
          "0.398"
         ],
         "textposition": "top center",
         "type": "scatter",
         "x": [
          1,
          2,
          3,
          4,
          5,
          6,
          7,
          8,
          9,
          10,
          11,
          12
         ],
         "y": [
          0.175,
          0.168,
          0.197,
          0.169,
          0.218,
          0.218,
          0.24,
          0.247,
          0.272,
          0.301,
          0.335,
          0.398
         ]
        },
        {
         "marker": {
          "size": 12
         },
         "mode": "text+lines+markers",
         "name": "BERT's embeddings + SentiArt's features",
         "text": [
          "0.273",
          "0.287",
          "0.317",
          "0.284",
          "0.334",
          "0.304",
          "0.337",
          "0.318",
          "0.345",
          "0.388",
          "0.39",
          "0.458"
         ],
         "textposition": "top center",
         "type": "scatter",
         "x": [
          1,
          2,
          3,
          4,
          5,
          6,
          7,
          8,
          9,
          10,
          11,
          12
         ],
         "y": [
          0.273,
          0.287,
          0.317,
          0.284,
          0.334,
          0.304,
          0.337,
          0.318,
          0.345,
          0.388,
          0.39,
          0.458
         ]
        }
       ],
       "layout": {
        "font": {
         "color": "black",
         "family": "Times Newer Roman",
         "size": 16
        },
        "template": {
         "data": {
          "bar": [
           {
            "error_x": {
             "color": "#2a3f5f"
            },
            "error_y": {
             "color": "#2a3f5f"
            },
            "marker": {
             "line": {
              "color": "#E5ECF6",
              "width": 0.5
             },
             "pattern": {
              "fillmode": "overlay",
              "size": 10,
              "solidity": 0.2
             }
            },
            "type": "bar"
           }
          ],
          "barpolar": [
           {
            "marker": {
             "line": {
              "color": "#E5ECF6",
              "width": 0.5
             },
             "pattern": {
              "fillmode": "overlay",
              "size": 10,
              "solidity": 0.2
             }
            },
            "type": "barpolar"
           }
          ],
          "carpet": [
           {
            "aaxis": {
             "endlinecolor": "#2a3f5f",
             "gridcolor": "white",
             "linecolor": "white",
             "minorgridcolor": "white",
             "startlinecolor": "#2a3f5f"
            },
            "baxis": {
             "endlinecolor": "#2a3f5f",
             "gridcolor": "white",
             "linecolor": "white",
             "minorgridcolor": "white",
             "startlinecolor": "#2a3f5f"
            },
            "type": "carpet"
           }
          ],
          "choropleth": [
           {
            "colorbar": {
             "outlinewidth": 0,
             "ticks": ""
            },
            "type": "choropleth"
           }
          ],
          "contour": [
           {
            "colorbar": {
             "outlinewidth": 0,
             "ticks": ""
            },
            "colorscale": [
             [
              0,
              "#0d0887"
             ],
             [
              0.1111111111111111,
              "#46039f"
             ],
             [
              0.2222222222222222,
              "#7201a8"
             ],
             [
              0.3333333333333333,
              "#9c179e"
             ],
             [
              0.4444444444444444,
              "#bd3786"
             ],
             [
              0.5555555555555556,
              "#d8576b"
             ],
             [
              0.6666666666666666,
              "#ed7953"
             ],
             [
              0.7777777777777778,
              "#fb9f3a"
             ],
             [
              0.8888888888888888,
              "#fdca26"
             ],
             [
              1,
              "#f0f921"
             ]
            ],
            "type": "contour"
           }
          ],
          "contourcarpet": [
           {
            "colorbar": {
             "outlinewidth": 0,
             "ticks": ""
            },
            "type": "contourcarpet"
           }
          ],
          "heatmap": [
           {
            "colorbar": {
             "outlinewidth": 0,
             "ticks": ""
            },
            "colorscale": [
             [
              0,
              "#0d0887"
             ],
             [
              0.1111111111111111,
              "#46039f"
             ],
             [
              0.2222222222222222,
              "#7201a8"
             ],
             [
              0.3333333333333333,
              "#9c179e"
             ],
             [
              0.4444444444444444,
              "#bd3786"
             ],
             [
              0.5555555555555556,
              "#d8576b"
             ],
             [
              0.6666666666666666,
              "#ed7953"
             ],
             [
              0.7777777777777778,
              "#fb9f3a"
             ],
             [
              0.8888888888888888,
              "#fdca26"
             ],
             [
              1,
              "#f0f921"
             ]
            ],
            "type": "heatmap"
           }
          ],
          "heatmapgl": [
           {
            "colorbar": {
             "outlinewidth": 0,
             "ticks": ""
            },
            "colorscale": [
             [
              0,
              "#0d0887"
             ],
             [
              0.1111111111111111,
              "#46039f"
             ],
             [
              0.2222222222222222,
              "#7201a8"
             ],
             [
              0.3333333333333333,
              "#9c179e"
             ],
             [
              0.4444444444444444,
              "#bd3786"
             ],
             [
              0.5555555555555556,
              "#d8576b"
             ],
             [
              0.6666666666666666,
              "#ed7953"
             ],
             [
              0.7777777777777778,
              "#fb9f3a"
             ],
             [
              0.8888888888888888,
              "#fdca26"
             ],
             [
              1,
              "#f0f921"
             ]
            ],
            "type": "heatmapgl"
           }
          ],
          "histogram": [
           {
            "marker": {
             "pattern": {
              "fillmode": "overlay",
              "size": 10,
              "solidity": 0.2
             }
            },
            "type": "histogram"
           }
          ],
          "histogram2d": [
           {
            "colorbar": {
             "outlinewidth": 0,
             "ticks": ""
            },
            "colorscale": [
             [
              0,
              "#0d0887"
             ],
             [
              0.1111111111111111,
              "#46039f"
             ],
             [
              0.2222222222222222,
              "#7201a8"
             ],
             [
              0.3333333333333333,
              "#9c179e"
             ],
             [
              0.4444444444444444,
              "#bd3786"
             ],
             [
              0.5555555555555556,
              "#d8576b"
             ],
             [
              0.6666666666666666,
              "#ed7953"
             ],
             [
              0.7777777777777778,
              "#fb9f3a"
             ],
             [
              0.8888888888888888,
              "#fdca26"
             ],
             [
              1,
              "#f0f921"
             ]
            ],
            "type": "histogram2d"
           }
          ],
          "histogram2dcontour": [
           {
            "colorbar": {
             "outlinewidth": 0,
             "ticks": ""
            },
            "colorscale": [
             [
              0,
              "#0d0887"
             ],
             [
              0.1111111111111111,
              "#46039f"
             ],
             [
              0.2222222222222222,
              "#7201a8"
             ],
             [
              0.3333333333333333,
              "#9c179e"
             ],
             [
              0.4444444444444444,
              "#bd3786"
             ],
             [
              0.5555555555555556,
              "#d8576b"
             ],
             [
              0.6666666666666666,
              "#ed7953"
             ],
             [
              0.7777777777777778,
              "#fb9f3a"
             ],
             [
              0.8888888888888888,
              "#fdca26"
             ],
             [
              1,
              "#f0f921"
             ]
            ],
            "type": "histogram2dcontour"
           }
          ],
          "mesh3d": [
           {
            "colorbar": {
             "outlinewidth": 0,
             "ticks": ""
            },
            "type": "mesh3d"
           }
          ],
          "parcoords": [
           {
            "line": {
             "colorbar": {
              "outlinewidth": 0,
              "ticks": ""
             }
            },
            "type": "parcoords"
           }
          ],
          "pie": [
           {
            "automargin": true,
            "type": "pie"
           }
          ],
          "scatter": [
           {
            "marker": {
             "colorbar": {
              "outlinewidth": 0,
              "ticks": ""
             }
            },
            "type": "scatter"
           }
          ],
          "scatter3d": [
           {
            "line": {
             "colorbar": {
              "outlinewidth": 0,
              "ticks": ""
             }
            },
            "marker": {
             "colorbar": {
              "outlinewidth": 0,
              "ticks": ""
             }
            },
            "type": "scatter3d"
           }
          ],
          "scattercarpet": [
           {
            "marker": {
             "colorbar": {
              "outlinewidth": 0,
              "ticks": ""
             }
            },
            "type": "scattercarpet"
           }
          ],
          "scattergeo": [
           {
            "marker": {
             "colorbar": {
              "outlinewidth": 0,
              "ticks": ""
             }
            },
            "type": "scattergeo"
           }
          ],
          "scattergl": [
           {
            "marker": {
             "colorbar": {
              "outlinewidth": 0,
              "ticks": ""
             }
            },
            "type": "scattergl"
           }
          ],
          "scattermapbox": [
           {
            "marker": {
             "colorbar": {
              "outlinewidth": 0,
              "ticks": ""
             }
            },
            "type": "scattermapbox"
           }
          ],
          "scatterpolar": [
           {
            "marker": {
             "colorbar": {
              "outlinewidth": 0,
              "ticks": ""
             }
            },
            "type": "scatterpolar"
           }
          ],
          "scatterpolargl": [
           {
            "marker": {
             "colorbar": {
              "outlinewidth": 0,
              "ticks": ""
             }
            },
            "type": "scatterpolargl"
           }
          ],
          "scatterternary": [
           {
            "marker": {
             "colorbar": {
              "outlinewidth": 0,
              "ticks": ""
             }
            },
            "type": "scatterternary"
           }
          ],
          "surface": [
           {
            "colorbar": {
             "outlinewidth": 0,
             "ticks": ""
            },
            "colorscale": [
             [
              0,
              "#0d0887"
             ],
             [
              0.1111111111111111,
              "#46039f"
             ],
             [
              0.2222222222222222,
              "#7201a8"
             ],
             [
              0.3333333333333333,
              "#9c179e"
             ],
             [
              0.4444444444444444,
              "#bd3786"
             ],
             [
              0.5555555555555556,
              "#d8576b"
             ],
             [
              0.6666666666666666,
              "#ed7953"
             ],
             [
              0.7777777777777778,
              "#fb9f3a"
             ],
             [
              0.8888888888888888,
              "#fdca26"
             ],
             [
              1,
              "#f0f921"
             ]
            ],
            "type": "surface"
           }
          ],
          "table": [
           {
            "cells": {
             "fill": {
              "color": "#EBF0F8"
             },
             "line": {
              "color": "white"
             }
            },
            "header": {
             "fill": {
              "color": "#C8D4E3"
             },
             "line": {
              "color": "white"
             }
            },
            "type": "table"
           }
          ]
         },
         "layout": {
          "annotationdefaults": {
           "arrowcolor": "#2a3f5f",
           "arrowhead": 0,
           "arrowwidth": 1
          },
          "autotypenumbers": "strict",
          "coloraxis": {
           "colorbar": {
            "outlinewidth": 0,
            "ticks": ""
           }
          },
          "colorscale": {
           "diverging": [
            [
             0,
             "#8e0152"
            ],
            [
             0.1,
             "#c51b7d"
            ],
            [
             0.2,
             "#de77ae"
            ],
            [
             0.3,
             "#f1b6da"
            ],
            [
             0.4,
             "#fde0ef"
            ],
            [
             0.5,
             "#f7f7f7"
            ],
            [
             0.6,
             "#e6f5d0"
            ],
            [
             0.7,
             "#b8e186"
            ],
            [
             0.8,
             "#7fbc41"
            ],
            [
             0.9,
             "#4d9221"
            ],
            [
             1,
             "#276419"
            ]
           ],
           "sequential": [
            [
             0,
             "#0d0887"
            ],
            [
             0.1111111111111111,
             "#46039f"
            ],
            [
             0.2222222222222222,
             "#7201a8"
            ],
            [
             0.3333333333333333,
             "#9c179e"
            ],
            [
             0.4444444444444444,
             "#bd3786"
            ],
            [
             0.5555555555555556,
             "#d8576b"
            ],
            [
             0.6666666666666666,
             "#ed7953"
            ],
            [
             0.7777777777777778,
             "#fb9f3a"
            ],
            [
             0.8888888888888888,
             "#fdca26"
            ],
            [
             1,
             "#f0f921"
            ]
           ],
           "sequentialminus": [
            [
             0,
             "#0d0887"
            ],
            [
             0.1111111111111111,
             "#46039f"
            ],
            [
             0.2222222222222222,
             "#7201a8"
            ],
            [
             0.3333333333333333,
             "#9c179e"
            ],
            [
             0.4444444444444444,
             "#bd3786"
            ],
            [
             0.5555555555555556,
             "#d8576b"
            ],
            [
             0.6666666666666666,
             "#ed7953"
            ],
            [
             0.7777777777777778,
             "#fb9f3a"
            ],
            [
             0.8888888888888888,
             "#fdca26"
            ],
            [
             1,
             "#f0f921"
            ]
           ]
          },
          "colorway": [
           "#636efa",
           "#EF553B",
           "#00cc96",
           "#ab63fa",
           "#FFA15A",
           "#19d3f3",
           "#FF6692",
           "#B6E880",
           "#FF97FF",
           "#FECB52"
          ],
          "font": {
           "color": "#2a3f5f"
          },
          "geo": {
           "bgcolor": "white",
           "lakecolor": "white",
           "landcolor": "#E5ECF6",
           "showlakes": true,
           "showland": true,
           "subunitcolor": "white"
          },
          "hoverlabel": {
           "align": "left"
          },
          "hovermode": "closest",
          "mapbox": {
           "style": "light"
          },
          "paper_bgcolor": "white",
          "plot_bgcolor": "#E5ECF6",
          "polar": {
           "angularaxis": {
            "gridcolor": "white",
            "linecolor": "white",
            "ticks": ""
           },
           "bgcolor": "#E5ECF6",
           "radialaxis": {
            "gridcolor": "white",
            "linecolor": "white",
            "ticks": ""
           }
          },
          "scene": {
           "xaxis": {
            "backgroundcolor": "#E5ECF6",
            "gridcolor": "white",
            "gridwidth": 2,
            "linecolor": "white",
            "showbackground": true,
            "ticks": "",
            "zerolinecolor": "white"
           },
           "yaxis": {
            "backgroundcolor": "#E5ECF6",
            "gridcolor": "white",
            "gridwidth": 2,
            "linecolor": "white",
            "showbackground": true,
            "ticks": "",
            "zerolinecolor": "white"
           },
           "zaxis": {
            "backgroundcolor": "#E5ECF6",
            "gridcolor": "white",
            "gridwidth": 2,
            "linecolor": "white",
            "showbackground": true,
            "ticks": "",
            "zerolinecolor": "white"
           }
          },
          "shapedefaults": {
           "line": {
            "color": "#2a3f5f"
           }
          },
          "ternary": {
           "aaxis": {
            "gridcolor": "white",
            "linecolor": "white",
            "ticks": ""
           },
           "baxis": {
            "gridcolor": "white",
            "linecolor": "white",
            "ticks": ""
           },
           "bgcolor": "#E5ECF6",
           "caxis": {
            "gridcolor": "white",
            "linecolor": "white",
            "ticks": ""
           }
          },
          "title": {
           "x": 0.05
          },
          "xaxis": {
           "automargin": true,
           "gridcolor": "white",
           "linecolor": "white",
           "ticks": "",
           "title": {
            "standoff": 15
           },
           "zerolinecolor": "white",
           "zerolinewidth": 2
          },
          "yaxis": {
           "automargin": true,
           "gridcolor": "white",
           "linecolor": "white",
           "ticks": "",
           "title": {
            "standoff": 15
           },
           "zerolinecolor": "white",
           "zerolinewidth": 2
          }
         }
        },
        "title": {
         "font": {
          "family": "Times New Roman"
         }
        },
        "xaxis": {
         "autorange": true,
         "tickvals": [
          1,
          2,
          3,
          4,
          5,
          6,
          7,
          8,
          9,
          10,
          11,
          12
         ],
         "title": {
          "text": "Layer number"
         },
         "type": "category"
        },
        "yaxis": {
         "title": {
          "text": "R^2 value"
         }
        }
       }
      }
     },
     "metadata": {},
     "output_type": "display_data"
    }
   ],
   "source": [
    "# ONLY BERT SINGLE LAYERS + SA\n",
    "\n",
    "layers = [x for x in range(1, 13)]\n",
    "print(len(layers))\n",
    "print(len(r_sl))\n",
    "print(len(r_sl_sa))\n",
    "r2l = pd.DataFrame(data=r_sl[:12], columns=['r_sl'])\n",
    "r2l['layer'] = layers\n",
    "r2l['r_sl_sa'] = r_sl_sa[:12]\n",
    "\n",
    "import plotly.graph_objects as go\n",
    "\n",
    "fig = go.Figure()\n",
    "\n",
    "fig.add_trace(go.Scatter(y  = r2l['r_sl'], x = r2l['layer'], mode = 'text+lines+markers', text = r2l['r_sl'], \\\n",
    "    textposition='top center', name = '''Only BERT's embeddings'''))\n",
    "\n",
    "fig.add_trace(go.Scatter(y  = r2l['r_sl_sa'], x = r2l['layer'], mode = 'text+lines+markers', text = r2l['r_sl_sa'], \\\n",
    "    textposition='top center', name = '''BERT's embeddings + SentiArt's features'''))\n",
    "\n",
    "fig.update_traces(marker=dict(size=12))\n",
    "\n",
    "fig.update_layout(\n",
    "    font_family=\"Times Newer Roman\",\n",
    "    font_color=\"black\",\n",
    "    title_font_family=\"Times New Roman\",\n",
    "    font_size=16,\n",
    "    xaxis_title=\"Layer number\",\n",
    "    yaxis_title=\"R^2 value\"\n",
    ")\n",
    "\n",
    "config = {\n",
    "  'toImageButtonOptions': {\n",
    "    'format': 'png', # one of png, svg, jpeg, webp\n",
    "    'filename': 'r2_layers',\n",
    "    'height': 1080,\n",
    "    'width': 1920,\n",
    "    'scale': 1 # Multiply title/legend/axis/canvas sizes by this factor\n",
    "  }\n",
    "}\n",
    "\n",
    "fig.update_xaxes(#tickangle=45,\n",
    "                 #tickmode = 'array',\n",
    "                 tickvals = r2l['layer'],\n",
    "                 type='category',\n",
    "                 autorange = True)\n",
    "                # ticktext= [d.strftime('%Y-%m-%d') for d in datelist])\n",
    "# fig['layout']['xaxis']['autorange'] = \"reversed\"\n",
    "fig.show(config={'toImageButtonOptions': {'width': None, 'height': None}})"
   ]
  },
  {
   "cell_type": "code",
   "execution_count": 352,
   "metadata": {},
   "outputs": [],
   "source": [
    "import plotly.io as pio\n",
    "pio.write_image(fig, './images/r2_nlayers_sa.png', width=1000, height=700)"
   ]
  },
  {
   "cell_type": "code",
   "execution_count": 146,
   "metadata": {},
   "outputs": [
    {
     "data": {
      "application/vnd.plotly.v1+json": {
       "config": {
        "plotlyServerURL": "https://plot.ly",
        "toImageButtonOptions": {
         "filename": "r2_layers",
         "format": "png",
         "height": 1080,
         "scale": 1,
         "width": 1920
        }
       },
       "data": [
        {
         "marker": {
          "size": 12
         },
         "type": "scatter",
         "x": [
          1,
          2,
          3,
          4,
          5,
          6,
          7,
          8,
          9,
          10,
          11,
          12,
          13
         ],
         "y": [
          0.312,
          0.282,
          0.28,
          0.268,
          0.338,
          0.327,
          0.329,
          0.3,
          0.336,
          0.376,
          0.406,
          0.446,
          0.471
         ]
        }
       ],
       "layout": {
        "font": {
         "color": "black",
         "family": "Times Newer Roman",
         "size": 16
        },
        "template": {
         "data": {
          "bar": [
           {
            "error_x": {
             "color": "#2a3f5f"
            },
            "error_y": {
             "color": "#2a3f5f"
            },
            "marker": {
             "line": {
              "color": "#E5ECF6",
              "width": 0.5
             },
             "pattern": {
              "fillmode": "overlay",
              "size": 10,
              "solidity": 0.2
             }
            },
            "type": "bar"
           }
          ],
          "barpolar": [
           {
            "marker": {
             "line": {
              "color": "#E5ECF6",
              "width": 0.5
             },
             "pattern": {
              "fillmode": "overlay",
              "size": 10,
              "solidity": 0.2
             }
            },
            "type": "barpolar"
           }
          ],
          "carpet": [
           {
            "aaxis": {
             "endlinecolor": "#2a3f5f",
             "gridcolor": "white",
             "linecolor": "white",
             "minorgridcolor": "white",
             "startlinecolor": "#2a3f5f"
            },
            "baxis": {
             "endlinecolor": "#2a3f5f",
             "gridcolor": "white",
             "linecolor": "white",
             "minorgridcolor": "white",
             "startlinecolor": "#2a3f5f"
            },
            "type": "carpet"
           }
          ],
          "choropleth": [
           {
            "colorbar": {
             "outlinewidth": 0,
             "ticks": ""
            },
            "type": "choropleth"
           }
          ],
          "contour": [
           {
            "colorbar": {
             "outlinewidth": 0,
             "ticks": ""
            },
            "colorscale": [
             [
              0,
              "#0d0887"
             ],
             [
              0.1111111111111111,
              "#46039f"
             ],
             [
              0.2222222222222222,
              "#7201a8"
             ],
             [
              0.3333333333333333,
              "#9c179e"
             ],
             [
              0.4444444444444444,
              "#bd3786"
             ],
             [
              0.5555555555555556,
              "#d8576b"
             ],
             [
              0.6666666666666666,
              "#ed7953"
             ],
             [
              0.7777777777777778,
              "#fb9f3a"
             ],
             [
              0.8888888888888888,
              "#fdca26"
             ],
             [
              1,
              "#f0f921"
             ]
            ],
            "type": "contour"
           }
          ],
          "contourcarpet": [
           {
            "colorbar": {
             "outlinewidth": 0,
             "ticks": ""
            },
            "type": "contourcarpet"
           }
          ],
          "heatmap": [
           {
            "colorbar": {
             "outlinewidth": 0,
             "ticks": ""
            },
            "colorscale": [
             [
              0,
              "#0d0887"
             ],
             [
              0.1111111111111111,
              "#46039f"
             ],
             [
              0.2222222222222222,
              "#7201a8"
             ],
             [
              0.3333333333333333,
              "#9c179e"
             ],
             [
              0.4444444444444444,
              "#bd3786"
             ],
             [
              0.5555555555555556,
              "#d8576b"
             ],
             [
              0.6666666666666666,
              "#ed7953"
             ],
             [
              0.7777777777777778,
              "#fb9f3a"
             ],
             [
              0.8888888888888888,
              "#fdca26"
             ],
             [
              1,
              "#f0f921"
             ]
            ],
            "type": "heatmap"
           }
          ],
          "heatmapgl": [
           {
            "colorbar": {
             "outlinewidth": 0,
             "ticks": ""
            },
            "colorscale": [
             [
              0,
              "#0d0887"
             ],
             [
              0.1111111111111111,
              "#46039f"
             ],
             [
              0.2222222222222222,
              "#7201a8"
             ],
             [
              0.3333333333333333,
              "#9c179e"
             ],
             [
              0.4444444444444444,
              "#bd3786"
             ],
             [
              0.5555555555555556,
              "#d8576b"
             ],
             [
              0.6666666666666666,
              "#ed7953"
             ],
             [
              0.7777777777777778,
              "#fb9f3a"
             ],
             [
              0.8888888888888888,
              "#fdca26"
             ],
             [
              1,
              "#f0f921"
             ]
            ],
            "type": "heatmapgl"
           }
          ],
          "histogram": [
           {
            "marker": {
             "pattern": {
              "fillmode": "overlay",
              "size": 10,
              "solidity": 0.2
             }
            },
            "type": "histogram"
           }
          ],
          "histogram2d": [
           {
            "colorbar": {
             "outlinewidth": 0,
             "ticks": ""
            },
            "colorscale": [
             [
              0,
              "#0d0887"
             ],
             [
              0.1111111111111111,
              "#46039f"
             ],
             [
              0.2222222222222222,
              "#7201a8"
             ],
             [
              0.3333333333333333,
              "#9c179e"
             ],
             [
              0.4444444444444444,
              "#bd3786"
             ],
             [
              0.5555555555555556,
              "#d8576b"
             ],
             [
              0.6666666666666666,
              "#ed7953"
             ],
             [
              0.7777777777777778,
              "#fb9f3a"
             ],
             [
              0.8888888888888888,
              "#fdca26"
             ],
             [
              1,
              "#f0f921"
             ]
            ],
            "type": "histogram2d"
           }
          ],
          "histogram2dcontour": [
           {
            "colorbar": {
             "outlinewidth": 0,
             "ticks": ""
            },
            "colorscale": [
             [
              0,
              "#0d0887"
             ],
             [
              0.1111111111111111,
              "#46039f"
             ],
             [
              0.2222222222222222,
              "#7201a8"
             ],
             [
              0.3333333333333333,
              "#9c179e"
             ],
             [
              0.4444444444444444,
              "#bd3786"
             ],
             [
              0.5555555555555556,
              "#d8576b"
             ],
             [
              0.6666666666666666,
              "#ed7953"
             ],
             [
              0.7777777777777778,
              "#fb9f3a"
             ],
             [
              0.8888888888888888,
              "#fdca26"
             ],
             [
              1,
              "#f0f921"
             ]
            ],
            "type": "histogram2dcontour"
           }
          ],
          "mesh3d": [
           {
            "colorbar": {
             "outlinewidth": 0,
             "ticks": ""
            },
            "type": "mesh3d"
           }
          ],
          "parcoords": [
           {
            "line": {
             "colorbar": {
              "outlinewidth": 0,
              "ticks": ""
             }
            },
            "type": "parcoords"
           }
          ],
          "pie": [
           {
            "automargin": true,
            "type": "pie"
           }
          ],
          "scatter": [
           {
            "marker": {
             "colorbar": {
              "outlinewidth": 0,
              "ticks": ""
             }
            },
            "type": "scatter"
           }
          ],
          "scatter3d": [
           {
            "line": {
             "colorbar": {
              "outlinewidth": 0,
              "ticks": ""
             }
            },
            "marker": {
             "colorbar": {
              "outlinewidth": 0,
              "ticks": ""
             }
            },
            "type": "scatter3d"
           }
          ],
          "scattercarpet": [
           {
            "marker": {
             "colorbar": {
              "outlinewidth": 0,
              "ticks": ""
             }
            },
            "type": "scattercarpet"
           }
          ],
          "scattergeo": [
           {
            "marker": {
             "colorbar": {
              "outlinewidth": 0,
              "ticks": ""
             }
            },
            "type": "scattergeo"
           }
          ],
          "scattergl": [
           {
            "marker": {
             "colorbar": {
              "outlinewidth": 0,
              "ticks": ""
             }
            },
            "type": "scattergl"
           }
          ],
          "scattermapbox": [
           {
            "marker": {
             "colorbar": {
              "outlinewidth": 0,
              "ticks": ""
             }
            },
            "type": "scattermapbox"
           }
          ],
          "scatterpolar": [
           {
            "marker": {
             "colorbar": {
              "outlinewidth": 0,
              "ticks": ""
             }
            },
            "type": "scatterpolar"
           }
          ],
          "scatterpolargl": [
           {
            "marker": {
             "colorbar": {
              "outlinewidth": 0,
              "ticks": ""
             }
            },
            "type": "scatterpolargl"
           }
          ],
          "scatterternary": [
           {
            "marker": {
             "colorbar": {
              "outlinewidth": 0,
              "ticks": ""
             }
            },
            "type": "scatterternary"
           }
          ],
          "surface": [
           {
            "colorbar": {
             "outlinewidth": 0,
             "ticks": ""
            },
            "colorscale": [
             [
              0,
              "#0d0887"
             ],
             [
              0.1111111111111111,
              "#46039f"
             ],
             [
              0.2222222222222222,
              "#7201a8"
             ],
             [
              0.3333333333333333,
              "#9c179e"
             ],
             [
              0.4444444444444444,
              "#bd3786"
             ],
             [
              0.5555555555555556,
              "#d8576b"
             ],
             [
              0.6666666666666666,
              "#ed7953"
             ],
             [
              0.7777777777777778,
              "#fb9f3a"
             ],
             [
              0.8888888888888888,
              "#fdca26"
             ],
             [
              1,
              "#f0f921"
             ]
            ],
            "type": "surface"
           }
          ],
          "table": [
           {
            "cells": {
             "fill": {
              "color": "#EBF0F8"
             },
             "line": {
              "color": "white"
             }
            },
            "header": {
             "fill": {
              "color": "#C8D4E3"
             },
             "line": {
              "color": "white"
             }
            },
            "type": "table"
           }
          ]
         },
         "layout": {
          "annotationdefaults": {
           "arrowcolor": "#2a3f5f",
           "arrowhead": 0,
           "arrowwidth": 1
          },
          "autotypenumbers": "strict",
          "coloraxis": {
           "colorbar": {
            "outlinewidth": 0,
            "ticks": ""
           }
          },
          "colorscale": {
           "diverging": [
            [
             0,
             "#8e0152"
            ],
            [
             0.1,
             "#c51b7d"
            ],
            [
             0.2,
             "#de77ae"
            ],
            [
             0.3,
             "#f1b6da"
            ],
            [
             0.4,
             "#fde0ef"
            ],
            [
             0.5,
             "#f7f7f7"
            ],
            [
             0.6,
             "#e6f5d0"
            ],
            [
             0.7,
             "#b8e186"
            ],
            [
             0.8,
             "#7fbc41"
            ],
            [
             0.9,
             "#4d9221"
            ],
            [
             1,
             "#276419"
            ]
           ],
           "sequential": [
            [
             0,
             "#0d0887"
            ],
            [
             0.1111111111111111,
             "#46039f"
            ],
            [
             0.2222222222222222,
             "#7201a8"
            ],
            [
             0.3333333333333333,
             "#9c179e"
            ],
            [
             0.4444444444444444,
             "#bd3786"
            ],
            [
             0.5555555555555556,
             "#d8576b"
            ],
            [
             0.6666666666666666,
             "#ed7953"
            ],
            [
             0.7777777777777778,
             "#fb9f3a"
            ],
            [
             0.8888888888888888,
             "#fdca26"
            ],
            [
             1,
             "#f0f921"
            ]
           ],
           "sequentialminus": [
            [
             0,
             "#0d0887"
            ],
            [
             0.1111111111111111,
             "#46039f"
            ],
            [
             0.2222222222222222,
             "#7201a8"
            ],
            [
             0.3333333333333333,
             "#9c179e"
            ],
            [
             0.4444444444444444,
             "#bd3786"
            ],
            [
             0.5555555555555556,
             "#d8576b"
            ],
            [
             0.6666666666666666,
             "#ed7953"
            ],
            [
             0.7777777777777778,
             "#fb9f3a"
            ],
            [
             0.8888888888888888,
             "#fdca26"
            ],
            [
             1,
             "#f0f921"
            ]
           ]
          },
          "colorway": [
           "#636efa",
           "#EF553B",
           "#00cc96",
           "#ab63fa",
           "#FFA15A",
           "#19d3f3",
           "#FF6692",
           "#B6E880",
           "#FF97FF",
           "#FECB52"
          ],
          "font": {
           "color": "#2a3f5f"
          },
          "geo": {
           "bgcolor": "white",
           "lakecolor": "white",
           "landcolor": "#E5ECF6",
           "showlakes": true,
           "showland": true,
           "subunitcolor": "white"
          },
          "hoverlabel": {
           "align": "left"
          },
          "hovermode": "closest",
          "mapbox": {
           "style": "light"
          },
          "paper_bgcolor": "white",
          "plot_bgcolor": "#E5ECF6",
          "polar": {
           "angularaxis": {
            "gridcolor": "white",
            "linecolor": "white",
            "ticks": ""
           },
           "bgcolor": "#E5ECF6",
           "radialaxis": {
            "gridcolor": "white",
            "linecolor": "white",
            "ticks": ""
           }
          },
          "scene": {
           "xaxis": {
            "backgroundcolor": "#E5ECF6",
            "gridcolor": "white",
            "gridwidth": 2,
            "linecolor": "white",
            "showbackground": true,
            "ticks": "",
            "zerolinecolor": "white"
           },
           "yaxis": {
            "backgroundcolor": "#E5ECF6",
            "gridcolor": "white",
            "gridwidth": 2,
            "linecolor": "white",
            "showbackground": true,
            "ticks": "",
            "zerolinecolor": "white"
           },
           "zaxis": {
            "backgroundcolor": "#E5ECF6",
            "gridcolor": "white",
            "gridwidth": 2,
            "linecolor": "white",
            "showbackground": true,
            "ticks": "",
            "zerolinecolor": "white"
           }
          },
          "shapedefaults": {
           "line": {
            "color": "#2a3f5f"
           }
          },
          "ternary": {
           "aaxis": {
            "gridcolor": "white",
            "linecolor": "white",
            "ticks": ""
           },
           "baxis": {
            "gridcolor": "white",
            "linecolor": "white",
            "ticks": ""
           },
           "bgcolor": "#E5ECF6",
           "caxis": {
            "gridcolor": "white",
            "linecolor": "white",
            "ticks": ""
           }
          },
          "title": {
           "x": 0.05
          },
          "xaxis": {
           "automargin": true,
           "gridcolor": "white",
           "linecolor": "white",
           "ticks": "",
           "title": {
            "standoff": 15
           },
           "zerolinecolor": "white",
           "zerolinewidth": 2
          },
          "yaxis": {
           "automargin": true,
           "gridcolor": "white",
           "linecolor": "white",
           "ticks": "",
           "title": {
            "standoff": 15
           },
           "zerolinecolor": "white",
           "zerolinewidth": 2
          }
         }
        },
        "title": {
         "font": {
          "family": "Times New Roman"
         }
        },
        "xaxis": {
         "title": {
          "text": "Layer number"
         }
        },
        "yaxis": {
         "title": {
          "text": "R^2 value"
         }
        }
       }
      }
     },
     "metadata": {},
     "output_type": "display_data"
    }
   ],
   "source": [
    "import plotly.graph_objects as go\n",
    "\n",
    "fig = go.Figure(go.Scatter(y  = r2l['r'], x = r2l['layer']))\n",
    "\n",
    "fig.update_traces(marker=dict(size=12))\n",
    "\n",
    "fig.update_layout(\n",
    "    font_family=\"Times Newer Roman\",\n",
    "    font_color=\"black\",\n",
    "    title_font_family=\"Times New Roman\",\n",
    "    font_size=16,\n",
    "    xaxis_title=\"Layer number\",\n",
    "    yaxis_title=\"R^2 value\",\n",
    ")\n",
    "\n",
    "config = {\n",
    "  'toImageButtonOptions': {\n",
    "    'format': 'png', # one of png, svg, jpeg, webp\n",
    "    'filename': 'r2_layers',\n",
    "    'height': 1080,\n",
    "    'width': 1920,\n",
    "    'scale': 1 # Multiply title/legend/axis/canvas sizes by this factor\n",
    "  }\n",
    "}\n",
    "\n",
    "fig.show(config=config)"
   ]
  },
  {
   "cell_type": "code",
   "execution_count": 127,
   "metadata": {},
   "outputs": [
    {
     "ename": "ValueError",
     "evalue": "\nImage export using the \"kaleido\" engine requires the kaleido package,\nwhich can be installed using pip:\n    $ pip install -U kaleido\n",
     "output_type": "error",
     "traceback": [
      "\u001b[0;31m---------------------------------------------------------------------------\u001b[0m",
      "\u001b[0;31mValueError\u001b[0m                                Traceback (most recent call last)",
      "\u001b[0;32m<ipython-input-127-16a60bdeef03>\u001b[0m in \u001b[0;36m<module>\u001b[0;34m\u001b[0m\n\u001b[1;32m      1\u001b[0m \u001b[0;32mimport\u001b[0m \u001b[0mplotly\u001b[0m\u001b[0;34m.\u001b[0m\u001b[0mio\u001b[0m \u001b[0;32mas\u001b[0m \u001b[0mpio\u001b[0m\u001b[0;34m\u001b[0m\u001b[0;34m\u001b[0m\u001b[0m\n\u001b[0;32m----> 2\u001b[0;31m \u001b[0mpio\u001b[0m\u001b[0;34m.\u001b[0m\u001b[0mwrite_image\u001b[0m\u001b[0;34m(\u001b[0m\u001b[0mfig\u001b[0m\u001b[0;34m,\u001b[0m \u001b[0;34m'/images/r2_layers.png'\u001b[0m\u001b[0;34m,\u001b[0m \u001b[0mwidth\u001b[0m\u001b[0;34m=\u001b[0m\u001b[0;36m1920\u001b[0m\u001b[0;34m,\u001b[0m \u001b[0mheight\u001b[0m\u001b[0;34m=\u001b[0m\u001b[0;36m1080\u001b[0m\u001b[0;34m)\u001b[0m\u001b[0;34m\u001b[0m\u001b[0;34m\u001b[0m\u001b[0m\n\u001b[0m",
      "\u001b[0;32m~/PycharmProjects/pythonProject/thesis/venv/lib/python3.8/site-packages/plotly/io/_kaleido.py\u001b[0m in \u001b[0;36mwrite_image\u001b[0;34m(fig, file, format, scale, width, height, validate, engine)\u001b[0m\n\u001b[1;32m    266\u001b[0m     \u001b[0;31m# -------------\u001b[0m\u001b[0;34m\u001b[0m\u001b[0;34m\u001b[0m\u001b[0;34m\u001b[0m\u001b[0m\n\u001b[1;32m    267\u001b[0m     \u001b[0;31m# Do this first so we don't create a file if image conversion fails\u001b[0m\u001b[0;34m\u001b[0m\u001b[0;34m\u001b[0m\u001b[0;34m\u001b[0m\u001b[0m\n\u001b[0;32m--> 268\u001b[0;31m     img_data = to_image(\n\u001b[0m\u001b[1;32m    269\u001b[0m         \u001b[0mfig\u001b[0m\u001b[0;34m,\u001b[0m\u001b[0;34m\u001b[0m\u001b[0;34m\u001b[0m\u001b[0m\n\u001b[1;32m    270\u001b[0m         \u001b[0mformat\u001b[0m\u001b[0;34m=\u001b[0m\u001b[0mformat\u001b[0m\u001b[0;34m,\u001b[0m\u001b[0;34m\u001b[0m\u001b[0;34m\u001b[0m\u001b[0m\n",
      "\u001b[0;32m~/PycharmProjects/pythonProject/thesis/venv/lib/python3.8/site-packages/plotly/io/_kaleido.py\u001b[0m in \u001b[0;36mto_image\u001b[0;34m(fig, format, width, height, scale, validate, engine)\u001b[0m\n\u001b[1;32m    132\u001b[0m     \u001b[0;31m# Raise informative error message if Kaleido is not installed\u001b[0m\u001b[0;34m\u001b[0m\u001b[0;34m\u001b[0m\u001b[0;34m\u001b[0m\u001b[0m\n\u001b[1;32m    133\u001b[0m     \u001b[0;32mif\u001b[0m \u001b[0mscope\u001b[0m \u001b[0;32mis\u001b[0m \u001b[0;32mNone\u001b[0m\u001b[0;34m:\u001b[0m\u001b[0;34m\u001b[0m\u001b[0;34m\u001b[0m\u001b[0m\n\u001b[0;32m--> 134\u001b[0;31m         raise ValueError(\n\u001b[0m\u001b[1;32m    135\u001b[0m             \"\"\"\n\u001b[1;32m    136\u001b[0m \u001b[0mImage\u001b[0m \u001b[0mexport\u001b[0m \u001b[0musing\u001b[0m \u001b[0mthe\u001b[0m \u001b[0;34m\"kaleido\"\u001b[0m \u001b[0mengine\u001b[0m \u001b[0mrequires\u001b[0m \u001b[0mthe\u001b[0m \u001b[0mkaleido\u001b[0m \u001b[0mpackage\u001b[0m\u001b[0;34m,\u001b[0m\u001b[0;34m\u001b[0m\u001b[0;34m\u001b[0m\u001b[0m\n",
      "\u001b[0;31mValueError\u001b[0m: \nImage export using the \"kaleido\" engine requires the kaleido package,\nwhich can be installed using pip:\n    $ pip install -U kaleido\n"
     ]
    }
   ],
   "source": [
    "import plotly.io as pio\n",
    "pio.write_image(fig, '/images/r2_layers.png', width=1920, height=1080)"
   ]
  }
 ],
 "metadata": {
  "interpreter": {
   "hash": "9d01cdf7d20674230d158b5421d7c4bf7d8ced8900499e197fbcc00cd8befb27"
  },
  "kernelspec": {
   "display_name": "Python 3.8.2 64-bit ('venv': venv)",
   "name": "python3"
  },
  "language_info": {
   "codemirror_mode": {
    "name": "ipython",
    "version": 3
   },
   "file_extension": ".py",
   "mimetype": "text/x-python",
   "name": "python",
   "nbconvert_exporter": "python",
   "pygments_lexer": "ipython3",
   "version": "3.8.2"
  }
 },
 "nbformat": 4,
 "nbformat_minor": 2
}
